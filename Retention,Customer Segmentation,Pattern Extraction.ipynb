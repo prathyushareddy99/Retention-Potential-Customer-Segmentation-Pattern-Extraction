{
  "cells": [
    {
      "cell_type": "markdown",
      "metadata": {
        "id": "fqn3Z7FVqlJ5"
      },
      "source": [
        "## <font color=violet>**Problem Statement**:\n",
        "\n",
        "*   **To predict the retention potential of retail customers as high, medium, or low, I need to first train a machine learning model using** **historical data that includes customer information and a label indicating the retention potential of each customer** **(high, medium, or** **low).**\n",
        " \n",
        " **Once I have trained the model, I can use it to make predictions on new data by providing it with the necessary customer information**. **The model will output a predicted retention potential level for each customer**.\n",
        "\n",
        "\n",
        "* **Customer Segmentation & Pattern Extraction**\n"
      ]
    },
    {
      "cell_type": "markdown",
      "metadata": {
        "id": "hu1mq2b_7kIq"
      },
      "source": [
        "##  **Objectives:**\n",
        "\n",
        "\n",
        "1.   **To do exploratory Data Analysis using visualizations**\n",
        "2.   **To build the analytical framework to predict the retail customer retention potential level as high/medium/low** \n",
        "3. **to  segment the customers into different  categories from the standpoint of customer retention which will be used for strategic purposes**\n",
        "4. **to extract the top 5 patterns for each level in the target attribute**\n",
        "\n",
        "\n",
        "\n",
        "\n"
      ]
    },
    {
      "cell_type": "markdown",
      "metadata": {
        "id": "lWJeYZBgwR13"
      },
      "source": [
        "## <font color=blue>Customer Retention:\n",
        "**Customer retention is a variety of activities aimed at keeping customers for the long term and turning them into loyal buyers. The end goal is transforming first-time customers into repeat customers and maximizing their lifetime value.**\n",
        "\n",
        "![6766-customer-relation.jfif](data:image/jpeg;base64,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)"
      ]
    },
    {
      "cell_type": "markdown",
      "metadata": {
        "id": "B3tghg_WJc0y"
      },
      "source": [
        "# <font color=brown>Why Customer retention important?\n",
        "\n",
        "          \n",
        "**          **Customer retention measures not only how successful a company is at acquiring new customers but also how successful they are at satisfying existing customers.** **It also increases ROI, boosts loyalty, and brings in new customers**.**\n"
      ]
    },
    {
      "cell_type": "markdown",
      "metadata": {
        "id": "svPKaTFqQz5z"
      },
      "source": [
        "# **Goal:01**\n",
        "**Expected to classify each customer as high/medium/low under the target attribute “RententionPotential”.** **Here identifying the medium level customers is important as this category  indicates where some intelligent** **action may lead to high possibility of retaining the customers who are likely to churn**.\n"
      ]
    },
    {
      "cell_type": "markdown",
      "metadata": {
        "id": "QAO1R_MMaWNy"
      },
      "source": [
        "# **Data Dictionary**\n",
        "\n",
        "*   **There are multiple variables in the dataset which can be divided in 4 categories:**\n",
        "\n",
        "**Note:** **\"CustomerID\" is common for all the  4 categories**\n",
        "\n",
        "\n",
        "# **Customerdata**\n",
        "*  **City**-City of the Customer i.e(City1,City2,City3,City4)\n",
        "*  **DateOfRegistration**-Customer registered Date\n",
        "*  **OnlineCommunication-**the customer is in online communication or not\n",
        "*  **AutomaticRefill-**The customer is automatic refilled or not\n",
        "*  **DoorstepDelivery-**wheather the order is delivered doorstep or not\n",
        "*  **PreferredDeliveryDay-**The day at which the order is delivered\n",
        "\n",
        "# **Emaildata**   \n",
        "* **DateOfemail-** Customer recevied email date\n",
        "* **EmailType-** Email type i.e(welcome,customized)\n",
        "* **Timestamp-** Customer recevied email time\n",
        "* **MailOpened-**\twheather the customer opened mail or not \n",
        "* **MailClicked-** wheather the customer clicked mail or not\n",
        " \n",
        "# **Traindata**\n",
        "* **RetentionPotential-** Repetition of customers i.e(low,medium,high)\n",
        "\n",
        "# **Transactionsdata**\n",
        "\n",
        "* **DateOfOrder-**The Date at which the order is placed\n",
        "* **Timestamp-**The time at which the customer is ordered\n",
        "* **OrderQuantity-**  The Quantity of orders\n",
        "\n",
        "\n"
      ]
    },
    {
      "cell_type": "markdown",
      "metadata": {
        "id": "6Cw8iDyhydDZ"
      },
      "source": [
        "# Import Required Libraries"
      ]
    },
    {
      "cell_type": "code",
      "execution_count": 1,
      "metadata": {
        "id": "iB7Cx2pzRiMI"
      },
      "outputs": [],
      "source": [
        "## Pandas and Numpy\n",
        "import pandas as pd \n",
        "import numpy as np\n",
        "\n",
        "## Visualisation libraries\n",
        "import seaborn as sns\n",
        "import matplotlib.pyplot as plt\n",
        "%matplotlib inline\n",
        "\n",
        "### To ignore warnings\n",
        "import warnings\n",
        "warnings.filterwarnings('ignore')\n"
      ]
    },
    {
      "cell_type": "code",
      "execution_count": 2,
      "metadata": {
        "id": "5hS8dNFgSjrF",
        "colab": {
          "base_uri": "https://localhost:8080/"
        },
        "outputId": "5c5a688b-03c4-4eda-f857-7e38cc95001e"
      },
      "outputs": [
        {
          "output_type": "stream",
          "name": "stdout",
          "text": [
            "Drive already mounted at /content/drive; to attempt to forcibly remount, call drive.mount(\"/content/drive\", force_remount=True).\n"
          ]
        }
      ],
      "source": [
        "### Mounted to Google Drive\n",
        "from google.colab import drive\n",
        "drive.mount('/content/drive')"
      ]
    },
    {
      "cell_type": "markdown",
      "metadata": {
        "id": "utTtd9eMjEdv"
      },
      "source": [
        "# TrainData"
      ]
    },
    {
      "cell_type": "markdown",
      "metadata": {
        "id": "EWUJsz9C0lfo"
      },
      "source": [
        "In TrainData there is four Datasets:\n",
        "                                    1.Customerdata_Train\n",
        "                                    2.Emaildata_Train\n",
        "                                    3.Train\n",
        "                                    4.transactionsdata_Train"
      ]
    },
    {
      "cell_type": "code",
      "execution_count": 3,
      "metadata": {
        "id": "JP56hbpjSkY-",
        "colab": {
          "base_uri": "https://localhost:8080/",
          "height": 206
        },
        "outputId": "be491b59-5d97-44f6-ce03-21fdf9f4714a"
      },
      "outputs": [
        {
          "output_type": "execute_result",
          "data": {
            "text/plain": [
              "  CustomerID   City DateOfRegistration  OnlineCommunication  AutomaticRefill  \\\n",
              "0     C16368  CITY2         2012-09-28                    0                0   \n",
              "1     C20345  CITY2         2010-12-19                    1                1   \n",
              "2     C17683  CITY2         2010-10-03                    0                0   \n",
              "3     C18647  CITY4         2010-11-27                    0                0   \n",
              "4     C36692  CITY2         2009-12-04                    1                1   \n",
              "\n",
              "   DoorstepDelivery PreferredDeliveryDay  \n",
              "0                 0               Monday  \n",
              "1                 1               Friday  \n",
              "2                 0            Wednesday  \n",
              "3                 0               Monday  \n",
              "4                 0               Friday  "
            ],
            "text/html": [
              "\n",
              "  <div id=\"df-780246e6-5e7b-4a72-a262-a9610ddf60cf\">\n",
              "    <div class=\"colab-df-container\">\n",
              "      <div>\n",
              "<style scoped>\n",
              "    .dataframe tbody tr th:only-of-type {\n",
              "        vertical-align: middle;\n",
              "    }\n",
              "\n",
              "    .dataframe tbody tr th {\n",
              "        vertical-align: top;\n",
              "    }\n",
              "\n",
              "    .dataframe thead th {\n",
              "        text-align: right;\n",
              "    }\n",
              "</style>\n",
              "<table border=\"1\" class=\"dataframe\">\n",
              "  <thead>\n",
              "    <tr style=\"text-align: right;\">\n",
              "      <th></th>\n",
              "      <th>CustomerID</th>\n",
              "      <th>City</th>\n",
              "      <th>DateOfRegistration</th>\n",
              "      <th>OnlineCommunication</th>\n",
              "      <th>AutomaticRefill</th>\n",
              "      <th>DoorstepDelivery</th>\n",
              "      <th>PreferredDeliveryDay</th>\n",
              "    </tr>\n",
              "  </thead>\n",
              "  <tbody>\n",
              "    <tr>\n",
              "      <th>0</th>\n",
              "      <td>C16368</td>\n",
              "      <td>CITY2</td>\n",
              "      <td>2012-09-28</td>\n",
              "      <td>0</td>\n",
              "      <td>0</td>\n",
              "      <td>0</td>\n",
              "      <td>Monday</td>\n",
              "    </tr>\n",
              "    <tr>\n",
              "      <th>1</th>\n",
              "      <td>C20345</td>\n",
              "      <td>CITY2</td>\n",
              "      <td>2010-12-19</td>\n",
              "      <td>1</td>\n",
              "      <td>1</td>\n",
              "      <td>1</td>\n",
              "      <td>Friday</td>\n",
              "    </tr>\n",
              "    <tr>\n",
              "      <th>2</th>\n",
              "      <td>C17683</td>\n",
              "      <td>CITY2</td>\n",
              "      <td>2010-10-03</td>\n",
              "      <td>0</td>\n",
              "      <td>0</td>\n",
              "      <td>0</td>\n",
              "      <td>Wednesday</td>\n",
              "    </tr>\n",
              "    <tr>\n",
              "      <th>3</th>\n",
              "      <td>C18647</td>\n",
              "      <td>CITY4</td>\n",
              "      <td>2010-11-27</td>\n",
              "      <td>0</td>\n",
              "      <td>0</td>\n",
              "      <td>0</td>\n",
              "      <td>Monday</td>\n",
              "    </tr>\n",
              "    <tr>\n",
              "      <th>4</th>\n",
              "      <td>C36692</td>\n",
              "      <td>CITY2</td>\n",
              "      <td>2009-12-04</td>\n",
              "      <td>1</td>\n",
              "      <td>1</td>\n",
              "      <td>0</td>\n",
              "      <td>Friday</td>\n",
              "    </tr>\n",
              "  </tbody>\n",
              "</table>\n",
              "</div>\n",
              "      <button class=\"colab-df-convert\" onclick=\"convertToInteractive('df-780246e6-5e7b-4a72-a262-a9610ddf60cf')\"\n",
              "              title=\"Convert this dataframe to an interactive table.\"\n",
              "              style=\"display:none;\">\n",
              "        \n",
              "  <svg xmlns=\"http://www.w3.org/2000/svg\" height=\"24px\"viewBox=\"0 0 24 24\"\n",
              "       width=\"24px\">\n",
              "    <path d=\"M0 0h24v24H0V0z\" fill=\"none\"/>\n",
              "    <path d=\"M18.56 5.44l.94 2.06.94-2.06 2.06-.94-2.06-.94-.94-2.06-.94 2.06-2.06.94zm-11 1L8.5 8.5l.94-2.06 2.06-.94-2.06-.94L8.5 2.5l-.94 2.06-2.06.94zm10 10l.94 2.06.94-2.06 2.06-.94-2.06-.94-.94-2.06-.94 2.06-2.06.94z\"/><path d=\"M17.41 7.96l-1.37-1.37c-.4-.4-.92-.59-1.43-.59-.52 0-1.04.2-1.43.59L10.3 9.45l-7.72 7.72c-.78.78-.78 2.05 0 2.83L4 21.41c.39.39.9.59 1.41.59.51 0 1.02-.2 1.41-.59l7.78-7.78 2.81-2.81c.8-.78.8-2.07 0-2.86zM5.41 20L4 18.59l7.72-7.72 1.47 1.35L5.41 20z\"/>\n",
              "  </svg>\n",
              "      </button>\n",
              "      \n",
              "  <style>\n",
              "    .colab-df-container {\n",
              "      display:flex;\n",
              "      flex-wrap:wrap;\n",
              "      gap: 12px;\n",
              "    }\n",
              "\n",
              "    .colab-df-convert {\n",
              "      background-color: #E8F0FE;\n",
              "      border: none;\n",
              "      border-radius: 50%;\n",
              "      cursor: pointer;\n",
              "      display: none;\n",
              "      fill: #1967D2;\n",
              "      height: 32px;\n",
              "      padding: 0 0 0 0;\n",
              "      width: 32px;\n",
              "    }\n",
              "\n",
              "    .colab-df-convert:hover {\n",
              "      background-color: #E2EBFA;\n",
              "      box-shadow: 0px 1px 2px rgba(60, 64, 67, 0.3), 0px 1px 3px 1px rgba(60, 64, 67, 0.15);\n",
              "      fill: #174EA6;\n",
              "    }\n",
              "\n",
              "    [theme=dark] .colab-df-convert {\n",
              "      background-color: #3B4455;\n",
              "      fill: #D2E3FC;\n",
              "    }\n",
              "\n",
              "    [theme=dark] .colab-df-convert:hover {\n",
              "      background-color: #434B5C;\n",
              "      box-shadow: 0px 1px 3px 1px rgba(0, 0, 0, 0.15);\n",
              "      filter: drop-shadow(0px 1px 2px rgba(0, 0, 0, 0.3));\n",
              "      fill: #FFFFFF;\n",
              "    }\n",
              "  </style>\n",
              "\n",
              "      <script>\n",
              "        const buttonEl =\n",
              "          document.querySelector('#df-780246e6-5e7b-4a72-a262-a9610ddf60cf button.colab-df-convert');\n",
              "        buttonEl.style.display =\n",
              "          google.colab.kernel.accessAllowed ? 'block' : 'none';\n",
              "\n",
              "        async function convertToInteractive(key) {\n",
              "          const element = document.querySelector('#df-780246e6-5e7b-4a72-a262-a9610ddf60cf');\n",
              "          const dataTable =\n",
              "            await google.colab.kernel.invokeFunction('convertToInteractive',\n",
              "                                                     [key], {});\n",
              "          if (!dataTable) return;\n",
              "\n",
              "          const docLinkHtml = 'Like what you see? Visit the ' +\n",
              "            '<a target=\"_blank\" href=https://colab.research.google.com/notebooks/data_table.ipynb>data table notebook</a>'\n",
              "            + ' to learn more about interactive tables.';\n",
              "          element.innerHTML = '';\n",
              "          dataTable['output_type'] = 'display_data';\n",
              "          await google.colab.output.renderOutput(dataTable, element);\n",
              "          const docLink = document.createElement('div');\n",
              "          docLink.innerHTML = docLinkHtml;\n",
              "          element.appendChild(docLink);\n",
              "        }\n",
              "      </script>\n",
              "    </div>\n",
              "  </div>\n",
              "  "
            ]
          },
          "metadata": {},
          "execution_count": 3
        }
      ],
      "source": [
        "##Reading the file\n",
        "Customerdata_Train = pd.read_excel(\"/content/drive/MyDrive/final Hackathon/DataForPHD/TrainData/Customerdata_Train.xlsx\")\n",
        "Customerdata_Train.head()"
      ]
    },
    {
      "cell_type": "code",
      "execution_count": 4,
      "metadata": {
        "id": "T9vSKTHr3z-e",
        "colab": {
          "base_uri": "https://localhost:8080/"
        },
        "outputId": "6f8300d1-0773-46fe-c704-4a955b0af189"
      },
      "outputs": [
        {
          "output_type": "execute_result",
          "data": {
            "text/plain": [
              "(23820, 7)"
            ]
          },
          "metadata": {},
          "execution_count": 4
        }
      ],
      "source": [
        "Customerdata_Train.shape"
      ]
    },
    {
      "cell_type": "code",
      "execution_count": 5,
      "metadata": {
        "id": "3sQyCnF6z-Cu",
        "colab": {
          "base_uri": "https://localhost:8080/",
          "height": 206
        },
        "outputId": "e84792a7-d381-41a1-e0b6-947820de1652"
      },
      "outputs": [
        {
          "output_type": "execute_result",
          "data": {
            "text/plain": [
              "  CustomerID DateOfemail     EmailType timestamp MailOpened    MailClicked\n",
              "0     C16368  2012-09-28  WelcomeEmail  15:56:50        yes  NotApplicable\n",
              "1     C20345  2010-12-19  WelcomeEmail  15:10:30        yes  NotApplicable\n",
              "2     C17683  2010-10-03  WelcomeEmail  17:12:24        yes  NotApplicable\n",
              "3     C18647  2010-11-27  WelcomeEmail  16:59:02        yes  NotApplicable\n",
              "4     C36692  2009-12-04  WelcomeEmail  17:27:22        yes  NotApplicable"
            ],
            "text/html": [
              "\n",
              "  <div id=\"df-abede143-c371-42af-b219-f0244af086be\">\n",
              "    <div class=\"colab-df-container\">\n",
              "      <div>\n",
              "<style scoped>\n",
              "    .dataframe tbody tr th:only-of-type {\n",
              "        vertical-align: middle;\n",
              "    }\n",
              "\n",
              "    .dataframe tbody tr th {\n",
              "        vertical-align: top;\n",
              "    }\n",
              "\n",
              "    .dataframe thead th {\n",
              "        text-align: right;\n",
              "    }\n",
              "</style>\n",
              "<table border=\"1\" class=\"dataframe\">\n",
              "  <thead>\n",
              "    <tr style=\"text-align: right;\">\n",
              "      <th></th>\n",
              "      <th>CustomerID</th>\n",
              "      <th>DateOfemail</th>\n",
              "      <th>EmailType</th>\n",
              "      <th>timestamp</th>\n",
              "      <th>MailOpened</th>\n",
              "      <th>MailClicked</th>\n",
              "    </tr>\n",
              "  </thead>\n",
              "  <tbody>\n",
              "    <tr>\n",
              "      <th>0</th>\n",
              "      <td>C16368</td>\n",
              "      <td>2012-09-28</td>\n",
              "      <td>WelcomeEmail</td>\n",
              "      <td>15:56:50</td>\n",
              "      <td>yes</td>\n",
              "      <td>NotApplicable</td>\n",
              "    </tr>\n",
              "    <tr>\n",
              "      <th>1</th>\n",
              "      <td>C20345</td>\n",
              "      <td>2010-12-19</td>\n",
              "      <td>WelcomeEmail</td>\n",
              "      <td>15:10:30</td>\n",
              "      <td>yes</td>\n",
              "      <td>NotApplicable</td>\n",
              "    </tr>\n",
              "    <tr>\n",
              "      <th>2</th>\n",
              "      <td>C17683</td>\n",
              "      <td>2010-10-03</td>\n",
              "      <td>WelcomeEmail</td>\n",
              "      <td>17:12:24</td>\n",
              "      <td>yes</td>\n",
              "      <td>NotApplicable</td>\n",
              "    </tr>\n",
              "    <tr>\n",
              "      <th>3</th>\n",
              "      <td>C18647</td>\n",
              "      <td>2010-11-27</td>\n",
              "      <td>WelcomeEmail</td>\n",
              "      <td>16:59:02</td>\n",
              "      <td>yes</td>\n",
              "      <td>NotApplicable</td>\n",
              "    </tr>\n",
              "    <tr>\n",
              "      <th>4</th>\n",
              "      <td>C36692</td>\n",
              "      <td>2009-12-04</td>\n",
              "      <td>WelcomeEmail</td>\n",
              "      <td>17:27:22</td>\n",
              "      <td>yes</td>\n",
              "      <td>NotApplicable</td>\n",
              "    </tr>\n",
              "  </tbody>\n",
              "</table>\n",
              "</div>\n",
              "      <button class=\"colab-df-convert\" onclick=\"convertToInteractive('df-abede143-c371-42af-b219-f0244af086be')\"\n",
              "              title=\"Convert this dataframe to an interactive table.\"\n",
              "              style=\"display:none;\">\n",
              "        \n",
              "  <svg xmlns=\"http://www.w3.org/2000/svg\" height=\"24px\"viewBox=\"0 0 24 24\"\n",
              "       width=\"24px\">\n",
              "    <path d=\"M0 0h24v24H0V0z\" fill=\"none\"/>\n",
              "    <path d=\"M18.56 5.44l.94 2.06.94-2.06 2.06-.94-2.06-.94-.94-2.06-.94 2.06-2.06.94zm-11 1L8.5 8.5l.94-2.06 2.06-.94-2.06-.94L8.5 2.5l-.94 2.06-2.06.94zm10 10l.94 2.06.94-2.06 2.06-.94-2.06-.94-.94-2.06-.94 2.06-2.06.94z\"/><path d=\"M17.41 7.96l-1.37-1.37c-.4-.4-.92-.59-1.43-.59-.52 0-1.04.2-1.43.59L10.3 9.45l-7.72 7.72c-.78.78-.78 2.05 0 2.83L4 21.41c.39.39.9.59 1.41.59.51 0 1.02-.2 1.41-.59l7.78-7.78 2.81-2.81c.8-.78.8-2.07 0-2.86zM5.41 20L4 18.59l7.72-7.72 1.47 1.35L5.41 20z\"/>\n",
              "  </svg>\n",
              "      </button>\n",
              "      \n",
              "  <style>\n",
              "    .colab-df-container {\n",
              "      display:flex;\n",
              "      flex-wrap:wrap;\n",
              "      gap: 12px;\n",
              "    }\n",
              "\n",
              "    .colab-df-convert {\n",
              "      background-color: #E8F0FE;\n",
              "      border: none;\n",
              "      border-radius: 50%;\n",
              "      cursor: pointer;\n",
              "      display: none;\n",
              "      fill: #1967D2;\n",
              "      height: 32px;\n",
              "      padding: 0 0 0 0;\n",
              "      width: 32px;\n",
              "    }\n",
              "\n",
              "    .colab-df-convert:hover {\n",
              "      background-color: #E2EBFA;\n",
              "      box-shadow: 0px 1px 2px rgba(60, 64, 67, 0.3), 0px 1px 3px 1px rgba(60, 64, 67, 0.15);\n",
              "      fill: #174EA6;\n",
              "    }\n",
              "\n",
              "    [theme=dark] .colab-df-convert {\n",
              "      background-color: #3B4455;\n",
              "      fill: #D2E3FC;\n",
              "    }\n",
              "\n",
              "    [theme=dark] .colab-df-convert:hover {\n",
              "      background-color: #434B5C;\n",
              "      box-shadow: 0px 1px 3px 1px rgba(0, 0, 0, 0.15);\n",
              "      filter: drop-shadow(0px 1px 2px rgba(0, 0, 0, 0.3));\n",
              "      fill: #FFFFFF;\n",
              "    }\n",
              "  </style>\n",
              "\n",
              "      <script>\n",
              "        const buttonEl =\n",
              "          document.querySelector('#df-abede143-c371-42af-b219-f0244af086be button.colab-df-convert');\n",
              "        buttonEl.style.display =\n",
              "          google.colab.kernel.accessAllowed ? 'block' : 'none';\n",
              "\n",
              "        async function convertToInteractive(key) {\n",
              "          const element = document.querySelector('#df-abede143-c371-42af-b219-f0244af086be');\n",
              "          const dataTable =\n",
              "            await google.colab.kernel.invokeFunction('convertToInteractive',\n",
              "                                                     [key], {});\n",
              "          if (!dataTable) return;\n",
              "\n",
              "          const docLinkHtml = 'Like what you see? Visit the ' +\n",
              "            '<a target=\"_blank\" href=https://colab.research.google.com/notebooks/data_table.ipynb>data table notebook</a>'\n",
              "            + ' to learn more about interactive tables.';\n",
              "          element.innerHTML = '';\n",
              "          dataTable['output_type'] = 'display_data';\n",
              "          await google.colab.output.renderOutput(dataTable, element);\n",
              "          const docLink = document.createElement('div');\n",
              "          docLink.innerHTML = docLinkHtml;\n",
              "          element.appendChild(docLink);\n",
              "        }\n",
              "      </script>\n",
              "    </div>\n",
              "  </div>\n",
              "  "
            ]
          },
          "metadata": {},
          "execution_count": 5
        }
      ],
      "source": [
        "Emaildata_Train = pd.read_excel(\"/content/drive/MyDrive/final Hackathon/DataForPHD/TrainData/Emaildata_Train.xlsx\")\n",
        "Emaildata_Train.head()"
      ]
    },
    {
      "cell_type": "code",
      "execution_count": 6,
      "metadata": {
        "id": "FexxvFkn36VC",
        "colab": {
          "base_uri": "https://localhost:8080/"
        },
        "outputId": "a8f8a229-30af-48d5-c098-4d8a8613b70e"
      },
      "outputs": [
        {
          "output_type": "execute_result",
          "data": {
            "text/plain": [
              "(517672, 6)"
            ]
          },
          "metadata": {},
          "execution_count": 6
        }
      ],
      "source": [
        "Emaildata_Train.shape"
      ]
    },
    {
      "cell_type": "code",
      "execution_count": 7,
      "metadata": {
        "id": "jbfPs7irz_gT",
        "colab": {
          "base_uri": "https://localhost:8080/",
          "height": 206
        },
        "outputId": "7580abb0-5d1b-49a7-9bb7-526da321e9ff"
      },
      "outputs": [
        {
          "output_type": "execute_result",
          "data": {
            "text/plain": [
              "  CustomerID RetentionPotential\n",
              "0     C37869                Low\n",
              "1     C33841                Low\n",
              "2     C29464                Low\n",
              "3     C28158                Low\n",
              "4     C22785               High"
            ],
            "text/html": [
              "\n",
              "  <div id=\"df-5bffb3b2-5a55-4629-ad49-d0cad824febd\">\n",
              "    <div class=\"colab-df-container\">\n",
              "      <div>\n",
              "<style scoped>\n",
              "    .dataframe tbody tr th:only-of-type {\n",
              "        vertical-align: middle;\n",
              "    }\n",
              "\n",
              "    .dataframe tbody tr th {\n",
              "        vertical-align: top;\n",
              "    }\n",
              "\n",
              "    .dataframe thead th {\n",
              "        text-align: right;\n",
              "    }\n",
              "</style>\n",
              "<table border=\"1\" class=\"dataframe\">\n",
              "  <thead>\n",
              "    <tr style=\"text-align: right;\">\n",
              "      <th></th>\n",
              "      <th>CustomerID</th>\n",
              "      <th>RetentionPotential</th>\n",
              "    </tr>\n",
              "  </thead>\n",
              "  <tbody>\n",
              "    <tr>\n",
              "      <th>0</th>\n",
              "      <td>C37869</td>\n",
              "      <td>Low</td>\n",
              "    </tr>\n",
              "    <tr>\n",
              "      <th>1</th>\n",
              "      <td>C33841</td>\n",
              "      <td>Low</td>\n",
              "    </tr>\n",
              "    <tr>\n",
              "      <th>2</th>\n",
              "      <td>C29464</td>\n",
              "      <td>Low</td>\n",
              "    </tr>\n",
              "    <tr>\n",
              "      <th>3</th>\n",
              "      <td>C28158</td>\n",
              "      <td>Low</td>\n",
              "    </tr>\n",
              "    <tr>\n",
              "      <th>4</th>\n",
              "      <td>C22785</td>\n",
              "      <td>High</td>\n",
              "    </tr>\n",
              "  </tbody>\n",
              "</table>\n",
              "</div>\n",
              "      <button class=\"colab-df-convert\" onclick=\"convertToInteractive('df-5bffb3b2-5a55-4629-ad49-d0cad824febd')\"\n",
              "              title=\"Convert this dataframe to an interactive table.\"\n",
              "              style=\"display:none;\">\n",
              "        \n",
              "  <svg xmlns=\"http://www.w3.org/2000/svg\" height=\"24px\"viewBox=\"0 0 24 24\"\n",
              "       width=\"24px\">\n",
              "    <path d=\"M0 0h24v24H0V0z\" fill=\"none\"/>\n",
              "    <path d=\"M18.56 5.44l.94 2.06.94-2.06 2.06-.94-2.06-.94-.94-2.06-.94 2.06-2.06.94zm-11 1L8.5 8.5l.94-2.06 2.06-.94-2.06-.94L8.5 2.5l-.94 2.06-2.06.94zm10 10l.94 2.06.94-2.06 2.06-.94-2.06-.94-.94-2.06-.94 2.06-2.06.94z\"/><path d=\"M17.41 7.96l-1.37-1.37c-.4-.4-.92-.59-1.43-.59-.52 0-1.04.2-1.43.59L10.3 9.45l-7.72 7.72c-.78.78-.78 2.05 0 2.83L4 21.41c.39.39.9.59 1.41.59.51 0 1.02-.2 1.41-.59l7.78-7.78 2.81-2.81c.8-.78.8-2.07 0-2.86zM5.41 20L4 18.59l7.72-7.72 1.47 1.35L5.41 20z\"/>\n",
              "  </svg>\n",
              "      </button>\n",
              "      \n",
              "  <style>\n",
              "    .colab-df-container {\n",
              "      display:flex;\n",
              "      flex-wrap:wrap;\n",
              "      gap: 12px;\n",
              "    }\n",
              "\n",
              "    .colab-df-convert {\n",
              "      background-color: #E8F0FE;\n",
              "      border: none;\n",
              "      border-radius: 50%;\n",
              "      cursor: pointer;\n",
              "      display: none;\n",
              "      fill: #1967D2;\n",
              "      height: 32px;\n",
              "      padding: 0 0 0 0;\n",
              "      width: 32px;\n",
              "    }\n",
              "\n",
              "    .colab-df-convert:hover {\n",
              "      background-color: #E2EBFA;\n",
              "      box-shadow: 0px 1px 2px rgba(60, 64, 67, 0.3), 0px 1px 3px 1px rgba(60, 64, 67, 0.15);\n",
              "      fill: #174EA6;\n",
              "    }\n",
              "\n",
              "    [theme=dark] .colab-df-convert {\n",
              "      background-color: #3B4455;\n",
              "      fill: #D2E3FC;\n",
              "    }\n",
              "\n",
              "    [theme=dark] .colab-df-convert:hover {\n",
              "      background-color: #434B5C;\n",
              "      box-shadow: 0px 1px 3px 1px rgba(0, 0, 0, 0.15);\n",
              "      filter: drop-shadow(0px 1px 2px rgba(0, 0, 0, 0.3));\n",
              "      fill: #FFFFFF;\n",
              "    }\n",
              "  </style>\n",
              "\n",
              "      <script>\n",
              "        const buttonEl =\n",
              "          document.querySelector('#df-5bffb3b2-5a55-4629-ad49-d0cad824febd button.colab-df-convert');\n",
              "        buttonEl.style.display =\n",
              "          google.colab.kernel.accessAllowed ? 'block' : 'none';\n",
              "\n",
              "        async function convertToInteractive(key) {\n",
              "          const element = document.querySelector('#df-5bffb3b2-5a55-4629-ad49-d0cad824febd');\n",
              "          const dataTable =\n",
              "            await google.colab.kernel.invokeFunction('convertToInteractive',\n",
              "                                                     [key], {});\n",
              "          if (!dataTable) return;\n",
              "\n",
              "          const docLinkHtml = 'Like what you see? Visit the ' +\n",
              "            '<a target=\"_blank\" href=https://colab.research.google.com/notebooks/data_table.ipynb>data table notebook</a>'\n",
              "            + ' to learn more about interactive tables.';\n",
              "          element.innerHTML = '';\n",
              "          dataTable['output_type'] = 'display_data';\n",
              "          await google.colab.output.renderOutput(dataTable, element);\n",
              "          const docLink = document.createElement('div');\n",
              "          docLink.innerHTML = docLinkHtml;\n",
              "          element.appendChild(docLink);\n",
              "        }\n",
              "      </script>\n",
              "    </div>\n",
              "  </div>\n",
              "  "
            ]
          },
          "metadata": {},
          "execution_count": 7
        }
      ],
      "source": [
        "Train = pd.read_excel(\"/content/drive/MyDrive/final Hackathon/DataForPHD/TrainData/Train.xlsx\")\n",
        "Train.head()"
      ]
    },
    {
      "cell_type": "code",
      "execution_count": 8,
      "metadata": {
        "id": "sru1zLiz4BXx",
        "colab": {
          "base_uri": "https://localhost:8080/"
        },
        "outputId": "c0934f62-e1c1-4ebc-b44c-9eb0f3934287"
      },
      "outputs": [
        {
          "output_type": "execute_result",
          "data": {
            "text/plain": [
              "(23820, 2)"
            ]
          },
          "metadata": {},
          "execution_count": 8
        }
      ],
      "source": [
        "Train.shape"
      ]
    },
    {
      "cell_type": "code",
      "execution_count": 9,
      "metadata": {
        "id": "--eW3QbP0CEO",
        "colab": {
          "base_uri": "https://localhost:8080/",
          "height": 206
        },
        "outputId": "40bac1e0-5b0c-4531-9d66-1943d5ff3283"
      },
      "outputs": [
        {
          "output_type": "execute_result",
          "data": {
            "text/plain": [
              "  CustomerID DateOfOrder timestamp  OrderQuantity\n",
              "0     C16368  2013-08-11  15:17:52             15\n",
              "1     C20345  2011-04-01  19:50:00             92\n",
              "2     C20345  2012-06-29  15:11:56             95\n",
              "3     C20345  2012-09-22  20:49:10             74\n",
              "4     C20345  2011-08-23  11:50:26             81"
            ],
            "text/html": [
              "\n",
              "  <div id=\"df-23d4b436-f7cd-4b4a-94ea-d95a8be3c5b1\">\n",
              "    <div class=\"colab-df-container\">\n",
              "      <div>\n",
              "<style scoped>\n",
              "    .dataframe tbody tr th:only-of-type {\n",
              "        vertical-align: middle;\n",
              "    }\n",
              "\n",
              "    .dataframe tbody tr th {\n",
              "        vertical-align: top;\n",
              "    }\n",
              "\n",
              "    .dataframe thead th {\n",
              "        text-align: right;\n",
              "    }\n",
              "</style>\n",
              "<table border=\"1\" class=\"dataframe\">\n",
              "  <thead>\n",
              "    <tr style=\"text-align: right;\">\n",
              "      <th></th>\n",
              "      <th>CustomerID</th>\n",
              "      <th>DateOfOrder</th>\n",
              "      <th>timestamp</th>\n",
              "      <th>OrderQuantity</th>\n",
              "    </tr>\n",
              "  </thead>\n",
              "  <tbody>\n",
              "    <tr>\n",
              "      <th>0</th>\n",
              "      <td>C16368</td>\n",
              "      <td>2013-08-11</td>\n",
              "      <td>15:17:52</td>\n",
              "      <td>15</td>\n",
              "    </tr>\n",
              "    <tr>\n",
              "      <th>1</th>\n",
              "      <td>C20345</td>\n",
              "      <td>2011-04-01</td>\n",
              "      <td>19:50:00</td>\n",
              "      <td>92</td>\n",
              "    </tr>\n",
              "    <tr>\n",
              "      <th>2</th>\n",
              "      <td>C20345</td>\n",
              "      <td>2012-06-29</td>\n",
              "      <td>15:11:56</td>\n",
              "      <td>95</td>\n",
              "    </tr>\n",
              "    <tr>\n",
              "      <th>3</th>\n",
              "      <td>C20345</td>\n",
              "      <td>2012-09-22</td>\n",
              "      <td>20:49:10</td>\n",
              "      <td>74</td>\n",
              "    </tr>\n",
              "    <tr>\n",
              "      <th>4</th>\n",
              "      <td>C20345</td>\n",
              "      <td>2011-08-23</td>\n",
              "      <td>11:50:26</td>\n",
              "      <td>81</td>\n",
              "    </tr>\n",
              "  </tbody>\n",
              "</table>\n",
              "</div>\n",
              "      <button class=\"colab-df-convert\" onclick=\"convertToInteractive('df-23d4b436-f7cd-4b4a-94ea-d95a8be3c5b1')\"\n",
              "              title=\"Convert this dataframe to an interactive table.\"\n",
              "              style=\"display:none;\">\n",
              "        \n",
              "  <svg xmlns=\"http://www.w3.org/2000/svg\" height=\"24px\"viewBox=\"0 0 24 24\"\n",
              "       width=\"24px\">\n",
              "    <path d=\"M0 0h24v24H0V0z\" fill=\"none\"/>\n",
              "    <path d=\"M18.56 5.44l.94 2.06.94-2.06 2.06-.94-2.06-.94-.94-2.06-.94 2.06-2.06.94zm-11 1L8.5 8.5l.94-2.06 2.06-.94-2.06-.94L8.5 2.5l-.94 2.06-2.06.94zm10 10l.94 2.06.94-2.06 2.06-.94-2.06-.94-.94-2.06-.94 2.06-2.06.94z\"/><path d=\"M17.41 7.96l-1.37-1.37c-.4-.4-.92-.59-1.43-.59-.52 0-1.04.2-1.43.59L10.3 9.45l-7.72 7.72c-.78.78-.78 2.05 0 2.83L4 21.41c.39.39.9.59 1.41.59.51 0 1.02-.2 1.41-.59l7.78-7.78 2.81-2.81c.8-.78.8-2.07 0-2.86zM5.41 20L4 18.59l7.72-7.72 1.47 1.35L5.41 20z\"/>\n",
              "  </svg>\n",
              "      </button>\n",
              "      \n",
              "  <style>\n",
              "    .colab-df-container {\n",
              "      display:flex;\n",
              "      flex-wrap:wrap;\n",
              "      gap: 12px;\n",
              "    }\n",
              "\n",
              "    .colab-df-convert {\n",
              "      background-color: #E8F0FE;\n",
              "      border: none;\n",
              "      border-radius: 50%;\n",
              "      cursor: pointer;\n",
              "      display: none;\n",
              "      fill: #1967D2;\n",
              "      height: 32px;\n",
              "      padding: 0 0 0 0;\n",
              "      width: 32px;\n",
              "    }\n",
              "\n",
              "    .colab-df-convert:hover {\n",
              "      background-color: #E2EBFA;\n",
              "      box-shadow: 0px 1px 2px rgba(60, 64, 67, 0.3), 0px 1px 3px 1px rgba(60, 64, 67, 0.15);\n",
              "      fill: #174EA6;\n",
              "    }\n",
              "\n",
              "    [theme=dark] .colab-df-convert {\n",
              "      background-color: #3B4455;\n",
              "      fill: #D2E3FC;\n",
              "    }\n",
              "\n",
              "    [theme=dark] .colab-df-convert:hover {\n",
              "      background-color: #434B5C;\n",
              "      box-shadow: 0px 1px 3px 1px rgba(0, 0, 0, 0.15);\n",
              "      filter: drop-shadow(0px 1px 2px rgba(0, 0, 0, 0.3));\n",
              "      fill: #FFFFFF;\n",
              "    }\n",
              "  </style>\n",
              "\n",
              "      <script>\n",
              "        const buttonEl =\n",
              "          document.querySelector('#df-23d4b436-f7cd-4b4a-94ea-d95a8be3c5b1 button.colab-df-convert');\n",
              "        buttonEl.style.display =\n",
              "          google.colab.kernel.accessAllowed ? 'block' : 'none';\n",
              "\n",
              "        async function convertToInteractive(key) {\n",
              "          const element = document.querySelector('#df-23d4b436-f7cd-4b4a-94ea-d95a8be3c5b1');\n",
              "          const dataTable =\n",
              "            await google.colab.kernel.invokeFunction('convertToInteractive',\n",
              "                                                     [key], {});\n",
              "          if (!dataTable) return;\n",
              "\n",
              "          const docLinkHtml = 'Like what you see? Visit the ' +\n",
              "            '<a target=\"_blank\" href=https://colab.research.google.com/notebooks/data_table.ipynb>data table notebook</a>'\n",
              "            + ' to learn more about interactive tables.';\n",
              "          element.innerHTML = '';\n",
              "          dataTable['output_type'] = 'display_data';\n",
              "          await google.colab.output.renderOutput(dataTable, element);\n",
              "          const docLink = document.createElement('div');\n",
              "          docLink.innerHTML = docLinkHtml;\n",
              "          element.appendChild(docLink);\n",
              "        }\n",
              "      </script>\n",
              "    </div>\n",
              "  </div>\n",
              "  "
            ]
          },
          "metadata": {},
          "execution_count": 9
        }
      ],
      "source": [
        "transactionsdata_Train = pd.read_excel(\"/content/drive/MyDrive/final Hackathon/DataForPHD/TrainData/transactionsdata_Train.xlsx\")\n",
        "transactionsdata_Train.head()"
      ]
    },
    {
      "cell_type": "code",
      "execution_count": 10,
      "metadata": {
        "id": "gL5PVtaS4PuP",
        "colab": {
          "base_uri": "https://localhost:8080/"
        },
        "outputId": "183a9c08-6001-41ee-e4ce-6e87545686fd"
      },
      "outputs": [
        {
          "output_type": "execute_result",
          "data": {
            "text/plain": [
              "(104755, 4)"
            ]
          },
          "metadata": {},
          "execution_count": 10
        }
      ],
      "source": [
        "transactionsdata_Train.shape"
      ]
    },
    {
      "cell_type": "code",
      "execution_count": 11,
      "metadata": {
        "id": "mb0_iFC34OaK",
        "colab": {
          "base_uri": "https://localhost:8080/"
        },
        "outputId": "76feb3bb-7f5b-4c2d-bc0f-1faeefa201c5"
      },
      "outputs": [
        {
          "output_type": "execute_result",
          "data": {
            "text/plain": [
              "CustomerID\n",
              "C33945    51429\n",
              "C22341    34060\n",
              "C16810    30562\n",
              "C33514    26396\n",
              "C32883    26091\n",
              "          ...  \n",
              "C13609        1\n",
              "C33021        1\n",
              "C35379        1\n",
              "C28639        1\n",
              "C15837        0\n",
              "Name: OrderQuantity, Length: 23820, dtype: int64"
            ]
          },
          "metadata": {},
          "execution_count": 11
        }
      ],
      "source": [
        "# Extract Total order quantity with respect to every customer\n",
        "total_order_quan = transactionsdata_Train.groupby(\"CustomerID\")['OrderQuantity'].sum().sort_values(ascending=False)\n",
        "total_order_quan"
      ]
    },
    {
      "cell_type": "markdown",
      "metadata": {
        "id": "UlHXOLS4Me58"
      },
      "source": [
        "## <font color = green>Exploratory Data Analysis with Total order quantity w.r.t Customer"
      ]
    },
    {
      "cell_type": "code",
      "execution_count": 12,
      "metadata": {
        "id": "Qy2Ht4fJ7oII",
        "colab": {
          "base_uri": "https://localhost:8080/",
          "height": 395
        },
        "outputId": "6dadc327-f9b0-4df2-8bea-b6be778280d0"
      },
      "outputs": [
        {
          "output_type": "execute_result",
          "data": {
            "text/plain": [
              "Text(0.5, 1.0, 'Top 20 Customer_Id who have given Maximumn Orders')"
            ]
          },
          "metadata": {},
          "execution_count": 12
        },
        {
          "output_type": "display_data",
          "data": {
            "text/plain": [
              "<Figure size 1080x360 with 1 Axes>"
            ],
            "image/png": "[encoded data removed]"
          },
          "metadata": {
            "needs_background": "light"
          }
        }
      ],
      "source": [
        "plt.figure(figsize = (15,5))\n",
        "total_order_quan.head(20).plot(kind = \"bar\",color = \"red\",alpha=0.5)\n",
        "plt.ylabel(\"Total order quantity\")\n",
        "plt.title(\"Top 20 Customer_Id who have given Maximumn Orders\")\n"
      ]
    },
    {
      "cell_type": "markdown",
      "metadata": {
        "id": "2pfZOQlQAeBR"
      },
      "source": [
        "## <font color=violet>**Insights**:\n",
        " We have 23820 records, it is not possible to show all customers therefore we have shown only top 20 customer_id who has given max orders"
      ]
    },
    {
      "cell_type": "code",
      "execution_count": 13,
      "metadata": {
        "id": "RetT8UUX76Q5",
        "colab": {
          "base_uri": "https://localhost:8080/",
          "height": 206
        },
        "outputId": "ece43a3f-9302-4571-d26c-1dff2219e5d7"
      },
      "outputs": [
        {
          "output_type": "execute_result",
          "data": {
            "text/plain": [
              "  CustomerID  OrderQuantity RetentionPotential\n",
              "0     C33945          51429                Low\n",
              "1     C22341          34060                Low\n",
              "2     C16810          30562                Low\n",
              "3     C33514          26396                Low\n",
              "4     C32883          26091             Medium"
            ],
            "text/html": [
              "\n",
              "  <div id=\"df-e4a6ceb7-5661-4f3d-a383-cf55a3c9dfb3\">\n",
              "    <div class=\"colab-df-container\">\n",
              "      <div>\n",
              "<style scoped>\n",
              "    .dataframe tbody tr th:only-of-type {\n",
              "        vertical-align: middle;\n",
              "    }\n",
              "\n",
              "    .dataframe tbody tr th {\n",
              "        vertical-align: top;\n",
              "    }\n",
              "\n",
              "    .dataframe thead th {\n",
              "        text-align: right;\n",
              "    }\n",
              "</style>\n",
              "<table border=\"1\" class=\"dataframe\">\n",
              "  <thead>\n",
              "    <tr style=\"text-align: right;\">\n",
              "      <th></th>\n",
              "      <th>CustomerID</th>\n",
              "      <th>OrderQuantity</th>\n",
              "      <th>RetentionPotential</th>\n",
              "    </tr>\n",
              "  </thead>\n",
              "  <tbody>\n",
              "    <tr>\n",
              "      <th>0</th>\n",
              "      <td>C33945</td>\n",
              "      <td>51429</td>\n",
              "      <td>Low</td>\n",
              "    </tr>\n",
              "    <tr>\n",
              "      <th>1</th>\n",
              "      <td>C22341</td>\n",
              "      <td>34060</td>\n",
              "      <td>Low</td>\n",
              "    </tr>\n",
              "    <tr>\n",
              "      <th>2</th>\n",
              "      <td>C16810</td>\n",
              "      <td>30562</td>\n",
              "      <td>Low</td>\n",
              "    </tr>\n",
              "    <tr>\n",
              "      <th>3</th>\n",
              "      <td>C33514</td>\n",
              "      <td>26396</td>\n",
              "      <td>Low</td>\n",
              "    </tr>\n",
              "    <tr>\n",
              "      <th>4</th>\n",
              "      <td>C32883</td>\n",
              "      <td>26091</td>\n",
              "      <td>Medium</td>\n",
              "    </tr>\n",
              "  </tbody>\n",
              "</table>\n",
              "</div>\n",
              "      <button class=\"colab-df-convert\" onclick=\"convertToInteractive('df-e4a6ceb7-5661-4f3d-a383-cf55a3c9dfb3')\"\n",
              "              title=\"Convert this dataframe to an interactive table.\"\n",
              "              style=\"display:none;\">\n",
              "        \n",
              "  <svg xmlns=\"http://www.w3.org/2000/svg\" height=\"24px\"viewBox=\"0 0 24 24\"\n",
              "       width=\"24px\">\n",
              "    <path d=\"M0 0h24v24H0V0z\" fill=\"none\"/>\n",
              "    <path d=\"M18.56 5.44l.94 2.06.94-2.06 2.06-.94-2.06-.94-.94-2.06-.94 2.06-2.06.94zm-11 1L8.5 8.5l.94-2.06 2.06-.94-2.06-.94L8.5 2.5l-.94 2.06-2.06.94zm10 10l.94 2.06.94-2.06 2.06-.94-2.06-.94-.94-2.06-.94 2.06-2.06.94z\"/><path d=\"M17.41 7.96l-1.37-1.37c-.4-.4-.92-.59-1.43-.59-.52 0-1.04.2-1.43.59L10.3 9.45l-7.72 7.72c-.78.78-.78 2.05 0 2.83L4 21.41c.39.39.9.59 1.41.59.51 0 1.02-.2 1.41-.59l7.78-7.78 2.81-2.81c.8-.78.8-2.07 0-2.86zM5.41 20L4 18.59l7.72-7.72 1.47 1.35L5.41 20z\"/>\n",
              "  </svg>\n",
              "      </button>\n",
              "      \n",
              "  <style>\n",
              "    .colab-df-container {\n",
              "      display:flex;\n",
              "      flex-wrap:wrap;\n",
              "      gap: 12px;\n",
              "    }\n",
              "\n",
              "    .colab-df-convert {\n",
              "      background-color: #E8F0FE;\n",
              "      border: none;\n",
              "      border-radius: 50%;\n",
              "      cursor: pointer;\n",
              "      display: none;\n",
              "      fill: #1967D2;\n",
              "      height: 32px;\n",
              "      padding: 0 0 0 0;\n",
              "      width: 32px;\n",
              "    }\n",
              "\n",
              "    .colab-df-convert:hover {\n",
              "      background-color: #E2EBFA;\n",
              "      box-shadow: 0px 1px 2px rgba(60, 64, 67, 0.3), 0px 1px 3px 1px rgba(60, 64, 67, 0.15);\n",
              "      fill: #174EA6;\n",
              "    }\n",
              "\n",
              "    [theme=dark] .colab-df-convert {\n",
              "      background-color: #3B4455;\n",
              "      fill: #D2E3FC;\n",
              "    }\n",
              "\n",
              "    [theme=dark] .colab-df-convert:hover {\n",
              "      background-color: #434B5C;\n",
              "      box-shadow: 0px 1px 3px 1px rgba(0, 0, 0, 0.15);\n",
              "      filter: drop-shadow(0px 1px 2px rgba(0, 0, 0, 0.3));\n",
              "      fill: #FFFFFF;\n",
              "    }\n",
              "  </style>\n",
              "\n",
              "      <script>\n",
              "        const buttonEl =\n",
              "          document.querySelector('#df-e4a6ceb7-5661-4f3d-a383-cf55a3c9dfb3 button.colab-df-convert');\n",
              "        buttonEl.style.display =\n",
              "          google.colab.kernel.accessAllowed ? 'block' : 'none';\n",
              "\n",
              "        async function convertToInteractive(key) {\n",
              "          const element = document.querySelector('#df-e4a6ceb7-5661-4f3d-a383-cf55a3c9dfb3');\n",
              "          const dataTable =\n",
              "            await google.colab.kernel.invokeFunction('convertToInteractive',\n",
              "                                                     [key], {});\n",
              "          if (!dataTable) return;\n",
              "\n",
              "          const docLinkHtml = 'Like what you see? Visit the ' +\n",
              "            '<a target=\"_blank\" href=https://colab.research.google.com/notebooks/data_table.ipynb>data table notebook</a>'\n",
              "            + ' to learn more about interactive tables.';\n",
              "          element.innerHTML = '';\n",
              "          dataTable['output_type'] = 'display_data';\n",
              "          await google.colab.output.renderOutput(dataTable, element);\n",
              "          const docLink = document.createElement('div');\n",
              "          docLink.innerHTML = docLinkHtml;\n",
              "          element.appendChild(docLink);\n",
              "        }\n",
              "      </script>\n",
              "    </div>\n",
              "  </div>\n",
              "  "
            ]
          },
          "metadata": {},
          "execution_count": 13
        }
      ],
      "source": [
        "#### Merging Train, Transactiondata on CustomerID to perform some analysis\n",
        "total_order_Train = pd.merge(total_order_quan,Train,on=[\"CustomerID\"],how=\"inner\")\n",
        "total_order_Train.head()"
      ]
    },
    {
      "cell_type": "code",
      "source": [
        "### Categorising the columns into three encoded columns by performing get_dummies and concatenating total email data.\n",
        "Email_Type = pd.get_dummies(Emaildata_Train.EmailType,prefix=\"Email_Type\")\n",
        "Mail_Clicked = pd.get_dummies(Emaildata_Train.MailClicked,prefix=\"Mail_Clicked\")\n",
        "Mail_Opened = pd.get_dummies(Emaildata_Train.MailOpened,prefix=\"Mail_Opened\")"
      ],
      "metadata": {
        "id": "TQj7SFsxcotk"
      },
      "execution_count": 14,
      "outputs": []
    },
    {
      "cell_type": "code",
      "source": [
        "## Checking the top 5 records of the email merged data\n",
        "email_merged = pd.concat([Emaildata_Train,Email_Type,Mail_Clicked,Mail_Opened],axis = 1)\n",
        "email_merged.head()"
      ],
      "metadata": {
        "colab": {
          "base_uri": "https://localhost:8080/",
          "height": 270
        },
        "id": "gbEKmsmdc5vH",
        "outputId": "ce986168-a863-4e5d-99ac-a5fc56cd4a8c"
      },
      "execution_count": 15,
      "outputs": [
        {
          "output_type": "execute_result",
          "data": {
            "text/plain": [
              "  CustomerID DateOfemail     EmailType timestamp MailOpened    MailClicked  \\\n",
              "0     C16368  2012-09-28  WelcomeEmail  15:56:50        yes  NotApplicable   \n",
              "1     C20345  2010-12-19  WelcomeEmail  15:10:30        yes  NotApplicable   \n",
              "2     C17683  2010-10-03  WelcomeEmail  17:12:24        yes  NotApplicable   \n",
              "3     C18647  2010-11-27  WelcomeEmail  16:59:02        yes  NotApplicable   \n",
              "4     C36692  2009-12-04  WelcomeEmail  17:27:22        yes  NotApplicable   \n",
              "\n",
              "   Email_Type_CustomizedEmail  Email_Type_WelcomeEmail  \\\n",
              "0                           0                        1   \n",
              "1                           0                        1   \n",
              "2                           0                        1   \n",
              "3                           0                        1   \n",
              "4                           0                        1   \n",
              "\n",
              "   Mail_Clicked_NotApplicable  Mail_Clicked_no  Mail_Clicked_yes  \\\n",
              "0                           1                0                 0   \n",
              "1                           1                0                 0   \n",
              "2                           1                0                 0   \n",
              "3                           1                0                 0   \n",
              "4                           1                0                 0   \n",
              "\n",
              "   Mail_Opened_no  Mail_Opened_yes  \n",
              "0               0                1  \n",
              "1               0                1  \n",
              "2               0                1  \n",
              "3               0                1  \n",
              "4               0                1  "
            ],
            "text/html": [
              "\n",
              "  <div id=\"df-be453c9e-8984-4edc-8bb1-d7ec94db846f\">\n",
              "    <div class=\"colab-df-container\">\n",
              "      <div>\n",
              "<style scoped>\n",
              "    .dataframe tbody tr th:only-of-type {\n",
              "        vertical-align: middle;\n",
              "    }\n",
              "\n",
              "    .dataframe tbody tr th {\n",
              "        vertical-align: top;\n",
              "    }\n",
              "\n",
              "    .dataframe thead th {\n",
              "        text-align: right;\n",
              "    }\n",
              "</style>\n",
              "<table border=\"1\" class=\"dataframe\">\n",
              "  <thead>\n",
              "    <tr style=\"text-align: right;\">\n",
              "      <th></th>\n",
              "      <th>CustomerID</th>\n",
              "      <th>DateOfemail</th>\n",
              "      <th>EmailType</th>\n",
              "      <th>timestamp</th>\n",
              "      <th>MailOpened</th>\n",
              "      <th>MailClicked</th>\n",
              "      <th>Email_Type_CustomizedEmail</th>\n",
              "      <th>Email_Type_WelcomeEmail</th>\n",
              "      <th>Mail_Clicked_NotApplicable</th>\n",
              "      <th>Mail_Clicked_no</th>\n",
              "      <th>Mail_Clicked_yes</th>\n",
              "      <th>Mail_Opened_no</th>\n",
              "      <th>Mail_Opened_yes</th>\n",
              "    </tr>\n",
              "  </thead>\n",
              "  <tbody>\n",
              "    <tr>\n",
              "      <th>0</th>\n",
              "      <td>C16368</td>\n",
              "      <td>2012-09-28</td>\n",
              "      <td>WelcomeEmail</td>\n",
              "      <td>15:56:50</td>\n",
              "      <td>yes</td>\n",
              "      <td>NotApplicable</td>\n",
              "      <td>0</td>\n",
              "      <td>1</td>\n",
              "      <td>1</td>\n",
              "      <td>0</td>\n",
              "      <td>0</td>\n",
              "      <td>0</td>\n",
              "      <td>1</td>\n",
              "    </tr>\n",
              "    <tr>\n",
              "      <th>1</th>\n",
              "      <td>C20345</td>\n",
              "      <td>2010-12-19</td>\n",
              "      <td>WelcomeEmail</td>\n",
              "      <td>15:10:30</td>\n",
              "      <td>yes</td>\n",
              "      <td>NotApplicable</td>\n",
              "      <td>0</td>\n",
              "      <td>1</td>\n",
              "      <td>1</td>\n",
              "      <td>0</td>\n",
              "      <td>0</td>\n",
              "      <td>0</td>\n",
              "      <td>1</td>\n",
              "    </tr>\n",
              "    <tr>\n",
              "      <th>2</th>\n",
              "      <td>C17683</td>\n",
              "      <td>2010-10-03</td>\n",
              "      <td>WelcomeEmail</td>\n",
              "      <td>17:12:24</td>\n",
              "      <td>yes</td>\n",
              "      <td>NotApplicable</td>\n",
              "      <td>0</td>\n",
              "      <td>1</td>\n",
              "      <td>1</td>\n",
              "      <td>0</td>\n",
              "      <td>0</td>\n",
              "      <td>0</td>\n",
              "      <td>1</td>\n",
              "    </tr>\n",
              "    <tr>\n",
              "      <th>3</th>\n",
              "      <td>C18647</td>\n",
              "      <td>2010-11-27</td>\n",
              "      <td>WelcomeEmail</td>\n",
              "      <td>16:59:02</td>\n",
              "      <td>yes</td>\n",
              "      <td>NotApplicable</td>\n",
              "      <td>0</td>\n",
              "      <td>1</td>\n",
              "      <td>1</td>\n",
              "      <td>0</td>\n",
              "      <td>0</td>\n",
              "      <td>0</td>\n",
              "      <td>1</td>\n",
              "    </tr>\n",
              "    <tr>\n",
              "      <th>4</th>\n",
              "      <td>C36692</td>\n",
              "      <td>2009-12-04</td>\n",
              "      <td>WelcomeEmail</td>\n",
              "      <td>17:27:22</td>\n",
              "      <td>yes</td>\n",
              "      <td>NotApplicable</td>\n",
              "      <td>0</td>\n",
              "      <td>1</td>\n",
              "      <td>1</td>\n",
              "      <td>0</td>\n",
              "      <td>0</td>\n",
              "      <td>0</td>\n",
              "      <td>1</td>\n",
              "    </tr>\n",
              "  </tbody>\n",
              "</table>\n",
              "</div>\n",
              "      <button class=\"colab-df-convert\" onclick=\"convertToInteractive('df-be453c9e-8984-4edc-8bb1-d7ec94db846f')\"\n",
              "              title=\"Convert this dataframe to an interactive table.\"\n",
              "              style=\"display:none;\">\n",
              "        \n",
              "  <svg xmlns=\"http://www.w3.org/2000/svg\" height=\"24px\"viewBox=\"0 0 24 24\"\n",
              "       width=\"24px\">\n",
              "    <path d=\"M0 0h24v24H0V0z\" fill=\"none\"/>\n",
              "    <path d=\"M18.56 5.44l.94 2.06.94-2.06 2.06-.94-2.06-.94-.94-2.06-.94 2.06-2.06.94zm-11 1L8.5 8.5l.94-2.06 2.06-.94-2.06-.94L8.5 2.5l-.94 2.06-2.06.94zm10 10l.94 2.06.94-2.06 2.06-.94-2.06-.94-.94-2.06-.94 2.06-2.06.94z\"/><path d=\"M17.41 7.96l-1.37-1.37c-.4-.4-.92-.59-1.43-.59-.52 0-1.04.2-1.43.59L10.3 9.45l-7.72 7.72c-.78.78-.78 2.05 0 2.83L4 21.41c.39.39.9.59 1.41.59.51 0 1.02-.2 1.41-.59l7.78-7.78 2.81-2.81c.8-.78.8-2.07 0-2.86zM5.41 20L4 18.59l7.72-7.72 1.47 1.35L5.41 20z\"/>\n",
              "  </svg>\n",
              "      </button>\n",
              "      \n",
              "  <style>\n",
              "    .colab-df-container {\n",
              "      display:flex;\n",
              "      flex-wrap:wrap;\n",
              "      gap: 12px;\n",
              "    }\n",
              "\n",
              "    .colab-df-convert {\n",
              "      background-color: #E8F0FE;\n",
              "      border: none;\n",
              "      border-radius: 50%;\n",
              "      cursor: pointer;\n",
              "      display: none;\n",
              "      fill: #1967D2;\n",
              "      height: 32px;\n",
              "      padding: 0 0 0 0;\n",
              "      width: 32px;\n",
              "    }\n",
              "\n",
              "    .colab-df-convert:hover {\n",
              "      background-color: #E2EBFA;\n",
              "      box-shadow: 0px 1px 2px rgba(60, 64, 67, 0.3), 0px 1px 3px 1px rgba(60, 64, 67, 0.15);\n",
              "      fill: #174EA6;\n",
              "    }\n",
              "\n",
              "    [theme=dark] .colab-df-convert {\n",
              "      background-color: #3B4455;\n",
              "      fill: #D2E3FC;\n",
              "    }\n",
              "\n",
              "    [theme=dark] .colab-df-convert:hover {\n",
              "      background-color: #434B5C;\n",
              "      box-shadow: 0px 1px 3px 1px rgba(0, 0, 0, 0.15);\n",
              "      filter: drop-shadow(0px 1px 2px rgba(0, 0, 0, 0.3));\n",
              "      fill: #FFFFFF;\n",
              "    }\n",
              "  </style>\n",
              "\n",
              "      <script>\n",
              "        const buttonEl =\n",
              "          document.querySelector('#df-be453c9e-8984-4edc-8bb1-d7ec94db846f button.colab-df-convert');\n",
              "        buttonEl.style.display =\n",
              "          google.colab.kernel.accessAllowed ? 'block' : 'none';\n",
              "\n",
              "        async function convertToInteractive(key) {\n",
              "          const element = document.querySelector('#df-be453c9e-8984-4edc-8bb1-d7ec94db846f');\n",
              "          const dataTable =\n",
              "            await google.colab.kernel.invokeFunction('convertToInteractive',\n",
              "                                                     [key], {});\n",
              "          if (!dataTable) return;\n",
              "\n",
              "          const docLinkHtml = 'Like what you see? Visit the ' +\n",
              "            '<a target=\"_blank\" href=https://colab.research.google.com/notebooks/data_table.ipynb>data table notebook</a>'\n",
              "            + ' to learn more about interactive tables.';\n",
              "          element.innerHTML = '';\n",
              "          dataTable['output_type'] = 'display_data';\n",
              "          await google.colab.output.renderOutput(dataTable, element);\n",
              "          const docLink = document.createElement('div');\n",
              "          docLink.innerHTML = docLinkHtml;\n",
              "          element.appendChild(docLink);\n",
              "        }\n",
              "      </script>\n",
              "    </div>\n",
              "  </div>\n",
              "  "
            ]
          },
          "metadata": {},
          "execution_count": 15
        }
      ]
    },
    {
      "cell_type": "code",
      "source": [
        "## Droping the irrelavent columns after merging to remove the redundancy\n",
        "email_merged.drop(['EmailType','MailOpened','MailClicked','timestamp','DateOfemail'],axis=1)\n",
        "email_total = email_merged.groupby('CustomerID').sum().reset_index()\n",
        "email_total.head()"
      ],
      "metadata": {
        "colab": {
          "base_uri": "https://localhost:8080/",
          "height": 270
        },
        "id": "NnTZabn0c-QI",
        "outputId": "129c8104-234c-411f-bcab-908f57b8a405"
      },
      "execution_count": 16,
      "outputs": [
        {
          "output_type": "execute_result",
          "data": {
            "text/plain": [
              "  CustomerID  Email_Type_CustomizedEmail  Email_Type_WelcomeEmail  \\\n",
              "0     C12116                        31.0                      1.0   \n",
              "1     C12117                         0.0                      1.0   \n",
              "2     C12118                         0.0                      1.0   \n",
              "3     C12119                        41.0                      1.0   \n",
              "4     C12120                         0.0                      1.0   \n",
              "\n",
              "   Mail_Clicked_NotApplicable  Mail_Clicked_no  Mail_Clicked_yes  \\\n",
              "0                         1.0             29.0               2.0   \n",
              "1                         1.0              0.0               0.0   \n",
              "2                         1.0              0.0               0.0   \n",
              "3                         1.0             37.0               4.0   \n",
              "4                         1.0              0.0               0.0   \n",
              "\n",
              "   Mail_Opened_no  Mail_Opened_yes  \n",
              "0            27.0              5.0  \n",
              "1             0.0              1.0  \n",
              "2             0.0              1.0  \n",
              "3            28.0             14.0  \n",
              "4             0.0              1.0  "
            ],
            "text/html": [
              "\n",
              "  <div id=\"df-9f6664f0-f56c-486c-b4f8-1c961029a359\">\n",
              "    <div class=\"colab-df-container\">\n",
              "      <div>\n",
              "<style scoped>\n",
              "    .dataframe tbody tr th:only-of-type {\n",
              "        vertical-align: middle;\n",
              "    }\n",
              "\n",
              "    .dataframe tbody tr th {\n",
              "        vertical-align: top;\n",
              "    }\n",
              "\n",
              "    .dataframe thead th {\n",
              "        text-align: right;\n",
              "    }\n",
              "</style>\n",
              "<table border=\"1\" class=\"dataframe\">\n",
              "  <thead>\n",
              "    <tr style=\"text-align: right;\">\n",
              "      <th></th>\n",
              "      <th>CustomerID</th>\n",
              "      <th>Email_Type_CustomizedEmail</th>\n",
              "      <th>Email_Type_WelcomeEmail</th>\n",
              "      <th>Mail_Clicked_NotApplicable</th>\n",
              "      <th>Mail_Clicked_no</th>\n",
              "      <th>Mail_Clicked_yes</th>\n",
              "      <th>Mail_Opened_no</th>\n",
              "      <th>Mail_Opened_yes</th>\n",
              "    </tr>\n",
              "  </thead>\n",
              "  <tbody>\n",
              "    <tr>\n",
              "      <th>0</th>\n",
              "      <td>C12116</td>\n",
              "      <td>31.0</td>\n",
              "      <td>1.0</td>\n",
              "      <td>1.0</td>\n",
              "      <td>29.0</td>\n",
              "      <td>2.0</td>\n",
              "      <td>27.0</td>\n",
              "      <td>5.0</td>\n",
              "    </tr>\n",
              "    <tr>\n",
              "      <th>1</th>\n",
              "      <td>C12117</td>\n",
              "      <td>0.0</td>\n",
              "      <td>1.0</td>\n",
              "      <td>1.0</td>\n",
              "      <td>0.0</td>\n",
              "      <td>0.0</td>\n",
              "      <td>0.0</td>\n",
              "      <td>1.0</td>\n",
              "    </tr>\n",
              "    <tr>\n",
              "      <th>2</th>\n",
              "      <td>C12118</td>\n",
              "      <td>0.0</td>\n",
              "      <td>1.0</td>\n",
              "      <td>1.0</td>\n",
              "      <td>0.0</td>\n",
              "      <td>0.0</td>\n",
              "      <td>0.0</td>\n",
              "      <td>1.0</td>\n",
              "    </tr>\n",
              "    <tr>\n",
              "      <th>3</th>\n",
              "      <td>C12119</td>\n",
              "      <td>41.0</td>\n",
              "      <td>1.0</td>\n",
              "      <td>1.0</td>\n",
              "      <td>37.0</td>\n",
              "      <td>4.0</td>\n",
              "      <td>28.0</td>\n",
              "      <td>14.0</td>\n",
              "    </tr>\n",
              "    <tr>\n",
              "      <th>4</th>\n",
              "      <td>C12120</td>\n",
              "      <td>0.0</td>\n",
              "      <td>1.0</td>\n",
              "      <td>1.0</td>\n",
              "      <td>0.0</td>\n",
              "      <td>0.0</td>\n",
              "      <td>0.0</td>\n",
              "      <td>1.0</td>\n",
              "    </tr>\n",
              "  </tbody>\n",
              "</table>\n",
              "</div>\n",
              "      <button class=\"colab-df-convert\" onclick=\"convertToInteractive('df-9f6664f0-f56c-486c-b4f8-1c961029a359')\"\n",
              "              title=\"Convert this dataframe to an interactive table.\"\n",
              "              style=\"display:none;\">\n",
              "        \n",
              "  <svg xmlns=\"http://www.w3.org/2000/svg\" height=\"24px\"viewBox=\"0 0 24 24\"\n",
              "       width=\"24px\">\n",
              "    <path d=\"M0 0h24v24H0V0z\" fill=\"none\"/>\n",
              "    <path d=\"M18.56 5.44l.94 2.06.94-2.06 2.06-.94-2.06-.94-.94-2.06-.94 2.06-2.06.94zm-11 1L8.5 8.5l.94-2.06 2.06-.94-2.06-.94L8.5 2.5l-.94 2.06-2.06.94zm10 10l.94 2.06.94-2.06 2.06-.94-2.06-.94-.94-2.06-.94 2.06-2.06.94z\"/><path d=\"M17.41 7.96l-1.37-1.37c-.4-.4-.92-.59-1.43-.59-.52 0-1.04.2-1.43.59L10.3 9.45l-7.72 7.72c-.78.78-.78 2.05 0 2.83L4 21.41c.39.39.9.59 1.41.59.51 0 1.02-.2 1.41-.59l7.78-7.78 2.81-2.81c.8-.78.8-2.07 0-2.86zM5.41 20L4 18.59l7.72-7.72 1.47 1.35L5.41 20z\"/>\n",
              "  </svg>\n",
              "      </button>\n",
              "      \n",
              "  <style>\n",
              "    .colab-df-container {\n",
              "      display:flex;\n",
              "      flex-wrap:wrap;\n",
              "      gap: 12px;\n",
              "    }\n",
              "\n",
              "    .colab-df-convert {\n",
              "      background-color: #E8F0FE;\n",
              "      border: none;\n",
              "      border-radius: 50%;\n",
              "      cursor: pointer;\n",
              "      display: none;\n",
              "      fill: #1967D2;\n",
              "      height: 32px;\n",
              "      padding: 0 0 0 0;\n",
              "      width: 32px;\n",
              "    }\n",
              "\n",
              "    .colab-df-convert:hover {\n",
              "      background-color: #E2EBFA;\n",
              "      box-shadow: 0px 1px 2px rgba(60, 64, 67, 0.3), 0px 1px 3px 1px rgba(60, 64, 67, 0.15);\n",
              "      fill: #174EA6;\n",
              "    }\n",
              "\n",
              "    [theme=dark] .colab-df-convert {\n",
              "      background-color: #3B4455;\n",
              "      fill: #D2E3FC;\n",
              "    }\n",
              "\n",
              "    [theme=dark] .colab-df-convert:hover {\n",
              "      background-color: #434B5C;\n",
              "      box-shadow: 0px 1px 3px 1px rgba(0, 0, 0, 0.15);\n",
              "      filter: drop-shadow(0px 1px 2px rgba(0, 0, 0, 0.3));\n",
              "      fill: #FFFFFF;\n",
              "    }\n",
              "  </style>\n",
              "\n",
              "      <script>\n",
              "        const buttonEl =\n",
              "          document.querySelector('#df-9f6664f0-f56c-486c-b4f8-1c961029a359 button.colab-df-convert');\n",
              "        buttonEl.style.display =\n",
              "          google.colab.kernel.accessAllowed ? 'block' : 'none';\n",
              "\n",
              "        async function convertToInteractive(key) {\n",
              "          const element = document.querySelector('#df-9f6664f0-f56c-486c-b4f8-1c961029a359');\n",
              "          const dataTable =\n",
              "            await google.colab.kernel.invokeFunction('convertToInteractive',\n",
              "                                                     [key], {});\n",
              "          if (!dataTable) return;\n",
              "\n",
              "          const docLinkHtml = 'Like what you see? Visit the ' +\n",
              "            '<a target=\"_blank\" href=https://colab.research.google.com/notebooks/data_table.ipynb>data table notebook</a>'\n",
              "            + ' to learn more about interactive tables.';\n",
              "          element.innerHTML = '';\n",
              "          dataTable['output_type'] = 'display_data';\n",
              "          await google.colab.output.renderOutput(dataTable, element);\n",
              "          const docLink = document.createElement('div');\n",
              "          docLink.innerHTML = docLinkHtml;\n",
              "          element.appendChild(docLink);\n",
              "        }\n",
              "      </script>\n",
              "    </div>\n",
              "  </div>\n",
              "  "
            ]
          },
          "metadata": {},
          "execution_count": 16
        }
      ]
    },
    {
      "cell_type": "code",
      "source": [
        "# Merging the Email data and Customerdata_Train\n",
        "email_customer = pd.merge(email_total,Customerdata_Train,on=[\"CustomerID\"],how=\"inner\")\n",
        "email_customer.head()"
      ],
      "metadata": {
        "colab": {
          "base_uri": "https://localhost:8080/",
          "height": 270
        },
        "id": "UVcWsQPhdwgO",
        "outputId": "445f4323-58ed-44c2-a447-4ca1628fa83b"
      },
      "execution_count": 17,
      "outputs": [
        {
          "output_type": "execute_result",
          "data": {
            "text/plain": [
              "  CustomerID  Email_Type_CustomizedEmail  Email_Type_WelcomeEmail  \\\n",
              "0     C12116                        31.0                      1.0   \n",
              "1     C12117                         0.0                      1.0   \n",
              "2     C12118                         0.0                      1.0   \n",
              "3     C12119                        41.0                      1.0   \n",
              "4     C12120                         0.0                      1.0   \n",
              "\n",
              "   Mail_Clicked_NotApplicable  Mail_Clicked_no  Mail_Clicked_yes  \\\n",
              "0                         1.0             29.0               2.0   \n",
              "1                         1.0              0.0               0.0   \n",
              "2                         1.0              0.0               0.0   \n",
              "3                         1.0             37.0               4.0   \n",
              "4                         1.0              0.0               0.0   \n",
              "\n",
              "   Mail_Opened_no  Mail_Opened_yes   City DateOfRegistration  \\\n",
              "0            27.0              5.0  CITY3         2013-09-23   \n",
              "1             0.0              1.0  CITY2         2013-12-05   \n",
              "2             0.0              1.0  CITY4         2013-09-10   \n",
              "3            28.0             14.0  CITY2         2013-04-13   \n",
              "4             0.0              1.0  CITY3         2014-01-10   \n",
              "\n",
              "   OnlineCommunication  AutomaticRefill  DoorstepDelivery PreferredDeliveryDay  \n",
              "0                    0                0                 0               Friday  \n",
              "1                    1                0                 0               Friday  \n",
              "2                    1                0                 0            Wednesday  \n",
              "3                    0                0                 0               Monday  \n",
              "4                    1                0                 0              Tuesday  "
            ],
            "text/html": [
              "\n",
              "  <div id=\"df-c8c1a1fd-cfac-43c9-8b01-031ddba5b9a3\">\n",
              "    <div class=\"colab-df-container\">\n",
              "      <div>\n",
              "<style scoped>\n",
              "    .dataframe tbody tr th:only-of-type {\n",
              "        vertical-align: middle;\n",
              "    }\n",
              "\n",
              "    .dataframe tbody tr th {\n",
              "        vertical-align: top;\n",
              "    }\n",
              "\n",
              "    .dataframe thead th {\n",
              "        text-align: right;\n",
              "    }\n",
              "</style>\n",
              "<table border=\"1\" class=\"dataframe\">\n",
              "  <thead>\n",
              "    <tr style=\"text-align: right;\">\n",
              "      <th></th>\n",
              "      <th>CustomerID</th>\n",
              "      <th>Email_Type_CustomizedEmail</th>\n",
              "      <th>Email_Type_WelcomeEmail</th>\n",
              "      <th>Mail_Clicked_NotApplicable</th>\n",
              "      <th>Mail_Clicked_no</th>\n",
              "      <th>Mail_Clicked_yes</th>\n",
              "      <th>Mail_Opened_no</th>\n",
              "      <th>Mail_Opened_yes</th>\n",
              "      <th>City</th>\n",
              "      <th>DateOfRegistration</th>\n",
              "      <th>OnlineCommunication</th>\n",
              "      <th>AutomaticRefill</th>\n",
              "      <th>DoorstepDelivery</th>\n",
              "      <th>PreferredDeliveryDay</th>\n",
              "    </tr>\n",
              "  </thead>\n",
              "  <tbody>\n",
              "    <tr>\n",
              "      <th>0</th>\n",
              "      <td>C12116</td>\n",
              "      <td>31.0</td>\n",
              "      <td>1.0</td>\n",
              "      <td>1.0</td>\n",
              "      <td>29.0</td>\n",
              "      <td>2.0</td>\n",
              "      <td>27.0</td>\n",
              "      <td>5.0</td>\n",
              "      <td>CITY3</td>\n",
              "      <td>2013-09-23</td>\n",
              "      <td>0</td>\n",
              "      <td>0</td>\n",
              "      <td>0</td>\n",
              "      <td>Friday</td>\n",
              "    </tr>\n",
              "    <tr>\n",
              "      <th>1</th>\n",
              "      <td>C12117</td>\n",
              "      <td>0.0</td>\n",
              "      <td>1.0</td>\n",
              "      <td>1.0</td>\n",
              "      <td>0.0</td>\n",
              "      <td>0.0</td>\n",
              "      <td>0.0</td>\n",
              "      <td>1.0</td>\n",
              "      <td>CITY2</td>\n",
              "      <td>2013-12-05</td>\n",
              "      <td>1</td>\n",
              "      <td>0</td>\n",
              "      <td>0</td>\n",
              "      <td>Friday</td>\n",
              "    </tr>\n",
              "    <tr>\n",
              "      <th>2</th>\n",
              "      <td>C12118</td>\n",
              "      <td>0.0</td>\n",
              "      <td>1.0</td>\n",
              "      <td>1.0</td>\n",
              "      <td>0.0</td>\n",
              "      <td>0.0</td>\n",
              "      <td>0.0</td>\n",
              "      <td>1.0</td>\n",
              "      <td>CITY4</td>\n",
              "      <td>2013-09-10</td>\n",
              "      <td>1</td>\n",
              "      <td>0</td>\n",
              "      <td>0</td>\n",
              "      <td>Wednesday</td>\n",
              "    </tr>\n",
              "    <tr>\n",
              "      <th>3</th>\n",
              "      <td>C12119</td>\n",
              "      <td>41.0</td>\n",
              "      <td>1.0</td>\n",
              "      <td>1.0</td>\n",
              "      <td>37.0</td>\n",
              "      <td>4.0</td>\n",
              "      <td>28.0</td>\n",
              "      <td>14.0</td>\n",
              "      <td>CITY2</td>\n",
              "      <td>2013-04-13</td>\n",
              "      <td>0</td>\n",
              "      <td>0</td>\n",
              "      <td>0</td>\n",
              "      <td>Monday</td>\n",
              "    </tr>\n",
              "    <tr>\n",
              "      <th>4</th>\n",
              "      <td>C12120</td>\n",
              "      <td>0.0</td>\n",
              "      <td>1.0</td>\n",
              "      <td>1.0</td>\n",
              "      <td>0.0</td>\n",
              "      <td>0.0</td>\n",
              "      <td>0.0</td>\n",
              "      <td>1.0</td>\n",
              "      <td>CITY3</td>\n",
              "      <td>2014-01-10</td>\n",
              "      <td>1</td>\n",
              "      <td>0</td>\n",
              "      <td>0</td>\n",
              "      <td>Tuesday</td>\n",
              "    </tr>\n",
              "  </tbody>\n",
              "</table>\n",
              "</div>\n",
              "      <button class=\"colab-df-convert\" onclick=\"convertToInteractive('df-c8c1a1fd-cfac-43c9-8b01-031ddba5b9a3')\"\n",
              "              title=\"Convert this dataframe to an interactive table.\"\n",
              "              style=\"display:none;\">\n",
              "        \n",
              "  <svg xmlns=\"http://www.w3.org/2000/svg\" height=\"24px\"viewBox=\"0 0 24 24\"\n",
              "       width=\"24px\">\n",
              "    <path d=\"M0 0h24v24H0V0z\" fill=\"none\"/>\n",
              "    <path d=\"M18.56 5.44l.94 2.06.94-2.06 2.06-.94-2.06-.94-.94-2.06-.94 2.06-2.06.94zm-11 1L8.5 8.5l.94-2.06 2.06-.94-2.06-.94L8.5 2.5l-.94 2.06-2.06.94zm10 10l.94 2.06.94-2.06 2.06-.94-2.06-.94-.94-2.06-.94 2.06-2.06.94z\"/><path d=\"M17.41 7.96l-1.37-1.37c-.4-.4-.92-.59-1.43-.59-.52 0-1.04.2-1.43.59L10.3 9.45l-7.72 7.72c-.78.78-.78 2.05 0 2.83L4 21.41c.39.39.9.59 1.41.59.51 0 1.02-.2 1.41-.59l7.78-7.78 2.81-2.81c.8-.78.8-2.07 0-2.86zM5.41 20L4 18.59l7.72-7.72 1.47 1.35L5.41 20z\"/>\n",
              "  </svg>\n",
              "      </button>\n",
              "      \n",
              "  <style>\n",
              "    .colab-df-container {\n",
              "      display:flex;\n",
              "      flex-wrap:wrap;\n",
              "      gap: 12px;\n",
              "    }\n",
              "\n",
              "    .colab-df-convert {\n",
              "      background-color: #E8F0FE;\n",
              "      border: none;\n",
              "      border-radius: 50%;\n",
              "      cursor: pointer;\n",
              "      display: none;\n",
              "      fill: #1967D2;\n",
              "      height: 32px;\n",
              "      padding: 0 0 0 0;\n",
              "      width: 32px;\n",
              "    }\n",
              "\n",
              "    .colab-df-convert:hover {\n",
              "      background-color: #E2EBFA;\n",
              "      box-shadow: 0px 1px 2px rgba(60, 64, 67, 0.3), 0px 1px 3px 1px rgba(60, 64, 67, 0.15);\n",
              "      fill: #174EA6;\n",
              "    }\n",
              "\n",
              "    [theme=dark] .colab-df-convert {\n",
              "      background-color: #3B4455;\n",
              "      fill: #D2E3FC;\n",
              "    }\n",
              "\n",
              "    [theme=dark] .colab-df-convert:hover {\n",
              "      background-color: #434B5C;\n",
              "      box-shadow: 0px 1px 3px 1px rgba(0, 0, 0, 0.15);\n",
              "      filter: drop-shadow(0px 1px 2px rgba(0, 0, 0, 0.3));\n",
              "      fill: #FFFFFF;\n",
              "    }\n",
              "  </style>\n",
              "\n",
              "      <script>\n",
              "        const buttonEl =\n",
              "          document.querySelector('#df-c8c1a1fd-cfac-43c9-8b01-031ddba5b9a3 button.colab-df-convert');\n",
              "        buttonEl.style.display =\n",
              "          google.colab.kernel.accessAllowed ? 'block' : 'none';\n",
              "\n",
              "        async function convertToInteractive(key) {\n",
              "          const element = document.querySelector('#df-c8c1a1fd-cfac-43c9-8b01-031ddba5b9a3');\n",
              "          const dataTable =\n",
              "            await google.colab.kernel.invokeFunction('convertToInteractive',\n",
              "                                                     [key], {});\n",
              "          if (!dataTable) return;\n",
              "\n",
              "          const docLinkHtml = 'Like what you see? Visit the ' +\n",
              "            '<a target=\"_blank\" href=https://colab.research.google.com/notebooks/data_table.ipynb>data table notebook</a>'\n",
              "            + ' to learn more about interactive tables.';\n",
              "          element.innerHTML = '';\n",
              "          dataTable['output_type'] = 'display_data';\n",
              "          await google.colab.output.renderOutput(dataTable, element);\n",
              "          const docLink = document.createElement('div');\n",
              "          docLink.innerHTML = docLinkHtml;\n",
              "          element.appendChild(docLink);\n",
              "        }\n",
              "      </script>\n",
              "    </div>\n",
              "  </div>\n",
              "  "
            ]
          },
          "metadata": {},
          "execution_count": 17
        }
      ]
    },
    {
      "cell_type": "code",
      "source": [
        "# Merging the email_customer and total_order_Train\n",
        "total_df = pd.merge(email_customer,total_order_Train,on=[\"CustomerID\"],how=\"inner\")\n",
        "total_df.head()"
      ],
      "metadata": {
        "colab": {
          "base_uri": "https://localhost:8080/",
          "height": 270
        },
        "id": "4ow1pZXSgwCo",
        "outputId": "f73c6ce5-57ef-4e23-fb28-862b835d4467"
      },
      "execution_count": 43,
      "outputs": [
        {
          "output_type": "execute_result",
          "data": {
            "text/plain": [
              "  CustomerID  Email_Type_CustomizedEmail  Email_Type_WelcomeEmail  \\\n",
              "0     C12116                        31.0                      1.0   \n",
              "1     C12117                         0.0                      1.0   \n",
              "2     C12118                         0.0                      1.0   \n",
              "3     C12119                        41.0                      1.0   \n",
              "4     C12120                         0.0                      1.0   \n",
              "\n",
              "   Mail_Clicked_NotApplicable  Mail_Clicked_no  Mail_Clicked_yes  \\\n",
              "0                         1.0             29.0               2.0   \n",
              "1                         1.0              0.0               0.0   \n",
              "2                         1.0              0.0               0.0   \n",
              "3                         1.0             37.0               4.0   \n",
              "4                         1.0              0.0               0.0   \n",
              "\n",
              "   Mail_Opened_no  Mail_Opened_yes   City DateOfRegistration  \\\n",
              "0            27.0              5.0  CITY3         2013-09-23   \n",
              "1             0.0              1.0  CITY2         2013-12-05   \n",
              "2             0.0              1.0  CITY4         2013-09-10   \n",
              "3            28.0             14.0  CITY2         2013-04-13   \n",
              "4             0.0              1.0  CITY3         2014-01-10   \n",
              "\n",
              "   OnlineCommunication  AutomaticRefill  DoorstepDelivery  \\\n",
              "0                    0                0                 0   \n",
              "1                    1                0                 0   \n",
              "2                    1                0                 0   \n",
              "3                    0                0                 0   \n",
              "4                    1                0                 0   \n",
              "\n",
              "  PreferredDeliveryDay  OrderQuantity RetentionPotential  \n",
              "0               Friday            115                Low  \n",
              "1               Friday             41                Low  \n",
              "2            Wednesday             41               High  \n",
              "3               Monday             52                Low  \n",
              "4              Tuesday             31                Low  "
            ],
            "text/html": [
              "\n",
              "  <div id=\"df-f791a345-67a8-4a78-819f-8fe77068324d\">\n",
              "    <div class=\"colab-df-container\">\n",
              "      <div>\n",
              "<style scoped>\n",
              "    .dataframe tbody tr th:only-of-type {\n",
              "        vertical-align: middle;\n",
              "    }\n",
              "\n",
              "    .dataframe tbody tr th {\n",
              "        vertical-align: top;\n",
              "    }\n",
              "\n",
              "    .dataframe thead th {\n",
              "        text-align: right;\n",
              "    }\n",
              "</style>\n",
              "<table border=\"1\" class=\"dataframe\">\n",
              "  <thead>\n",
              "    <tr style=\"text-align: right;\">\n",
              "      <th></th>\n",
              "      <th>CustomerID</th>\n",
              "      <th>Email_Type_CustomizedEmail</th>\n",
              "      <th>Email_Type_WelcomeEmail</th>\n",
              "      <th>Mail_Clicked_NotApplicable</th>\n",
              "      <th>Mail_Clicked_no</th>\n",
              "      <th>Mail_Clicked_yes</th>\n",
              "      <th>Mail_Opened_no</th>\n",
              "      <th>Mail_Opened_yes</th>\n",
              "      <th>City</th>\n",
              "      <th>DateOfRegistration</th>\n",
              "      <th>OnlineCommunication</th>\n",
              "      <th>AutomaticRefill</th>\n",
              "      <th>DoorstepDelivery</th>\n",
              "      <th>PreferredDeliveryDay</th>\n",
              "      <th>OrderQuantity</th>\n",
              "      <th>RetentionPotential</th>\n",
              "    </tr>\n",
              "  </thead>\n",
              "  <tbody>\n",
              "    <tr>\n",
              "      <th>0</th>\n",
              "      <td>C12116</td>\n",
              "      <td>31.0</td>\n",
              "      <td>1.0</td>\n",
              "      <td>1.0</td>\n",
              "      <td>29.0</td>\n",
              "      <td>2.0</td>\n",
              "      <td>27.0</td>\n",
              "      <td>5.0</td>\n",
              "      <td>CITY3</td>\n",
              "      <td>2013-09-23</td>\n",
              "      <td>0</td>\n",
              "      <td>0</td>\n",
              "      <td>0</td>\n",
              "      <td>Friday</td>\n",
              "      <td>115</td>\n",
              "      <td>Low</td>\n",
              "    </tr>\n",
              "    <tr>\n",
              "      <th>1</th>\n",
              "      <td>C12117</td>\n",
              "      <td>0.0</td>\n",
              "      <td>1.0</td>\n",
              "      <td>1.0</td>\n",
              "      <td>0.0</td>\n",
              "      <td>0.0</td>\n",
              "      <td>0.0</td>\n",
              "      <td>1.0</td>\n",
              "      <td>CITY2</td>\n",
              "      <td>2013-12-05</td>\n",
              "      <td>1</td>\n",
              "      <td>0</td>\n",
              "      <td>0</td>\n",
              "      <td>Friday</td>\n",
              "      <td>41</td>\n",
              "      <td>Low</td>\n",
              "    </tr>\n",
              "    <tr>\n",
              "      <th>2</th>\n",
              "      <td>C12118</td>\n",
              "      <td>0.0</td>\n",
              "      <td>1.0</td>\n",
              "      <td>1.0</td>\n",
              "      <td>0.0</td>\n",
              "      <td>0.0</td>\n",
              "      <td>0.0</td>\n",
              "      <td>1.0</td>\n",
              "      <td>CITY4</td>\n",
              "      <td>2013-09-10</td>\n",
              "      <td>1</td>\n",
              "      <td>0</td>\n",
              "      <td>0</td>\n",
              "      <td>Wednesday</td>\n",
              "      <td>41</td>\n",
              "      <td>High</td>\n",
              "    </tr>\n",
              "    <tr>\n",
              "      <th>3</th>\n",
              "      <td>C12119</td>\n",
              "      <td>41.0</td>\n",
              "      <td>1.0</td>\n",
              "      <td>1.0</td>\n",
              "      <td>37.0</td>\n",
              "      <td>4.0</td>\n",
              "      <td>28.0</td>\n",
              "      <td>14.0</td>\n",
              "      <td>CITY2</td>\n",
              "      <td>2013-04-13</td>\n",
              "      <td>0</td>\n",
              "      <td>0</td>\n",
              "      <td>0</td>\n",
              "      <td>Monday</td>\n",
              "      <td>52</td>\n",
              "      <td>Low</td>\n",
              "    </tr>\n",
              "    <tr>\n",
              "      <th>4</th>\n",
              "      <td>C12120</td>\n",
              "      <td>0.0</td>\n",
              "      <td>1.0</td>\n",
              "      <td>1.0</td>\n",
              "      <td>0.0</td>\n",
              "      <td>0.0</td>\n",
              "      <td>0.0</td>\n",
              "      <td>1.0</td>\n",
              "      <td>CITY3</td>\n",
              "      <td>2014-01-10</td>\n",
              "      <td>1</td>\n",
              "      <td>0</td>\n",
              "      <td>0</td>\n",
              "      <td>Tuesday</td>\n",
              "      <td>31</td>\n",
              "      <td>Low</td>\n",
              "    </tr>\n",
              "  </tbody>\n",
              "</table>\n",
              "</div>\n",
              "      <button class=\"colab-df-convert\" onclick=\"convertToInteractive('df-f791a345-67a8-4a78-819f-8fe77068324d')\"\n",
              "              title=\"Convert this dataframe to an interactive table.\"\n",
              "              style=\"display:none;\">\n",
              "        \n",
              "  <svg xmlns=\"http://www.w3.org/2000/svg\" height=\"24px\"viewBox=\"0 0 24 24\"\n",
              "       width=\"24px\">\n",
              "    <path d=\"M0 0h24v24H0V0z\" fill=\"none\"/>\n",
              "    <path d=\"M18.56 5.44l.94 2.06.94-2.06 2.06-.94-2.06-.94-.94-2.06-.94 2.06-2.06.94zm-11 1L8.5 8.5l.94-2.06 2.06-.94-2.06-.94L8.5 2.5l-.94 2.06-2.06.94zm10 10l.94 2.06.94-2.06 2.06-.94-2.06-.94-.94-2.06-.94 2.06-2.06.94z\"/><path d=\"M17.41 7.96l-1.37-1.37c-.4-.4-.92-.59-1.43-.59-.52 0-1.04.2-1.43.59L10.3 9.45l-7.72 7.72c-.78.78-.78 2.05 0 2.83L4 21.41c.39.39.9.59 1.41.59.51 0 1.02-.2 1.41-.59l7.78-7.78 2.81-2.81c.8-.78.8-2.07 0-2.86zM5.41 20L4 18.59l7.72-7.72 1.47 1.35L5.41 20z\"/>\n",
              "  </svg>\n",
              "      </button>\n",
              "      \n",
              "  <style>\n",
              "    .colab-df-container {\n",
              "      display:flex;\n",
              "      flex-wrap:wrap;\n",
              "      gap: 12px;\n",
              "    }\n",
              "\n",
              "    .colab-df-convert {\n",
              "      background-color: #E8F0FE;\n",
              "      border: none;\n",
              "      border-radius: 50%;\n",
              "      cursor: pointer;\n",
              "      display: none;\n",
              "      fill: #1967D2;\n",
              "      height: 32px;\n",
              "      padding: 0 0 0 0;\n",
              "      width: 32px;\n",
              "    }\n",
              "\n",
              "    .colab-df-convert:hover {\n",
              "      background-color: #E2EBFA;\n",
              "      box-shadow: 0px 1px 2px rgba(60, 64, 67, 0.3), 0px 1px 3px 1px rgba(60, 64, 67, 0.15);\n",
              "      fill: #174EA6;\n",
              "    }\n",
              "\n",
              "    [theme=dark] .colab-df-convert {\n",
              "      background-color: #3B4455;\n",
              "      fill: #D2E3FC;\n",
              "    }\n",
              "\n",
              "    [theme=dark] .colab-df-convert:hover {\n",
              "      background-color: #434B5C;\n",
              "      box-shadow: 0px 1px 3px 1px rgba(0, 0, 0, 0.15);\n",
              "      filter: drop-shadow(0px 1px 2px rgba(0, 0, 0, 0.3));\n",
              "      fill: #FFFFFF;\n",
              "    }\n",
              "  </style>\n",
              "\n",
              "      <script>\n",
              "        const buttonEl =\n",
              "          document.querySelector('#df-f791a345-67a8-4a78-819f-8fe77068324d button.colab-df-convert');\n",
              "        buttonEl.style.display =\n",
              "          google.colab.kernel.accessAllowed ? 'block' : 'none';\n",
              "\n",
              "        async function convertToInteractive(key) {\n",
              "          const element = document.querySelector('#df-f791a345-67a8-4a78-819f-8fe77068324d');\n",
              "          const dataTable =\n",
              "            await google.colab.kernel.invokeFunction('convertToInteractive',\n",
              "                                                     [key], {});\n",
              "          if (!dataTable) return;\n",
              "\n",
              "          const docLinkHtml = 'Like what you see? Visit the ' +\n",
              "            '<a target=\"_blank\" href=https://colab.research.google.com/notebooks/data_table.ipynb>data table notebook</a>'\n",
              "            + ' to learn more about interactive tables.';\n",
              "          element.innerHTML = '';\n",
              "          dataTable['output_type'] = 'display_data';\n",
              "          await google.colab.output.renderOutput(dataTable, element);\n",
              "          const docLink = document.createElement('div');\n",
              "          docLink.innerHTML = docLinkHtml;\n",
              "          element.appendChild(docLink);\n",
              "        }\n",
              "      </script>\n",
              "    </div>\n",
              "  </div>\n",
              "  "
            ]
          },
          "metadata": {},
          "execution_count": 43
        }
      ]
    },
    {
      "cell_type": "markdown",
      "metadata": {
        "id": "b34Z0lIIOodP"
      },
      "source": [
        "## <font color = brown> Data Preprocessing </font>"
      ]
    },
    {
      "cell_type": "code",
      "execution_count": 81,
      "metadata": {
        "id": "jUnsiUgNOTF_",
        "colab": {
          "base_uri": "https://localhost:8080/"
        },
        "outputId": "9abe1e6c-b079-4232-990a-027f3e071bb0"
      },
      "outputs": [
        {
          "output_type": "execute_result",
          "data": {
            "text/plain": [
              "(23820, 16)"
            ]
          },
          "metadata": {},
          "execution_count": 81
        }
      ],
      "source": [
        "# Check the data dimensions\n",
        "total_df.shape"
      ]
    },
    {
      "cell_type": "code",
      "execution_count": 20,
      "metadata": {
        "id": "Fl7uosXjPE8r",
        "colab": {
          "base_uri": "https://localhost:8080/",
          "height": 270
        },
        "outputId": "9ce80f2c-7b4d-4ded-97d9-2776cb91ae54"
      },
      "outputs": [
        {
          "output_type": "execute_result",
          "data": {
            "text/plain": [
              "  CustomerID  Email_Type_CustomizedEmail  Email_Type_WelcomeEmail  \\\n",
              "0     C12116                        31.0                      1.0   \n",
              "1     C12117                         0.0                      1.0   \n",
              "2     C12118                         0.0                      1.0   \n",
              "3     C12119                        41.0                      1.0   \n",
              "4     C12120                         0.0                      1.0   \n",
              "\n",
              "   Mail_Clicked_NotApplicable  Mail_Clicked_no  Mail_Clicked_yes  \\\n",
              "0                         1.0             29.0               2.0   \n",
              "1                         1.0              0.0               0.0   \n",
              "2                         1.0              0.0               0.0   \n",
              "3                         1.0             37.0               4.0   \n",
              "4                         1.0              0.0               0.0   \n",
              "\n",
              "   Mail_Opened_no  Mail_Opened_yes   City DateOfRegistration  \\\n",
              "0            27.0              5.0  CITY3         2013-09-23   \n",
              "1             0.0              1.0  CITY2         2013-12-05   \n",
              "2             0.0              1.0  CITY4         2013-09-10   \n",
              "3            28.0             14.0  CITY2         2013-04-13   \n",
              "4             0.0              1.0  CITY3         2014-01-10   \n",
              "\n",
              "   OnlineCommunication  AutomaticRefill  DoorstepDelivery  \\\n",
              "0                    0                0                 0   \n",
              "1                    1                0                 0   \n",
              "2                    1                0                 0   \n",
              "3                    0                0                 0   \n",
              "4                    1                0                 0   \n",
              "\n",
              "  PreferredDeliveryDay  OrderQuantity RetentionPotential  \n",
              "0               Friday            115                Low  \n",
              "1               Friday             41                Low  \n",
              "2            Wednesday             41               High  \n",
              "3               Monday             52                Low  \n",
              "4              Tuesday             31                Low  "
            ],
            "text/html": [
              "\n",
              "  <div id=\"df-89ad0a68-face-4508-af36-da2d961687e0\">\n",
              "    <div class=\"colab-df-container\">\n",
              "      <div>\n",
              "<style scoped>\n",
              "    .dataframe tbody tr th:only-of-type {\n",
              "        vertical-align: middle;\n",
              "    }\n",
              "\n",
              "    .dataframe tbody tr th {\n",
              "        vertical-align: top;\n",
              "    }\n",
              "\n",
              "    .dataframe thead th {\n",
              "        text-align: right;\n",
              "    }\n",
              "</style>\n",
              "<table border=\"1\" class=\"dataframe\">\n",
              "  <thead>\n",
              "    <tr style=\"text-align: right;\">\n",
              "      <th></th>\n",
              "      <th>CustomerID</th>\n",
              "      <th>Email_Type_CustomizedEmail</th>\n",
              "      <th>Email_Type_WelcomeEmail</th>\n",
              "      <th>Mail_Clicked_NotApplicable</th>\n",
              "      <th>Mail_Clicked_no</th>\n",
              "      <th>Mail_Clicked_yes</th>\n",
              "      <th>Mail_Opened_no</th>\n",
              "      <th>Mail_Opened_yes</th>\n",
              "      <th>City</th>\n",
              "      <th>DateOfRegistration</th>\n",
              "      <th>OnlineCommunication</th>\n",
              "      <th>AutomaticRefill</th>\n",
              "      <th>DoorstepDelivery</th>\n",
              "      <th>PreferredDeliveryDay</th>\n",
              "      <th>OrderQuantity</th>\n",
              "      <th>RetentionPotential</th>\n",
              "    </tr>\n",
              "  </thead>\n",
              "  <tbody>\n",
              "    <tr>\n",
              "      <th>0</th>\n",
              "      <td>C12116</td>\n",
              "      <td>31.0</td>\n",
              "      <td>1.0</td>\n",
              "      <td>1.0</td>\n",
              "      <td>29.0</td>\n",
              "      <td>2.0</td>\n",
              "      <td>27.0</td>\n",
              "      <td>5.0</td>\n",
              "      <td>CITY3</td>\n",
              "      <td>2013-09-23</td>\n",
              "      <td>0</td>\n",
              "      <td>0</td>\n",
              "      <td>0</td>\n",
              "      <td>Friday</td>\n",
              "      <td>115</td>\n",
              "      <td>Low</td>\n",
              "    </tr>\n",
              "    <tr>\n",
              "      <th>1</th>\n",
              "      <td>C12117</td>\n",
              "      <td>0.0</td>\n",
              "      <td>1.0</td>\n",
              "      <td>1.0</td>\n",
              "      <td>0.0</td>\n",
              "      <td>0.0</td>\n",
              "      <td>0.0</td>\n",
              "      <td>1.0</td>\n",
              "      <td>CITY2</td>\n",
              "      <td>2013-12-05</td>\n",
              "      <td>1</td>\n",
              "      <td>0</td>\n",
              "      <td>0</td>\n",
              "      <td>Friday</td>\n",
              "      <td>41</td>\n",
              "      <td>Low</td>\n",
              "    </tr>\n",
              "    <tr>\n",
              "      <th>2</th>\n",
              "      <td>C12118</td>\n",
              "      <td>0.0</td>\n",
              "      <td>1.0</td>\n",
              "      <td>1.0</td>\n",
              "      <td>0.0</td>\n",
              "      <td>0.0</td>\n",
              "      <td>0.0</td>\n",
              "      <td>1.0</td>\n",
              "      <td>CITY4</td>\n",
              "      <td>2013-09-10</td>\n",
              "      <td>1</td>\n",
              "      <td>0</td>\n",
              "      <td>0</td>\n",
              "      <td>Wednesday</td>\n",
              "      <td>41</td>\n",
              "      <td>High</td>\n",
              "    </tr>\n",
              "    <tr>\n",
              "      <th>3</th>\n",
              "      <td>C12119</td>\n",
              "      <td>41.0</td>\n",
              "      <td>1.0</td>\n",
              "      <td>1.0</td>\n",
              "      <td>37.0</td>\n",
              "      <td>4.0</td>\n",
              "      <td>28.0</td>\n",
              "      <td>14.0</td>\n",
              "      <td>CITY2</td>\n",
              "      <td>2013-04-13</td>\n",
              "      <td>0</td>\n",
              "      <td>0</td>\n",
              "      <td>0</td>\n",
              "      <td>Monday</td>\n",
              "      <td>52</td>\n",
              "      <td>Low</td>\n",
              "    </tr>\n",
              "    <tr>\n",
              "      <th>4</th>\n",
              "      <td>C12120</td>\n",
              "      <td>0.0</td>\n",
              "      <td>1.0</td>\n",
              "      <td>1.0</td>\n",
              "      <td>0.0</td>\n",
              "      <td>0.0</td>\n",
              "      <td>0.0</td>\n",
              "      <td>1.0</td>\n",
              "      <td>CITY3</td>\n",
              "      <td>2014-01-10</td>\n",
              "      <td>1</td>\n",
              "      <td>0</td>\n",
              "      <td>0</td>\n",
              "      <td>Tuesday</td>\n",
              "      <td>31</td>\n",
              "      <td>Low</td>\n",
              "    </tr>\n",
              "  </tbody>\n",
              "</table>\n",
              "</div>\n",
              "      <button class=\"colab-df-convert\" onclick=\"convertToInteractive('df-89ad0a68-face-4508-af36-da2d961687e0')\"\n",
              "              title=\"Convert this dataframe to an interactive table.\"\n",
              "              style=\"display:none;\">\n",
              "        \n",
              "  <svg xmlns=\"http://www.w3.org/2000/svg\" height=\"24px\"viewBox=\"0 0 24 24\"\n",
              "       width=\"24px\">\n",
              "    <path d=\"M0 0h24v24H0V0z\" fill=\"none\"/>\n",
              "    <path d=\"M18.56 5.44l.94 2.06.94-2.06 2.06-.94-2.06-.94-.94-2.06-.94 2.06-2.06.94zm-11 1L8.5 8.5l.94-2.06 2.06-.94-2.06-.94L8.5 2.5l-.94 2.06-2.06.94zm10 10l.94 2.06.94-2.06 2.06-.94-2.06-.94-.94-2.06-.94 2.06-2.06.94z\"/><path d=\"M17.41 7.96l-1.37-1.37c-.4-.4-.92-.59-1.43-.59-.52 0-1.04.2-1.43.59L10.3 9.45l-7.72 7.72c-.78.78-.78 2.05 0 2.83L4 21.41c.39.39.9.59 1.41.59.51 0 1.02-.2 1.41-.59l7.78-7.78 2.81-2.81c.8-.78.8-2.07 0-2.86zM5.41 20L4 18.59l7.72-7.72 1.47 1.35L5.41 20z\"/>\n",
              "  </svg>\n",
              "      </button>\n",
              "      \n",
              "  <style>\n",
              "    .colab-df-container {\n",
              "      display:flex;\n",
              "      flex-wrap:wrap;\n",
              "      gap: 12px;\n",
              "    }\n",
              "\n",
              "    .colab-df-convert {\n",
              "      background-color: #E8F0FE;\n",
              "      border: none;\n",
              "      border-radius: 50%;\n",
              "      cursor: pointer;\n",
              "      display: none;\n",
              "      fill: #1967D2;\n",
              "      height: 32px;\n",
              "      padding: 0 0 0 0;\n",
              "      width: 32px;\n",
              "    }\n",
              "\n",
              "    .colab-df-convert:hover {\n",
              "      background-color: #E2EBFA;\n",
              "      box-shadow: 0px 1px 2px rgba(60, 64, 67, 0.3), 0px 1px 3px 1px rgba(60, 64, 67, 0.15);\n",
              "      fill: #174EA6;\n",
              "    }\n",
              "\n",
              "    [theme=dark] .colab-df-convert {\n",
              "      background-color: #3B4455;\n",
              "      fill: #D2E3FC;\n",
              "    }\n",
              "\n",
              "    [theme=dark] .colab-df-convert:hover {\n",
              "      background-color: #434B5C;\n",
              "      box-shadow: 0px 1px 3px 1px rgba(0, 0, 0, 0.15);\n",
              "      filter: drop-shadow(0px 1px 2px rgba(0, 0, 0, 0.3));\n",
              "      fill: #FFFFFF;\n",
              "    }\n",
              "  </style>\n",
              "\n",
              "      <script>\n",
              "        const buttonEl =\n",
              "          document.querySelector('#df-89ad0a68-face-4508-af36-da2d961687e0 button.colab-df-convert');\n",
              "        buttonEl.style.display =\n",
              "          google.colab.kernel.accessAllowed ? 'block' : 'none';\n",
              "\n",
              "        async function convertToInteractive(key) {\n",
              "          const element = document.querySelector('#df-89ad0a68-face-4508-af36-da2d961687e0');\n",
              "          const dataTable =\n",
              "            await google.colab.kernel.invokeFunction('convertToInteractive',\n",
              "                                                     [key], {});\n",
              "          if (!dataTable) return;\n",
              "\n",
              "          const docLinkHtml = 'Like what you see? Visit the ' +\n",
              "            '<a target=\"_blank\" href=https://colab.research.google.com/notebooks/data_table.ipynb>data table notebook</a>'\n",
              "            + ' to learn more about interactive tables.';\n",
              "          element.innerHTML = '';\n",
              "          dataTable['output_type'] = 'display_data';\n",
              "          await google.colab.output.renderOutput(dataTable, element);\n",
              "          const docLink = document.createElement('div');\n",
              "          docLink.innerHTML = docLinkHtml;\n",
              "          element.appendChild(docLink);\n",
              "        }\n",
              "      </script>\n",
              "    </div>\n",
              "  </div>\n",
              "  "
            ]
          },
          "metadata": {},
          "execution_count": 20
        }
      ],
      "source": [
        "# Sample Data Check\n",
        "total_df.head()"
      ]
    },
    {
      "cell_type": "code",
      "execution_count": 21,
      "metadata": {
        "id": "mcHS3ycbPVvD",
        "colab": {
          "base_uri": "https://localhost:8080/"
        },
        "outputId": "c0ebb6e5-6c56-4045-833f-b3b8b07a72e1"
      },
      "outputs": [
        {
          "output_type": "execute_result",
          "data": {
            "text/plain": [
              "CustomerID                            object\n",
              "Email_Type_CustomizedEmail           float64\n",
              "Email_Type_WelcomeEmail              float64\n",
              "Mail_Clicked_NotApplicable           float64\n",
              "Mail_Clicked_no                      float64\n",
              "Mail_Clicked_yes                     float64\n",
              "Mail_Opened_no                       float64\n",
              "Mail_Opened_yes                      float64\n",
              "City                                  object\n",
              "DateOfRegistration            datetime64[ns]\n",
              "OnlineCommunication                    int64\n",
              "AutomaticRefill                        int64\n",
              "DoorstepDelivery                       int64\n",
              "PreferredDeliveryDay                  object\n",
              "OrderQuantity                          int64\n",
              "RetentionPotential                    object\n",
              "dtype: object"
            ]
          },
          "metadata": {},
          "execution_count": 21
        }
      ],
      "source": [
        "# Checking the Data Types\n",
        "total_df.dtypes"
      ]
    },
    {
      "cell_type": "code",
      "execution_count": 22,
      "metadata": {
        "id": "g0bsxlyxPqTW",
        "colab": {
          "base_uri": "https://localhost:8080/"
        },
        "outputId": "19011479-e325-4f23-dfdb-c7e2c1a3989c"
      },
      "outputs": [
        {
          "output_type": "execute_result",
          "data": {
            "text/plain": [
              "CustomerID                    0\n",
              "Email_Type_CustomizedEmail    0\n",
              "Email_Type_WelcomeEmail       0\n",
              "Mail_Clicked_NotApplicable    0\n",
              "Mail_Clicked_no               0\n",
              "Mail_Clicked_yes              0\n",
              "Mail_Opened_no                0\n",
              "Mail_Opened_yes               0\n",
              "City                          0\n",
              "DateOfRegistration            0\n",
              "OnlineCommunication           0\n",
              "AutomaticRefill               0\n",
              "DoorstepDelivery              0\n",
              "PreferredDeliveryDay          0\n",
              "OrderQuantity                 0\n",
              "RetentionPotential            0\n",
              "dtype: int64"
            ]
          },
          "metadata": {},
          "execution_count": 22
        }
      ],
      "source": [
        "# Missing Value Check\n",
        "total_df.isnull().sum() # No null values"
      ]
    },
    {
      "cell_type": "code",
      "execution_count": 23,
      "metadata": {
        "id": "ESS-1AenQwwn",
        "colab": {
          "base_uri": "https://localhost:8080/",
          "height": 521
        },
        "outputId": "162ceba3-fb65-461d-a2ba-0eccc9c36e29"
      },
      "outputs": [
        {
          "output_type": "execute_result",
          "data": {
            "text/plain": [
              "       CustomerID  Email_Type_CustomizedEmail  Email_Type_WelcomeEmail  \\\n",
              "count       23820                23820.000000                  23820.0   \n",
              "unique      23820                         NaN                      NaN   \n",
              "top        C12116                         NaN                      NaN   \n",
              "freq            1                         NaN                      NaN   \n",
              "first         NaN                         NaN                      NaN   \n",
              "last          NaN                         NaN                      NaN   \n",
              "mean          NaN                   20.732662                      1.0   \n",
              "std           NaN                   20.040546                      0.0   \n",
              "min           NaN                    0.000000                      1.0   \n",
              "25%           NaN                    0.000000                      1.0   \n",
              "50%           NaN                   19.000000                      1.0   \n",
              "75%           NaN                   40.000000                      1.0   \n",
              "max           NaN                  291.000000                      1.0   \n",
              "\n",
              "        Mail_Clicked_NotApplicable  Mail_Clicked_no  Mail_Clicked_yes  \\\n",
              "count                      23820.0     23820.000000      23820.000000   \n",
              "unique                         NaN              NaN               NaN   \n",
              "top                            NaN              NaN               NaN   \n",
              "freq                           NaN              NaN               NaN   \n",
              "first                          NaN              NaN               NaN   \n",
              "last                           NaN              NaN               NaN   \n",
              "mean                           1.0        19.563854          1.168808   \n",
              "std                            0.0        19.168208          2.376062   \n",
              "min                            1.0         0.000000          0.000000   \n",
              "25%                            1.0         0.000000          0.000000   \n",
              "50%                            1.0        17.000000          0.000000   \n",
              "75%                            1.0        38.000000          1.000000   \n",
              "max                            1.0       249.000000         42.000000   \n",
              "\n",
              "        Mail_Opened_no  Mail_Opened_yes   City   DateOfRegistration  \\\n",
              "count     23820.000000     23820.000000  23820                23820   \n",
              "unique             NaN              NaN      4                 2673   \n",
              "top                NaN              NaN  CITY4  2012-08-28 00:00:00   \n",
              "freq               NaN              NaN   9143                  356   \n",
              "first              NaN              NaN    NaN  2008-06-17 00:00:00   \n",
              "last               NaN              NaN    NaN  2018-01-17 00:00:00   \n",
              "mean         15.525273         6.207389    NaN                  NaN   \n",
              "std          17.239732         8.517405    NaN                  NaN   \n",
              "min           0.000000         1.000000    NaN                  NaN   \n",
              "25%           0.000000         1.000000    NaN                  NaN   \n",
              "50%           7.000000         2.000000    NaN                  NaN   \n",
              "75%          32.000000         8.000000    NaN                  NaN   \n",
              "max          91.000000       256.000000    NaN                  NaN   \n",
              "\n",
              "        OnlineCommunication  AutomaticRefill  DoorstepDelivery  \\\n",
              "count          23820.000000     23820.000000      23820.000000   \n",
              "unique                  NaN              NaN               NaN   \n",
              "top                     NaN              NaN               NaN   \n",
              "freq                    NaN              NaN               NaN   \n",
              "first                   NaN              NaN               NaN   \n",
              "last                    NaN              NaN               NaN   \n",
              "mean               0.660411         0.094710          0.037615   \n",
              "std                0.473580         0.292821          0.190268   \n",
              "min                0.000000         0.000000          0.000000   \n",
              "25%                0.000000         0.000000          0.000000   \n",
              "50%                1.000000         0.000000          0.000000   \n",
              "75%                1.000000         0.000000          0.000000   \n",
              "max                1.000000         1.000000          1.000000   \n",
              "\n",
              "       PreferredDeliveryDay  OrderQuantity RetentionPotential  \n",
              "count                 23820   23820.000000              23820  \n",
              "unique                    7            NaN                  3  \n",
              "top                 Tuesday            NaN                Low  \n",
              "freq                   5343            NaN              19185  \n",
              "first                   NaN            NaN                NaN  \n",
              "last                    NaN            NaN                NaN  \n",
              "mean                    NaN     357.622922                NaN  \n",
              "std                     NaN    1335.649680                NaN  \n",
              "min                     NaN       0.000000                NaN  \n",
              "25%                     NaN      41.000000                NaN  \n",
              "50%                     NaN      65.000000                NaN  \n",
              "75%                     NaN     169.000000                NaN  \n",
              "max                     NaN   51429.000000                NaN  "
            ],
            "text/html": [
              "\n",
              "  <div id=\"df-b65e7838-c7b7-4de9-bc41-93716e5ea659\">\n",
              "    <div class=\"colab-df-container\">\n",
              "      <div>\n",
              "<style scoped>\n",
              "    .dataframe tbody tr th:only-of-type {\n",
              "        vertical-align: middle;\n",
              "    }\n",
              "\n",
              "    .dataframe tbody tr th {\n",
              "        vertical-align: top;\n",
              "    }\n",
              "\n",
              "    .dataframe thead th {\n",
              "        text-align: right;\n",
              "    }\n",
              "</style>\n",
              "<table border=\"1\" class=\"dataframe\">\n",
              "  <thead>\n",
              "    <tr style=\"text-align: right;\">\n",
              "      <th></th>\n",
              "      <th>CustomerID</th>\n",
              "      <th>Email_Type_CustomizedEmail</th>\n",
              "      <th>Email_Type_WelcomeEmail</th>\n",
              "      <th>Mail_Clicked_NotApplicable</th>\n",
              "      <th>Mail_Clicked_no</th>\n",
              "      <th>Mail_Clicked_yes</th>\n",
              "      <th>Mail_Opened_no</th>\n",
              "      <th>Mail_Opened_yes</th>\n",
              "      <th>City</th>\n",
              "      <th>DateOfRegistration</th>\n",
              "      <th>OnlineCommunication</th>\n",
              "      <th>AutomaticRefill</th>\n",
              "      <th>DoorstepDelivery</th>\n",
              "      <th>PreferredDeliveryDay</th>\n",
              "      <th>OrderQuantity</th>\n",
              "      <th>RetentionPotential</th>\n",
              "    </tr>\n",
              "  </thead>\n",
              "  <tbody>\n",
              "    <tr>\n",
              "      <th>count</th>\n",
              "      <td>23820</td>\n",
              "      <td>23820.000000</td>\n",
              "      <td>23820.0</td>\n",
              "      <td>23820.0</td>\n",
              "      <td>23820.000000</td>\n",
              "      <td>23820.000000</td>\n",
              "      <td>23820.000000</td>\n",
              "      <td>23820.000000</td>\n",
              "      <td>23820</td>\n",
              "      <td>23820</td>\n",
              "      <td>23820.000000</td>\n",
              "      <td>23820.000000</td>\n",
              "      <td>23820.000000</td>\n",
              "      <td>23820</td>\n",
              "      <td>23820.000000</td>\n",
              "      <td>23820</td>\n",
              "    </tr>\n",
              "    <tr>\n",
              "      <th>unique</th>\n",
              "      <td>23820</td>\n",
              "      <td>NaN</td>\n",
              "      <td>NaN</td>\n",
              "      <td>NaN</td>\n",
              "      <td>NaN</td>\n",
              "      <td>NaN</td>\n",
              "      <td>NaN</td>\n",
              "      <td>NaN</td>\n",
              "      <td>4</td>\n",
              "      <td>2673</td>\n",
              "      <td>NaN</td>\n",
              "      <td>NaN</td>\n",
              "      <td>NaN</td>\n",
              "      <td>7</td>\n",
              "      <td>NaN</td>\n",
              "      <td>3</td>\n",
              "    </tr>\n",
              "    <tr>\n",
              "      <th>top</th>\n",
              "      <td>C12116</td>\n",
              "      <td>NaN</td>\n",
              "      <td>NaN</td>\n",
              "      <td>NaN</td>\n",
              "      <td>NaN</td>\n",
              "      <td>NaN</td>\n",
              "      <td>NaN</td>\n",
              "      <td>NaN</td>\n",
              "      <td>CITY4</td>\n",
              "      <td>2012-08-28 00:00:00</td>\n",
              "      <td>NaN</td>\n",
              "      <td>NaN</td>\n",
              "      <td>NaN</td>\n",
              "      <td>Tuesday</td>\n",
              "      <td>NaN</td>\n",
              "      <td>Low</td>\n",
              "    </tr>\n",
              "    <tr>\n",
              "      <th>freq</th>\n",
              "      <td>1</td>\n",
              "      <td>NaN</td>\n",
              "      <td>NaN</td>\n",
              "      <td>NaN</td>\n",
              "      <td>NaN</td>\n",
              "      <td>NaN</td>\n",
              "      <td>NaN</td>\n",
              "      <td>NaN</td>\n",
              "      <td>9143</td>\n",
              "      <td>356</td>\n",
              "      <td>NaN</td>\n",
              "      <td>NaN</td>\n",
              "      <td>NaN</td>\n",
              "      <td>5343</td>\n",
              "      <td>NaN</td>\n",
              "      <td>19185</td>\n",
              "    </tr>\n",
              "    <tr>\n",
              "      <th>first</th>\n",
              "      <td>NaN</td>\n",
              "      <td>NaN</td>\n",
              "      <td>NaN</td>\n",
              "      <td>NaN</td>\n",
              "      <td>NaN</td>\n",
              "      <td>NaN</td>\n",
              "      <td>NaN</td>\n",
              "      <td>NaN</td>\n",
              "      <td>NaN</td>\n",
              "      <td>2008-06-17 00:00:00</td>\n",
              "      <td>NaN</td>\n",
              "      <td>NaN</td>\n",
              "      <td>NaN</td>\n",
              "      <td>NaN</td>\n",
              "      <td>NaN</td>\n",
              "      <td>NaN</td>\n",
              "    </tr>\n",
              "    <tr>\n",
              "      <th>last</th>\n",
              "      <td>NaN</td>\n",
              "      <td>NaN</td>\n",
              "      <td>NaN</td>\n",
              "      <td>NaN</td>\n",
              "      <td>NaN</td>\n",
              "      <td>NaN</td>\n",
              "      <td>NaN</td>\n",
              "      <td>NaN</td>\n",
              "      <td>NaN</td>\n",
              "      <td>2018-01-17 00:00:00</td>\n",
              "      <td>NaN</td>\n",
              "      <td>NaN</td>\n",
              "      <td>NaN</td>\n",
              "      <td>NaN</td>\n",
              "      <td>NaN</td>\n",
              "      <td>NaN</td>\n",
              "    </tr>\n",
              "    <tr>\n",
              "      <th>mean</th>\n",
              "      <td>NaN</td>\n",
              "      <td>20.732662</td>\n",
              "      <td>1.0</td>\n",
              "      <td>1.0</td>\n",
              "      <td>19.563854</td>\n",
              "      <td>1.168808</td>\n",
              "      <td>15.525273</td>\n",
              "      <td>6.207389</td>\n",
              "      <td>NaN</td>\n",
              "      <td>NaN</td>\n",
              "      <td>0.660411</td>\n",
              "      <td>0.094710</td>\n",
              "      <td>0.037615</td>\n",
              "      <td>NaN</td>\n",
              "      <td>357.622922</td>\n",
              "      <td>NaN</td>\n",
              "    </tr>\n",
              "    <tr>\n",
              "      <th>std</th>\n",
              "      <td>NaN</td>\n",
              "      <td>20.040546</td>\n",
              "      <td>0.0</td>\n",
              "      <td>0.0</td>\n",
              "      <td>19.168208</td>\n",
              "      <td>2.376062</td>\n",
              "      <td>17.239732</td>\n",
              "      <td>8.517405</td>\n",
              "      <td>NaN</td>\n",
              "      <td>NaN</td>\n",
              "      <td>0.473580</td>\n",
              "      <td>0.292821</td>\n",
              "      <td>0.190268</td>\n",
              "      <td>NaN</td>\n",
              "      <td>1335.649680</td>\n",
              "      <td>NaN</td>\n",
              "    </tr>\n",
              "    <tr>\n",
              "      <th>min</th>\n",
              "      <td>NaN</td>\n",
              "      <td>0.000000</td>\n",
              "      <td>1.0</td>\n",
              "      <td>1.0</td>\n",
              "      <td>0.000000</td>\n",
              "      <td>0.000000</td>\n",
              "      <td>0.000000</td>\n",
              "      <td>1.000000</td>\n",
              "      <td>NaN</td>\n",
              "      <td>NaN</td>\n",
              "      <td>0.000000</td>\n",
              "      <td>0.000000</td>\n",
              "      <td>0.000000</td>\n",
              "      <td>NaN</td>\n",
              "      <td>0.000000</td>\n",
              "      <td>NaN</td>\n",
              "    </tr>\n",
              "    <tr>\n",
              "      <th>25%</th>\n",
              "      <td>NaN</td>\n",
              "      <td>0.000000</td>\n",
              "      <td>1.0</td>\n",
              "      <td>1.0</td>\n",
              "      <td>0.000000</td>\n",
              "      <td>0.000000</td>\n",
              "      <td>0.000000</td>\n",
              "      <td>1.000000</td>\n",
              "      <td>NaN</td>\n",
              "      <td>NaN</td>\n",
              "      <td>0.000000</td>\n",
              "      <td>0.000000</td>\n",
              "      <td>0.000000</td>\n",
              "      <td>NaN</td>\n",
              "      <td>41.000000</td>\n",
              "      <td>NaN</td>\n",
              "    </tr>\n",
              "    <tr>\n",
              "      <th>50%</th>\n",
              "      <td>NaN</td>\n",
              "      <td>19.000000</td>\n",
              "      <td>1.0</td>\n",
              "      <td>1.0</td>\n",
              "      <td>17.000000</td>\n",
              "      <td>0.000000</td>\n",
              "      <td>7.000000</td>\n",
              "      <td>2.000000</td>\n",
              "      <td>NaN</td>\n",
              "      <td>NaN</td>\n",
              "      <td>1.000000</td>\n",
              "      <td>0.000000</td>\n",
              "      <td>0.000000</td>\n",
              "      <td>NaN</td>\n",
              "      <td>65.000000</td>\n",
              "      <td>NaN</td>\n",
              "    </tr>\n",
              "    <tr>\n",
              "      <th>75%</th>\n",
              "      <td>NaN</td>\n",
              "      <td>40.000000</td>\n",
              "      <td>1.0</td>\n",
              "      <td>1.0</td>\n",
              "      <td>38.000000</td>\n",
              "      <td>1.000000</td>\n",
              "      <td>32.000000</td>\n",
              "      <td>8.000000</td>\n",
              "      <td>NaN</td>\n",
              "      <td>NaN</td>\n",
              "      <td>1.000000</td>\n",
              "      <td>0.000000</td>\n",
              "      <td>0.000000</td>\n",
              "      <td>NaN</td>\n",
              "      <td>169.000000</td>\n",
              "      <td>NaN</td>\n",
              "    </tr>\n",
              "    <tr>\n",
              "      <th>max</th>\n",
              "      <td>NaN</td>\n",
              "      <td>291.000000</td>\n",
              "      <td>1.0</td>\n",
              "      <td>1.0</td>\n",
              "      <td>249.000000</td>\n",
              "      <td>42.000000</td>\n",
              "      <td>91.000000</td>\n",
              "      <td>256.000000</td>\n",
              "      <td>NaN</td>\n",
              "      <td>NaN</td>\n",
              "      <td>1.000000</td>\n",
              "      <td>1.000000</td>\n",
              "      <td>1.000000</td>\n",
              "      <td>NaN</td>\n",
              "      <td>51429.000000</td>\n",
              "      <td>NaN</td>\n",
              "    </tr>\n",
              "  </tbody>\n",
              "</table>\n",
              "</div>\n",
              "      <button class=\"colab-df-convert\" onclick=\"convertToInteractive('df-b65e7838-c7b7-4de9-bc41-93716e5ea659')\"\n",
              "              title=\"Convert this dataframe to an interactive table.\"\n",
              "              style=\"display:none;\">\n",
              "        \n",
              "  <svg xmlns=\"http://www.w3.org/2000/svg\" height=\"24px\"viewBox=\"0 0 24 24\"\n",
              "       width=\"24px\">\n",
              "    <path d=\"M0 0h24v24H0V0z\" fill=\"none\"/>\n",
              "    <path d=\"M18.56 5.44l.94 2.06.94-2.06 2.06-.94-2.06-.94-.94-2.06-.94 2.06-2.06.94zm-11 1L8.5 8.5l.94-2.06 2.06-.94-2.06-.94L8.5 2.5l-.94 2.06-2.06.94zm10 10l.94 2.06.94-2.06 2.06-.94-2.06-.94-.94-2.06-.94 2.06-2.06.94z\"/><path d=\"M17.41 7.96l-1.37-1.37c-.4-.4-.92-.59-1.43-.59-.52 0-1.04.2-1.43.59L10.3 9.45l-7.72 7.72c-.78.78-.78 2.05 0 2.83L4 21.41c.39.39.9.59 1.41.59.51 0 1.02-.2 1.41-.59l7.78-7.78 2.81-2.81c.8-.78.8-2.07 0-2.86zM5.41 20L4 18.59l7.72-7.72 1.47 1.35L5.41 20z\"/>\n",
              "  </svg>\n",
              "      </button>\n",
              "      \n",
              "  <style>\n",
              "    .colab-df-container {\n",
              "      display:flex;\n",
              "      flex-wrap:wrap;\n",
              "      gap: 12px;\n",
              "    }\n",
              "\n",
              "    .colab-df-convert {\n",
              "      background-color: #E8F0FE;\n",
              "      border: none;\n",
              "      border-radius: 50%;\n",
              "      cursor: pointer;\n",
              "      display: none;\n",
              "      fill: #1967D2;\n",
              "      height: 32px;\n",
              "      padding: 0 0 0 0;\n",
              "      width: 32px;\n",
              "    }\n",
              "\n",
              "    .colab-df-convert:hover {\n",
              "      background-color: #E2EBFA;\n",
              "      box-shadow: 0px 1px 2px rgba(60, 64, 67, 0.3), 0px 1px 3px 1px rgba(60, 64, 67, 0.15);\n",
              "      fill: #174EA6;\n",
              "    }\n",
              "\n",
              "    [theme=dark] .colab-df-convert {\n",
              "      background-color: #3B4455;\n",
              "      fill: #D2E3FC;\n",
              "    }\n",
              "\n",
              "    [theme=dark] .colab-df-convert:hover {\n",
              "      background-color: #434B5C;\n",
              "      box-shadow: 0px 1px 3px 1px rgba(0, 0, 0, 0.15);\n",
              "      filter: drop-shadow(0px 1px 2px rgba(0, 0, 0, 0.3));\n",
              "      fill: #FFFFFF;\n",
              "    }\n",
              "  </style>\n",
              "\n",
              "      <script>\n",
              "        const buttonEl =\n",
              "          document.querySelector('#df-b65e7838-c7b7-4de9-bc41-93716e5ea659 button.colab-df-convert');\n",
              "        buttonEl.style.display =\n",
              "          google.colab.kernel.accessAllowed ? 'block' : 'none';\n",
              "\n",
              "        async function convertToInteractive(key) {\n",
              "          const element = document.querySelector('#df-b65e7838-c7b7-4de9-bc41-93716e5ea659');\n",
              "          const dataTable =\n",
              "            await google.colab.kernel.invokeFunction('convertToInteractive',\n",
              "                                                     [key], {});\n",
              "          if (!dataTable) return;\n",
              "\n",
              "          const docLinkHtml = 'Like what you see? Visit the ' +\n",
              "            '<a target=\"_blank\" href=https://colab.research.google.com/notebooks/data_table.ipynb>data table notebook</a>'\n",
              "            + ' to learn more about interactive tables.';\n",
              "          element.innerHTML = '';\n",
              "          dataTable['output_type'] = 'display_data';\n",
              "          await google.colab.output.renderOutput(dataTable, element);\n",
              "          const docLink = document.createElement('div');\n",
              "          docLink.innerHTML = docLinkHtml;\n",
              "          element.appendChild(docLink);\n",
              "        }\n",
              "      </script>\n",
              "    </div>\n",
              "  </div>\n",
              "  "
            ]
          },
          "metadata": {},
          "execution_count": 23
        }
      ],
      "source": [
        "# Data Summary Understanding before data type conversions\n",
        "total_df.describe(include = 'all')"
      ]
    },
    {
      "cell_type": "markdown",
      "metadata": {
        "id": "6c62ckZlRMh1"
      },
      "source": [
        "### <font color = blue>Exploratory Data Analysis w.r.t Target Variable \"RetentionPotential\"</font>\n"
      ]
    },
    {
      "cell_type": "code",
      "execution_count": 24,
      "metadata": {
        "id": "xfj3dpIjHXN5",
        "colab": {
          "base_uri": "https://localhost:8080/",
          "height": 299
        },
        "outputId": "4e640aa8-485f-41ce-fd10-a61cf38c6b8d"
      },
      "outputs": [
        {
          "output_type": "execute_result",
          "data": {
            "text/plain": [
              "<matplotlib.axes._subplots.AxesSubplot at 0x7f202052a0a0>"
            ]
          },
          "metadata": {},
          "execution_count": 24
        },
        {
          "output_type": "display_data",
          "data": {
            "text/plain": [
              "<Figure size 432x288 with 1 Axes>"
            ],
            "image/png": "[encoded data removed]"
          },
          "metadata": {
            "needs_background": "light"
          }
        }
      ],
      "source": [
        "sns.countplot(data = total_df , x = 'RetentionPotential',order = total_df['RetentionPotential'].value_counts().index)"
      ]
    },
    {
      "cell_type": "markdown",
      "metadata": {
        "id": "HB2FpPQoZx0T"
      },
      "source": [
        "## <font color=green>**Insights**: <font color=blue>\n",
        " From the above plot we conclude that our Retention potential is very Low\n",
        "\n",
        "\n"
      ]
    },
    {
      "cell_type": "code",
      "execution_count": 25,
      "metadata": {
        "id": "eViLqj6cDlv4",
        "colab": {
          "base_uri": "https://localhost:8080/"
        },
        "outputId": "e81e1253-81a2-4659-d3cb-0328224631de"
      },
      "outputs": [
        {
          "output_type": "execute_result",
          "data": {
            "text/plain": [
              "Low       19185\n",
              "High       3756\n",
              "Medium      879\n",
              "Name: RetentionPotential, dtype: int64"
            ]
          },
          "metadata": {},
          "execution_count": 25
        }
      ],
      "source": [
        "total_df['RetentionPotential'].value_counts()"
      ]
    },
    {
      "cell_type": "code",
      "execution_count": 26,
      "metadata": {
        "id": "76I5mQX8Dljx",
        "colab": {
          "base_uri": "https://localhost:8080/"
        },
        "outputId": "3a06aa53-3aa3-40f8-b3b2-d48357b537d7"
      },
      "outputs": [
        {
          "output_type": "execute_result",
          "data": {
            "text/plain": [
              "City\n",
              "CITY2    4380420\n",
              "CITY4    2778114\n",
              "CITY3    1098124\n",
              "CITY1     261920\n",
              "Name: OrderQuantity, dtype: int64"
            ]
          },
          "metadata": {},
          "execution_count": 26
        }
      ],
      "source": [
        "total_df.groupby(\"City\")['OrderQuantity'].sum().sort_values(ascending=False)"
      ]
    },
    {
      "cell_type": "code",
      "execution_count": 27,
      "metadata": {
        "id": "E3P5Cfc0DlXK",
        "colab": {
          "base_uri": "https://localhost:8080/",
          "height": 330
        },
        "outputId": "6da89837-cc67-41c6-d36b-b5b34e294753"
      },
      "outputs": [
        {
          "output_type": "execute_result",
          "data": {
            "text/plain": [
              "Text(0.5, 0, 'OrderQuantity')"
            ]
          },
          "metadata": {},
          "execution_count": 27
        },
        {
          "output_type": "display_data",
          "data": {
            "text/plain": [
              "<Figure size 432x288 with 1 Axes>"
            ],
            "image/png": "[encoded data removed]"
          },
          "metadata": {
            "needs_background": "light"
          }
        }
      ],
      "source": [
        "total_df.groupby(\"City\")['OrderQuantity'].sum().sort_values(ascending=True).plot(kind = \"bar\", color = \"violet\")\n",
        "plt.title(\"Max City quantity of orders\")\n",
        "plt.xlabel(\"OrderQuantity\")\n"
      ]
    },
    {
      "cell_type": "markdown",
      "metadata": {
        "id": "EFweZ5G_dWVy"
      },
      "source": [
        "###<font color=red>**Insights**:\n",
        "- From city 2 we recieved max quantity of orders `4380420` \n",
        "- From city 1 we recieved least quantity of orders `261920`"
      ]
    },
    {
      "cell_type": "code",
      "execution_count": 28,
      "metadata": {
        "id": "fJ9PwNbykPxr",
        "colab": {
          "base_uri": "https://localhost:8080/"
        },
        "outputId": "d8830b35-af7a-4092-fbce-68edae31c31c"
      },
      "outputs": [
        {
          "output_type": "execute_result",
          "data": {
            "text/plain": [
              "0    22924\n",
              "1      896\n",
              "Name: DoorstepDelivery, dtype: int64"
            ]
          },
          "metadata": {},
          "execution_count": 28
        }
      ],
      "source": [
        "total_df['DoorstepDelivery'].value_counts()"
      ]
    },
    {
      "cell_type": "code",
      "execution_count": 29,
      "metadata": {
        "id": "kpiu-giQu7oV",
        "colab": {
          "base_uri": "https://localhost:8080/",
          "height": 312
        },
        "outputId": "932d2324-85db-4326-e3e1-6baaa03dd381"
      },
      "outputs": [
        {
          "output_type": "execute_result",
          "data": {
            "text/plain": [
              "Text(0, 0.5, 'count')"
            ]
          },
          "metadata": {},
          "execution_count": 29
        },
        {
          "output_type": "display_data",
          "data": {
            "text/plain": [
              "<Figure size 432x288 with 1 Axes>"
            ],
            "image/png": "[encoded data removed]"
          },
          "metadata": {
            "needs_background": "light"
          }
        }
      ],
      "source": [
        "sns.countplot( x = 'DoorstepDelivery', data =total_df ,palette= \"tab10\")\n",
        "plt.title(\" Number of DoorstepDelivery\")\n",
        "plt.ylabel(\"count\")"
      ]
    },
    {
      "cell_type": "markdown",
      "metadata": {
        "id": "vel_NsWl9A8u"
      },
      "source": [
        "###<font color=orange>**Insights**:\n",
        "\n",
        "*  From the above Plot there is less Number of DoorstepDeliveries i.e,896\n",
        "\n",
        "\n",
        "\n",
        "\n"
      ]
    },
    {
      "cell_type": "code",
      "execution_count": 30,
      "metadata": {
        "id": "zXJ6R0uEu7kB",
        "colab": {
          "base_uri": "https://localhost:8080/"
        },
        "outputId": "37aae9f7-7ed5-48ad-b124-a1121f52a45a"
      },
      "outputs": [
        {
          "output_type": "execute_result",
          "data": {
            "text/plain": [
              "Tuesday      5343\n",
              "Monday       5300\n",
              "Friday       4167\n",
              "Thursday     4043\n",
              "Wednesday    3778\n",
              "Saturday     1003\n",
              "Sunday        186\n",
              "Name: PreferredDeliveryDay, dtype: int64"
            ]
          },
          "metadata": {},
          "execution_count": 30
        }
      ],
      "source": [
        "total_df['PreferredDeliveryDay'].value_counts()"
      ]
    },
    {
      "cell_type": "code",
      "execution_count": 31,
      "metadata": {
        "id": "rE6vFPK5AElL",
        "colab": {
          "base_uri": "https://localhost:8080/",
          "height": 312
        },
        "outputId": "d52f942a-38c4-4305-cd3c-0378df30c5a2"
      },
      "outputs": [
        {
          "output_type": "execute_result",
          "data": {
            "text/plain": [
              "Text(0, 0.5, 'count')"
            ]
          },
          "metadata": {},
          "execution_count": 31
        },
        {
          "output_type": "display_data",
          "data": {
            "text/plain": [
              "<Figure size 432x288 with 1 Axes>"
            ],
            "image/png": "[encoded data removed]"
          },
          "metadata": {
            "needs_background": "light"
          }
        }
      ],
      "source": [
        "sns.countplot( x = 'PreferredDeliveryDay', data =total_df ,palette= \"tab10\",\n",
        "order = total_df['PreferredDeliveryDay'].value_counts().index)\n",
        "plt.title(\" Recieved max orders in Day \")\n",
        "plt.ylabel(\"count\")"
      ]
    },
    {
      "cell_type": "markdown",
      "metadata": {
        "id": "RZs9MspEAYZr"
      },
      "source": [
        "<font color=blue>***Insights***:\n",
        "- Max orders are delievered on weekdays i.e(tuesday and monday)\n",
        "-Least orders are delivered on weekends i.e(saturday and sunday)\n"
      ]
    },
    {
      "cell_type": "code",
      "execution_count": 32,
      "metadata": {
        "id": "fuYpy1fxBTjF",
        "colab": {
          "base_uri": "https://localhost:8080/"
        },
        "outputId": "76cd2f3e-dea9-489e-cd14-adaf814c680e"
      },
      "outputs": [
        {
          "output_type": "execute_result",
          "data": {
            "text/plain": [
              "0    21564\n",
              "1     2256\n",
              "Name: AutomaticRefill, dtype: int64"
            ]
          },
          "metadata": {},
          "execution_count": 32
        }
      ],
      "source": [
        "total_df['AutomaticRefill'].value_counts()"
      ]
    },
    {
      "cell_type": "code",
      "execution_count": 33,
      "metadata": {
        "id": "OLN9gGyaCfNc",
        "colab": {
          "base_uri": "https://localhost:8080/",
          "height": 312
        },
        "outputId": "ed907505-4f6b-407b-8699-4fd74972049c"
      },
      "outputs": [
        {
          "output_type": "execute_result",
          "data": {
            "text/plain": [
              "Text(0, 0.5, 'count')"
            ]
          },
          "metadata": {},
          "execution_count": 33
        },
        {
          "output_type": "display_data",
          "data": {
            "text/plain": [
              "<Figure size 432x288 with 1 Axes>"
            ],
            "image/png": "[encoded data removed]"
          },
          "metadata": {
            "needs_background": "light"
          }
        }
      ],
      "source": [
        "sns.countplot( x = 'AutomaticRefill', data =total_df ,palette= \"tab10\")\n",
        "plt.title(\" Number of AutomaticRefill\")\n",
        "plt.ylabel(\"count\")"
      ]
    },
    {
      "cell_type": "markdown",
      "metadata": {
        "id": "59D7O0EIjl6E"
      },
      "source": [
        "## Changing datatype of Emaildata_Train column to datetime\n",
        "\n",
        "\n"
      ]
    },
    {
      "cell_type": "code",
      "execution_count": 34,
      "metadata": {
        "id": "9F949qAgfnjf",
        "colab": {
          "base_uri": "https://localhost:8080/"
        },
        "outputId": "cdbc0787-251c-4dd8-9a87-e403529ba131"
      },
      "outputs": [
        {
          "output_type": "execute_result",
          "data": {
            "text/plain": [
              "CustomerID     object\n",
              "DateOfemail    object\n",
              "EmailType      object\n",
              "timestamp      object\n",
              "MailOpened     object\n",
              "MailClicked    object\n",
              "dtype: object"
            ]
          },
          "metadata": {},
          "execution_count": 34
        }
      ],
      "source": [
        "Emaildata_Train.dtypes"
      ]
    },
    {
      "cell_type": "code",
      "execution_count": 35,
      "metadata": {
        "id": "t5_QIgNhd_ec",
        "colab": {
          "base_uri": "https://localhost:8080/"
        },
        "outputId": "07369bd0-4343-4bda-c53b-c7ec8a493089"
      },
      "outputs": [
        {
          "output_type": "execute_result",
          "data": {
            "text/plain": [
              "CustomerID             object\n",
              "DateOfemail    datetime64[ns]\n",
              "EmailType              object\n",
              "timestamp              object\n",
              "MailOpened             object\n",
              "MailClicked            object\n",
              "dtype: object"
            ]
          },
          "metadata": {},
          "execution_count": 35
        }
      ],
      "source": [
        "# Convert variable to Date\n",
        "Emaildata_Train['DateOfemail'] = pd.to_datetime(Emaildata_Train['DateOfemail'])\n",
        "Emaildata_Train.dtypes"
      ]
    },
    {
      "cell_type": "markdown",
      "metadata": {
        "id": "Rb-kwfk7nUFm"
      },
      "source": [
        "#### Extract **date** **month** and **year** from Emaildata_Train"
      ]
    },
    {
      "cell_type": "code",
      "execution_count": 36,
      "metadata": {
        "id": "W4hd-s03fjdA"
      },
      "outputs": [],
      "source": [
        "Emaildata_Train['day'] = Emaildata_Train['DateOfemail'].dt.day\n",
        "Emaildata_Train['month'] = Emaildata_Train['DateOfemail'].dt.month\n",
        "Emaildata_Train['year'] = Emaildata_Train['DateOfemail'].dt.year"
      ]
    },
    {
      "cell_type": "markdown",
      "metadata": {
        "id": "_I3e5sCko0bm"
      },
      "source": [
        "#### Convert **month numbers** to **month name** "
      ]
    },
    {
      "cell_type": "code",
      "execution_count": 37,
      "metadata": {
        "id": "T-VMhZ5NfjSj"
      },
      "outputs": [],
      "source": [
        "import calendar\n",
        "Emaildata_Train['month'] = Emaildata_Train['month'].apply(lambda x: calendar.month_abbr[x])"
      ]
    },
    {
      "cell_type": "code",
      "execution_count": 38,
      "metadata": {
        "id": "VM4fg-7tfjQ0"
      },
      "outputs": [],
      "source": [
        "## Drop dateofemail column\n",
        "Emaildata_Train.drop(columns=\"DateOfemail\", inplace = True)"
      ]
    },
    {
      "cell_type": "code",
      "execution_count": 39,
      "metadata": {
        "id": "GgB9dATCfjKj",
        "colab": {
          "base_uri": "https://localhost:8080/"
        },
        "outputId": "af7b92b3-c5d3-4c77-a062-fd931a434c55"
      },
      "outputs": [
        {
          "output_type": "execute_result",
          "data": {
            "text/plain": [
              "dtype('O')"
            ]
          },
          "metadata": {},
          "execution_count": 39
        }
      ],
      "source": [
        "Emaildata_Train['month'].dtype"
      ]
    },
    {
      "cell_type": "markdown",
      "metadata": {
        "id": "QZyoI9nNsl22"
      },
      "source": [
        "'O' stands for object."
      ]
    },
    {
      "cell_type": "code",
      "execution_count": 40,
      "metadata": {
        "id": "ebKWTzuAfjF4",
        "colab": {
          "base_uri": "https://localhost:8080/"
        },
        "outputId": "158e4272-b2e4-48a3-db99-a09248ff22af"
      },
      "outputs": [
        {
          "output_type": "execute_result",
          "data": {
            "text/plain": [
              "0         Sep\n",
              "1         Dec\n",
              "2         Oct\n",
              "3         Nov\n",
              "4         Dec\n",
              "         ... \n",
              "517667    Jan\n",
              "517668    Jan\n",
              "517669    Jan\n",
              "517670    Jan\n",
              "517671    Jan\n",
              "Name: month, Length: 517672, dtype: object"
            ]
          },
          "metadata": {},
          "execution_count": 40
        }
      ],
      "source": [
        "Emaildata_Train['month']"
      ]
    },
    {
      "cell_type": "code",
      "execution_count": 41,
      "metadata": {
        "id": "A9fbhWapvep7",
        "colab": {
          "base_uri": "https://localhost:8080/",
          "height": 206
        },
        "outputId": "0af317ae-3fdc-4655-c6fe-84f7b7dbe7c5"
      },
      "outputs": [
        {
          "output_type": "execute_result",
          "data": {
            "text/plain": [
              "  CustomerID     EmailType timestamp MailOpened    MailClicked  day month  \\\n",
              "0     C16368  WelcomeEmail  15:56:50        yes  NotApplicable   28   Sep   \n",
              "1     C20345  WelcomeEmail  15:10:30        yes  NotApplicable   19   Dec   \n",
              "2     C17683  WelcomeEmail  17:12:24        yes  NotApplicable    3   Oct   \n",
              "3     C18647  WelcomeEmail  16:59:02        yes  NotApplicable   27   Nov   \n",
              "4     C36692  WelcomeEmail  17:27:22        yes  NotApplicable    4   Dec   \n",
              "\n",
              "   year  \n",
              "0  2012  \n",
              "1  2010  \n",
              "2  2010  \n",
              "3  2010  \n",
              "4  2009  "
            ],
            "text/html": [
              "\n",
              "  <div id=\"df-ba35420b-fcf9-4b7f-9df6-7b3c07e81b17\">\n",
              "    <div class=\"colab-df-container\">\n",
              "      <div>\n",
              "<style scoped>\n",
              "    .dataframe tbody tr th:only-of-type {\n",
              "        vertical-align: middle;\n",
              "    }\n",
              "\n",
              "    .dataframe tbody tr th {\n",
              "        vertical-align: top;\n",
              "    }\n",
              "\n",
              "    .dataframe thead th {\n",
              "        text-align: right;\n",
              "    }\n",
              "</style>\n",
              "<table border=\"1\" class=\"dataframe\">\n",
              "  <thead>\n",
              "    <tr style=\"text-align: right;\">\n",
              "      <th></th>\n",
              "      <th>CustomerID</th>\n",
              "      <th>EmailType</th>\n",
              "      <th>timestamp</th>\n",
              "      <th>MailOpened</th>\n",
              "      <th>MailClicked</th>\n",
              "      <th>day</th>\n",
              "      <th>month</th>\n",
              "      <th>year</th>\n",
              "    </tr>\n",
              "  </thead>\n",
              "  <tbody>\n",
              "    <tr>\n",
              "      <th>0</th>\n",
              "      <td>C16368</td>\n",
              "      <td>WelcomeEmail</td>\n",
              "      <td>15:56:50</td>\n",
              "      <td>yes</td>\n",
              "      <td>NotApplicable</td>\n",
              "      <td>28</td>\n",
              "      <td>Sep</td>\n",
              "      <td>2012</td>\n",
              "    </tr>\n",
              "    <tr>\n",
              "      <th>1</th>\n",
              "      <td>C20345</td>\n",
              "      <td>WelcomeEmail</td>\n",
              "      <td>15:10:30</td>\n",
              "      <td>yes</td>\n",
              "      <td>NotApplicable</td>\n",
              "      <td>19</td>\n",
              "      <td>Dec</td>\n",
              "      <td>2010</td>\n",
              "    </tr>\n",
              "    <tr>\n",
              "      <th>2</th>\n",
              "      <td>C17683</td>\n",
              "      <td>WelcomeEmail</td>\n",
              "      <td>17:12:24</td>\n",
              "      <td>yes</td>\n",
              "      <td>NotApplicable</td>\n",
              "      <td>3</td>\n",
              "      <td>Oct</td>\n",
              "      <td>2010</td>\n",
              "    </tr>\n",
              "    <tr>\n",
              "      <th>3</th>\n",
              "      <td>C18647</td>\n",
              "      <td>WelcomeEmail</td>\n",
              "      <td>16:59:02</td>\n",
              "      <td>yes</td>\n",
              "      <td>NotApplicable</td>\n",
              "      <td>27</td>\n",
              "      <td>Nov</td>\n",
              "      <td>2010</td>\n",
              "    </tr>\n",
              "    <tr>\n",
              "      <th>4</th>\n",
              "      <td>C36692</td>\n",
              "      <td>WelcomeEmail</td>\n",
              "      <td>17:27:22</td>\n",
              "      <td>yes</td>\n",
              "      <td>NotApplicable</td>\n",
              "      <td>4</td>\n",
              "      <td>Dec</td>\n",
              "      <td>2009</td>\n",
              "    </tr>\n",
              "  </tbody>\n",
              "</table>\n",
              "</div>\n",
              "      <button class=\"colab-df-convert\" onclick=\"convertToInteractive('df-ba35420b-fcf9-4b7f-9df6-7b3c07e81b17')\"\n",
              "              title=\"Convert this dataframe to an interactive table.\"\n",
              "              style=\"display:none;\">\n",
              "        \n",
              "  <svg xmlns=\"http://www.w3.org/2000/svg\" height=\"24px\"viewBox=\"0 0 24 24\"\n",
              "       width=\"24px\">\n",
              "    <path d=\"M0 0h24v24H0V0z\" fill=\"none\"/>\n",
              "    <path d=\"M18.56 5.44l.94 2.06.94-2.06 2.06-.94-2.06-.94-.94-2.06-.94 2.06-2.06.94zm-11 1L8.5 8.5l.94-2.06 2.06-.94-2.06-.94L8.5 2.5l-.94 2.06-2.06.94zm10 10l.94 2.06.94-2.06 2.06-.94-2.06-.94-.94-2.06-.94 2.06-2.06.94z\"/><path d=\"M17.41 7.96l-1.37-1.37c-.4-.4-.92-.59-1.43-.59-.52 0-1.04.2-1.43.59L10.3 9.45l-7.72 7.72c-.78.78-.78 2.05 0 2.83L4 21.41c.39.39.9.59 1.41.59.51 0 1.02-.2 1.41-.59l7.78-7.78 2.81-2.81c.8-.78.8-2.07 0-2.86zM5.41 20L4 18.59l7.72-7.72 1.47 1.35L5.41 20z\"/>\n",
              "  </svg>\n",
              "      </button>\n",
              "      \n",
              "  <style>\n",
              "    .colab-df-container {\n",
              "      display:flex;\n",
              "      flex-wrap:wrap;\n",
              "      gap: 12px;\n",
              "    }\n",
              "\n",
              "    .colab-df-convert {\n",
              "      background-color: #E8F0FE;\n",
              "      border: none;\n",
              "      border-radius: 50%;\n",
              "      cursor: pointer;\n",
              "      display: none;\n",
              "      fill: #1967D2;\n",
              "      height: 32px;\n",
              "      padding: 0 0 0 0;\n",
              "      width: 32px;\n",
              "    }\n",
              "\n",
              "    .colab-df-convert:hover {\n",
              "      background-color: #E2EBFA;\n",
              "      box-shadow: 0px 1px 2px rgba(60, 64, 67, 0.3), 0px 1px 3px 1px rgba(60, 64, 67, 0.15);\n",
              "      fill: #174EA6;\n",
              "    }\n",
              "\n",
              "    [theme=dark] .colab-df-convert {\n",
              "      background-color: #3B4455;\n",
              "      fill: #D2E3FC;\n",
              "    }\n",
              "\n",
              "    [theme=dark] .colab-df-convert:hover {\n",
              "      background-color: #434B5C;\n",
              "      box-shadow: 0px 1px 3px 1px rgba(0, 0, 0, 0.15);\n",
              "      filter: drop-shadow(0px 1px 2px rgba(0, 0, 0, 0.3));\n",
              "      fill: #FFFFFF;\n",
              "    }\n",
              "  </style>\n",
              "\n",
              "      <script>\n",
              "        const buttonEl =\n",
              "          document.querySelector('#df-ba35420b-fcf9-4b7f-9df6-7b3c07e81b17 button.colab-df-convert');\n",
              "        buttonEl.style.display =\n",
              "          google.colab.kernel.accessAllowed ? 'block' : 'none';\n",
              "\n",
              "        async function convertToInteractive(key) {\n",
              "          const element = document.querySelector('#df-ba35420b-fcf9-4b7f-9df6-7b3c07e81b17');\n",
              "          const dataTable =\n",
              "            await google.colab.kernel.invokeFunction('convertToInteractive',\n",
              "                                                     [key], {});\n",
              "          if (!dataTable) return;\n",
              "\n",
              "          const docLinkHtml = 'Like what you see? Visit the ' +\n",
              "            '<a target=\"_blank\" href=https://colab.research.google.com/notebooks/data_table.ipynb>data table notebook</a>'\n",
              "            + ' to learn more about interactive tables.';\n",
              "          element.innerHTML = '';\n",
              "          dataTable['output_type'] = 'display_data';\n",
              "          await google.colab.output.renderOutput(dataTable, element);\n",
              "          const docLink = document.createElement('div');\n",
              "          docLink.innerHTML = docLinkHtml;\n",
              "          element.appendChild(docLink);\n",
              "        }\n",
              "      </script>\n",
              "    </div>\n",
              "  </div>\n",
              "  "
            ]
          },
          "metadata": {},
          "execution_count": 41
        }
      ],
      "source": [
        "Emaildata_Train.head()"
      ]
    },
    {
      "cell_type": "markdown",
      "metadata": {
        "id": "av58X0y7t2Ss"
      },
      "source": [
        "### <font color=green>  Maximum customers open there mail in month<font>"
      ]
    },
    {
      "cell_type": "code",
      "execution_count": 42,
      "metadata": {
        "id": "t8ExXxGsElOI",
        "colab": {
          "base_uri": "https://localhost:8080/",
          "height": 279
        },
        "outputId": "40530920-3b63-4ca1-d866-29f13c16d8aa"
      },
      "outputs": [
        {
          "output_type": "display_data",
          "data": {
            "text/plain": [
              "<Figure size 432x288 with 1 Axes>"
            ],
            "image/png": "[encoded data removed]"
          },
          "metadata": {
            "needs_background": "light"
          }
        }
      ],
      "source": [
        "sns.countplot( x = 'month', data = Emaildata_Train,hue=\"MailOpened\",\n",
        " order = Emaildata_Train['month'].value_counts().index);"
      ]
    },
    {
      "cell_type": "markdown",
      "metadata": {
        "id": "xXjEFIF_v1f2"
      },
      "source": [
        "<font color=blue>**Insights**:\n",
        "- In oct month maximum number of customers opened there mail\n",
        "- In Feb month least number of customers opened there mail \n"
      ]
    },
    {
      "cell_type": "code",
      "execution_count": 43,
      "metadata": {
        "id": "mT9X-J8AFq9Y",
        "colab": {
          "base_uri": "https://localhost:8080/",
          "height": 280
        },
        "outputId": "1d5d8414-f20a-49ee-cd88-0b8d547b837d"
      },
      "outputs": [
        {
          "output_type": "display_data",
          "data": {
            "text/plain": [
              "<Figure size 432x288 with 1 Axes>"
            ],
            "image/png": "[encoded data removed]"
          },
          "metadata": {
            "needs_background": "light"
          }
        }
      ],
      "source": [
        "sns.countplot( x = 'year', data = Emaildata_Train,hue=\"MailOpened\",\n",
        "order = Emaildata_Train['year'].value_counts().index);"
      ]
    },
    {
      "cell_type": "markdown",
      "metadata": {
        "id": "RQLurGbidwE0"
      },
      "source": [
        "<font color=orange>**Insights**:\n",
        "- In Year 2013 maximum number of customers opened there mails </b>\n",
        "- In Year 2008 the least number of customers opened there mails \n"
      ]
    },
    {
      "cell_type": "markdown",
      "metadata": {
        "id": "nFQnBJyazJ1P"
      },
      "source": [
        "#### Changing datatype of transactionsdata_Train column to datetime\n",
        "\n",
        "\n"
      ]
    },
    {
      "cell_type": "code",
      "execution_count": 44,
      "metadata": {
        "id": "H8RzmUzyfi_5",
        "colab": {
          "base_uri": "https://localhost:8080/"
        },
        "outputId": "1bde2885-bbf4-4762-eae9-e7b3b48f6b97"
      },
      "outputs": [
        {
          "output_type": "execute_result",
          "data": {
            "text/plain": [
              "CustomerID       object\n",
              "DateOfOrder      object\n",
              "timestamp        object\n",
              "OrderQuantity     int64\n",
              "dtype: object"
            ]
          },
          "metadata": {},
          "execution_count": 44
        }
      ],
      "source": [
        "transactionsdata_Train.dtypes"
      ]
    },
    {
      "cell_type": "code",
      "execution_count": 45,
      "metadata": {
        "id": "-zsjCbd9fi-M",
        "colab": {
          "base_uri": "https://localhost:8080/"
        },
        "outputId": "9d28c0e0-7f41-4df2-d35f-f586fc336a56"
      },
      "outputs": [
        {
          "output_type": "execute_result",
          "data": {
            "text/plain": [
              "CustomerID               object\n",
              "DateOfOrder      datetime64[ns]\n",
              "timestamp                object\n",
              "OrderQuantity             int64\n",
              "dtype: object"
            ]
          },
          "metadata": {},
          "execution_count": 45
        }
      ],
      "source": [
        "## Convert DateOfOrder to datetime format\n",
        "transactionsdata_Train['DateOfOrder'] = pd.to_datetime(transactionsdata_Train['DateOfOrder'])\n",
        "transactionsdata_Train.dtypes"
      ]
    },
    {
      "cell_type": "code",
      "execution_count": 46,
      "metadata": {
        "id": "zkJ4qCQ1fi2_"
      },
      "outputs": [],
      "source": [
        "# Extract day month and year from dateoforder\n",
        "transactionsdata_Train['day'] = transactionsdata_Train['DateOfOrder'].dt.day\n",
        "transactionsdata_Train['month'] = transactionsdata_Train['DateOfOrder'].dt.month\n",
        "transactionsdata_Train['year'] = transactionsdata_Train['DateOfOrder'].dt.year"
      ]
    },
    {
      "cell_type": "code",
      "execution_count": 47,
      "metadata": {
        "id": "KzJMhuN7pSr9"
      },
      "outputs": [],
      "source": [
        "# Extract date month and year from Emaildata_Train\n",
        "transactionsdata_Train['month'] = transactionsdata_Train['month'].apply(lambda x: calendar.month_abbr[x])"
      ]
    },
    {
      "cell_type": "code",
      "execution_count": 48,
      "metadata": {
        "id": "LJRfppx5jYV-"
      },
      "outputs": [],
      "source": [
        "## Drop dateoforder column\n",
        "transactionsdata_Train.drop(columns=\"DateOfOrder\", inplace = True)"
      ]
    },
    {
      "cell_type": "code",
      "execution_count": 49,
      "metadata": {
        "id": "FxZpvxMhjpMR",
        "colab": {
          "base_uri": "https://localhost:8080/",
          "height": 206
        },
        "outputId": "81c9ebf5-6f60-4227-993d-230e87a58ab4"
      },
      "outputs": [
        {
          "output_type": "execute_result",
          "data": {
            "text/plain": [
              "  CustomerID timestamp  OrderQuantity  day month  year\n",
              "0     C16368  15:17:52             15   11   Aug  2013\n",
              "1     C20345  19:50:00             92    1   Apr  2011\n",
              "2     C20345  15:11:56             95   29   Jun  2012\n",
              "3     C20345  20:49:10             74   22   Sep  2012\n",
              "4     C20345  11:50:26             81   23   Aug  2011"
            ],
            "text/html": [
              "\n",
              "  <div id=\"df-02d8c7dd-a831-49a8-8422-bfe27a63db89\">\n",
              "    <div class=\"colab-df-container\">\n",
              "      <div>\n",
              "<style scoped>\n",
              "    .dataframe tbody tr th:only-of-type {\n",
              "        vertical-align: middle;\n",
              "    }\n",
              "\n",
              "    .dataframe tbody tr th {\n",
              "        vertical-align: top;\n",
              "    }\n",
              "\n",
              "    .dataframe thead th {\n",
              "        text-align: right;\n",
              "    }\n",
              "</style>\n",
              "<table border=\"1\" class=\"dataframe\">\n",
              "  <thead>\n",
              "    <tr style=\"text-align: right;\">\n",
              "      <th></th>\n",
              "      <th>CustomerID</th>\n",
              "      <th>timestamp</th>\n",
              "      <th>OrderQuantity</th>\n",
              "      <th>day</th>\n",
              "      <th>month</th>\n",
              "      <th>year</th>\n",
              "    </tr>\n",
              "  </thead>\n",
              "  <tbody>\n",
              "    <tr>\n",
              "      <th>0</th>\n",
              "      <td>C16368</td>\n",
              "      <td>15:17:52</td>\n",
              "      <td>15</td>\n",
              "      <td>11</td>\n",
              "      <td>Aug</td>\n",
              "      <td>2013</td>\n",
              "    </tr>\n",
              "    <tr>\n",
              "      <th>1</th>\n",
              "      <td>C20345</td>\n",
              "      <td>19:50:00</td>\n",
              "      <td>92</td>\n",
              "      <td>1</td>\n",
              "      <td>Apr</td>\n",
              "      <td>2011</td>\n",
              "    </tr>\n",
              "    <tr>\n",
              "      <th>2</th>\n",
              "      <td>C20345</td>\n",
              "      <td>15:11:56</td>\n",
              "      <td>95</td>\n",
              "      <td>29</td>\n",
              "      <td>Jun</td>\n",
              "      <td>2012</td>\n",
              "    </tr>\n",
              "    <tr>\n",
              "      <th>3</th>\n",
              "      <td>C20345</td>\n",
              "      <td>20:49:10</td>\n",
              "      <td>74</td>\n",
              "      <td>22</td>\n",
              "      <td>Sep</td>\n",
              "      <td>2012</td>\n",
              "    </tr>\n",
              "    <tr>\n",
              "      <th>4</th>\n",
              "      <td>C20345</td>\n",
              "      <td>11:50:26</td>\n",
              "      <td>81</td>\n",
              "      <td>23</td>\n",
              "      <td>Aug</td>\n",
              "      <td>2011</td>\n",
              "    </tr>\n",
              "  </tbody>\n",
              "</table>\n",
              "</div>\n",
              "      <button class=\"colab-df-convert\" onclick=\"convertToInteractive('df-02d8c7dd-a831-49a8-8422-bfe27a63db89')\"\n",
              "              title=\"Convert this dataframe to an interactive table.\"\n",
              "              style=\"display:none;\">\n",
              "        \n",
              "  <svg xmlns=\"http://www.w3.org/2000/svg\" height=\"24px\"viewBox=\"0 0 24 24\"\n",
              "       width=\"24px\">\n",
              "    <path d=\"M0 0h24v24H0V0z\" fill=\"none\"/>\n",
              "    <path d=\"M18.56 5.44l.94 2.06.94-2.06 2.06-.94-2.06-.94-.94-2.06-.94 2.06-2.06.94zm-11 1L8.5 8.5l.94-2.06 2.06-.94-2.06-.94L8.5 2.5l-.94 2.06-2.06.94zm10 10l.94 2.06.94-2.06 2.06-.94-2.06-.94-.94-2.06-.94 2.06-2.06.94z\"/><path d=\"M17.41 7.96l-1.37-1.37c-.4-.4-.92-.59-1.43-.59-.52 0-1.04.2-1.43.59L10.3 9.45l-7.72 7.72c-.78.78-.78 2.05 0 2.83L4 21.41c.39.39.9.59 1.41.59.51 0 1.02-.2 1.41-.59l7.78-7.78 2.81-2.81c.8-.78.8-2.07 0-2.86zM5.41 20L4 18.59l7.72-7.72 1.47 1.35L5.41 20z\"/>\n",
              "  </svg>\n",
              "      </button>\n",
              "      \n",
              "  <style>\n",
              "    .colab-df-container {\n",
              "      display:flex;\n",
              "      flex-wrap:wrap;\n",
              "      gap: 12px;\n",
              "    }\n",
              "\n",
              "    .colab-df-convert {\n",
              "      background-color: #E8F0FE;\n",
              "      border: none;\n",
              "      border-radius: 50%;\n",
              "      cursor: pointer;\n",
              "      display: none;\n",
              "      fill: #1967D2;\n",
              "      height: 32px;\n",
              "      padding: 0 0 0 0;\n",
              "      width: 32px;\n",
              "    }\n",
              "\n",
              "    .colab-df-convert:hover {\n",
              "      background-color: #E2EBFA;\n",
              "      box-shadow: 0px 1px 2px rgba(60, 64, 67, 0.3), 0px 1px 3px 1px rgba(60, 64, 67, 0.15);\n",
              "      fill: #174EA6;\n",
              "    }\n",
              "\n",
              "    [theme=dark] .colab-df-convert {\n",
              "      background-color: #3B4455;\n",
              "      fill: #D2E3FC;\n",
              "    }\n",
              "\n",
              "    [theme=dark] .colab-df-convert:hover {\n",
              "      background-color: #434B5C;\n",
              "      box-shadow: 0px 1px 3px 1px rgba(0, 0, 0, 0.15);\n",
              "      filter: drop-shadow(0px 1px 2px rgba(0, 0, 0, 0.3));\n",
              "      fill: #FFFFFF;\n",
              "    }\n",
              "  </style>\n",
              "\n",
              "      <script>\n",
              "        const buttonEl =\n",
              "          document.querySelector('#df-02d8c7dd-a831-49a8-8422-bfe27a63db89 button.colab-df-convert');\n",
              "        buttonEl.style.display =\n",
              "          google.colab.kernel.accessAllowed ? 'block' : 'none';\n",
              "\n",
              "        async function convertToInteractive(key) {\n",
              "          const element = document.querySelector('#df-02d8c7dd-a831-49a8-8422-bfe27a63db89');\n",
              "          const dataTable =\n",
              "            await google.colab.kernel.invokeFunction('convertToInteractive',\n",
              "                                                     [key], {});\n",
              "          if (!dataTable) return;\n",
              "\n",
              "          const docLinkHtml = 'Like what you see? Visit the ' +\n",
              "            '<a target=\"_blank\" href=https://colab.research.google.com/notebooks/data_table.ipynb>data table notebook</a>'\n",
              "            + ' to learn more about interactive tables.';\n",
              "          element.innerHTML = '';\n",
              "          dataTable['output_type'] = 'display_data';\n",
              "          await google.colab.output.renderOutput(dataTable, element);\n",
              "          const docLink = document.createElement('div');\n",
              "          docLink.innerHTML = docLinkHtml;\n",
              "          element.appendChild(docLink);\n",
              "        }\n",
              "      </script>\n",
              "    </div>\n",
              "  </div>\n",
              "  "
            ]
          },
          "metadata": {},
          "execution_count": 49
        }
      ],
      "source": [
        "transactionsdata_Train.head()"
      ]
    },
    {
      "cell_type": "code",
      "execution_count": 50,
      "metadata": {
        "id": "kMjb4NcDhRDF",
        "colab": {
          "base_uri": "https://localhost:8080/"
        },
        "outputId": "74498ca7-2b06-4891-88ea-fb53fa6d0104"
      },
      "outputs": [
        {
          "output_type": "execute_result",
          "data": {
            "text/plain": [
              "dtype('O')"
            ]
          },
          "metadata": {},
          "execution_count": 50
        }
      ],
      "source": [
        "transactionsdata_Train['month'].dtype"
      ]
    },
    {
      "cell_type": "code",
      "execution_count": 51,
      "metadata": {
        "id": "JgMgWW3Y1ZHh",
        "colab": {
          "base_uri": "https://localhost:8080/",
          "height": 457
        },
        "outputId": "c5b09c22-3d84-4510-d8d2-07f2a872d9c6"
      },
      "outputs": [
        {
          "output_type": "execute_result",
          "data": {
            "text/plain": [
              "       OrderQuantity\n",
              "month               \n",
              "Nov           953470\n",
              "Oct           952084\n",
              "Dec           874348\n",
              "Sep           838980\n",
              "Jan           779189\n",
              "Aug           678259\n",
              "Jul           659469\n",
              "Jun           644424\n",
              "May           627026\n",
              "Apr           533062\n",
              "Mar           519273\n",
              "Feb           458994"
            ],
            "text/html": [
              "\n",
              "  <div id=\"df-c42b411a-d5fe-414e-b637-33c82846a726\">\n",
              "    <div class=\"colab-df-container\">\n",
              "      <div>\n",
              "<style scoped>\n",
              "    .dataframe tbody tr th:only-of-type {\n",
              "        vertical-align: middle;\n",
              "    }\n",
              "\n",
              "    .dataframe tbody tr th {\n",
              "        vertical-align: top;\n",
              "    }\n",
              "\n",
              "    .dataframe thead th {\n",
              "        text-align: right;\n",
              "    }\n",
              "</style>\n",
              "<table border=\"1\" class=\"dataframe\">\n",
              "  <thead>\n",
              "    <tr style=\"text-align: right;\">\n",
              "      <th></th>\n",
              "      <th>OrderQuantity</th>\n",
              "    </tr>\n",
              "    <tr>\n",
              "      <th>month</th>\n",
              "      <th></th>\n",
              "    </tr>\n",
              "  </thead>\n",
              "  <tbody>\n",
              "    <tr>\n",
              "      <th>Nov</th>\n",
              "      <td>953470</td>\n",
              "    </tr>\n",
              "    <tr>\n",
              "      <th>Oct</th>\n",
              "      <td>952084</td>\n",
              "    </tr>\n",
              "    <tr>\n",
              "      <th>Dec</th>\n",
              "      <td>874348</td>\n",
              "    </tr>\n",
              "    <tr>\n",
              "      <th>Sep</th>\n",
              "      <td>838980</td>\n",
              "    </tr>\n",
              "    <tr>\n",
              "      <th>Jan</th>\n",
              "      <td>779189</td>\n",
              "    </tr>\n",
              "    <tr>\n",
              "      <th>Aug</th>\n",
              "      <td>678259</td>\n",
              "    </tr>\n",
              "    <tr>\n",
              "      <th>Jul</th>\n",
              "      <td>659469</td>\n",
              "    </tr>\n",
              "    <tr>\n",
              "      <th>Jun</th>\n",
              "      <td>644424</td>\n",
              "    </tr>\n",
              "    <tr>\n",
              "      <th>May</th>\n",
              "      <td>627026</td>\n",
              "    </tr>\n",
              "    <tr>\n",
              "      <th>Apr</th>\n",
              "      <td>533062</td>\n",
              "    </tr>\n",
              "    <tr>\n",
              "      <th>Mar</th>\n",
              "      <td>519273</td>\n",
              "    </tr>\n",
              "    <tr>\n",
              "      <th>Feb</th>\n",
              "      <td>458994</td>\n",
              "    </tr>\n",
              "  </tbody>\n",
              "</table>\n",
              "</div>\n",
              "      <button class=\"colab-df-convert\" onclick=\"convertToInteractive('df-c42b411a-d5fe-414e-b637-33c82846a726')\"\n",
              "              title=\"Convert this dataframe to an interactive table.\"\n",
              "              style=\"display:none;\">\n",
              "        \n",
              "  <svg xmlns=\"http://www.w3.org/2000/svg\" height=\"24px\"viewBox=\"0 0 24 24\"\n",
              "       width=\"24px\">\n",
              "    <path d=\"M0 0h24v24H0V0z\" fill=\"none\"/>\n",
              "    <path d=\"M18.56 5.44l.94 2.06.94-2.06 2.06-.94-2.06-.94-.94-2.06-.94 2.06-2.06.94zm-11 1L8.5 8.5l.94-2.06 2.06-.94-2.06-.94L8.5 2.5l-.94 2.06-2.06.94zm10 10l.94 2.06.94-2.06 2.06-.94-2.06-.94-.94-2.06-.94 2.06-2.06.94z\"/><path d=\"M17.41 7.96l-1.37-1.37c-.4-.4-.92-.59-1.43-.59-.52 0-1.04.2-1.43.59L10.3 9.45l-7.72 7.72c-.78.78-.78 2.05 0 2.83L4 21.41c.39.39.9.59 1.41.59.51 0 1.02-.2 1.41-.59l7.78-7.78 2.81-2.81c.8-.78.8-2.07 0-2.86zM5.41 20L4 18.59l7.72-7.72 1.47 1.35L5.41 20z\"/>\n",
              "  </svg>\n",
              "      </button>\n",
              "      \n",
              "  <style>\n",
              "    .colab-df-container {\n",
              "      display:flex;\n",
              "      flex-wrap:wrap;\n",
              "      gap: 12px;\n",
              "    }\n",
              "\n",
              "    .colab-df-convert {\n",
              "      background-color: #E8F0FE;\n",
              "      border: none;\n",
              "      border-radius: 50%;\n",
              "      cursor: pointer;\n",
              "      display: none;\n",
              "      fill: #1967D2;\n",
              "      height: 32px;\n",
              "      padding: 0 0 0 0;\n",
              "      width: 32px;\n",
              "    }\n",
              "\n",
              "    .colab-df-convert:hover {\n",
              "      background-color: #E2EBFA;\n",
              "      box-shadow: 0px 1px 2px rgba(60, 64, 67, 0.3), 0px 1px 3px 1px rgba(60, 64, 67, 0.15);\n",
              "      fill: #174EA6;\n",
              "    }\n",
              "\n",
              "    [theme=dark] .colab-df-convert {\n",
              "      background-color: #3B4455;\n",
              "      fill: #D2E3FC;\n",
              "    }\n",
              "\n",
              "    [theme=dark] .colab-df-convert:hover {\n",
              "      background-color: #434B5C;\n",
              "      box-shadow: 0px 1px 3px 1px rgba(0, 0, 0, 0.15);\n",
              "      filter: drop-shadow(0px 1px 2px rgba(0, 0, 0, 0.3));\n",
              "      fill: #FFFFFF;\n",
              "    }\n",
              "  </style>\n",
              "\n",
              "      <script>\n",
              "        const buttonEl =\n",
              "          document.querySelector('#df-c42b411a-d5fe-414e-b637-33c82846a726 button.colab-df-convert');\n",
              "        buttonEl.style.display =\n",
              "          google.colab.kernel.accessAllowed ? 'block' : 'none';\n",
              "\n",
              "        async function convertToInteractive(key) {\n",
              "          const element = document.querySelector('#df-c42b411a-d5fe-414e-b637-33c82846a726');\n",
              "          const dataTable =\n",
              "            await google.colab.kernel.invokeFunction('convertToInteractive',\n",
              "                                                     [key], {});\n",
              "          if (!dataTable) return;\n",
              "\n",
              "          const docLinkHtml = 'Like what you see? Visit the ' +\n",
              "            '<a target=\"_blank\" href=https://colab.research.google.com/notebooks/data_table.ipynb>data table notebook</a>'\n",
              "            + ' to learn more about interactive tables.';\n",
              "          element.innerHTML = '';\n",
              "          dataTable['output_type'] = 'display_data';\n",
              "          await google.colab.output.renderOutput(dataTable, element);\n",
              "          const docLink = document.createElement('div');\n",
              "          docLink.innerHTML = docLinkHtml;\n",
              "          element.appendChild(docLink);\n",
              "        }\n",
              "      </script>\n",
              "    </div>\n",
              "  </div>\n",
              "  "
            ]
          },
          "metadata": {},
          "execution_count": 51
        }
      ],
      "source": [
        "pd.DataFrame(transactionsdata_Train.groupby('month')['OrderQuantity'].sum().sort_values(ascending=False))"
      ]
    },
    {
      "cell_type": "code",
      "execution_count": 52,
      "metadata": {
        "id": "UqzbJIYPGYa8",
        "colab": {
          "base_uri": "https://localhost:8080/",
          "height": 312
        },
        "outputId": "48693383-53b5-4f2e-f00e-e18e3b27dec5"
      },
      "outputs": [
        {
          "output_type": "execute_result",
          "data": {
            "text/plain": [
              "Text(0, 0.5, 'count')"
            ]
          },
          "metadata": {},
          "execution_count": 52
        },
        {
          "output_type": "display_data",
          "data": {
            "text/plain": [
              "<Figure size 432x288 with 1 Axes>"
            ],
            "image/png": "[encoded data removed]"
          },
          "metadata": {
            "needs_background": "light"
          }
        }
      ],
      "source": [
        "sns.countplot( x = 'month', data =transactionsdata_Train ,palette= \"tab10\",\n",
        "order = transactionsdata_Train['month'].value_counts().index)\n",
        "plt.title(\" recieved max orders in month \")\n",
        "plt.ylabel(\"count\")"
      ]
    },
    {
      "cell_type": "markdown",
      "metadata": {
        "id": "TB3tBFU89F0j"
      },
      "source": [
        "#### **Insights**:\n",
        "- Nov month has maximum orders 9,53,470\n",
        "- Feb month has least orders 4,58,994"
      ]
    },
    {
      "cell_type": "code",
      "execution_count": 53,
      "metadata": {
        "id": "LiKi92JklHCw",
        "colab": {
          "base_uri": "https://localhost:8080/",
          "height": 425
        },
        "outputId": "50cee9ac-fd41-4a7b-d5e7-b682fa0f685e"
      },
      "outputs": [
        {
          "output_type": "execute_result",
          "data": {
            "text/plain": [
              "      OrderQuantity\n",
              "year               \n",
              "2013        3186085\n",
              "2012        1812969\n",
              "2011        1287628\n",
              "2017         739904\n",
              "2016         447635\n",
              "2015         328761\n",
              "2014         328548\n",
              "2010         276890\n",
              "2018          73550\n",
              "2009          35371\n",
              "2008           1237"
            ],
            "text/html": [
              "\n",
              "  <div id=\"df-124b373d-0891-48a3-a554-abd70d4e5435\">\n",
              "    <div class=\"colab-df-container\">\n",
              "      <div>\n",
              "<style scoped>\n",
              "    .dataframe tbody tr th:only-of-type {\n",
              "        vertical-align: middle;\n",
              "    }\n",
              "\n",
              "    .dataframe tbody tr th {\n",
              "        vertical-align: top;\n",
              "    }\n",
              "\n",
              "    .dataframe thead th {\n",
              "        text-align: right;\n",
              "    }\n",
              "</style>\n",
              "<table border=\"1\" class=\"dataframe\">\n",
              "  <thead>\n",
              "    <tr style=\"text-align: right;\">\n",
              "      <th></th>\n",
              "      <th>OrderQuantity</th>\n",
              "    </tr>\n",
              "    <tr>\n",
              "      <th>year</th>\n",
              "      <th></th>\n",
              "    </tr>\n",
              "  </thead>\n",
              "  <tbody>\n",
              "    <tr>\n",
              "      <th>2013</th>\n",
              "      <td>3186085</td>\n",
              "    </tr>\n",
              "    <tr>\n",
              "      <th>2012</th>\n",
              "      <td>1812969</td>\n",
              "    </tr>\n",
              "    <tr>\n",
              "      <th>2011</th>\n",
              "      <td>1287628</td>\n",
              "    </tr>\n",
              "    <tr>\n",
              "      <th>2017</th>\n",
              "      <td>739904</td>\n",
              "    </tr>\n",
              "    <tr>\n",
              "      <th>2016</th>\n",
              "      <td>447635</td>\n",
              "    </tr>\n",
              "    <tr>\n",
              "      <th>2015</th>\n",
              "      <td>328761</td>\n",
              "    </tr>\n",
              "    <tr>\n",
              "      <th>2014</th>\n",
              "      <td>328548</td>\n",
              "    </tr>\n",
              "    <tr>\n",
              "      <th>2010</th>\n",
              "      <td>276890</td>\n",
              "    </tr>\n",
              "    <tr>\n",
              "      <th>2018</th>\n",
              "      <td>73550</td>\n",
              "    </tr>\n",
              "    <tr>\n",
              "      <th>2009</th>\n",
              "      <td>35371</td>\n",
              "    </tr>\n",
              "    <tr>\n",
              "      <th>2008</th>\n",
              "      <td>1237</td>\n",
              "    </tr>\n",
              "  </tbody>\n",
              "</table>\n",
              "</div>\n",
              "      <button class=\"colab-df-convert\" onclick=\"convertToInteractive('df-124b373d-0891-48a3-a554-abd70d4e5435')\"\n",
              "              title=\"Convert this dataframe to an interactive table.\"\n",
              "              style=\"display:none;\">\n",
              "        \n",
              "  <svg xmlns=\"http://www.w3.org/2000/svg\" height=\"24px\"viewBox=\"0 0 24 24\"\n",
              "       width=\"24px\">\n",
              "    <path d=\"M0 0h24v24H0V0z\" fill=\"none\"/>\n",
              "    <path d=\"M18.56 5.44l.94 2.06.94-2.06 2.06-.94-2.06-.94-.94-2.06-.94 2.06-2.06.94zm-11 1L8.5 8.5l.94-2.06 2.06-.94-2.06-.94L8.5 2.5l-.94 2.06-2.06.94zm10 10l.94 2.06.94-2.06 2.06-.94-2.06-.94-.94-2.06-.94 2.06-2.06.94z\"/><path d=\"M17.41 7.96l-1.37-1.37c-.4-.4-.92-.59-1.43-.59-.52 0-1.04.2-1.43.59L10.3 9.45l-7.72 7.72c-.78.78-.78 2.05 0 2.83L4 21.41c.39.39.9.59 1.41.59.51 0 1.02-.2 1.41-.59l7.78-7.78 2.81-2.81c.8-.78.8-2.07 0-2.86zM5.41 20L4 18.59l7.72-7.72 1.47 1.35L5.41 20z\"/>\n",
              "  </svg>\n",
              "      </button>\n",
              "      \n",
              "  <style>\n",
              "    .colab-df-container {\n",
              "      display:flex;\n",
              "      flex-wrap:wrap;\n",
              "      gap: 12px;\n",
              "    }\n",
              "\n",
              "    .colab-df-convert {\n",
              "      background-color: #E8F0FE;\n",
              "      border: none;\n",
              "      border-radius: 50%;\n",
              "      cursor: pointer;\n",
              "      display: none;\n",
              "      fill: #1967D2;\n",
              "      height: 32px;\n",
              "      padding: 0 0 0 0;\n",
              "      width: 32px;\n",
              "    }\n",
              "\n",
              "    .colab-df-convert:hover {\n",
              "      background-color: #E2EBFA;\n",
              "      box-shadow: 0px 1px 2px rgba(60, 64, 67, 0.3), 0px 1px 3px 1px rgba(60, 64, 67, 0.15);\n",
              "      fill: #174EA6;\n",
              "    }\n",
              "\n",
              "    [theme=dark] .colab-df-convert {\n",
              "      background-color: #3B4455;\n",
              "      fill: #D2E3FC;\n",
              "    }\n",
              "\n",
              "    [theme=dark] .colab-df-convert:hover {\n",
              "      background-color: #434B5C;\n",
              "      box-shadow: 0px 1px 3px 1px rgba(0, 0, 0, 0.15);\n",
              "      filter: drop-shadow(0px 1px 2px rgba(0, 0, 0, 0.3));\n",
              "      fill: #FFFFFF;\n",
              "    }\n",
              "  </style>\n",
              "\n",
              "      <script>\n",
              "        const buttonEl =\n",
              "          document.querySelector('#df-124b373d-0891-48a3-a554-abd70d4e5435 button.colab-df-convert');\n",
              "        buttonEl.style.display =\n",
              "          google.colab.kernel.accessAllowed ? 'block' : 'none';\n",
              "\n",
              "        async function convertToInteractive(key) {\n",
              "          const element = document.querySelector('#df-124b373d-0891-48a3-a554-abd70d4e5435');\n",
              "          const dataTable =\n",
              "            await google.colab.kernel.invokeFunction('convertToInteractive',\n",
              "                                                     [key], {});\n",
              "          if (!dataTable) return;\n",
              "\n",
              "          const docLinkHtml = 'Like what you see? Visit the ' +\n",
              "            '<a target=\"_blank\" href=https://colab.research.google.com/notebooks/data_table.ipynb>data table notebook</a>'\n",
              "            + ' to learn more about interactive tables.';\n",
              "          element.innerHTML = '';\n",
              "          dataTable['output_type'] = 'display_data';\n",
              "          await google.colab.output.renderOutput(dataTable, element);\n",
              "          const docLink = document.createElement('div');\n",
              "          docLink.innerHTML = docLinkHtml;\n",
              "          element.appendChild(docLink);\n",
              "        }\n",
              "      </script>\n",
              "    </div>\n",
              "  </div>\n",
              "  "
            ]
          },
          "metadata": {},
          "execution_count": 53
        }
      ],
      "source": [
        "pd.DataFrame(transactionsdata_Train.groupby('year')['OrderQuantity'].sum().sort_values(ascending=False))"
      ]
    },
    {
      "cell_type": "code",
      "execution_count": 54,
      "metadata": {
        "id": "RTSUg3B8LMI5",
        "colab": {
          "base_uri": "https://localhost:8080/",
          "height": 312
        },
        "outputId": "ff87bf7b-dc61-4795-a11f-eb535a00ea27"
      },
      "outputs": [
        {
          "output_type": "execute_result",
          "data": {
            "text/plain": [
              "Text(0, 0.5, 'count')"
            ]
          },
          "metadata": {},
          "execution_count": 54
        },
        {
          "output_type": "display_data",
          "data": {
            "text/plain": [
              "<Figure size 432x288 with 1 Axes>"
            ],
            "image/png": "[encoded data removed]"
          },
          "metadata": {
            "needs_background": "light"
          }
        }
      ],
      "source": [
        "sns.countplot( x = 'year', data =transactionsdata_Train ,palette= \"tab10\",\n",
        "order = transactionsdata_Train['year'].value_counts().index)\n",
        "plt.title(\" recieved max orders in year \")\n",
        "plt.ylabel(\"count\")"
      ]
    },
    {
      "cell_type": "markdown",
      "metadata": {
        "id": "0vrEVqwKmCi-"
      },
      "source": [
        "<font color=orange>**Insights**:\n",
        "- In 2013 has maximum orders 3186085\n",
        "- In 2008 has least orders 1237\n"
      ]
    },
    {
      "cell_type": "code",
      "execution_count": 55,
      "metadata": {
        "id": "yUm6eDWbjXFj",
        "colab": {
          "base_uri": "https://localhost:8080/",
          "height": 487
        },
        "outputId": "888c0c81-757b-47e3-eede-743a340d18c9"
      },
      "outputs": [
        {
          "output_type": "execute_result",
          "data": {
            "text/plain": [
              "      CustomerID  Email_Type_CustomizedEmail  Email_Type_WelcomeEmail  \\\n",
              "0         C12116                        31.0                      1.0   \n",
              "1         C12117                         0.0                      1.0   \n",
              "2         C12118                         0.0                      1.0   \n",
              "3         C12119                        41.0                      1.0   \n",
              "4         C12120                         0.0                      1.0   \n",
              "...          ...                         ...                      ...   \n",
              "23815     C42185                        43.0                      1.0   \n",
              "23816     C42186                         0.0                      1.0   \n",
              "23817     C42187                         0.0                      1.0   \n",
              "23818     C42188                         0.0                      1.0   \n",
              "23819     C42189                        50.0                      1.0   \n",
              "\n",
              "       Mail_Clicked_NotApplicable  Mail_Clicked_no  Mail_Clicked_yes  \\\n",
              "0                             1.0             29.0               2.0   \n",
              "1                             1.0              0.0               0.0   \n",
              "2                             1.0              0.0               0.0   \n",
              "3                             1.0             37.0               4.0   \n",
              "4                             1.0              0.0               0.0   \n",
              "...                           ...              ...               ...   \n",
              "23815                         1.0             43.0               0.0   \n",
              "23816                         1.0              0.0               0.0   \n",
              "23817                         1.0              0.0               0.0   \n",
              "23818                         1.0              0.0               0.0   \n",
              "23819                         1.0             50.0               0.0   \n",
              "\n",
              "       Mail_Opened_no  Mail_Opened_yes   City DateOfRegistration  \\\n",
              "0                27.0              5.0  CITY3         2013-09-23   \n",
              "1                 0.0              1.0  CITY2         2013-12-05   \n",
              "2                 0.0              1.0  CITY4         2013-09-10   \n",
              "3                28.0             14.0  CITY2         2013-04-13   \n",
              "4                 0.0              1.0  CITY3         2014-01-10   \n",
              "...               ...              ...    ...                ...   \n",
              "23815            34.0             10.0  CITY2         2011-03-03   \n",
              "23816             0.0              1.0  CITY4         2013-11-23   \n",
              "23817             0.0              1.0  CITY2         2013-09-15   \n",
              "23818             0.0              1.0  CITY4         2011-10-04   \n",
              "23819            32.0             19.0  CITY3         2013-01-17   \n",
              "\n",
              "       OnlineCommunication  AutomaticRefill  DoorstepDelivery  \\\n",
              "0                        0                0                 0   \n",
              "1                        1                0                 0   \n",
              "2                        1                0                 0   \n",
              "3                        0                0                 0   \n",
              "4                        1                0                 0   \n",
              "...                    ...              ...               ...   \n",
              "23815                    0                0                 0   \n",
              "23816                    1                0                 0   \n",
              "23817                    1                0                 0   \n",
              "23818                    0                0                 0   \n",
              "23819                    1                0                 0   \n",
              "\n",
              "      PreferredDeliveryDay  OrderQuantity RetentionPotential  \n",
              "0                   Friday            115                Low  \n",
              "1                   Friday             41                Low  \n",
              "2                Wednesday             41               High  \n",
              "3                   Monday             52                Low  \n",
              "4                  Tuesday             31                Low  \n",
              "...                    ...            ...                ...  \n",
              "23815              Tuesday           1340                Low  \n",
              "23816               Friday             46               High  \n",
              "23817              Tuesday             41               High  \n",
              "23818               Friday             51                Low  \n",
              "23819            Wednesday            180                Low  \n",
              "\n",
              "[23820 rows x 16 columns]"
            ],
            "text/html": [
              "\n",
              "  <div id=\"df-a19ae6d3-43d7-4a06-9e15-38287d37490f\">\n",
              "    <div class=\"colab-df-container\">\n",
              "      <div>\n",
              "<style scoped>\n",
              "    .dataframe tbody tr th:only-of-type {\n",
              "        vertical-align: middle;\n",
              "    }\n",
              "\n",
              "    .dataframe tbody tr th {\n",
              "        vertical-align: top;\n",
              "    }\n",
              "\n",
              "    .dataframe thead th {\n",
              "        text-align: right;\n",
              "    }\n",
              "</style>\n",
              "<table border=\"1\" class=\"dataframe\">\n",
              "  <thead>\n",
              "    <tr style=\"text-align: right;\">\n",
              "      <th></th>\n",
              "      <th>CustomerID</th>\n",
              "      <th>Email_Type_CustomizedEmail</th>\n",
              "      <th>Email_Type_WelcomeEmail</th>\n",
              "      <th>Mail_Clicked_NotApplicable</th>\n",
              "      <th>Mail_Clicked_no</th>\n",
              "      <th>Mail_Clicked_yes</th>\n",
              "      <th>Mail_Opened_no</th>\n",
              "      <th>Mail_Opened_yes</th>\n",
              "      <th>City</th>\n",
              "      <th>DateOfRegistration</th>\n",
              "      <th>OnlineCommunication</th>\n",
              "      <th>AutomaticRefill</th>\n",
              "      <th>DoorstepDelivery</th>\n",
              "      <th>PreferredDeliveryDay</th>\n",
              "      <th>OrderQuantity</th>\n",
              "      <th>RetentionPotential</th>\n",
              "    </tr>\n",
              "  </thead>\n",
              "  <tbody>\n",
              "    <tr>\n",
              "      <th>0</th>\n",
              "      <td>C12116</td>\n",
              "      <td>31.0</td>\n",
              "      <td>1.0</td>\n",
              "      <td>1.0</td>\n",
              "      <td>29.0</td>\n",
              "      <td>2.0</td>\n",
              "      <td>27.0</td>\n",
              "      <td>5.0</td>\n",
              "      <td>CITY3</td>\n",
              "      <td>2013-09-23</td>\n",
              "      <td>0</td>\n",
              "      <td>0</td>\n",
              "      <td>0</td>\n",
              "      <td>Friday</td>\n",
              "      <td>115</td>\n",
              "      <td>Low</td>\n",
              "    </tr>\n",
              "    <tr>\n",
              "      <th>1</th>\n",
              "      <td>C12117</td>\n",
              "      <td>0.0</td>\n",
              "      <td>1.0</td>\n",
              "      <td>1.0</td>\n",
              "      <td>0.0</td>\n",
              "      <td>0.0</td>\n",
              "      <td>0.0</td>\n",
              "      <td>1.0</td>\n",
              "      <td>CITY2</td>\n",
              "      <td>2013-12-05</td>\n",
              "      <td>1</td>\n",
              "      <td>0</td>\n",
              "      <td>0</td>\n",
              "      <td>Friday</td>\n",
              "      <td>41</td>\n",
              "      <td>Low</td>\n",
              "    </tr>\n",
              "    <tr>\n",
              "      <th>2</th>\n",
              "      <td>C12118</td>\n",
              "      <td>0.0</td>\n",
              "      <td>1.0</td>\n",
              "      <td>1.0</td>\n",
              "      <td>0.0</td>\n",
              "      <td>0.0</td>\n",
              "      <td>0.0</td>\n",
              "      <td>1.0</td>\n",
              "      <td>CITY4</td>\n",
              "      <td>2013-09-10</td>\n",
              "      <td>1</td>\n",
              "      <td>0</td>\n",
              "      <td>0</td>\n",
              "      <td>Wednesday</td>\n",
              "      <td>41</td>\n",
              "      <td>High</td>\n",
              "    </tr>\n",
              "    <tr>\n",
              "      <th>3</th>\n",
              "      <td>C12119</td>\n",
              "      <td>41.0</td>\n",
              "      <td>1.0</td>\n",
              "      <td>1.0</td>\n",
              "      <td>37.0</td>\n",
              "      <td>4.0</td>\n",
              "      <td>28.0</td>\n",
              "      <td>14.0</td>\n",
              "      <td>CITY2</td>\n",
              "      <td>2013-04-13</td>\n",
              "      <td>0</td>\n",
              "      <td>0</td>\n",
              "      <td>0</td>\n",
              "      <td>Monday</td>\n",
              "      <td>52</td>\n",
              "      <td>Low</td>\n",
              "    </tr>\n",
              "    <tr>\n",
              "      <th>4</th>\n",
              "      <td>C12120</td>\n",
              "      <td>0.0</td>\n",
              "      <td>1.0</td>\n",
              "      <td>1.0</td>\n",
              "      <td>0.0</td>\n",
              "      <td>0.0</td>\n",
              "      <td>0.0</td>\n",
              "      <td>1.0</td>\n",
              "      <td>CITY3</td>\n",
              "      <td>2014-01-10</td>\n",
              "      <td>1</td>\n",
              "      <td>0</td>\n",
              "      <td>0</td>\n",
              "      <td>Tuesday</td>\n",
              "      <td>31</td>\n",
              "      <td>Low</td>\n",
              "    </tr>\n",
              "    <tr>\n",
              "      <th>...</th>\n",
              "      <td>...</td>\n",
              "      <td>...</td>\n",
              "      <td>...</td>\n",
              "      <td>...</td>\n",
              "      <td>...</td>\n",
              "      <td>...</td>\n",
              "      <td>...</td>\n",
              "      <td>...</td>\n",
              "      <td>...</td>\n",
              "      <td>...</td>\n",
              "      <td>...</td>\n",
              "      <td>...</td>\n",
              "      <td>...</td>\n",
              "      <td>...</td>\n",
              "      <td>...</td>\n",
              "      <td>...</td>\n",
              "    </tr>\n",
              "    <tr>\n",
              "      <th>23815</th>\n",
              "      <td>C42185</td>\n",
              "      <td>43.0</td>\n",
              "      <td>1.0</td>\n",
              "      <td>1.0</td>\n",
              "      <td>43.0</td>\n",
              "      <td>0.0</td>\n",
              "      <td>34.0</td>\n",
              "      <td>10.0</td>\n",
              "      <td>CITY2</td>\n",
              "      <td>2011-03-03</td>\n",
              "      <td>0</td>\n",
              "      <td>0</td>\n",
              "      <td>0</td>\n",
              "      <td>Tuesday</td>\n",
              "      <td>1340</td>\n",
              "      <td>Low</td>\n",
              "    </tr>\n",
              "    <tr>\n",
              "      <th>23816</th>\n",
              "      <td>C42186</td>\n",
              "      <td>0.0</td>\n",
              "      <td>1.0</td>\n",
              "      <td>1.0</td>\n",
              "      <td>0.0</td>\n",
              "      <td>0.0</td>\n",
              "      <td>0.0</td>\n",
              "      <td>1.0</td>\n",
              "      <td>CITY4</td>\n",
              "      <td>2013-11-23</td>\n",
              "      <td>1</td>\n",
              "      <td>0</td>\n",
              "      <td>0</td>\n",
              "      <td>Friday</td>\n",
              "      <td>46</td>\n",
              "      <td>High</td>\n",
              "    </tr>\n",
              "    <tr>\n",
              "      <th>23817</th>\n",
              "      <td>C42187</td>\n",
              "      <td>0.0</td>\n",
              "      <td>1.0</td>\n",
              "      <td>1.0</td>\n",
              "      <td>0.0</td>\n",
              "      <td>0.0</td>\n",
              "      <td>0.0</td>\n",
              "      <td>1.0</td>\n",
              "      <td>CITY2</td>\n",
              "      <td>2013-09-15</td>\n",
              "      <td>1</td>\n",
              "      <td>0</td>\n",
              "      <td>0</td>\n",
              "      <td>Tuesday</td>\n",
              "      <td>41</td>\n",
              "      <td>High</td>\n",
              "    </tr>\n",
              "    <tr>\n",
              "      <th>23818</th>\n",
              "      <td>C42188</td>\n",
              "      <td>0.0</td>\n",
              "      <td>1.0</td>\n",
              "      <td>1.0</td>\n",
              "      <td>0.0</td>\n",
              "      <td>0.0</td>\n",
              "      <td>0.0</td>\n",
              "      <td>1.0</td>\n",
              "      <td>CITY4</td>\n",
              "      <td>2011-10-04</td>\n",
              "      <td>0</td>\n",
              "      <td>0</td>\n",
              "      <td>0</td>\n",
              "      <td>Friday</td>\n",
              "      <td>51</td>\n",
              "      <td>Low</td>\n",
              "    </tr>\n",
              "    <tr>\n",
              "      <th>23819</th>\n",
              "      <td>C42189</td>\n",
              "      <td>50.0</td>\n",
              "      <td>1.0</td>\n",
              "      <td>1.0</td>\n",
              "      <td>50.0</td>\n",
              "      <td>0.0</td>\n",
              "      <td>32.0</td>\n",
              "      <td>19.0</td>\n",
              "      <td>CITY3</td>\n",
              "      <td>2013-01-17</td>\n",
              "      <td>1</td>\n",
              "      <td>0</td>\n",
              "      <td>0</td>\n",
              "      <td>Wednesday</td>\n",
              "      <td>180</td>\n",
              "      <td>Low</td>\n",
              "    </tr>\n",
              "  </tbody>\n",
              "</table>\n",
              "<p>23820 rows × 16 columns</p>\n",
              "</div>\n",
              "      <button class=\"colab-df-convert\" onclick=\"convertToInteractive('df-a19ae6d3-43d7-4a06-9e15-38287d37490f')\"\n",
              "              title=\"Convert this dataframe to an interactive table.\"\n",
              "              style=\"display:none;\">\n",
              "        \n",
              "  <svg xmlns=\"http://www.w3.org/2000/svg\" height=\"24px\"viewBox=\"0 0 24 24\"\n",
              "       width=\"24px\">\n",
              "    <path d=\"M0 0h24v24H0V0z\" fill=\"none\"/>\n",
              "    <path d=\"M18.56 5.44l.94 2.06.94-2.06 2.06-.94-2.06-.94-.94-2.06-.94 2.06-2.06.94zm-11 1L8.5 8.5l.94-2.06 2.06-.94-2.06-.94L8.5 2.5l-.94 2.06-2.06.94zm10 10l.94 2.06.94-2.06 2.06-.94-2.06-.94-.94-2.06-.94 2.06-2.06.94z\"/><path d=\"M17.41 7.96l-1.37-1.37c-.4-.4-.92-.59-1.43-.59-.52 0-1.04.2-1.43.59L10.3 9.45l-7.72 7.72c-.78.78-.78 2.05 0 2.83L4 21.41c.39.39.9.59 1.41.59.51 0 1.02-.2 1.41-.59l7.78-7.78 2.81-2.81c.8-.78.8-2.07 0-2.86zM5.41 20L4 18.59l7.72-7.72 1.47 1.35L5.41 20z\"/>\n",
              "  </svg>\n",
              "      </button>\n",
              "      \n",
              "  <style>\n",
              "    .colab-df-container {\n",
              "      display:flex;\n",
              "      flex-wrap:wrap;\n",
              "      gap: 12px;\n",
              "    }\n",
              "\n",
              "    .colab-df-convert {\n",
              "      background-color: #E8F0FE;\n",
              "      border: none;\n",
              "      border-radius: 50%;\n",
              "      cursor: pointer;\n",
              "      display: none;\n",
              "      fill: #1967D2;\n",
              "      height: 32px;\n",
              "      padding: 0 0 0 0;\n",
              "      width: 32px;\n",
              "    }\n",
              "\n",
              "    .colab-df-convert:hover {\n",
              "      background-color: #E2EBFA;\n",
              "      box-shadow: 0px 1px 2px rgba(60, 64, 67, 0.3), 0px 1px 3px 1px rgba(60, 64, 67, 0.15);\n",
              "      fill: #174EA6;\n",
              "    }\n",
              "\n",
              "    [theme=dark] .colab-df-convert {\n",
              "      background-color: #3B4455;\n",
              "      fill: #D2E3FC;\n",
              "    }\n",
              "\n",
              "    [theme=dark] .colab-df-convert:hover {\n",
              "      background-color: #434B5C;\n",
              "      box-shadow: 0px 1px 3px 1px rgba(0, 0, 0, 0.15);\n",
              "      filter: drop-shadow(0px 1px 2px rgba(0, 0, 0, 0.3));\n",
              "      fill: #FFFFFF;\n",
              "    }\n",
              "  </style>\n",
              "\n",
              "      <script>\n",
              "        const buttonEl =\n",
              "          document.querySelector('#df-a19ae6d3-43d7-4a06-9e15-38287d37490f button.colab-df-convert');\n",
              "        buttonEl.style.display =\n",
              "          google.colab.kernel.accessAllowed ? 'block' : 'none';\n",
              "\n",
              "        async function convertToInteractive(key) {\n",
              "          const element = document.querySelector('#df-a19ae6d3-43d7-4a06-9e15-38287d37490f');\n",
              "          const dataTable =\n",
              "            await google.colab.kernel.invokeFunction('convertToInteractive',\n",
              "                                                     [key], {});\n",
              "          if (!dataTable) return;\n",
              "\n",
              "          const docLinkHtml = 'Like what you see? Visit the ' +\n",
              "            '<a target=\"_blank\" href=https://colab.research.google.com/notebooks/data_table.ipynb>data table notebook</a>'\n",
              "            + ' to learn more about interactive tables.';\n",
              "          element.innerHTML = '';\n",
              "          dataTable['output_type'] = 'display_data';\n",
              "          await google.colab.output.renderOutput(dataTable, element);\n",
              "          const docLink = document.createElement('div');\n",
              "          docLink.innerHTML = docLinkHtml;\n",
              "          element.appendChild(docLink);\n",
              "        }\n",
              "      </script>\n",
              "    </div>\n",
              "  </div>\n",
              "  "
            ]
          },
          "metadata": {},
          "execution_count": 55
        }
      ],
      "source": [
        "total_df"
      ]
    },
    {
      "cell_type": "code",
      "execution_count": 19,
      "metadata": {
        "id": "UHVuM2q2iImq",
        "colab": {
          "base_uri": "https://localhost:8080/"
        },
        "outputId": "0a891a45-fb26-4d17-ff64-377fe91bab75"
      },
      "outputs": [
        {
          "output_type": "execute_result",
          "data": {
            "text/plain": [
              "['Email_Type_CustomizedEmail',\n",
              " 'Email_Type_WelcomeEmail',\n",
              " 'Mail_Clicked_NotApplicable',\n",
              " 'Mail_Clicked_no',\n",
              " 'Mail_Clicked_yes',\n",
              " 'Mail_Opened_no',\n",
              " 'Mail_Opened_yes',\n",
              " 'DateOfRegistration',\n",
              " 'OnlineCommunication',\n",
              " 'AutomaticRefill',\n",
              " 'DoorstepDelivery',\n",
              " 'OrderQuantity']"
            ]
          },
          "metadata": {},
          "execution_count": 19
        }
      ],
      "source": [
        "##Segregate numerical and categorical features\n",
        "num_features = [fea for fea in total_df.columns if total_df[fea].dtypes != \"O\"]##numerical features\n",
        "num_features"
      ]
    },
    {
      "cell_type": "code",
      "execution_count": 20,
      "metadata": {
        "id": "MdI0iadJidNq",
        "colab": {
          "base_uri": "https://localhost:8080/"
        },
        "outputId": "301e0018-6e41-420d-91c3-dfa0fda2a7ed"
      },
      "outputs": [
        {
          "output_type": "execute_result",
          "data": {
            "text/plain": [
              "['CustomerID', 'City', 'PreferredDeliveryDay', 'RetentionPotential']"
            ]
          },
          "metadata": {},
          "execution_count": 20
        }
      ],
      "source": [
        "categorical_features = [fea for fea in total_df.columns if total_df[fea].dtypes == \"O\"]##categorical features\n",
        "categorical_features"
      ]
    },
    {
      "cell_type": "markdown",
      "metadata": {
        "id": "32nd-UCHjNDj"
      },
      "source": [
        "<font color=voilet>**Univariate analysis**\n"
      ]
    },
    {
      "cell_type": "code",
      "execution_count": 58,
      "metadata": {
        "id": "Z25nD2QYjGkw",
        "colab": {
          "base_uri": "https://localhost:8080/",
          "height": 875
        },
        "outputId": "41c9e293-f0c8-4791-ea10-525534aa612a"
      },
      "outputs": [
        {
          "output_type": "display_data",
          "data": {
            "text/plain": [
              "<Figure size 1080x1080 with 12 Axes>"
            ],
            "image/png": "[encoded data removed]"
          },
          "metadata": {
            "needs_background": "light"
          }
        }
      ],
      "source": [
        "plt.figure(figsize = (15,15))\n",
        "plt.suptitle('Univariate Analysis of all features', fontsize = 20, fontweight = \"bold\", alpha = 0.8, y = 1.)\n",
        "\n",
        "for i in range(0, len(num_features)):\n",
        "    plt.subplot(5,3,i+1)\n",
        "    sns.kdeplot(total_df[num_features[i]], shade =True, color='r')\n",
        "    plt.xlabel(num_features[i])\n",
        "    plt.tight_layout()"
      ]
    },
    {
      "cell_type": "code",
      "source": [
        "total_df[categorical_features] = total_df[categorical_features].astype('category')"
      ],
      "metadata": {
        "id": "aRD6VwoYPdLN"
      },
      "execution_count": 21,
      "outputs": []
    },
    {
      "cell_type": "code",
      "source": [
        "total_df.dtypes"
      ],
      "metadata": {
        "id": "jhhA8I8PQOfR",
        "colab": {
          "base_uri": "https://localhost:8080/"
        },
        "outputId": "9865dffe-253a-4a0f-f984-e48923b83319"
      },
      "execution_count": 22,
      "outputs": [
        {
          "output_type": "execute_result",
          "data": {
            "text/plain": [
              "CustomerID                          category\n",
              "Email_Type_CustomizedEmail           float64\n",
              "Email_Type_WelcomeEmail              float64\n",
              "Mail_Clicked_NotApplicable           float64\n",
              "Mail_Clicked_no                      float64\n",
              "Mail_Clicked_yes                     float64\n",
              "Mail_Opened_no                       float64\n",
              "Mail_Opened_yes                      float64\n",
              "City                                category\n",
              "DateOfRegistration            datetime64[ns]\n",
              "OnlineCommunication                    int64\n",
              "AutomaticRefill                        int64\n",
              "DoorstepDelivery                       int64\n",
              "PreferredDeliveryDay                category\n",
              "OrderQuantity                          int64\n",
              "RetentionPotential                  category\n",
              "dtype: object"
            ]
          },
          "metadata": {},
          "execution_count": 22
        }
      ]
    },
    {
      "cell_type": "code",
      "source": [
        "total_df.drop(['CustomerID','DateOfRegistration','Email_Type_WelcomeEmail','Mail_Clicked_NotApplicable' ],axis=1,inplace=True)"
      ],
      "metadata": {
        "id": "yu3Z1E9KQslu"
      },
      "execution_count": null,
      "outputs": []
    },
    {
      "cell_type": "markdown",
      "metadata": {
        "id": "sh__B8sKmYWF"
      },
      "source": [
        "# <font color=orange>**Creating Independent and Dependent Features**\n"
      ]
    },
    {
      "cell_type": "code",
      "execution_count": null,
      "metadata": {
        "id": "Xyf4aJa-25y8"
      },
      "outputs": [],
      "source": [
        "##Dividing the dataset into independent and dependent features\n",
        "x = total_df.drop(['RetentionPotential'],axis = 1)##independent features\n",
        "y = total_df['RetentionPotential']##dependent features"
      ]
    },
    {
      "cell_type": "code",
      "source": [
        "x.head()"
      ],
      "metadata": {
        "id": "1qPmrO2V6sZl",
        "colab": {
          "base_uri": "https://localhost:8080/",
          "height": 270
        },
        "outputId": "17de87e9-e9e4-4d82-a438-ef2c3e1b235a"
      },
      "execution_count": null,
      "outputs": [
        {
          "output_type": "execute_result",
          "data": {
            "text/plain": [
              "   Email_Type_CustomizedEmail  Mail_Clicked_no  Mail_Clicked_yes  \\\n",
              "0                        31.0             29.0               2.0   \n",
              "1                         0.0              0.0               0.0   \n",
              "2                         0.0              0.0               0.0   \n",
              "3                        41.0             37.0               4.0   \n",
              "4                         0.0              0.0               0.0   \n",
              "\n",
              "   Mail_Opened_no  Mail_Opened_yes   City  OnlineCommunication  \\\n",
              "0            27.0              5.0  CITY3                    0   \n",
              "1             0.0              1.0  CITY2                    1   \n",
              "2             0.0              1.0  CITY4                    1   \n",
              "3            28.0             14.0  CITY2                    0   \n",
              "4             0.0              1.0  CITY3                    1   \n",
              "\n",
              "   AutomaticRefill  DoorstepDelivery PreferredDeliveryDay  OrderQuantity  \n",
              "0                0                 0               Friday            115  \n",
              "1                0                 0               Friday             41  \n",
              "2                0                 0            Wednesday             41  \n",
              "3                0                 0               Monday             52  \n",
              "4                0                 0              Tuesday             31  "
            ],
            "text/html": [
              "\n",
              "  <div id=\"df-dc7d46e2-a5cb-47c7-a3ab-26cbb87214cf\">\n",
              "    <div class=\"colab-df-container\">\n",
              "      <div>\n",
              "<style scoped>\n",
              "    .dataframe tbody tr th:only-of-type {\n",
              "        vertical-align: middle;\n",
              "    }\n",
              "\n",
              "    .dataframe tbody tr th {\n",
              "        vertical-align: top;\n",
              "    }\n",
              "\n",
              "    .dataframe thead th {\n",
              "        text-align: right;\n",
              "    }\n",
              "</style>\n",
              "<table border=\"1\" class=\"dataframe\">\n",
              "  <thead>\n",
              "    <tr style=\"text-align: right;\">\n",
              "      <th></th>\n",
              "      <th>Email_Type_CustomizedEmail</th>\n",
              "      <th>Mail_Clicked_no</th>\n",
              "      <th>Mail_Clicked_yes</th>\n",
              "      <th>Mail_Opened_no</th>\n",
              "      <th>Mail_Opened_yes</th>\n",
              "      <th>City</th>\n",
              "      <th>OnlineCommunication</th>\n",
              "      <th>AutomaticRefill</th>\n",
              "      <th>DoorstepDelivery</th>\n",
              "      <th>PreferredDeliveryDay</th>\n",
              "      <th>OrderQuantity</th>\n",
              "    </tr>\n",
              "  </thead>\n",
              "  <tbody>\n",
              "    <tr>\n",
              "      <th>0</th>\n",
              "      <td>31.0</td>\n",
              "      <td>29.0</td>\n",
              "      <td>2.0</td>\n",
              "      <td>27.0</td>\n",
              "      <td>5.0</td>\n",
              "      <td>CITY3</td>\n",
              "      <td>0</td>\n",
              "      <td>0</td>\n",
              "      <td>0</td>\n",
              "      <td>Friday</td>\n",
              "      <td>115</td>\n",
              "    </tr>\n",
              "    <tr>\n",
              "      <th>1</th>\n",
              "      <td>0.0</td>\n",
              "      <td>0.0</td>\n",
              "      <td>0.0</td>\n",
              "      <td>0.0</td>\n",
              "      <td>1.0</td>\n",
              "      <td>CITY2</td>\n",
              "      <td>1</td>\n",
              "      <td>0</td>\n",
              "      <td>0</td>\n",
              "      <td>Friday</td>\n",
              "      <td>41</td>\n",
              "    </tr>\n",
              "    <tr>\n",
              "      <th>2</th>\n",
              "      <td>0.0</td>\n",
              "      <td>0.0</td>\n",
              "      <td>0.0</td>\n",
              "      <td>0.0</td>\n",
              "      <td>1.0</td>\n",
              "      <td>CITY4</td>\n",
              "      <td>1</td>\n",
              "      <td>0</td>\n",
              "      <td>0</td>\n",
              "      <td>Wednesday</td>\n",
              "      <td>41</td>\n",
              "    </tr>\n",
              "    <tr>\n",
              "      <th>3</th>\n",
              "      <td>41.0</td>\n",
              "      <td>37.0</td>\n",
              "      <td>4.0</td>\n",
              "      <td>28.0</td>\n",
              "      <td>14.0</td>\n",
              "      <td>CITY2</td>\n",
              "      <td>0</td>\n",
              "      <td>0</td>\n",
              "      <td>0</td>\n",
              "      <td>Monday</td>\n",
              "      <td>52</td>\n",
              "    </tr>\n",
              "    <tr>\n",
              "      <th>4</th>\n",
              "      <td>0.0</td>\n",
              "      <td>0.0</td>\n",
              "      <td>0.0</td>\n",
              "      <td>0.0</td>\n",
              "      <td>1.0</td>\n",
              "      <td>CITY3</td>\n",
              "      <td>1</td>\n",
              "      <td>0</td>\n",
              "      <td>0</td>\n",
              "      <td>Tuesday</td>\n",
              "      <td>31</td>\n",
              "    </tr>\n",
              "  </tbody>\n",
              "</table>\n",
              "</div>\n",
              "      <button class=\"colab-df-convert\" onclick=\"convertToInteractive('df-dc7d46e2-a5cb-47c7-a3ab-26cbb87214cf')\"\n",
              "              title=\"Convert this dataframe to an interactive table.\"\n",
              "              style=\"display:none;\">\n",
              "        \n",
              "  <svg xmlns=\"http://www.w3.org/2000/svg\" height=\"24px\"viewBox=\"0 0 24 24\"\n",
              "       width=\"24px\">\n",
              "    <path d=\"M0 0h24v24H0V0z\" fill=\"none\"/>\n",
              "    <path d=\"M18.56 5.44l.94 2.06.94-2.06 2.06-.94-2.06-.94-.94-2.06-.94 2.06-2.06.94zm-11 1L8.5 8.5l.94-2.06 2.06-.94-2.06-.94L8.5 2.5l-.94 2.06-2.06.94zm10 10l.94 2.06.94-2.06 2.06-.94-2.06-.94-.94-2.06-.94 2.06-2.06.94z\"/><path d=\"M17.41 7.96l-1.37-1.37c-.4-.4-.92-.59-1.43-.59-.52 0-1.04.2-1.43.59L10.3 9.45l-7.72 7.72c-.78.78-.78 2.05 0 2.83L4 21.41c.39.39.9.59 1.41.59.51 0 1.02-.2 1.41-.59l7.78-7.78 2.81-2.81c.8-.78.8-2.07 0-2.86zM5.41 20L4 18.59l7.72-7.72 1.47 1.35L5.41 20z\"/>\n",
              "  </svg>\n",
              "      </button>\n",
              "      \n",
              "  <style>\n",
              "    .colab-df-container {\n",
              "      display:flex;\n",
              "      flex-wrap:wrap;\n",
              "      gap: 12px;\n",
              "    }\n",
              "\n",
              "    .colab-df-convert {\n",
              "      background-color: #E8F0FE;\n",
              "      border: none;\n",
              "      border-radius: 50%;\n",
              "      cursor: pointer;\n",
              "      display: none;\n",
              "      fill: #1967D2;\n",
              "      height: 32px;\n",
              "      padding: 0 0 0 0;\n",
              "      width: 32px;\n",
              "    }\n",
              "\n",
              "    .colab-df-convert:hover {\n",
              "      background-color: #E2EBFA;\n",
              "      box-shadow: 0px 1px 2px rgba(60, 64, 67, 0.3), 0px 1px 3px 1px rgba(60, 64, 67, 0.15);\n",
              "      fill: #174EA6;\n",
              "    }\n",
              "\n",
              "    [theme=dark] .colab-df-convert {\n",
              "      background-color: #3B4455;\n",
              "      fill: #D2E3FC;\n",
              "    }\n",
              "\n",
              "    [theme=dark] .colab-df-convert:hover {\n",
              "      background-color: #434B5C;\n",
              "      box-shadow: 0px 1px 3px 1px rgba(0, 0, 0, 0.15);\n",
              "      filter: drop-shadow(0px 1px 2px rgba(0, 0, 0, 0.3));\n",
              "      fill: #FFFFFF;\n",
              "    }\n",
              "  </style>\n",
              "\n",
              "      <script>\n",
              "        const buttonEl =\n",
              "          document.querySelector('#df-dc7d46e2-a5cb-47c7-a3ab-26cbb87214cf button.colab-df-convert');\n",
              "        buttonEl.style.display =\n",
              "          google.colab.kernel.accessAllowed ? 'block' : 'none';\n",
              "\n",
              "        async function convertToInteractive(key) {\n",
              "          const element = document.querySelector('#df-dc7d46e2-a5cb-47c7-a3ab-26cbb87214cf');\n",
              "          const dataTable =\n",
              "            await google.colab.kernel.invokeFunction('convertToInteractive',\n",
              "                                                     [key], {});\n",
              "          if (!dataTable) return;\n",
              "\n",
              "          const docLinkHtml = 'Like what you see? Visit the ' +\n",
              "            '<a target=\"_blank\" href=https://colab.research.google.com/notebooks/data_table.ipynb>data table notebook</a>'\n",
              "            + ' to learn more about interactive tables.';\n",
              "          element.innerHTML = '';\n",
              "          dataTable['output_type'] = 'display_data';\n",
              "          await google.colab.output.renderOutput(dataTable, element);\n",
              "          const docLink = document.createElement('div');\n",
              "          docLink.innerHTML = docLinkHtml;\n",
              "          element.appendChild(docLink);\n",
              "        }\n",
              "      </script>\n",
              "    </div>\n",
              "  </div>\n",
              "  "
            ]
          },
          "metadata": {},
          "execution_count": 179
        }
      ]
    },
    {
      "cell_type": "code",
      "execution_count": null,
      "metadata": {
        "id": "66DAKtHdMedE",
        "colab": {
          "base_uri": "https://localhost:8080/"
        },
        "outputId": "b5d5fc06-c8d7-451f-8865-61634bdff6cd"
      },
      "outputs": [
        {
          "output_type": "execute_result",
          "data": {
            "text/plain": [
              "0         Low\n",
              "1         Low\n",
              "2        High\n",
              "3         Low\n",
              "4         Low\n",
              "         ... \n",
              "23815     Low\n",
              "23816    High\n",
              "23817    High\n",
              "23818     Low\n",
              "23819     Low\n",
              "Name: RetentionPotential, Length: 23820, dtype: category\n",
              "Categories (3, object): ['High', 'Low', 'Medium']"
            ]
          },
          "metadata": {},
          "execution_count": 180
        }
      ],
      "source": [
        "y"
      ]
    },
    {
      "cell_type": "markdown",
      "metadata": {
        "id": "5jF-j8VhXxzH"
      },
      "source": [
        "# **Train Test Split**\n"
      ]
    },
    {
      "cell_type": "code",
      "execution_count": null,
      "metadata": {
        "id": "aFcSsHHtNTBR"
      },
      "outputs": [],
      "source": [
        "## Splitting the Dataset into Train And Test\n",
        "from sklearn.model_selection import train_test_split\n",
        "X_train, X_test, y_train, y_test = train_test_split(x,y,test_size=0.2, random_state=42)"
      ]
    },
    {
      "cell_type": "code",
      "execution_count": null,
      "metadata": {
        "id": "Chiu3fUqYIKb",
        "colab": {
          "base_uri": "https://localhost:8080/"
        },
        "outputId": "bb9d7f56-4189-4b47-e4e3-9766048f5340"
      },
      "outputs": [
        {
          "output_type": "execute_result",
          "data": {
            "text/plain": [
              "((19056, 11), (19056,))"
            ]
          },
          "metadata": {},
          "execution_count": 182
        }
      ],
      "source": [
        "# Check the data dimensions of X_train and y_train\n",
        "X_train.shape,y_train.shape\n"
      ]
    },
    {
      "cell_type": "code",
      "execution_count": null,
      "metadata": {
        "id": "DxDhnDkhYI8V",
        "colab": {
          "base_uri": "https://localhost:8080/"
        },
        "outputId": "dfeb799c-038c-41ac-9377-673a72e38bd0"
      },
      "outputs": [
        {
          "output_type": "execute_result",
          "data": {
            "text/plain": [
              "((4764, 11), (4764,))"
            ]
          },
          "metadata": {},
          "execution_count": 183
        }
      ],
      "source": [
        "# Check the data dimensions of X_test and y_test\n",
        "X_test.shape,y_test.shape\n"
      ]
    },
    {
      "cell_type": "code",
      "execution_count": null,
      "metadata": {
        "id": "4xIJddAViUkS",
        "colab": {
          "base_uri": "https://localhost:8080/"
        },
        "outputId": "20f437c5-8aa1-4840-f9e4-4cbcd86bcf7f"
      },
      "outputs": [
        {
          "output_type": "execute_result",
          "data": {
            "text/plain": [
              "Low       15386\n",
              "High       2974\n",
              "Medium      696\n",
              "Name: RetentionPotential, dtype: int64"
            ]
          },
          "metadata": {},
          "execution_count": 184
        }
      ],
      "source": [
        "y_train.value_counts()"
      ]
    },
    {
      "cell_type": "code",
      "execution_count": null,
      "metadata": {
        "id": "UdkzVgsFim58",
        "colab": {
          "base_uri": "https://localhost:8080/"
        },
        "outputId": "43eadb35-442d-44bc-a5d1-dba4a6ac41fc"
      },
      "outputs": [
        {
          "output_type": "execute_result",
          "data": {
            "text/plain": [
              "Low       3799\n",
              "High       782\n",
              "Medium     183\n",
              "Name: RetentionPotential, dtype: int64"
            ]
          },
          "metadata": {},
          "execution_count": 185
        }
      ],
      "source": [
        "y_test.value_counts()"
      ]
    },
    {
      "cell_type": "markdown",
      "source": [
        "##<font color=red> **Convert categorical to numerical**\n"
      ],
      "metadata": {
        "id": "xuDIqkg5Wk-U"
      }
    },
    {
      "cell_type": "code",
      "source": [
        "from sklearn.preprocessing import LabelEncoder\n",
        "le = LabelEncoder()\n",
        "le.fit(y_train)\n",
        "\n",
        "y_train = le.transform(y_train)\n",
        "y_test = le.transform(y_test)\n"
      ],
      "metadata": {
        "id": "LWSIxVhDaktF"
      },
      "execution_count": null,
      "outputs": []
    },
    {
      "cell_type": "code",
      "source": [
        "pd.value_counts(y_train)"
      ],
      "metadata": {
        "id": "zqFKicwrazXC",
        "colab": {
          "base_uri": "https://localhost:8080/"
        },
        "outputId": "e4894ea3-3988-42f0-db78-0a82bf39cab6"
      },
      "execution_count": null,
      "outputs": [
        {
          "output_type": "execute_result",
          "data": {
            "text/plain": [
              "1    15386\n",
              "0     2974\n",
              "2      696\n",
              "dtype: int64"
            ]
          },
          "metadata": {},
          "execution_count": 187
        }
      ]
    },
    {
      "cell_type": "markdown",
      "source": [
        "##<font color=green>By using Label encoder the output will be in array [0, 1, 2], which represents the numerical labels for the categorical values \"High\", \"Low\", and \"Medium\"."
      ],
      "metadata": {
        "id": "esGVpk3yYGuU"
      }
    },
    {
      "cell_type": "code",
      "source": [
        "cat_attr = X_train.select_dtypes(include=['category']).columns"
      ],
      "metadata": {
        "id": "kZ6Ccrhl4wEO"
      },
      "execution_count": null,
      "outputs": []
    },
    {
      "cell_type": "code",
      "source": [
        "from sklearn.preprocessing import OneHotEncoder\n",
        "enc = OneHotEncoder(drop = 'first')\n",
        "enc.fit(X_train[cat_attr])\n",
        "X_train_ohe=enc.transform(X_train[cat_attr]).toarray()\n",
        "X_test_ohe=enc.transform(X_test[cat_attr]).toarray()"
      ],
      "metadata": {
        "id": "vg_2NrfoSNiY"
      },
      "execution_count": null,
      "outputs": []
    },
    {
      "cell_type": "code",
      "source": [
        "print(X_train_ohe.shape)\n",
        "print(X_test_ohe.shape)"
      ],
      "metadata": {
        "colab": {
          "base_uri": "https://localhost:8080/"
        },
        "id": "lZUyM-Puo23_",
        "outputId": "f3b44643-8bb0-47e3-dee1-9368311b7f9c"
      },
      "execution_count": null,
      "outputs": [
        {
          "output_type": "stream",
          "name": "stdout",
          "text": [
            "(19056, 9)\n",
            "(4764, 9)\n"
          ]
        }
      ]
    },
    {
      "cell_type": "markdown",
      "metadata": {
        "id": "V0MrxO7dohRE"
      },
      "source": [
        "# <font color=blue>**Standardize numerical variables**"
      ]
    },
    {
      "cell_type": "code",
      "source": [
        "num_attr = X_train.select_dtypes(include=['int64','float64']).columns"
      ],
      "metadata": {
        "id": "qExXIRC2T9MD"
      },
      "execution_count": null,
      "outputs": []
    },
    {
      "cell_type": "code",
      "source": [
        "from sklearn.preprocessing import StandardScaler\n",
        "scaler = StandardScaler()\n",
        "scaler.fit(X_train[num_attr])\n",
        "X_train_std = scaler.transform(X_train[num_attr])\n",
        "X_test_std = scaler.transform(X_test[num_attr])"
      ],
      "metadata": {
        "id": "yp5xyaniVOMV"
      },
      "execution_count": null,
      "outputs": []
    },
    {
      "cell_type": "code",
      "source": [
        "print(X_train_std.shape)\n",
        "print(X_test_std.shape)\n"
      ],
      "metadata": {
        "id": "DlgIXttw_uKO",
        "colab": {
          "base_uri": "https://localhost:8080/"
        },
        "outputId": "c46c5400-64c7-4524-f972-776149865838"
      },
      "execution_count": null,
      "outputs": [
        {
          "output_type": "stream",
          "name": "stdout",
          "text": [
            "(19056, 9)\n",
            "(4764, 9)\n"
          ]
        }
      ]
    },
    {
      "cell_type": "markdown",
      "source": [
        "**Concatenate attribute Standardised numeric attributes and One hot encoded categorical attributes**"
      ],
      "metadata": {
        "id": "YNcBU6LbYFBa"
      }
    },
    {
      "cell_type": "code",
      "source": [
        "X_train_con = np.concatenate([X_train_std, X_train_ohe], axis=1)\n",
        "X_test_con = np.concatenate([X_test_std, X_test_ohe], axis=1)"
      ],
      "metadata": {
        "id": "09-n648HVgmE"
      },
      "execution_count": null,
      "outputs": []
    },
    {
      "cell_type": "code",
      "source": [
        "print(X_train_con.shape)\n",
        "print(X_test_con.shape)"
      ],
      "metadata": {
        "id": "u47BA5b6_9yL",
        "colab": {
          "base_uri": "https://localhost:8080/"
        },
        "outputId": "1bf8f29f-d76e-4bd4-a1ab-4ec0e89b77a3"
      },
      "execution_count": null,
      "outputs": [
        {
          "output_type": "stream",
          "name": "stdout",
          "text": [
            "(19056, 18)\n",
            "(4764, 18)\n"
          ]
        }
      ]
    },
    {
      "cell_type": "markdown",
      "metadata": {
        "id": "_IveWwVSpI9O"
      },
      "source": [
        "# <font color=brown> **Model building**"
      ]
    },
    {
      "cell_type": "markdown",
      "source": [
        "# <font color=blue>**RandomForest**"
      ],
      "metadata": {
        "id": "EM6yIG6jGYiU"
      }
    },
    {
      "cell_type": "code",
      "execution_count": null,
      "metadata": {
        "id": "xCYSedWCt3Uo"
      },
      "outputs": [],
      "source": [
        "from sklearn.ensemble import RandomForestClassifier\n",
        "clf1 = RandomForestClassifier()\n",
        "clf1.fit(X_train_con, y_train)\n",
        "\n",
        "train_pred_rf = clf1.predict(X_train_con)\n",
        "test_pred_rf = clf1.predict(X_test_con)"
      ]
    },
    {
      "cell_type": "code",
      "source": [
        "from sklearn.metrics import confusion_matrix, accuracy_score, recall_score, precision_score, f1_score\n"
      ],
      "metadata": {
        "id": "UZUmia3sAhjy"
      },
      "execution_count": null,
      "outputs": []
    },
    {
      "cell_type": "code",
      "source": [
        "def evaluate_model(act, pred):\n",
        "    print(\"Confusion Matrix \\n\", confusion_matrix(act, pred))\n",
        "    print(\"Recall   : \", recall_score(act, pred,average='macro'))\n",
        "    \n",
        "    "
      ],
      "metadata": {
        "id": "t-uLl8pBAM_U"
      },
      "execution_count": null,
      "outputs": []
    },
    {
      "cell_type": "code",
      "source": [
        "print(\"--Train--\")\n",
        "evaluate_model(y_train, train_pred_rf)\n",
        "print(\"--Test--\")\n",
        "evaluate_model(y_test, test_pred_rf)"
      ],
      "metadata": {
        "id": "yU47TEgr9THT",
        "colab": {
          "base_uri": "https://localhost:8080/"
        },
        "outputId": "00104971-b411-4633-b052-4eb7a2027789"
      },
      "execution_count": null,
      "outputs": [
        {
          "output_type": "stream",
          "name": "stdout",
          "text": [
            "--Train--\n",
            "Confusion Matrix \n",
            " [[ 2148   823     3]\n",
            " [  247 15139     0]\n",
            " [    1    34   661]]\n",
            "Recall   :  0.8853062238504181\n",
            "--Test--\n",
            "Confusion Matrix \n",
            " [[ 377  389   16]\n",
            " [ 198 3593    8]\n",
            " [  24   35  124]]\n",
            "Recall   :  0.7018226730390401\n"
          ]
        }
      ]
    },
    {
      "cell_type": "code",
      "source": [
        "# Classification Report\n",
        "from sklearn.metrics import classification_report\n",
        "print(classification_report(y_test,test_pred_rf))"
      ],
      "metadata": {
        "colab": {
          "base_uri": "https://localhost:8080/"
        },
        "id": "s6H3_f1ajUHU",
        "outputId": "36b8c747-73c5-4c1d-9108-310730136873"
      },
      "execution_count": null,
      "outputs": [
        {
          "output_type": "stream",
          "name": "stdout",
          "text": [
            "              precision    recall  f1-score   support\n",
            "\n",
            "           0       0.63      0.48      0.55       782\n",
            "           1       0.89      0.95      0.92      3799\n",
            "           2       0.84      0.68      0.75       183\n",
            "\n",
            "    accuracy                           0.86      4764\n",
            "   macro avg       0.79      0.70      0.74      4764\n",
            "weighted avg       0.85      0.86      0.85      4764\n",
            "\n"
          ]
        }
      ]
    },
    {
      "cell_type": "markdown",
      "source": [
        "# **Hyper Parameters**"
      ],
      "metadata": {
        "id": "UtaZ3jaBa_CH"
      }
    },
    {
      "cell_type": "code",
      "source": [
        "from sklearn.model_selection import GridSearchCV\n",
        "param_grid = {\"criterion\":['gini','entropy'],\n",
        "              \"n_estimators\": [50,100],\n",
        "              \"max_depth\":[1,5],\n",
        "              \"max_features\":['auto','sqrt','log2'],\n",
        "              \"min_samples_split\":[2,4],\n",
        "              \"min_samples_leaf\":[1,2,4],\n",
        "              \"random_state\":[0,1] }\n",
        "clf = RandomForestClassifier()\n",
        "clf_grid = GridSearchCV(clf,param_grid,cv=4)\n",
        "clf_grid.fit(X_train_con,y_train)\n",
        "print(clf_grid.best_params_)"
      ],
      "metadata": {
        "colab": {
          "base_uri": "https://localhost:8080/"
        },
        "id": "br88my_RsGId",
        "outputId": "b7e5db21-4b84-4b78-dc76-342c8f692ad6"
      },
      "execution_count": null,
      "outputs": [
        {
          "output_type": "stream",
          "name": "stdout",
          "text": [
            "{'criterion': 'gini', 'max_depth': 5, 'max_features': 'auto', 'min_samples_leaf': 4, 'min_samples_split': 2, 'n_estimators': 100, 'random_state': 1}\n"
          ]
        }
      ]
    },
    {
      "cell_type": "code",
      "source": [
        "clf_grid = RandomForestClassifier(class_weight='balanced',\n",
        "                                  criterion='gini',\n",
        "                                  max_depth = 5, \n",
        "                                  max_features = 'auto', \n",
        "                                  min_samples_leaf = 1,\n",
        "                                  min_samples_split = 2,\n",
        "                                  n_estimators =  100,\n",
        "                                  random_state=0)\n",
        "clf_grid.fit(X_train_con,y_train)\n",
        "\n",
        "train_pred_grid = clf_grid.predict(X_train_con)\n",
        "test_pred_grid = clf_grid.predict(X_test_con)\n"
      ],
      "metadata": {
        "id": "gRc6axDR8_ny"
      },
      "execution_count": null,
      "outputs": []
    },
    {
      "cell_type": "code",
      "source": [
        "print(\"--Train--\")\n",
        "evaluate_model(y_train, train_pred_grid)\n",
        "print(\"--Test--\")\n",
        "evaluate_model(y_test, test_pred_grid)"
      ],
      "metadata": {
        "colab": {
          "base_uri": "https://localhost:8080/"
        },
        "id": "NkRuip0nvedV",
        "outputId": "d4c0e991-1cb1-43d8-a8cc-953f4b7e5221"
      },
      "execution_count": null,
      "outputs": [
        {
          "output_type": "stream",
          "name": "stdout",
          "text": [
            "--Train--\n",
            "Confusion Matrix \n",
            " [[ 2658   163   153]\n",
            " [ 4637 10110   639]\n",
            " [   17    32   647]]\n",
            "Recall   :  0.8268114532927949\n",
            "--Test--\n",
            "Confusion Matrix \n",
            " [[ 704   44   34]\n",
            " [1181 2428  190]\n",
            " [   5   15  163]]\n",
            "Recall   :  0.8100272312382728\n"
          ]
        }
      ]
    },
    {
      "cell_type": "code",
      "source": [
        "# Classification Report train data\n",
        "from sklearn.metrics import classification_report\n",
        "print(classification_report(y_train,train_pred_grid))"
      ],
      "metadata": {
        "colab": {
          "base_uri": "https://localhost:8080/"
        },
        "id": "JehthEDJ_Lwf",
        "outputId": "636b834d-e3c8-427b-a7d9-0129c74232cb"
      },
      "execution_count": null,
      "outputs": [
        {
          "output_type": "stream",
          "name": "stdout",
          "text": [
            "              precision    recall  f1-score   support\n",
            "\n",
            "           0       0.36      0.89      0.52      2974\n",
            "           1       0.98      0.66      0.79     15386\n",
            "           2       0.45      0.93      0.61       696\n",
            "\n",
            "    accuracy                           0.70     19056\n",
            "   macro avg       0.60      0.83      0.64     19056\n",
            "weighted avg       0.87      0.70      0.74     19056\n",
            "\n"
          ]
        }
      ]
    },
    {
      "cell_type": "code",
      "source": [
        "# Classification Report for test data\n",
        "from sklearn.metrics import classification_report\n",
        "print(classification_report(y_test,test_pred_grid))"
      ],
      "metadata": {
        "colab": {
          "base_uri": "https://localhost:8080/"
        },
        "id": "IlvZ3m3xjhun",
        "outputId": "1063a153-918f-4639-ff2b-1b36bbe46352"
      },
      "execution_count": null,
      "outputs": [
        {
          "output_type": "stream",
          "name": "stdout",
          "text": [
            "              precision    recall  f1-score   support\n",
            "\n",
            "           0       0.37      0.90      0.53       782\n",
            "           1       0.98      0.64      0.77      3799\n",
            "           2       0.42      0.89      0.57       183\n",
            "\n",
            "    accuracy                           0.69      4764\n",
            "   macro avg       0.59      0.81      0.62      4764\n",
            "weighted avg       0.86      0.69      0.72      4764\n",
            "\n"
          ]
        }
      ]
    },
    {
      "cell_type": "markdown",
      "source": [
        "# <font color=blue>Observations:\n",
        "\n",
        "  \n",
        "*   **So we can see that after hyperparameter tunning the difference between our trainig and test Recall is reduced .. that mean our model will not be overfitted and its recall is 82%.**\n",
        "\n",
        "*  **By using classification report we can say that for medium customers its recall is 89%.**"
      ],
      "metadata": {
        "id": "5GuANWiG_coZ"
      }
    },
    {
      "cell_type": "markdown",
      "source": [
        "# <font color=brown>**DecisionTreeClassifier**"
      ],
      "metadata": {
        "id": "lbxOm0a017QG"
      }
    },
    {
      "cell_type": "code",
      "source": [
        "from sklearn.tree import DecisionTreeClassifier\n",
        "dtc= DecisionTreeClassifier(random_state=1)\n",
        "dtc.fit(X_train_con, y_train)\n",
        "\n",
        "train_pred_dtc = dtc.predict(X_train_con)\n",
        "test_pred_dtc = dtc.predict(X_test_con)"
      ],
      "metadata": {
        "id": "Ht-X5vI1xHd1"
      },
      "execution_count": null,
      "outputs": []
    },
    {
      "cell_type": "code",
      "source": [
        "print(\"--Train--\")\n",
        "evaluate_model(y_train, train_pred_dtc)\n",
        "print(\"--Test--\")\n",
        "evaluate_model(y_test, test_pred_dtc)"
      ],
      "metadata": {
        "colab": {
          "base_uri": "https://localhost:8080/"
        },
        "id": "Ssu6ERZf1Sm_",
        "outputId": "fd4596d9-5b53-47a5-d892-ac4b1458600a"
      },
      "execution_count": null,
      "outputs": [
        {
          "output_type": "stream",
          "name": "stdout",
          "text": [
            "--Train--\n",
            "Confusion Matrix \n",
            " [[ 2249   725     0]\n",
            " [  345 15041     0]\n",
            " [    4    34   658]]\n",
            "Recall   :  0.8930666317548703\n",
            "--Test--\n",
            "Confusion Matrix \n",
            " [[ 405  357   20]\n",
            " [ 280 3488   31]\n",
            " [  21   34  128]]\n",
            "Recall   :  0.7118309056277644\n"
          ]
        }
      ]
    },
    {
      "cell_type": "code",
      "source": [
        "# Classification Report train data\n",
        "from sklearn.metrics import classification_report\n",
        "print(classification_report(y_train,train_pred_dtc))"
      ],
      "metadata": {
        "colab": {
          "base_uri": "https://localhost:8080/"
        },
        "id": "IZbR5lQtAhpN",
        "outputId": "03cc914c-76ab-454d-cbf7-d506a56ae482"
      },
      "execution_count": null,
      "outputs": [
        {
          "output_type": "stream",
          "name": "stdout",
          "text": [
            "              precision    recall  f1-score   support\n",
            "\n",
            "           0       0.87      0.76      0.81      2974\n",
            "           1       0.95      0.98      0.96     15386\n",
            "           2       1.00      0.95      0.97       696\n",
            "\n",
            "    accuracy                           0.94     19056\n",
            "   macro avg       0.94      0.89      0.91     19056\n",
            "weighted avg       0.94      0.94      0.94     19056\n",
            "\n"
          ]
        }
      ]
    },
    {
      "cell_type": "code",
      "source": [
        "# Classification Report test data\n",
        "from sklearn.metrics import classification_report\n",
        "print(classification_report(y_test,test_pred_dtc))"
      ],
      "metadata": {
        "colab": {
          "base_uri": "https://localhost:8080/"
        },
        "id": "9m9J911shylW",
        "outputId": "067679ea-831a-4560-aab3-38b3c4051b93"
      },
      "execution_count": null,
      "outputs": [
        {
          "output_type": "stream",
          "name": "stdout",
          "text": [
            "              precision    recall  f1-score   support\n",
            "\n",
            "           0       0.57      0.52      0.54       782\n",
            "           1       0.90      0.92      0.91      3799\n",
            "           2       0.72      0.70      0.71       183\n",
            "\n",
            "    accuracy                           0.84      4764\n",
            "   macro avg       0.73      0.71      0.72      4764\n",
            "weighted avg       0.84      0.84      0.84      4764\n",
            "\n"
          ]
        }
      ]
    },
    {
      "cell_type": "markdown",
      "source": [
        "**Parameter tuning**\n"
      ],
      "metadata": {
        "id": "BB9_p_Cp2vTN"
      }
    },
    {
      "cell_type": "code",
      "source": [
        "#perform gridsearchcv and cross val score on Decison Tree DecisionTreeClassifier\n",
        "from sklearn.model_selection import GridSearchCV\n",
        "from sklearn.tree import DecisionTreeClassifier\n",
        "parameters={'criterion':['gini', 'entropy'],\n",
        "            'splitter':['best','random'],\n",
        "            \"max_depth\":[2, 3, 5, 10, 20],\n",
        "            'max_features':['auto','sqrt','log2'],\n",
        "            \"min_samples_split\":[1,2,4],\n",
        "            \"min_samples_leaf\":[1,2,3,4]}\n",
        "dt=DecisionTreeClassifier()\n",
        "clf1=GridSearchCV(dt,parameters,cv=4)\n",
        "clf1.fit(X_train_con,y_train)\n",
        "print(clf1.best_params_)"
      ],
      "metadata": {
        "colab": {
          "base_uri": "https://localhost:8080/"
        },
        "id": "CazKTabS2uYC",
        "outputId": "7574cc02-18a2-4ee1-850b-3a2a16297bfd"
      },
      "execution_count": null,
      "outputs": [
        {
          "output_type": "stream",
          "name": "stdout",
          "text": [
            "{'criterion': 'entropy', 'max_depth': 10, 'max_features': 'auto', 'min_samples_leaf': 1, 'min_samples_split': 2, 'splitter': 'best'}\n"
          ]
        }
      ]
    },
    {
      "cell_type": "code",
      "source": [
        "clf1= DecisionTreeClassifier(class_weight='balanced',\n",
        "                             criterion='entropy',\n",
        "                             splitter='best',\n",
        "                             max_depth=10,\n",
        "                             max_features='log2',\n",
        "                             min_samples_split= 4,\n",
        "                             min_samples_leaf= 3)\n",
        "clf1.fit(X_train_con,y_train)\n",
        "\n",
        "train_pred_dt = clf1.predict(X_train_con)\n",
        "test_pred_dt = clf1.predict(X_test_con)\n"
      ],
      "metadata": {
        "id": "n4P9yfOn2W32"
      },
      "execution_count": null,
      "outputs": []
    },
    {
      "cell_type": "code",
      "source": [
        "print(\"--Train--\")\n",
        "evaluate_model(y_train, train_pred_dt)\n",
        "print(\"--Test--\")\n",
        "evaluate_model(y_test, test_pred_dt)"
      ],
      "metadata": {
        "colab": {
          "base_uri": "https://localhost:8080/"
        },
        "id": "FVa9pwzt28IN",
        "outputId": "4bb584fd-7a1c-4ef2-fa75-073c89c9f133"
      },
      "execution_count": null,
      "outputs": [
        {
          "output_type": "stream",
          "name": "stdout",
          "text": [
            "--Train--\n",
            "Confusion Matrix \n",
            " [[ 2671   145   158]\n",
            " [ 4501 10209   676]\n",
            " [   25     6   665]]\n",
            "Recall   :  0.8390340223206305\n",
            "--Test--\n",
            "Confusion Matrix \n",
            " [[ 680   59   43]\n",
            " [1146 2452  201]\n",
            " [  13   17  153]]\n",
            "Recall   :  0.7836879332827641\n"
          ]
        }
      ]
    },
    {
      "cell_type": "code",
      "source": [
        "# Classification Report train data\n",
        "from sklearn.metrics import classification_report\n",
        "print(classification_report(y_train,train_pred_dt))"
      ],
      "metadata": {
        "colab": {
          "base_uri": "https://localhost:8080/"
        },
        "id": "Dx0uxz0lHWyj",
        "outputId": "2c0449db-8b14-4639-e78f-5b7d6af5f940"
      },
      "execution_count": null,
      "outputs": [
        {
          "output_type": "stream",
          "name": "stdout",
          "text": [
            "              precision    recall  f1-score   support\n",
            "\n",
            "           0       0.37      0.90      0.53      2974\n",
            "           1       0.99      0.66      0.79     15386\n",
            "           2       0.44      0.96      0.61       696\n",
            "\n",
            "    accuracy                           0.71     19056\n",
            "   macro avg       0.60      0.84      0.64     19056\n",
            "weighted avg       0.87      0.71      0.74     19056\n",
            "\n"
          ]
        }
      ]
    },
    {
      "cell_type": "code",
      "source": [
        "# Classification Report test data\n",
        "from sklearn.metrics import classification_report\n",
        "print(classification_report(y_test,test_pred_dt))"
      ],
      "metadata": {
        "colab": {
          "base_uri": "https://localhost:8080/"
        },
        "id": "NJvHYk0liGVw",
        "outputId": "d386b13e-67ea-49bb-ce0a-96a07912ec20"
      },
      "execution_count": null,
      "outputs": [
        {
          "output_type": "stream",
          "name": "stdout",
          "text": [
            "              precision    recall  f1-score   support\n",
            "\n",
            "           0       0.37      0.87      0.52       782\n",
            "           1       0.97      0.65      0.78      3799\n",
            "           2       0.39      0.84      0.53       183\n",
            "\n",
            "    accuracy                           0.69      4764\n",
            "   macro avg       0.58      0.78      0.61      4764\n",
            "weighted avg       0.85      0.69      0.72      4764\n",
            "\n"
          ]
        }
      ]
    },
    {
      "cell_type": "markdown",
      "source": [
        "# <font color=blue>Observations:\n",
        "\n",
        "  \n",
        "*   **So we can see that after hyperparameter tunning the difference between our trainig and test Recall is reduced .. that mean our model will not be overfitted and its recall is 89%.**\n",
        "\n",
        "*  **By using classification report we can say that for medium customers its recall is 84%.**"
      ],
      "metadata": {
        "id": "Qe5GONveDdaz"
      }
    },
    {
      "cell_type": "markdown",
      "source": [
        "# **AdaBoost Classifier**"
      ],
      "metadata": {
        "id": "UCgrT5vbfpX9"
      }
    },
    {
      "cell_type": "code",
      "source": [
        "from sklearn.ensemble import AdaBoostClassifier\n",
        "\n",
        "clf2=AdaBoostClassifier()\n",
        "clf2.fit(X_train_con,y_train)\n",
        "\n",
        "train_pred_ada=clf2.predict(X_train_con)\n",
        "test_pred_ada=clf2.predict(X_test_con)"
      ],
      "metadata": {
        "id": "XhYl2pZTeVFK"
      },
      "execution_count": null,
      "outputs": []
    },
    {
      "cell_type": "code",
      "source": [
        "print(\"--Train--\")\n",
        "evaluate_model(y_train, train_pred_ada)\n",
        "print(\"--Test--\")\n",
        "evaluate_model(y_test, test_pred_ada)\n"
      ],
      "metadata": {
        "id": "2x7FsJwYej7P",
        "colab": {
          "base_uri": "https://localhost:8080/"
        },
        "outputId": "754dbb90-792a-4996-aa68-1d08c52f9c1e"
      },
      "execution_count": null,
      "outputs": [
        {
          "output_type": "stream",
          "name": "stdout",
          "text": [
            "--Train--\n",
            "Confusion Matrix \n",
            " [[ 1658  1200   116]\n",
            " [  900 14388    98]\n",
            " [   71   102   523]]\n",
            "Recall   :  0.7480236460488016\n",
            "--Test--\n",
            "Confusion Matrix \n",
            " [[ 454  308   20]\n",
            " [ 240 3533   26]\n",
            " [  21   34  128]]\n",
            "Recall   :  0.7366659286191876\n"
          ]
        }
      ]
    },
    {
      "cell_type": "code",
      "source": [
        "# Classification Report train data\n",
        "from sklearn.metrics import classification_report\n",
        "print(classification_report(y_train,train_pred_ada))"
      ],
      "metadata": {
        "colab": {
          "base_uri": "https://localhost:8080/"
        },
        "id": "xBanbhtNIdmz",
        "outputId": "9b6c3e8d-decf-4920-9f40-a34072cc9112"
      },
      "execution_count": null,
      "outputs": [
        {
          "output_type": "stream",
          "name": "stdout",
          "text": [
            "              precision    recall  f1-score   support\n",
            "\n",
            "           0       0.63      0.56      0.59      2974\n",
            "           1       0.92      0.94      0.93     15386\n",
            "           2       0.71      0.75      0.73       696\n",
            "\n",
            "    accuracy                           0.87     19056\n",
            "   macro avg       0.75      0.75      0.75     19056\n",
            "weighted avg       0.86      0.87      0.87     19056\n",
            "\n"
          ]
        }
      ]
    },
    {
      "cell_type": "code",
      "source": [
        "# Classification Report test data\n",
        "from sklearn.metrics import classification_report\n",
        "print(classification_report(y_test,test_pred_ada))"
      ],
      "metadata": {
        "colab": {
          "base_uri": "https://localhost:8080/"
        },
        "id": "hZQzj5J_iW8H",
        "outputId": "1ac33c89-6e87-41e4-bc65-cc5e7136d6b1"
      },
      "execution_count": null,
      "outputs": [
        {
          "output_type": "stream",
          "name": "stdout",
          "text": [
            "              precision    recall  f1-score   support\n",
            "\n",
            "           0       0.63      0.58      0.61       782\n",
            "           1       0.91      0.93      0.92      3799\n",
            "           2       0.74      0.70      0.72       183\n",
            "\n",
            "    accuracy                           0.86      4764\n",
            "   macro avg       0.76      0.74      0.75      4764\n",
            "weighted avg       0.86      0.86      0.86      4764\n",
            "\n"
          ]
        }
      ]
    },
    {
      "cell_type": "markdown",
      "source": [
        "# <font color=blue>Observations:\n",
        "\n",
        "*  **In AdaBoostClassifier the recall is 74% .By  using classification report we can say that for medium customers its recall is 70%.**"
      ],
      "metadata": {
        "id": "gzAzWFQSE68y"
      }
    },
    {
      "cell_type": "markdown",
      "source": [
        "# **GradientBoost Classifier**"
      ],
      "metadata": {
        "id": "SI4EqmMDi1FD"
      }
    },
    {
      "cell_type": "code",
      "source": [
        "from sklearn.ensemble import GradientBoostingClassifier\n",
        "gbc = GradientBoostingClassifier()\n",
        "gbc.fit(X_train_con,y_train)"
      ],
      "metadata": {
        "id": "gqgNPPKae5v9",
        "colab": {
          "base_uri": "https://localhost:8080/"
        },
        "outputId": "0ac754b0-90e0-4552-dbaf-2d5f29006102"
      },
      "execution_count": null,
      "outputs": [
        {
          "output_type": "execute_result",
          "data": {
            "text/plain": [
              "GradientBoostingClassifier()"
            ]
          },
          "metadata": {},
          "execution_count": 219
        }
      ]
    },
    {
      "cell_type": "code",
      "source": [
        "train_pred_gbc = gbc.predict(X_train_con)\n",
        "test_pred_gbc = gbc.predict(X_test_con)"
      ],
      "metadata": {
        "id": "RuyUaxoufJkJ"
      },
      "execution_count": null,
      "outputs": []
    },
    {
      "cell_type": "code",
      "source": [
        "print(\"--Train--\")\n",
        "evaluate_model(y_train, train_pred_gbc)\n",
        "print(\"--Test--\")\n",
        "evaluate_model(y_test, test_pred_gbc)\n"
      ],
      "metadata": {
        "id": "xHwJmM4ofV2X",
        "colab": {
          "base_uri": "https://localhost:8080/"
        },
        "outputId": "11856c61-af3a-4493-b413-6efd4838cbbd"
      },
      "execution_count": null,
      "outputs": [
        {
          "output_type": "stream",
          "name": "stdout",
          "text": [
            "--Train--\n",
            "Confusion Matrix \n",
            " [[ 1690  1220    64]\n",
            " [  710 14655    21]\n",
            " [   58    96   542]]\n",
            "Recall   :  0.7664943820707619\n",
            "--Test--\n",
            "Confusion Matrix \n",
            " [[ 460  311   11]\n",
            " [ 195 3594   10]\n",
            " [  14   30  139]]\n",
            "Recall   :  0.7646121889379328\n"
          ]
        }
      ]
    },
    {
      "cell_type": "code",
      "source": [
        "# Classification Report Train data\n",
        "from sklearn.metrics import classification_report\n",
        "print(classification_report(y_train,train_pred_gbc))"
      ],
      "metadata": {
        "colab": {
          "base_uri": "https://localhost:8080/"
        },
        "id": "xet7GaYpJujX",
        "outputId": "9f4e9e98-5fb5-40e7-8641-dcee41397867"
      },
      "execution_count": null,
      "outputs": [
        {
          "output_type": "stream",
          "name": "stdout",
          "text": [
            "              precision    recall  f1-score   support\n",
            "\n",
            "           0       0.69      0.57      0.62      2974\n",
            "           1       0.92      0.95      0.93     15386\n",
            "           2       0.86      0.78      0.82       696\n",
            "\n",
            "    accuracy                           0.89     19056\n",
            "   macro avg       0.82      0.77      0.79     19056\n",
            "weighted avg       0.88      0.89      0.88     19056\n",
            "\n"
          ]
        }
      ]
    },
    {
      "cell_type": "code",
      "source": [
        "# Classification Report Test data\n",
        "from sklearn.metrics import classification_report\n",
        "print(classification_report(y_test,test_pred_gbc))"
      ],
      "metadata": {
        "colab": {
          "base_uri": "https://localhost:8080/"
        },
        "id": "xkCIt9jyigMn",
        "outputId": "91cd272f-bb25-4ed3-c985-eb53d217fd8c"
      },
      "execution_count": null,
      "outputs": [
        {
          "output_type": "stream",
          "name": "stdout",
          "text": [
            "              precision    recall  f1-score   support\n",
            "\n",
            "           0       0.69      0.59      0.63       782\n",
            "           1       0.91      0.95      0.93      3799\n",
            "           2       0.87      0.76      0.81       183\n",
            "\n",
            "    accuracy                           0.88      4764\n",
            "   macro avg       0.82      0.76      0.79      4764\n",
            "weighted avg       0.87      0.88      0.88      4764\n",
            "\n"
          ]
        }
      ]
    },
    {
      "cell_type": "markdown",
      "source": [
        "**Parameter tuning**"
      ],
      "metadata": {
        "id": "U-hekBDfOUl-"
      }
    },
    {
      "cell_type": "code",
      "source": [
        "from sklearn.model_selection import GridSearchCV\n",
        "parameters={'criterion':['squared_error','mse'],\n",
        "            'n_estimators':[150],\n",
        "            'max_features':['auto','sqrt','log2'],\n",
        "            'random_state':[0]}\n",
        "gb=GradientBoostingClassifier()\n",
        "clf3_grid=GridSearchCV(gb,parameters,cv=4)\n",
        "clf3_grid.fit(X_train_con,y_train)\n",
        "print(clf3_grid.best_params_)"
      ],
      "metadata": {
        "colab": {
          "base_uri": "https://localhost:8080/"
        },
        "id": "dmYSpgdHI3Dj",
        "outputId": "47b043ce-f5ce-47c1-b083-abdc2dc90f02"
      },
      "execution_count": null,
      "outputs": [
        {
          "output_type": "stream",
          "name": "stdout",
          "text": [
            "{'criterion': 'squared_error', 'max_features': 'sqrt', 'n_estimators': 150, 'random_state': 0}\n"
          ]
        }
      ]
    },
    {
      "cell_type": "code",
      "source": [
        "clf3_grid=GradientBoostingClassifier(criterion=\"squared_error\",\n",
        "                                     n_estimators=150,\n",
        "                                     max_features='sqrt')\n",
        "clf3_grid.fit(X_train_con,y_train)\n",
        "\n",
        "pred_train_gb = clf3_grid.predict(X_train_con)\n",
        "pred_test_gb = clf3_grid.predict(X_test_con)"
      ],
      "metadata": {
        "id": "bdYKChVDMcTy"
      },
      "execution_count": null,
      "outputs": []
    },
    {
      "cell_type": "code",
      "source": [
        "print(\"--Train--\")\n",
        "evaluate_model(y_train, pred_train_gb)\n",
        "print(\"--Test--\")\n",
        "evaluate_model(y_test, pred_test_gb)\n"
      ],
      "metadata": {
        "colab": {
          "base_uri": "https://localhost:8080/"
        },
        "id": "W2u-bbHIN0fP",
        "outputId": "63cea7ff-4bca-4ea5-9534-3e4696163073"
      },
      "execution_count": null,
      "outputs": [
        {
          "output_type": "stream",
          "name": "stdout",
          "text": [
            "--Train--\n",
            "Confusion Matrix \n",
            " [[ 1702  1208    64]\n",
            " [  712 14657    17]\n",
            " [   54    94   548]]\n",
            "Recall   :  0.7707562646354127\n",
            "--Test--\n",
            "Confusion Matrix \n",
            " [[ 458  315    9]\n",
            " [ 193 3597    9]\n",
            " [  12   31  140]]\n",
            "Recall   :  0.7658443948087373\n"
          ]
        }
      ]
    },
    {
      "cell_type": "code",
      "source": [
        "# Classification Report\n",
        "from sklearn.metrics import classification_report\n",
        "print(classification_report(y_test,pred_test_gb))"
      ],
      "metadata": {
        "colab": {
          "base_uri": "https://localhost:8080/"
        },
        "id": "a-nKFfXziqLi",
        "outputId": "30a18459-27a6-4002-cb0b-e7d077dee0d3"
      },
      "execution_count": null,
      "outputs": [
        {
          "output_type": "stream",
          "name": "stdout",
          "text": [
            "              precision    recall  f1-score   support\n",
            "\n",
            "           0       0.69      0.59      0.63       782\n",
            "           1       0.91      0.95      0.93      3799\n",
            "           2       0.89      0.77      0.82       183\n",
            "\n",
            "    accuracy                           0.88      4764\n",
            "   macro avg       0.83      0.77      0.79      4764\n",
            "weighted avg       0.87      0.88      0.88      4764\n",
            "\n"
          ]
        }
      ]
    },
    {
      "cell_type": "markdown",
      "source": [
        "# <font color=blue>Observations:\n",
        "\n",
        "*   **So we can see that after hyperparameter tunning there is no difference between our trainig and test Recall to our model.**\n",
        "\n",
        "*  **By using classification report we can say that for medium customers its recall is 77%.**"
      ],
      "metadata": {
        "id": "sLmoblUtFBEH"
      }
    },
    {
      "cell_type": "markdown",
      "source": [
        "# **XGBClassifier**"
      ],
      "metadata": {
        "id": "9eylisCXj3Ct"
      }
    },
    {
      "cell_type": "code",
      "source": [
        "from xgboost import XGBClassifier\n",
        "xgb = XGBClassifier()\n",
        "xgb.fit(X_train_con,y_train)"
      ],
      "metadata": {
        "id": "ydS7W-80fnDw",
        "colab": {
          "base_uri": "https://localhost:8080/"
        },
        "outputId": "a1acdd38-6e2b-4191-9cc5-7baf7ab41397"
      },
      "execution_count": null,
      "outputs": [
        {
          "output_type": "execute_result",
          "data": {
            "text/plain": [
              "XGBClassifier(objective='multi:softprob')"
            ]
          },
          "metadata": {},
          "execution_count": 228
        }
      ]
    },
    {
      "cell_type": "code",
      "source": [
        "train_pred_xgb = xgb.predict(X_train_con)\n",
        "test_pred_xgb = xgb.predict(X_test_con)"
      ],
      "metadata": {
        "id": "uMG9U5PBf45H"
      },
      "execution_count": null,
      "outputs": []
    },
    {
      "cell_type": "code",
      "source": [
        "print(\"--Train--\")\n",
        "evaluate_model(y_train, train_pred_xgb)\n",
        "print(\"--Test--\")\n",
        "evaluate_model(y_test, test_pred_xgb)\n"
      ],
      "metadata": {
        "id": "oBdSONCbgAHn",
        "colab": {
          "base_uri": "https://localhost:8080/"
        },
        "outputId": "8e3dccd0-971c-4b22-d6a0-afd17767f731"
      },
      "execution_count": null,
      "outputs": [
        {
          "output_type": "stream",
          "name": "stdout",
          "text": [
            "--Train--\n",
            "Confusion Matrix \n",
            " [[ 1667  1244    63]\n",
            " [  739 14625    22]\n",
            " [   59   105   532]]\n",
            "Recall   :  0.7584772712024094\n",
            "--Test--\n",
            "Confusion Matrix \n",
            " [[ 455  318    9]\n",
            " [ 200 3587   12]\n",
            " [  16   31  136]]\n",
            "Recall   :  0.7564022240476533\n"
          ]
        }
      ]
    },
    {
      "cell_type": "code",
      "source": [
        "# Classification Report\n",
        "from sklearn.metrics import classification_report\n",
        "print(classification_report(y_test,test_pred_xgb))"
      ],
      "metadata": {
        "colab": {
          "base_uri": "https://localhost:8080/"
        },
        "id": "yOfAr6ZJi98_",
        "outputId": "5c86b033-9d24-4b1b-80c8-2609ba53f93b"
      },
      "execution_count": null,
      "outputs": [
        {
          "output_type": "stream",
          "name": "stdout",
          "text": [
            "              precision    recall  f1-score   support\n",
            "\n",
            "           0       0.68      0.58      0.63       782\n",
            "           1       0.91      0.94      0.93      3799\n",
            "           2       0.87      0.74      0.80       183\n",
            "\n",
            "    accuracy                           0.88      4764\n",
            "   macro avg       0.82      0.76      0.78      4764\n",
            "weighted avg       0.87      0.88      0.87      4764\n",
            "\n"
          ]
        }
      ]
    },
    {
      "cell_type": "markdown",
      "source": [
        "**Parameter Training**"
      ],
      "metadata": {
        "id": "GbO8drmXoIdI"
      }
    },
    {
      "cell_type": "code",
      "source": [
        "param_grid_xg={\"learning_rate\" :[0.1,0.01,0.001],\n",
        "               \"n_estimators\": [1000,150,100],\n",
        "               \"max_depth\": [1,2,3,4,5],\n",
        "               \"min_child_weight\" : [1,3,5] }\n",
        "clf4 = XGBClassifier()\n",
        "clf4_grid_xgb = GridSearchCV(clf4,param_grid_xg,cv=4)\n",
        "clf4_grid_xgb.fit(X_train_con,y_train)\n",
        "print(clf4_grid_xgb.best_params_)"
      ],
      "metadata": {
        "id": "c5f8Xz-HMfqU",
        "colab": {
          "base_uri": "https://localhost:8080/"
        },
        "outputId": "a72304db-247f-444d-ea18-d7e2a023fd5c"
      },
      "execution_count": null,
      "outputs": [
        {
          "output_type": "stream",
          "name": "stdout",
          "text": [
            "{'learning_rate': 0.1, 'max_depth': 5, 'min_child_weight': 5, 'n_estimators': 100}\n"
          ]
        }
      ]
    },
    {
      "cell_type": "code",
      "source": [
        "clf4_grid_xgb= XGBClassifier(class_weight='balanced',\n",
        "                         learning_rate=0.1,\n",
        "                         n_estimators=100,\n",
        "                         max_depth=5,\n",
        "                         min_child_weight=5)\n",
        "\n",
        "clf4_grid_xgb.fit(X_train_con,y_train)\n",
        "\n",
        "train_pred_grid_xgb = clf4_grid_xgb.predict(X_train_con)\n",
        "test_pred_grid_xgb = clf4_grid_xgb.predict(X_test_con)\n"
      ],
      "metadata": {
        "id": "8JQWnwQFlner"
      },
      "execution_count": null,
      "outputs": []
    },
    {
      "cell_type": "code",
      "source": [
        "print(\"--Train--\")\n",
        "evaluate_model(y_train, train_pred_grid_xgb)\n",
        "print(\"--Test--\")\n",
        "evaluate_model(y_test, test_pred_grid_xgb)\n"
      ],
      "metadata": {
        "colab": {
          "base_uri": "https://localhost:8080/"
        },
        "id": "mrxobnldM4Io",
        "outputId": "9c96b169-5aef-4e62-c6bf-603e0ae88615"
      },
      "execution_count": null,
      "outputs": [
        {
          "output_type": "stream",
          "name": "stdout",
          "text": [
            "--Train--\n",
            "Confusion Matrix \n",
            " [[ 1739  1184    51]\n",
            " [  731 14637    18]\n",
            " [   59    90   547]]\n",
            "Recall   :  0.7739910953259462\n",
            "--Test--\n",
            "Confusion Matrix \n",
            " [[ 461  311   10]\n",
            " [ 207 3582   10]\n",
            " [  13   30  140]]\n",
            "Recall   :  0.7658070313620368\n"
          ]
        }
      ]
    },
    {
      "cell_type": "code",
      "source": [
        "# Classification Report\n",
        "from sklearn.metrics import classification_report\n",
        "print(classification_report(y_test,test_pred_grid_xgb))"
      ],
      "metadata": {
        "colab": {
          "base_uri": "https://localhost:8080/"
        },
        "id": "o-YNkDnAboo2",
        "outputId": "d537a703-c2c1-4c79-eebe-364cf47cbc24"
      },
      "execution_count": null,
      "outputs": [
        {
          "output_type": "stream",
          "name": "stdout",
          "text": [
            "              precision    recall  f1-score   support\n",
            "\n",
            "           0       0.68      0.59      0.63       782\n",
            "           1       0.91      0.94      0.93      3799\n",
            "           2       0.88      0.77      0.82       183\n",
            "\n",
            "    accuracy                           0.88      4764\n",
            "   macro avg       0.82      0.77      0.79      4764\n",
            "weighted avg       0.87      0.88      0.87      4764\n",
            "\n"
          ]
        }
      ]
    },
    {
      "cell_type": "markdown",
      "source": [
        "# <font color=blue>Observations:\n",
        "\n",
        "*   **So we can see that after hyperparameter tunning there is no difference between our trainig and test Recall to our model.**\n",
        "\n",
        "*  **By using classification report we can say that for medium customers its recall is 77%.**"
      ],
      "metadata": {
        "id": "vKmN1UKvN2wZ"
      }
    },
    {
      "cell_type": "markdown",
      "source": [
        "# **Support vector classifier**"
      ],
      "metadata": {
        "id": "bd99BJsTkhN5"
      }
    },
    {
      "cell_type": "code",
      "source": [
        "from sklearn.svm import SVC\n"
      ],
      "metadata": {
        "id": "-tk33WfLXoaQ"
      },
      "execution_count": null,
      "outputs": []
    },
    {
      "cell_type": "code",
      "source": [
        "svc = SVC(kernel='rbf', gamma=0.01, C=10)\n"
      ],
      "metadata": {
        "id": "WPqaB3DaYP62"
      },
      "execution_count": null,
      "outputs": []
    },
    {
      "cell_type": "code",
      "source": [
        "svc.fit(X_train_con, y_train)"
      ],
      "metadata": {
        "id": "s4iRmPXxYYJ8",
        "colab": {
          "base_uri": "https://localhost:8080/"
        },
        "outputId": "0e8bcad4-c7c3-4996-d6e5-32c5f4c81dd8"
      },
      "execution_count": null,
      "outputs": [
        {
          "output_type": "execute_result",
          "data": {
            "text/plain": [
              "SVC(C=10, gamma=0.01)"
            ]
          },
          "metadata": {},
          "execution_count": 238
        }
      ]
    },
    {
      "cell_type": "code",
      "source": [
        "train_pred_svc = svc.predict(X_train_con)\n",
        "test_pred_svc = svc.predict(X_test_con)"
      ],
      "metadata": {
        "id": "rD634Cy-YuOt"
      },
      "execution_count": null,
      "outputs": []
    },
    {
      "cell_type": "code",
      "source": [
        "print(\"--Train--\")\n",
        "evaluate_model(y_train, train_pred_svc)\n",
        "print(\"--Test--\")\n",
        "evaluate_model(y_test, test_pred_svc)\n"
      ],
      "metadata": {
        "id": "2BCWnSfAZQ03",
        "colab": {
          "base_uri": "https://localhost:8080/"
        },
        "outputId": "f80d5f58-0b2b-494a-aca8-800587616cf2"
      },
      "execution_count": null,
      "outputs": [
        {
          "output_type": "stream",
          "name": "stdout",
          "text": [
            "--Train--\n",
            "Confusion Matrix \n",
            " [[ 1396  1561    17]\n",
            " [  644 14719    23]\n",
            " [  107   228   361]]\n",
            "Recall   :  0.6482428473357666\n",
            "--Test--\n",
            "Confusion Matrix \n",
            " [[ 373  406    3]\n",
            " [ 177 3607   15]\n",
            " [  40   60   83]]\n",
            "Recall   :  0.6266647980222225\n"
          ]
        }
      ]
    },
    {
      "cell_type": "code",
      "source": [
        "# Classification Report\n",
        "from sklearn.metrics import classification_report\n",
        "print(classification_report(y_test,test_pred_svc))"
      ],
      "metadata": {
        "colab": {
          "base_uri": "https://localhost:8080/"
        },
        "id": "sEryRGGSkFjV",
        "outputId": "9ea7eb95-01ee-4cbb-89dc-25dcd93bf631"
      },
      "execution_count": null,
      "outputs": [
        {
          "output_type": "stream",
          "name": "stdout",
          "text": [
            "              precision    recall  f1-score   support\n",
            "\n",
            "           0       0.63      0.48      0.54       782\n",
            "           1       0.89      0.95      0.92      3799\n",
            "           2       0.82      0.45      0.58       183\n",
            "\n",
            "    accuracy                           0.85      4764\n",
            "   macro avg       0.78      0.63      0.68      4764\n",
            "weighted avg       0.84      0.85      0.84      4764\n",
            "\n"
          ]
        }
      ]
    },
    {
      "cell_type": "markdown",
      "source": [
        "**Parameter tuning**"
      ],
      "metadata": {
        "id": "ixzpC9rDmos2"
      }
    },
    {
      "cell_type": "code",
      "source": [
        "#perform gridsearchcv and cross val score on Support Vector classifier\n",
        "parameters_svc ={'kernel':['linear','rbf'],\n",
        "                 'tol':[0.01,0.001],\n",
        "                 'shrinking':[True,False] }\n",
        "svc=SVC()\n",
        "clf5=GridSearchCV(svc,parameters_svc)\n",
        "clf5.fit(X_train_con,y_train)\n",
        "print(clf5.best_params_)"
      ],
      "metadata": {
        "colab": {
          "base_uri": "https://localhost:8080/"
        },
        "id": "8igmtPFwlOdD",
        "outputId": "06980c9c-a7bd-4cfd-9b05-8cc801a13949"
      },
      "execution_count": null,
      "outputs": [
        {
          "output_type": "stream",
          "name": "stdout",
          "text": [
            "{'kernel': 'rbf', 'shrinking': True, 'tol': 0.01}\n"
          ]
        }
      ]
    },
    {
      "cell_type": "code",
      "source": [
        "clf5=SVC(class_weight='balanced',kernel='rbf',max_iter= -1, probability= True, shrinking= True, tol= 0.01)\n",
        "clf5.fit(X_train_con,y_train)\n",
        "pred_train_grid_svc=clf5.predict(X_train_con)\n",
        "pred_test_grid_svc=clf5.predict(X_test_con)"
      ],
      "metadata": {
        "id": "nPFC-ZszmMtR"
      },
      "execution_count": null,
      "outputs": []
    },
    {
      "cell_type": "code",
      "source": [
        "print(\"--Train--\")\n",
        "evaluate_model(y_train,pred_train_grid_svc)\n",
        "print(\"--Test--\")\n",
        "evaluate_model(y_test, pred_test_grid_svc)"
      ],
      "metadata": {
        "colab": {
          "base_uri": "https://localhost:8080/"
        },
        "id": "RHVcdVeumWED",
        "outputId": "57e5cd7b-f874-448c-a627-d1f480cdc6ac"
      },
      "execution_count": null,
      "outputs": [
        {
          "output_type": "stream",
          "name": "stdout",
          "text": [
            "--Train--\n",
            "Confusion Matrix \n",
            " [[ 2692   149   133]\n",
            " [ 4514 10002   870]\n",
            " [   49    16   631]]\n",
            "Recall   :  0.8206196333770981\n",
            "--Test--\n",
            "Confusion Matrix \n",
            " [[ 703   46   33]\n",
            " [1160 2391  248]\n",
            " [  14   10  159]]\n",
            "Recall   :  0.7990685309108091\n"
          ]
        }
      ]
    },
    {
      "cell_type": "code",
      "source": [
        "# Classification Report\n",
        "from sklearn.metrics import classification_report\n",
        "print(classification_report(y_test,pred_test_grid_svc))"
      ],
      "metadata": {
        "colab": {
          "base_uri": "https://localhost:8080/"
        },
        "id": "kvjVqVef9ApA",
        "outputId": "57a6456b-9445-4bdd-9973-fef776b5a500"
      },
      "execution_count": null,
      "outputs": [
        {
          "output_type": "stream",
          "name": "stdout",
          "text": [
            "              precision    recall  f1-score   support\n",
            "\n",
            "           0       0.37      0.90      0.53       782\n",
            "           1       0.98      0.63      0.77      3799\n",
            "           2       0.36      0.87      0.51       183\n",
            "\n",
            "    accuracy                           0.68      4764\n",
            "   macro avg       0.57      0.80      0.60      4764\n",
            "weighted avg       0.85      0.68      0.72      4764\n",
            "\n"
          ]
        }
      ]
    },
    {
      "cell_type": "markdown",
      "source": [
        "# <font color=blue>Observations:\n",
        "\n",
        "  \n",
        "*   **So we can see that after hyperparameter tunning the recall improved  our trainig and test recall will improved 62% to 87%**\n",
        "\n",
        "*  **By using classification report we can say that for medium customers its recall is 87%.**"
      ],
      "metadata": {
        "id": "G4LfOIxyONKC"
      }
    },
    {
      "cell_type": "markdown",
      "source": [
        "# **KNearest Neighbors Classifier**"
      ],
      "metadata": {
        "id": "5F837oo-CaVI"
      }
    },
    {
      "cell_type": "code",
      "source": [
        "from sklearn.neighbors import KNeighborsClassifier\n",
        "knn = KNeighborsClassifier(n_neighbors=5)\n",
        "knn.fit(X_train_con, y_train)\n",
        "pred_train_knn = knn.predict(X_train_con)\n",
        "pred_test_knn = knn.predict(X_test_con)"
      ],
      "metadata": {
        "id": "dR4jYM1AAzkT"
      },
      "execution_count": null,
      "outputs": []
    },
    {
      "cell_type": "code",
      "source": [
        "print(\"--Train--\")\n",
        "evaluate_model(y_train, pred_train_knn)\n",
        "print(\"--Test--\")\n",
        "evaluate_model(y_test, pred_test_knn)\n"
      ],
      "metadata": {
        "colab": {
          "base_uri": "https://localhost:8080/"
        },
        "id": "hCe5YuSFB52P",
        "outputId": "4fbc63dd-40ba-4de5-c0ca-b266591efdd9"
      },
      "execution_count": null,
      "outputs": [
        {
          "output_type": "stream",
          "name": "stdout",
          "text": [
            "--Train--\n",
            "Confusion Matrix \n",
            " [[ 1793  1147    34]\n",
            " [  659 14719     8]\n",
            " [  110   165   421]]\n",
            "Recall   :  0.7214752291273862\n",
            "--Test--\n",
            "Confusion Matrix \n",
            " [[ 415  348   19]\n",
            " [ 246 3547    6]\n",
            " [  43   48   92]]\n",
            "Recall   :  0.6556965106435375\n"
          ]
        }
      ]
    },
    {
      "cell_type": "code",
      "source": [
        "# Classification Report\n",
        "from sklearn.metrics import classification_report\n",
        "print(classification_report(y_test,pred_test_knn))"
      ],
      "metadata": {
        "colab": {
          "base_uri": "https://localhost:8080/"
        },
        "id": "vDd7uKcyDRoJ",
        "outputId": "2e15bd7b-24bd-4e40-f45d-84efb1cef86b"
      },
      "execution_count": null,
      "outputs": [
        {
          "output_type": "stream",
          "name": "stdout",
          "text": [
            "              precision    recall  f1-score   support\n",
            "\n",
            "           0       0.59      0.53      0.56       782\n",
            "           1       0.90      0.93      0.92      3799\n",
            "           2       0.79      0.50      0.61       183\n",
            "\n",
            "    accuracy                           0.85      4764\n",
            "   macro avg       0.76      0.66      0.70      4764\n",
            "weighted avg       0.84      0.85      0.85      4764\n",
            "\n"
          ]
        }
      ]
    },
    {
      "cell_type": "markdown",
      "source": [
        "**Parameter tuning**"
      ],
      "metadata": {
        "id": "shNR_bSIC9W8"
      }
    },
    {
      "cell_type": "code",
      "source": [
        "#perform gridsearchcv and cross val score on KNeighborsClassifier\n",
        "from sklearn.model_selection import GridSearchCV\n",
        "\n",
        "parameters_knn={'n_neighbors':[4,5,6],\n",
        "                'weights':['uniform', 'distance'],\n",
        "                'leaf_size':[35,30],\n",
        "                'n_jobs':[-1,1],\n",
        "                'algorithm':['auto', 'ball_tree', 'kd_tree'] }\n",
        "\n",
        "knn=KNeighborsClassifier()\n",
        "clf=GridSearchCV(knn,parameters_knn)\n",
        "clf.fit(X_train_con,y_train)\n",
        "print(clf.best_params_)"
      ],
      "metadata": {
        "colab": {
          "base_uri": "https://localhost:8080/"
        },
        "id": "SqFnGLUACD7b",
        "outputId": "c5c2514c-b825-40aa-935e-b46179a8df31"
      },
      "execution_count": null,
      "outputs": [
        {
          "output_type": "stream",
          "name": "stdout",
          "text": [
            "{'algorithm': 'kd_tree', 'leaf_size': 35, 'n_jobs': -1, 'n_neighbors': 5, 'weights': 'uniform'}\n"
          ]
        }
      ]
    },
    {
      "cell_type": "code",
      "source": [
        "knn=KNeighborsClassifier(algorithm= 'kd_tree', leaf_size= 35, n_jobs= -1, n_neighbors= 5, weights= 'uniform')\n",
        "knn.fit(X_train_con,y_train)\n",
        "pred_train_knn_grid=knn.predict(X_train_con)\n",
        "pred_test_knn_grid=knn.predict(X_test_con)\n"
      ],
      "metadata": {
        "id": "kTm4PyUNCDtq"
      },
      "execution_count": null,
      "outputs": []
    },
    {
      "cell_type": "code",
      "source": [
        "print(\"--Train--\")\n",
        "evaluate_model(y_train, pred_train_knn_grid)\n",
        "print(\"--Test--\")\n",
        "evaluate_model(y_test, pred_test_knn_grid)\n"
      ],
      "metadata": {
        "colab": {
          "base_uri": "https://localhost:8080/"
        },
        "id": "ERRVE2UcCVtx",
        "outputId": "79008620-8429-4ea9-a934-4995132514a3"
      },
      "execution_count": null,
      "outputs": [
        {
          "output_type": "stream",
          "name": "stdout",
          "text": [
            "--Train--\n",
            "Confusion Matrix \n",
            " [[ 1719  1221    34]\n",
            " [  566 14813     7]\n",
            " [  111   164   421]]\n",
            "Recall   :  0.7152176080496652\n",
            "--Test--\n",
            "Confusion Matrix \n",
            " [[ 393  370   19]\n",
            " [ 222 3571    6]\n",
            " [  43   48   92]]\n",
            "Recall   :  0.648424663854763\n"
          ]
        }
      ]
    },
    {
      "cell_type": "code",
      "source": [
        "# Classification Report\n",
        "from sklearn.metrics import classification_report\n",
        "print(classification_report(y_test,pred_test_knn_grid))"
      ],
      "metadata": {
        "colab": {
          "base_uri": "https://localhost:8080/"
        },
        "id": "eSamDRxuDZ0a",
        "outputId": "0476377d-249c-4941-f795-8e64ce0bc188"
      },
      "execution_count": null,
      "outputs": [
        {
          "output_type": "stream",
          "name": "stdout",
          "text": [
            "              precision    recall  f1-score   support\n",
            "\n",
            "           0       0.60      0.50      0.55       782\n",
            "           1       0.90      0.94      0.92      3799\n",
            "           2       0.79      0.50      0.61       183\n",
            "\n",
            "    accuracy                           0.85      4764\n",
            "   macro avg       0.76      0.65      0.69      4764\n",
            "weighted avg       0.84      0.85      0.84      4764\n",
            "\n"
          ]
        }
      ]
    },
    {
      "cell_type": "markdown",
      "source": [
        "# <font color=blue>Observations:\n",
        "\n",
        "  \n",
        "*   **We can see that after hyperparameter tunning there is not much difference between our trainig and test Recall.**\n",
        "\n",
        "*  **By using classification report we can say that for medium customers its recall is 50%.**"
      ],
      "metadata": {
        "id": "9rt-pAO4PZfz"
      }
    },
    {
      "cell_type": "markdown",
      "source": [
        "# **Test Data**"
      ],
      "metadata": {
        "id": "m48hOaRhOtLg"
      }
    },
    {
      "cell_type": "code",
      "source": [
        "##Loading Customerdata_Test data\n",
        "Customerdata_Test = pd.read_excel(\"/content/drive/MyDrive/final Hackathon/DataForPHD/TestData/Customerdata_Test.xlsx\")\n",
        "Customerdata_Test.head()"
      ],
      "metadata": {
        "colab": {
          "base_uri": "https://localhost:8080/",
          "height": 206
        },
        "id": "iRHL3DDdO8cn",
        "outputId": "72a9bf2a-ac17-4d24-c72c-de26ffc17dd8"
      },
      "execution_count": null,
      "outputs": [
        {
          "output_type": "execute_result",
          "data": {
            "text/plain": [
              "  CustomerID   City DateOfRegistration  OnlineCommunication  AutomaticRefill  \\\n",
              "0     C17838  CITY4         2010-10-22                    0                0   \n",
              "1     C12403  CITY2         2008-11-17                    1                1   \n",
              "2     C19041  CITY4         2011-01-24                    0                1   \n",
              "3     C24069  CITY2         2010-09-18                    0                0   \n",
              "4     C26718  CITY2         2010-10-02                    1                0   \n",
              "\n",
              "   DoorstepDelivery PreferredDeliveryDay  \n",
              "0                 0             Thursday  \n",
              "1                 0            Wednesday  \n",
              "2                 0               Friday  \n",
              "3                 0            Wednesday  \n",
              "4                 0               Monday  "
            ],
            "text/html": [
              "\n",
              "  <div id=\"df-b0dc8d00-3896-4aec-a30c-6d9c32e9242c\">\n",
              "    <div class=\"colab-df-container\">\n",
              "      <div>\n",
              "<style scoped>\n",
              "    .dataframe tbody tr th:only-of-type {\n",
              "        vertical-align: middle;\n",
              "    }\n",
              "\n",
              "    .dataframe tbody tr th {\n",
              "        vertical-align: top;\n",
              "    }\n",
              "\n",
              "    .dataframe thead th {\n",
              "        text-align: right;\n",
              "    }\n",
              "</style>\n",
              "<table border=\"1\" class=\"dataframe\">\n",
              "  <thead>\n",
              "    <tr style=\"text-align: right;\">\n",
              "      <th></th>\n",
              "      <th>CustomerID</th>\n",
              "      <th>City</th>\n",
              "      <th>DateOfRegistration</th>\n",
              "      <th>OnlineCommunication</th>\n",
              "      <th>AutomaticRefill</th>\n",
              "      <th>DoorstepDelivery</th>\n",
              "      <th>PreferredDeliveryDay</th>\n",
              "    </tr>\n",
              "  </thead>\n",
              "  <tbody>\n",
              "    <tr>\n",
              "      <th>0</th>\n",
              "      <td>C17838</td>\n",
              "      <td>CITY4</td>\n",
              "      <td>2010-10-22</td>\n",
              "      <td>0</td>\n",
              "      <td>0</td>\n",
              "      <td>0</td>\n",
              "      <td>Thursday</td>\n",
              "    </tr>\n",
              "    <tr>\n",
              "      <th>1</th>\n",
              "      <td>C12403</td>\n",
              "      <td>CITY2</td>\n",
              "      <td>2008-11-17</td>\n",
              "      <td>1</td>\n",
              "      <td>1</td>\n",
              "      <td>0</td>\n",
              "      <td>Wednesday</td>\n",
              "    </tr>\n",
              "    <tr>\n",
              "      <th>2</th>\n",
              "      <td>C19041</td>\n",
              "      <td>CITY4</td>\n",
              "      <td>2011-01-24</td>\n",
              "      <td>0</td>\n",
              "      <td>1</td>\n",
              "      <td>0</td>\n",
              "      <td>Friday</td>\n",
              "    </tr>\n",
              "    <tr>\n",
              "      <th>3</th>\n",
              "      <td>C24069</td>\n",
              "      <td>CITY2</td>\n",
              "      <td>2010-09-18</td>\n",
              "      <td>0</td>\n",
              "      <td>0</td>\n",
              "      <td>0</td>\n",
              "      <td>Wednesday</td>\n",
              "    </tr>\n",
              "    <tr>\n",
              "      <th>4</th>\n",
              "      <td>C26718</td>\n",
              "      <td>CITY2</td>\n",
              "      <td>2010-10-02</td>\n",
              "      <td>1</td>\n",
              "      <td>0</td>\n",
              "      <td>0</td>\n",
              "      <td>Monday</td>\n",
              "    </tr>\n",
              "  </tbody>\n",
              "</table>\n",
              "</div>\n",
              "      <button class=\"colab-df-convert\" onclick=\"convertToInteractive('df-b0dc8d00-3896-4aec-a30c-6d9c32e9242c')\"\n",
              "              title=\"Convert this dataframe to an interactive table.\"\n",
              "              style=\"display:none;\">\n",
              "        \n",
              "  <svg xmlns=\"http://www.w3.org/2000/svg\" height=\"24px\"viewBox=\"0 0 24 24\"\n",
              "       width=\"24px\">\n",
              "    <path d=\"M0 0h24v24H0V0z\" fill=\"none\"/>\n",
              "    <path d=\"M18.56 5.44l.94 2.06.94-2.06 2.06-.94-2.06-.94-.94-2.06-.94 2.06-2.06.94zm-11 1L8.5 8.5l.94-2.06 2.06-.94-2.06-.94L8.5 2.5l-.94 2.06-2.06.94zm10 10l.94 2.06.94-2.06 2.06-.94-2.06-.94-.94-2.06-.94 2.06-2.06.94z\"/><path d=\"M17.41 7.96l-1.37-1.37c-.4-.4-.92-.59-1.43-.59-.52 0-1.04.2-1.43.59L10.3 9.45l-7.72 7.72c-.78.78-.78 2.05 0 2.83L4 21.41c.39.39.9.59 1.41.59.51 0 1.02-.2 1.41-.59l7.78-7.78 2.81-2.81c.8-.78.8-2.07 0-2.86zM5.41 20L4 18.59l7.72-7.72 1.47 1.35L5.41 20z\"/>\n",
              "  </svg>\n",
              "      </button>\n",
              "      \n",
              "  <style>\n",
              "    .colab-df-container {\n",
              "      display:flex;\n",
              "      flex-wrap:wrap;\n",
              "      gap: 12px;\n",
              "    }\n",
              "\n",
              "    .colab-df-convert {\n",
              "      background-color: #E8F0FE;\n",
              "      border: none;\n",
              "      border-radius: 50%;\n",
              "      cursor: pointer;\n",
              "      display: none;\n",
              "      fill: #1967D2;\n",
              "      height: 32px;\n",
              "      padding: 0 0 0 0;\n",
              "      width: 32px;\n",
              "    }\n",
              "\n",
              "    .colab-df-convert:hover {\n",
              "      background-color: #E2EBFA;\n",
              "      box-shadow: 0px 1px 2px rgba(60, 64, 67, 0.3), 0px 1px 3px 1px rgba(60, 64, 67, 0.15);\n",
              "      fill: #174EA6;\n",
              "    }\n",
              "\n",
              "    [theme=dark] .colab-df-convert {\n",
              "      background-color: #3B4455;\n",
              "      fill: #D2E3FC;\n",
              "    }\n",
              "\n",
              "    [theme=dark] .colab-df-convert:hover {\n",
              "      background-color: #434B5C;\n",
              "      box-shadow: 0px 1px 3px 1px rgba(0, 0, 0, 0.15);\n",
              "      filter: drop-shadow(0px 1px 2px rgba(0, 0, 0, 0.3));\n",
              "      fill: #FFFFFF;\n",
              "    }\n",
              "  </style>\n",
              "\n",
              "      <script>\n",
              "        const buttonEl =\n",
              "          document.querySelector('#df-b0dc8d00-3896-4aec-a30c-6d9c32e9242c button.colab-df-convert');\n",
              "        buttonEl.style.display =\n",
              "          google.colab.kernel.accessAllowed ? 'block' : 'none';\n",
              "\n",
              "        async function convertToInteractive(key) {\n",
              "          const element = document.querySelector('#df-b0dc8d00-3896-4aec-a30c-6d9c32e9242c');\n",
              "          const dataTable =\n",
              "            await google.colab.kernel.invokeFunction('convertToInteractive',\n",
              "                                                     [key], {});\n",
              "          if (!dataTable) return;\n",
              "\n",
              "          const docLinkHtml = 'Like what you see? Visit the ' +\n",
              "            '<a target=\"_blank\" href=https://colab.research.google.com/notebooks/data_table.ipynb>data table notebook</a>'\n",
              "            + ' to learn more about interactive tables.';\n",
              "          element.innerHTML = '';\n",
              "          dataTable['output_type'] = 'display_data';\n",
              "          await google.colab.output.renderOutput(dataTable, element);\n",
              "          const docLink = document.createElement('div');\n",
              "          docLink.innerHTML = docLinkHtml;\n",
              "          element.appendChild(docLink);\n",
              "        }\n",
              "      </script>\n",
              "    </div>\n",
              "  </div>\n",
              "  "
            ]
          },
          "metadata": {},
          "execution_count": 341
        }
      ]
    },
    {
      "cell_type": "code",
      "source": [
        "Customerdata_Test.shape"
      ],
      "metadata": {
        "colab": {
          "base_uri": "https://localhost:8080/"
        },
        "id": "GpBSpCLJPemC",
        "outputId": "43ee748b-5aa0-4791-9657-467e7b0411b8"
      },
      "execution_count": null,
      "outputs": [
        {
          "output_type": "execute_result",
          "data": {
            "text/plain": [
              "(5955, 7)"
            ]
          },
          "metadata": {},
          "execution_count": 342
        }
      ]
    },
    {
      "cell_type": "code",
      "source": [
        "#Loading Emaildata_Test data\n",
        "Emaildata_Test = pd.read_excel(\"/content/drive/MyDrive/final Hackathon/DataForPHD/TestData/Emaildata_Test.xlsx\")\n",
        "Emaildata_Test.head()"
      ],
      "metadata": {
        "colab": {
          "base_uri": "https://localhost:8080/",
          "height": 206
        },
        "id": "ZK58ZIqiPvNl",
        "outputId": "3c3a491d-228a-4d2b-e5f2-7d55b8a86375"
      },
      "execution_count": null,
      "outputs": [
        {
          "output_type": "execute_result",
          "data": {
            "text/plain": [
              "  CustomerID DateOfemail     EmailType timestamp MailOpened    MailClicked\n",
              "0     C17838  2010-10-22  WelcomeEmail  16:59:02        yes  NotApplicable\n",
              "1     C12403  2008-11-17  WelcomeEmail  12:46:56        yes  NotApplicable\n",
              "2     C19041  2011-01-24  WelcomeEmail  14:35:22        yes  NotApplicable\n",
              "3     C24069  2010-09-18  WelcomeEmail  12:25:26        yes  NotApplicable\n",
              "4     C26718  2010-10-02  WelcomeEmail  11:55:58        yes  NotApplicable"
            ],
            "text/html": [
              "\n",
              "  <div id=\"df-8510277e-b5d8-4be8-9f03-b7ac7fc439ff\">\n",
              "    <div class=\"colab-df-container\">\n",
              "      <div>\n",
              "<style scoped>\n",
              "    .dataframe tbody tr th:only-of-type {\n",
              "        vertical-align: middle;\n",
              "    }\n",
              "\n",
              "    .dataframe tbody tr th {\n",
              "        vertical-align: top;\n",
              "    }\n",
              "\n",
              "    .dataframe thead th {\n",
              "        text-align: right;\n",
              "    }\n",
              "</style>\n",
              "<table border=\"1\" class=\"dataframe\">\n",
              "  <thead>\n",
              "    <tr style=\"text-align: right;\">\n",
              "      <th></th>\n",
              "      <th>CustomerID</th>\n",
              "      <th>DateOfemail</th>\n",
              "      <th>EmailType</th>\n",
              "      <th>timestamp</th>\n",
              "      <th>MailOpened</th>\n",
              "      <th>MailClicked</th>\n",
              "    </tr>\n",
              "  </thead>\n",
              "  <tbody>\n",
              "    <tr>\n",
              "      <th>0</th>\n",
              "      <td>C17838</td>\n",
              "      <td>2010-10-22</td>\n",
              "      <td>WelcomeEmail</td>\n",
              "      <td>16:59:02</td>\n",
              "      <td>yes</td>\n",
              "      <td>NotApplicable</td>\n",
              "    </tr>\n",
              "    <tr>\n",
              "      <th>1</th>\n",
              "      <td>C12403</td>\n",
              "      <td>2008-11-17</td>\n",
              "      <td>WelcomeEmail</td>\n",
              "      <td>12:46:56</td>\n",
              "      <td>yes</td>\n",
              "      <td>NotApplicable</td>\n",
              "    </tr>\n",
              "    <tr>\n",
              "      <th>2</th>\n",
              "      <td>C19041</td>\n",
              "      <td>2011-01-24</td>\n",
              "      <td>WelcomeEmail</td>\n",
              "      <td>14:35:22</td>\n",
              "      <td>yes</td>\n",
              "      <td>NotApplicable</td>\n",
              "    </tr>\n",
              "    <tr>\n",
              "      <th>3</th>\n",
              "      <td>C24069</td>\n",
              "      <td>2010-09-18</td>\n",
              "      <td>WelcomeEmail</td>\n",
              "      <td>12:25:26</td>\n",
              "      <td>yes</td>\n",
              "      <td>NotApplicable</td>\n",
              "    </tr>\n",
              "    <tr>\n",
              "      <th>4</th>\n",
              "      <td>C26718</td>\n",
              "      <td>2010-10-02</td>\n",
              "      <td>WelcomeEmail</td>\n",
              "      <td>11:55:58</td>\n",
              "      <td>yes</td>\n",
              "      <td>NotApplicable</td>\n",
              "    </tr>\n",
              "  </tbody>\n",
              "</table>\n",
              "</div>\n",
              "      <button class=\"colab-df-convert\" onclick=\"convertToInteractive('df-8510277e-b5d8-4be8-9f03-b7ac7fc439ff')\"\n",
              "              title=\"Convert this dataframe to an interactive table.\"\n",
              "              style=\"display:none;\">\n",
              "        \n",
              "  <svg xmlns=\"http://www.w3.org/2000/svg\" height=\"24px\"viewBox=\"0 0 24 24\"\n",
              "       width=\"24px\">\n",
              "    <path d=\"M0 0h24v24H0V0z\" fill=\"none\"/>\n",
              "    <path d=\"M18.56 5.44l.94 2.06.94-2.06 2.06-.94-2.06-.94-.94-2.06-.94 2.06-2.06.94zm-11 1L8.5 8.5l.94-2.06 2.06-.94-2.06-.94L8.5 2.5l-.94 2.06-2.06.94zm10 10l.94 2.06.94-2.06 2.06-.94-2.06-.94-.94-2.06-.94 2.06-2.06.94z\"/><path d=\"M17.41 7.96l-1.37-1.37c-.4-.4-.92-.59-1.43-.59-.52 0-1.04.2-1.43.59L10.3 9.45l-7.72 7.72c-.78.78-.78 2.05 0 2.83L4 21.41c.39.39.9.59 1.41.59.51 0 1.02-.2 1.41-.59l7.78-7.78 2.81-2.81c.8-.78.8-2.07 0-2.86zM5.41 20L4 18.59l7.72-7.72 1.47 1.35L5.41 20z\"/>\n",
              "  </svg>\n",
              "      </button>\n",
              "      \n",
              "  <style>\n",
              "    .colab-df-container {\n",
              "      display:flex;\n",
              "      flex-wrap:wrap;\n",
              "      gap: 12px;\n",
              "    }\n",
              "\n",
              "    .colab-df-convert {\n",
              "      background-color: #E8F0FE;\n",
              "      border: none;\n",
              "      border-radius: 50%;\n",
              "      cursor: pointer;\n",
              "      display: none;\n",
              "      fill: #1967D2;\n",
              "      height: 32px;\n",
              "      padding: 0 0 0 0;\n",
              "      width: 32px;\n",
              "    }\n",
              "\n",
              "    .colab-df-convert:hover {\n",
              "      background-color: #E2EBFA;\n",
              "      box-shadow: 0px 1px 2px rgba(60, 64, 67, 0.3), 0px 1px 3px 1px rgba(60, 64, 67, 0.15);\n",
              "      fill: #174EA6;\n",
              "    }\n",
              "\n",
              "    [theme=dark] .colab-df-convert {\n",
              "      background-color: #3B4455;\n",
              "      fill: #D2E3FC;\n",
              "    }\n",
              "\n",
              "    [theme=dark] .colab-df-convert:hover {\n",
              "      background-color: #434B5C;\n",
              "      box-shadow: 0px 1px 3px 1px rgba(0, 0, 0, 0.15);\n",
              "      filter: drop-shadow(0px 1px 2px rgba(0, 0, 0, 0.3));\n",
              "      fill: #FFFFFF;\n",
              "    }\n",
              "  </style>\n",
              "\n",
              "      <script>\n",
              "        const buttonEl =\n",
              "          document.querySelector('#df-8510277e-b5d8-4be8-9f03-b7ac7fc439ff button.colab-df-convert');\n",
              "        buttonEl.style.display =\n",
              "          google.colab.kernel.accessAllowed ? 'block' : 'none';\n",
              "\n",
              "        async function convertToInteractive(key) {\n",
              "          const element = document.querySelector('#df-8510277e-b5d8-4be8-9f03-b7ac7fc439ff');\n",
              "          const dataTable =\n",
              "            await google.colab.kernel.invokeFunction('convertToInteractive',\n",
              "                                                     [key], {});\n",
              "          if (!dataTable) return;\n",
              "\n",
              "          const docLinkHtml = 'Like what you see? Visit the ' +\n",
              "            '<a target=\"_blank\" href=https://colab.research.google.com/notebooks/data_table.ipynb>data table notebook</a>'\n",
              "            + ' to learn more about interactive tables.';\n",
              "          element.innerHTML = '';\n",
              "          dataTable['output_type'] = 'display_data';\n",
              "          await google.colab.output.renderOutput(dataTable, element);\n",
              "          const docLink = document.createElement('div');\n",
              "          docLink.innerHTML = docLinkHtml;\n",
              "          element.appendChild(docLink);\n",
              "        }\n",
              "      </script>\n",
              "    </div>\n",
              "  </div>\n",
              "  "
            ]
          },
          "metadata": {},
          "execution_count": 343
        }
      ]
    },
    {
      "cell_type": "code",
      "source": [
        "Emaildata_Test.shape"
      ],
      "metadata": {
        "colab": {
          "base_uri": "https://localhost:8080/"
        },
        "id": "Xxu3TG3uSmRJ",
        "outputId": "be31fe1f-1c70-4ed3-a083-13f680d504c9"
      },
      "execution_count": null,
      "outputs": [
        {
          "output_type": "execute_result",
          "data": {
            "text/plain": [
              "(129074, 6)"
            ]
          },
          "metadata": {},
          "execution_count": 344
        }
      ]
    },
    {
      "cell_type": "code",
      "source": [
        "#Loading Test data\n",
        "Test = pd.read_excel(\"/content/drive/MyDrive/final Hackathon/DataForPHD/TestData/Test.xlsx\")\n",
        "Test.head()"
      ],
      "metadata": {
        "colab": {
          "base_uri": "https://localhost:8080/",
          "height": 206
        },
        "id": "0BPHWm0GSmMr",
        "outputId": "f9010952-127d-495d-f9b1-843572e63f0f"
      },
      "execution_count": null,
      "outputs": [
        {
          "output_type": "execute_result",
          "data": {
            "text/plain": [
              "  CustomerID\n",
              "0     C12121\n",
              "1     C12132\n",
              "2     C12134\n",
              "3     C12135\n",
              "4     C12136"
            ],
            "text/html": [
              "\n",
              "  <div id=\"df-294c0ebc-f301-4725-8900-a96226daf6ba\">\n",
              "    <div class=\"colab-df-container\">\n",
              "      <div>\n",
              "<style scoped>\n",
              "    .dataframe tbody tr th:only-of-type {\n",
              "        vertical-align: middle;\n",
              "    }\n",
              "\n",
              "    .dataframe tbody tr th {\n",
              "        vertical-align: top;\n",
              "    }\n",
              "\n",
              "    .dataframe thead th {\n",
              "        text-align: right;\n",
              "    }\n",
              "</style>\n",
              "<table border=\"1\" class=\"dataframe\">\n",
              "  <thead>\n",
              "    <tr style=\"text-align: right;\">\n",
              "      <th></th>\n",
              "      <th>CustomerID</th>\n",
              "    </tr>\n",
              "  </thead>\n",
              "  <tbody>\n",
              "    <tr>\n",
              "      <th>0</th>\n",
              "      <td>C12121</td>\n",
              "    </tr>\n",
              "    <tr>\n",
              "      <th>1</th>\n",
              "      <td>C12132</td>\n",
              "    </tr>\n",
              "    <tr>\n",
              "      <th>2</th>\n",
              "      <td>C12134</td>\n",
              "    </tr>\n",
              "    <tr>\n",
              "      <th>3</th>\n",
              "      <td>C12135</td>\n",
              "    </tr>\n",
              "    <tr>\n",
              "      <th>4</th>\n",
              "      <td>C12136</td>\n",
              "    </tr>\n",
              "  </tbody>\n",
              "</table>\n",
              "</div>\n",
              "      <button class=\"colab-df-convert\" onclick=\"convertToInteractive('df-294c0ebc-f301-4725-8900-a96226daf6ba')\"\n",
              "              title=\"Convert this dataframe to an interactive table.\"\n",
              "              style=\"display:none;\">\n",
              "        \n",
              "  <svg xmlns=\"http://www.w3.org/2000/svg\" height=\"24px\"viewBox=\"0 0 24 24\"\n",
              "       width=\"24px\">\n",
              "    <path d=\"M0 0h24v24H0V0z\" fill=\"none\"/>\n",
              "    <path d=\"M18.56 5.44l.94 2.06.94-2.06 2.06-.94-2.06-.94-.94-2.06-.94 2.06-2.06.94zm-11 1L8.5 8.5l.94-2.06 2.06-.94-2.06-.94L8.5 2.5l-.94 2.06-2.06.94zm10 10l.94 2.06.94-2.06 2.06-.94-2.06-.94-.94-2.06-.94 2.06-2.06.94z\"/><path d=\"M17.41 7.96l-1.37-1.37c-.4-.4-.92-.59-1.43-.59-.52 0-1.04.2-1.43.59L10.3 9.45l-7.72 7.72c-.78.78-.78 2.05 0 2.83L4 21.41c.39.39.9.59 1.41.59.51 0 1.02-.2 1.41-.59l7.78-7.78 2.81-2.81c.8-.78.8-2.07 0-2.86zM5.41 20L4 18.59l7.72-7.72 1.47 1.35L5.41 20z\"/>\n",
              "  </svg>\n",
              "      </button>\n",
              "      \n",
              "  <style>\n",
              "    .colab-df-container {\n",
              "      display:flex;\n",
              "      flex-wrap:wrap;\n",
              "      gap: 12px;\n",
              "    }\n",
              "\n",
              "    .colab-df-convert {\n",
              "      background-color: #E8F0FE;\n",
              "      border: none;\n",
              "      border-radius: 50%;\n",
              "      cursor: pointer;\n",
              "      display: none;\n",
              "      fill: #1967D2;\n",
              "      height: 32px;\n",
              "      padding: 0 0 0 0;\n",
              "      width: 32px;\n",
              "    }\n",
              "\n",
              "    .colab-df-convert:hover {\n",
              "      background-color: #E2EBFA;\n",
              "      box-shadow: 0px 1px 2px rgba(60, 64, 67, 0.3), 0px 1px 3px 1px rgba(60, 64, 67, 0.15);\n",
              "      fill: #174EA6;\n",
              "    }\n",
              "\n",
              "    [theme=dark] .colab-df-convert {\n",
              "      background-color: #3B4455;\n",
              "      fill: #D2E3FC;\n",
              "    }\n",
              "\n",
              "    [theme=dark] .colab-df-convert:hover {\n",
              "      background-color: #434B5C;\n",
              "      box-shadow: 0px 1px 3px 1px rgba(0, 0, 0, 0.15);\n",
              "      filter: drop-shadow(0px 1px 2px rgba(0, 0, 0, 0.3));\n",
              "      fill: #FFFFFF;\n",
              "    }\n",
              "  </style>\n",
              "\n",
              "      <script>\n",
              "        const buttonEl =\n",
              "          document.querySelector('#df-294c0ebc-f301-4725-8900-a96226daf6ba button.colab-df-convert');\n",
              "        buttonEl.style.display =\n",
              "          google.colab.kernel.accessAllowed ? 'block' : 'none';\n",
              "\n",
              "        async function convertToInteractive(key) {\n",
              "          const element = document.querySelector('#df-294c0ebc-f301-4725-8900-a96226daf6ba');\n",
              "          const dataTable =\n",
              "            await google.colab.kernel.invokeFunction('convertToInteractive',\n",
              "                                                     [key], {});\n",
              "          if (!dataTable) return;\n",
              "\n",
              "          const docLinkHtml = 'Like what you see? Visit the ' +\n",
              "            '<a target=\"_blank\" href=https://colab.research.google.com/notebooks/data_table.ipynb>data table notebook</a>'\n",
              "            + ' to learn more about interactive tables.';\n",
              "          element.innerHTML = '';\n",
              "          dataTable['output_type'] = 'display_data';\n",
              "          await google.colab.output.renderOutput(dataTable, element);\n",
              "          const docLink = document.createElement('div');\n",
              "          docLink.innerHTML = docLinkHtml;\n",
              "          element.appendChild(docLink);\n",
              "        }\n",
              "      </script>\n",
              "    </div>\n",
              "  </div>\n",
              "  "
            ]
          },
          "metadata": {},
          "execution_count": 345
        }
      ]
    },
    {
      "cell_type": "code",
      "source": [
        "Test.shape"
      ],
      "metadata": {
        "colab": {
          "base_uri": "https://localhost:8080/"
        },
        "id": "fsia9W2wS6Lj",
        "outputId": "2cdb092b-0917-42af-aa7f-979c58572e3f"
      },
      "execution_count": null,
      "outputs": [
        {
          "output_type": "execute_result",
          "data": {
            "text/plain": [
              "(5955, 1)"
            ]
          },
          "metadata": {},
          "execution_count": 346
        }
      ]
    },
    {
      "cell_type": "code",
      "source": [
        "#Loading transaction_Test data\n",
        "transactionsdata_Test = pd.read_excel(\"/content/drive/MyDrive/final Hackathon/DataForPHD/TestData/transactionsdata_Test.xlsx\")\n",
        "transactionsdata_Test.head()"
      ],
      "metadata": {
        "colab": {
          "base_uri": "https://localhost:8080/",
          "height": 206
        },
        "id": "q1apilOuSmKq",
        "outputId": "53caf47b-bbef-4453-da72-30975e83032d"
      },
      "execution_count": null,
      "outputs": [
        {
          "output_type": "execute_result",
          "data": {
            "text/plain": [
              "  CustomerID DateOfOrder timestamp  OrderQuantity\n",
              "0     C17838  2011-03-28  17:41:08             55\n",
              "1     C12403  2010-10-12  15:58:02            174\n",
              "2     C12403  2010-11-27  20:13:48            171\n",
              "3     C12403  2011-12-09  14:34:44            166\n",
              "4     C12403  2011-03-04  18:20:18            179"
            ],
            "text/html": [
              "\n",
              "  <div id=\"df-4b3c5219-163b-4896-be75-01d4487e4775\">\n",
              "    <div class=\"colab-df-container\">\n",
              "      <div>\n",
              "<style scoped>\n",
              "    .dataframe tbody tr th:only-of-type {\n",
              "        vertical-align: middle;\n",
              "    }\n",
              "\n",
              "    .dataframe tbody tr th {\n",
              "        vertical-align: top;\n",
              "    }\n",
              "\n",
              "    .dataframe thead th {\n",
              "        text-align: right;\n",
              "    }\n",
              "</style>\n",
              "<table border=\"1\" class=\"dataframe\">\n",
              "  <thead>\n",
              "    <tr style=\"text-align: right;\">\n",
              "      <th></th>\n",
              "      <th>CustomerID</th>\n",
              "      <th>DateOfOrder</th>\n",
              "      <th>timestamp</th>\n",
              "      <th>OrderQuantity</th>\n",
              "    </tr>\n",
              "  </thead>\n",
              "  <tbody>\n",
              "    <tr>\n",
              "      <th>0</th>\n",
              "      <td>C17838</td>\n",
              "      <td>2011-03-28</td>\n",
              "      <td>17:41:08</td>\n",
              "      <td>55</td>\n",
              "    </tr>\n",
              "    <tr>\n",
              "      <th>1</th>\n",
              "      <td>C12403</td>\n",
              "      <td>2010-10-12</td>\n",
              "      <td>15:58:02</td>\n",
              "      <td>174</td>\n",
              "    </tr>\n",
              "    <tr>\n",
              "      <th>2</th>\n",
              "      <td>C12403</td>\n",
              "      <td>2010-11-27</td>\n",
              "      <td>20:13:48</td>\n",
              "      <td>171</td>\n",
              "    </tr>\n",
              "    <tr>\n",
              "      <th>3</th>\n",
              "      <td>C12403</td>\n",
              "      <td>2011-12-09</td>\n",
              "      <td>14:34:44</td>\n",
              "      <td>166</td>\n",
              "    </tr>\n",
              "    <tr>\n",
              "      <th>4</th>\n",
              "      <td>C12403</td>\n",
              "      <td>2011-03-04</td>\n",
              "      <td>18:20:18</td>\n",
              "      <td>179</td>\n",
              "    </tr>\n",
              "  </tbody>\n",
              "</table>\n",
              "</div>\n",
              "      <button class=\"colab-df-convert\" onclick=\"convertToInteractive('df-4b3c5219-163b-4896-be75-01d4487e4775')\"\n",
              "              title=\"Convert this dataframe to an interactive table.\"\n",
              "              style=\"display:none;\">\n",
              "        \n",
              "  <svg xmlns=\"http://www.w3.org/2000/svg\" height=\"24px\"viewBox=\"0 0 24 24\"\n",
              "       width=\"24px\">\n",
              "    <path d=\"M0 0h24v24H0V0z\" fill=\"none\"/>\n",
              "    <path d=\"M18.56 5.44l.94 2.06.94-2.06 2.06-.94-2.06-.94-.94-2.06-.94 2.06-2.06.94zm-11 1L8.5 8.5l.94-2.06 2.06-.94-2.06-.94L8.5 2.5l-.94 2.06-2.06.94zm10 10l.94 2.06.94-2.06 2.06-.94-2.06-.94-.94-2.06-.94 2.06-2.06.94z\"/><path d=\"M17.41 7.96l-1.37-1.37c-.4-.4-.92-.59-1.43-.59-.52 0-1.04.2-1.43.59L10.3 9.45l-7.72 7.72c-.78.78-.78 2.05 0 2.83L4 21.41c.39.39.9.59 1.41.59.51 0 1.02-.2 1.41-.59l7.78-7.78 2.81-2.81c.8-.78.8-2.07 0-2.86zM5.41 20L4 18.59l7.72-7.72 1.47 1.35L5.41 20z\"/>\n",
              "  </svg>\n",
              "      </button>\n",
              "      \n",
              "  <style>\n",
              "    .colab-df-container {\n",
              "      display:flex;\n",
              "      flex-wrap:wrap;\n",
              "      gap: 12px;\n",
              "    }\n",
              "\n",
              "    .colab-df-convert {\n",
              "      background-color: #E8F0FE;\n",
              "      border: none;\n",
              "      border-radius: 50%;\n",
              "      cursor: pointer;\n",
              "      display: none;\n",
              "      fill: #1967D2;\n",
              "      height: 32px;\n",
              "      padding: 0 0 0 0;\n",
              "      width: 32px;\n",
              "    }\n",
              "\n",
              "    .colab-df-convert:hover {\n",
              "      background-color: #E2EBFA;\n",
              "      box-shadow: 0px 1px 2px rgba(60, 64, 67, 0.3), 0px 1px 3px 1px rgba(60, 64, 67, 0.15);\n",
              "      fill: #174EA6;\n",
              "    }\n",
              "\n",
              "    [theme=dark] .colab-df-convert {\n",
              "      background-color: #3B4455;\n",
              "      fill: #D2E3FC;\n",
              "    }\n",
              "\n",
              "    [theme=dark] .colab-df-convert:hover {\n",
              "      background-color: #434B5C;\n",
              "      box-shadow: 0px 1px 3px 1px rgba(0, 0, 0, 0.15);\n",
              "      filter: drop-shadow(0px 1px 2px rgba(0, 0, 0, 0.3));\n",
              "      fill: #FFFFFF;\n",
              "    }\n",
              "  </style>\n",
              "\n",
              "      <script>\n",
              "        const buttonEl =\n",
              "          document.querySelector('#df-4b3c5219-163b-4896-be75-01d4487e4775 button.colab-df-convert');\n",
              "        buttonEl.style.display =\n",
              "          google.colab.kernel.accessAllowed ? 'block' : 'none';\n",
              "\n",
              "        async function convertToInteractive(key) {\n",
              "          const element = document.querySelector('#df-4b3c5219-163b-4896-be75-01d4487e4775');\n",
              "          const dataTable =\n",
              "            await google.colab.kernel.invokeFunction('convertToInteractive',\n",
              "                                                     [key], {});\n",
              "          if (!dataTable) return;\n",
              "\n",
              "          const docLinkHtml = 'Like what you see? Visit the ' +\n",
              "            '<a target=\"_blank\" href=https://colab.research.google.com/notebooks/data_table.ipynb>data table notebook</a>'\n",
              "            + ' to learn more about interactive tables.';\n",
              "          element.innerHTML = '';\n",
              "          dataTable['output_type'] = 'display_data';\n",
              "          await google.colab.output.renderOutput(dataTable, element);\n",
              "          const docLink = document.createElement('div');\n",
              "          docLink.innerHTML = docLinkHtml;\n",
              "          element.appendChild(docLink);\n",
              "        }\n",
              "      </script>\n",
              "    </div>\n",
              "  </div>\n",
              "  "
            ]
          },
          "metadata": {},
          "execution_count": 347
        }
      ]
    },
    {
      "cell_type": "code",
      "source": [
        "transactionsdata_Test.shape"
      ],
      "metadata": {
        "colab": {
          "base_uri": "https://localhost:8080/"
        },
        "id": "JrH-Blp4Sl97",
        "outputId": "00984645-bb69-4235-9e1d-4ae7ee245af3"
      },
      "execution_count": null,
      "outputs": [
        {
          "output_type": "execute_result",
          "data": {
            "text/plain": [
              "(26768, 4)"
            ]
          },
          "metadata": {},
          "execution_count": 348
        }
      ]
    },
    {
      "cell_type": "code",
      "source": [
        "##Extracting Total order quantity with respect to every customer\n",
        "total_order_quan_test = transactionsdata_Test.groupby(\"CustomerID\")['OrderQuantity'].sum().sort_values(ascending=False)\n",
        "total_order_quan_test"
      ],
      "metadata": {
        "colab": {
          "base_uri": "https://localhost:8080/"
        },
        "id": "_as_jGNFWPbb",
        "outputId": "a1b16c56-4bb3-4bdc-b6ae-0b4cad5d8c75"
      },
      "execution_count": null,
      "outputs": [
        {
          "output_type": "execute_result",
          "data": {
            "text/plain": [
              "CustomerID\n",
              "C32037    57960\n",
              "C21789    37146\n",
              "C39420    32980\n",
              "C12403    29537\n",
              "C29490    26585\n",
              "          ...  \n",
              "C24661        1\n",
              "C24487        1\n",
              "C36255        1\n",
              "C22253        1\n",
              "C28128        1\n",
              "Name: OrderQuantity, Length: 5955, dtype: int64"
            ]
          },
          "metadata": {},
          "execution_count": 349
        }
      ]
    },
    {
      "cell_type": "code",
      "source": [
        "#### Merge Customerdata_train , Train, total_order_quan to perform some analysis\n",
        "total_order_Test = pd.merge(total_order_quan_test,Test,on=[\"CustomerID\"],how=\"inner\")\n",
        "total_order_Test.head()"
      ],
      "metadata": {
        "colab": {
          "base_uri": "https://localhost:8080/",
          "height": 206
        },
        "id": "4W87mRTVa8Vb",
        "outputId": "4c140674-ad01-4407-bf10-026123750438"
      },
      "execution_count": null,
      "outputs": [
        {
          "output_type": "execute_result",
          "data": {
            "text/plain": [
              "  CustomerID  OrderQuantity\n",
              "0     C32037          57960\n",
              "1     C21789          37146\n",
              "2     C39420          32980\n",
              "3     C12403          29537\n",
              "4     C29490          26585"
            ],
            "text/html": [
              "\n",
              "  <div id=\"df-faf7551e-a0c5-4a00-bf15-48d88495038c\">\n",
              "    <div class=\"colab-df-container\">\n",
              "      <div>\n",
              "<style scoped>\n",
              "    .dataframe tbody tr th:only-of-type {\n",
              "        vertical-align: middle;\n",
              "    }\n",
              "\n",
              "    .dataframe tbody tr th {\n",
              "        vertical-align: top;\n",
              "    }\n",
              "\n",
              "    .dataframe thead th {\n",
              "        text-align: right;\n",
              "    }\n",
              "</style>\n",
              "<table border=\"1\" class=\"dataframe\">\n",
              "  <thead>\n",
              "    <tr style=\"text-align: right;\">\n",
              "      <th></th>\n",
              "      <th>CustomerID</th>\n",
              "      <th>OrderQuantity</th>\n",
              "    </tr>\n",
              "  </thead>\n",
              "  <tbody>\n",
              "    <tr>\n",
              "      <th>0</th>\n",
              "      <td>C32037</td>\n",
              "      <td>57960</td>\n",
              "    </tr>\n",
              "    <tr>\n",
              "      <th>1</th>\n",
              "      <td>C21789</td>\n",
              "      <td>37146</td>\n",
              "    </tr>\n",
              "    <tr>\n",
              "      <th>2</th>\n",
              "      <td>C39420</td>\n",
              "      <td>32980</td>\n",
              "    </tr>\n",
              "    <tr>\n",
              "      <th>3</th>\n",
              "      <td>C12403</td>\n",
              "      <td>29537</td>\n",
              "    </tr>\n",
              "    <tr>\n",
              "      <th>4</th>\n",
              "      <td>C29490</td>\n",
              "      <td>26585</td>\n",
              "    </tr>\n",
              "  </tbody>\n",
              "</table>\n",
              "</div>\n",
              "      <button class=\"colab-df-convert\" onclick=\"convertToInteractive('df-faf7551e-a0c5-4a00-bf15-48d88495038c')\"\n",
              "              title=\"Convert this dataframe to an interactive table.\"\n",
              "              style=\"display:none;\">\n",
              "        \n",
              "  <svg xmlns=\"http://www.w3.org/2000/svg\" height=\"24px\"viewBox=\"0 0 24 24\"\n",
              "       width=\"24px\">\n",
              "    <path d=\"M0 0h24v24H0V0z\" fill=\"none\"/>\n",
              "    <path d=\"M18.56 5.44l.94 2.06.94-2.06 2.06-.94-2.06-.94-.94-2.06-.94 2.06-2.06.94zm-11 1L8.5 8.5l.94-2.06 2.06-.94-2.06-.94L8.5 2.5l-.94 2.06-2.06.94zm10 10l.94 2.06.94-2.06 2.06-.94-2.06-.94-.94-2.06-.94 2.06-2.06.94z\"/><path d=\"M17.41 7.96l-1.37-1.37c-.4-.4-.92-.59-1.43-.59-.52 0-1.04.2-1.43.59L10.3 9.45l-7.72 7.72c-.78.78-.78 2.05 0 2.83L4 21.41c.39.39.9.59 1.41.59.51 0 1.02-.2 1.41-.59l7.78-7.78 2.81-2.81c.8-.78.8-2.07 0-2.86zM5.41 20L4 18.59l7.72-7.72 1.47 1.35L5.41 20z\"/>\n",
              "  </svg>\n",
              "      </button>\n",
              "      \n",
              "  <style>\n",
              "    .colab-df-container {\n",
              "      display:flex;\n",
              "      flex-wrap:wrap;\n",
              "      gap: 12px;\n",
              "    }\n",
              "\n",
              "    .colab-df-convert {\n",
              "      background-color: #E8F0FE;\n",
              "      border: none;\n",
              "      border-radius: 50%;\n",
              "      cursor: pointer;\n",
              "      display: none;\n",
              "      fill: #1967D2;\n",
              "      height: 32px;\n",
              "      padding: 0 0 0 0;\n",
              "      width: 32px;\n",
              "    }\n",
              "\n",
              "    .colab-df-convert:hover {\n",
              "      background-color: #E2EBFA;\n",
              "      box-shadow: 0px 1px 2px rgba(60, 64, 67, 0.3), 0px 1px 3px 1px rgba(60, 64, 67, 0.15);\n",
              "      fill: #174EA6;\n",
              "    }\n",
              "\n",
              "    [theme=dark] .colab-df-convert {\n",
              "      background-color: #3B4455;\n",
              "      fill: #D2E3FC;\n",
              "    }\n",
              "\n",
              "    [theme=dark] .colab-df-convert:hover {\n",
              "      background-color: #434B5C;\n",
              "      box-shadow: 0px 1px 3px 1px rgba(0, 0, 0, 0.15);\n",
              "      filter: drop-shadow(0px 1px 2px rgba(0, 0, 0, 0.3));\n",
              "      fill: #FFFFFF;\n",
              "    }\n",
              "  </style>\n",
              "\n",
              "      <script>\n",
              "        const buttonEl =\n",
              "          document.querySelector('#df-faf7551e-a0c5-4a00-bf15-48d88495038c button.colab-df-convert');\n",
              "        buttonEl.style.display =\n",
              "          google.colab.kernel.accessAllowed ? 'block' : 'none';\n",
              "\n",
              "        async function convertToInteractive(key) {\n",
              "          const element = document.querySelector('#df-faf7551e-a0c5-4a00-bf15-48d88495038c');\n",
              "          const dataTable =\n",
              "            await google.colab.kernel.invokeFunction('convertToInteractive',\n",
              "                                                     [key], {});\n",
              "          if (!dataTable) return;\n",
              "\n",
              "          const docLinkHtml = 'Like what you see? Visit the ' +\n",
              "            '<a target=\"_blank\" href=https://colab.research.google.com/notebooks/data_table.ipynb>data table notebook</a>'\n",
              "            + ' to learn more about interactive tables.';\n",
              "          element.innerHTML = '';\n",
              "          dataTable['output_type'] = 'display_data';\n",
              "          await google.colab.output.renderOutput(dataTable, element);\n",
              "          const docLink = document.createElement('div');\n",
              "          docLink.innerHTML = docLinkHtml;\n",
              "          element.appendChild(docLink);\n",
              "        }\n",
              "      </script>\n",
              "    </div>\n",
              "  </div>\n",
              "  "
            ]
          },
          "metadata": {},
          "execution_count": 350
        }
      ]
    },
    {
      "cell_type": "code",
      "source": [
        "Email_Type_test = pd.get_dummies(Emaildata_Test.EmailType,prefix=\"Email_Type\")\n",
        "Mail_Clicked_test= pd.get_dummies(Emaildata_Test.MailClicked,prefix=\"Mail_Clicked\")\n",
        "Mail_Opened_test = pd.get_dummies(Emaildata_Test.MailOpened,prefix=\"Mail_Opened\")"
      ],
      "metadata": {
        "id": "3EOdyLL4kRYi"
      },
      "execution_count": null,
      "outputs": []
    },
    {
      "cell_type": "code",
      "source": [
        "email_merged_test = pd.concat([Emaildata_Test,Email_Type_test,Mail_Clicked_test,Mail_Opened_test],axis = 1)\n",
        "email_merged_test.head()"
      ],
      "metadata": {
        "colab": {
          "base_uri": "https://localhost:8080/",
          "height": 270
        },
        "id": "KxeJlhnik7tk",
        "outputId": "d6cacf5f-cf23-42bc-df72-65c3139994fa"
      },
      "execution_count": null,
      "outputs": [
        {
          "output_type": "execute_result",
          "data": {
            "text/plain": [
              "  CustomerID DateOfemail     EmailType timestamp MailOpened    MailClicked  \\\n",
              "0     C17838  2010-10-22  WelcomeEmail  16:59:02        yes  NotApplicable   \n",
              "1     C12403  2008-11-17  WelcomeEmail  12:46:56        yes  NotApplicable   \n",
              "2     C19041  2011-01-24  WelcomeEmail  14:35:22        yes  NotApplicable   \n",
              "3     C24069  2010-09-18  WelcomeEmail  12:25:26        yes  NotApplicable   \n",
              "4     C26718  2010-10-02  WelcomeEmail  11:55:58        yes  NotApplicable   \n",
              "\n",
              "   Email_Type_CustomizedEmail  Email_Type_WelcomeEmail  \\\n",
              "0                           0                        1   \n",
              "1                           0                        1   \n",
              "2                           0                        1   \n",
              "3                           0                        1   \n",
              "4                           0                        1   \n",
              "\n",
              "   Mail_Clicked_NotApplicable  Mail_Clicked_no  Mail_Clicked_yes  \\\n",
              "0                           1                0                 0   \n",
              "1                           1                0                 0   \n",
              "2                           1                0                 0   \n",
              "3                           1                0                 0   \n",
              "4                           1                0                 0   \n",
              "\n",
              "   Mail_Opened_no  Mail_Opened_yes  \n",
              "0               0                1  \n",
              "1               0                1  \n",
              "2               0                1  \n",
              "3               0                1  \n",
              "4               0                1  "
            ],
            "text/html": [
              "\n",
              "  <div id=\"df-4ae4ecce-49ae-4dce-a827-5e2b3de0f0b9\">\n",
              "    <div class=\"colab-df-container\">\n",
              "      <div>\n",
              "<style scoped>\n",
              "    .dataframe tbody tr th:only-of-type {\n",
              "        vertical-align: middle;\n",
              "    }\n",
              "\n",
              "    .dataframe tbody tr th {\n",
              "        vertical-align: top;\n",
              "    }\n",
              "\n",
              "    .dataframe thead th {\n",
              "        text-align: right;\n",
              "    }\n",
              "</style>\n",
              "<table border=\"1\" class=\"dataframe\">\n",
              "  <thead>\n",
              "    <tr style=\"text-align: right;\">\n",
              "      <th></th>\n",
              "      <th>CustomerID</th>\n",
              "      <th>DateOfemail</th>\n",
              "      <th>EmailType</th>\n",
              "      <th>timestamp</th>\n",
              "      <th>MailOpened</th>\n",
              "      <th>MailClicked</th>\n",
              "      <th>Email_Type_CustomizedEmail</th>\n",
              "      <th>Email_Type_WelcomeEmail</th>\n",
              "      <th>Mail_Clicked_NotApplicable</th>\n",
              "      <th>Mail_Clicked_no</th>\n",
              "      <th>Mail_Clicked_yes</th>\n",
              "      <th>Mail_Opened_no</th>\n",
              "      <th>Mail_Opened_yes</th>\n",
              "    </tr>\n",
              "  </thead>\n",
              "  <tbody>\n",
              "    <tr>\n",
              "      <th>0</th>\n",
              "      <td>C17838</td>\n",
              "      <td>2010-10-22</td>\n",
              "      <td>WelcomeEmail</td>\n",
              "      <td>16:59:02</td>\n",
              "      <td>yes</td>\n",
              "      <td>NotApplicable</td>\n",
              "      <td>0</td>\n",
              "      <td>1</td>\n",
              "      <td>1</td>\n",
              "      <td>0</td>\n",
              "      <td>0</td>\n",
              "      <td>0</td>\n",
              "      <td>1</td>\n",
              "    </tr>\n",
              "    <tr>\n",
              "      <th>1</th>\n",
              "      <td>C12403</td>\n",
              "      <td>2008-11-17</td>\n",
              "      <td>WelcomeEmail</td>\n",
              "      <td>12:46:56</td>\n",
              "      <td>yes</td>\n",
              "      <td>NotApplicable</td>\n",
              "      <td>0</td>\n",
              "      <td>1</td>\n",
              "      <td>1</td>\n",
              "      <td>0</td>\n",
              "      <td>0</td>\n",
              "      <td>0</td>\n",
              "      <td>1</td>\n",
              "    </tr>\n",
              "    <tr>\n",
              "      <th>2</th>\n",
              "      <td>C19041</td>\n",
              "      <td>2011-01-24</td>\n",
              "      <td>WelcomeEmail</td>\n",
              "      <td>14:35:22</td>\n",
              "      <td>yes</td>\n",
              "      <td>NotApplicable</td>\n",
              "      <td>0</td>\n",
              "      <td>1</td>\n",
              "      <td>1</td>\n",
              "      <td>0</td>\n",
              "      <td>0</td>\n",
              "      <td>0</td>\n",
              "      <td>1</td>\n",
              "    </tr>\n",
              "    <tr>\n",
              "      <th>3</th>\n",
              "      <td>C24069</td>\n",
              "      <td>2010-09-18</td>\n",
              "      <td>WelcomeEmail</td>\n",
              "      <td>12:25:26</td>\n",
              "      <td>yes</td>\n",
              "      <td>NotApplicable</td>\n",
              "      <td>0</td>\n",
              "      <td>1</td>\n",
              "      <td>1</td>\n",
              "      <td>0</td>\n",
              "      <td>0</td>\n",
              "      <td>0</td>\n",
              "      <td>1</td>\n",
              "    </tr>\n",
              "    <tr>\n",
              "      <th>4</th>\n",
              "      <td>C26718</td>\n",
              "      <td>2010-10-02</td>\n",
              "      <td>WelcomeEmail</td>\n",
              "      <td>11:55:58</td>\n",
              "      <td>yes</td>\n",
              "      <td>NotApplicable</td>\n",
              "      <td>0</td>\n",
              "      <td>1</td>\n",
              "      <td>1</td>\n",
              "      <td>0</td>\n",
              "      <td>0</td>\n",
              "      <td>0</td>\n",
              "      <td>1</td>\n",
              "    </tr>\n",
              "  </tbody>\n",
              "</table>\n",
              "</div>\n",
              "      <button class=\"colab-df-convert\" onclick=\"convertToInteractive('df-4ae4ecce-49ae-4dce-a827-5e2b3de0f0b9')\"\n",
              "              title=\"Convert this dataframe to an interactive table.\"\n",
              "              style=\"display:none;\">\n",
              "        \n",
              "  <svg xmlns=\"http://www.w3.org/2000/svg\" height=\"24px\"viewBox=\"0 0 24 24\"\n",
              "       width=\"24px\">\n",
              "    <path d=\"M0 0h24v24H0V0z\" fill=\"none\"/>\n",
              "    <path d=\"M18.56 5.44l.94 2.06.94-2.06 2.06-.94-2.06-.94-.94-2.06-.94 2.06-2.06.94zm-11 1L8.5 8.5l.94-2.06 2.06-.94-2.06-.94L8.5 2.5l-.94 2.06-2.06.94zm10 10l.94 2.06.94-2.06 2.06-.94-2.06-.94-.94-2.06-.94 2.06-2.06.94z\"/><path d=\"M17.41 7.96l-1.37-1.37c-.4-.4-.92-.59-1.43-.59-.52 0-1.04.2-1.43.59L10.3 9.45l-7.72 7.72c-.78.78-.78 2.05 0 2.83L4 21.41c.39.39.9.59 1.41.59.51 0 1.02-.2 1.41-.59l7.78-7.78 2.81-2.81c.8-.78.8-2.07 0-2.86zM5.41 20L4 18.59l7.72-7.72 1.47 1.35L5.41 20z\"/>\n",
              "  </svg>\n",
              "      </button>\n",
              "      \n",
              "  <style>\n",
              "    .colab-df-container {\n",
              "      display:flex;\n",
              "      flex-wrap:wrap;\n",
              "      gap: 12px;\n",
              "    }\n",
              "\n",
              "    .colab-df-convert {\n",
              "      background-color: #E8F0FE;\n",
              "      border: none;\n",
              "      border-radius: 50%;\n",
              "      cursor: pointer;\n",
              "      display: none;\n",
              "      fill: #1967D2;\n",
              "      height: 32px;\n",
              "      padding: 0 0 0 0;\n",
              "      width: 32px;\n",
              "    }\n",
              "\n",
              "    .colab-df-convert:hover {\n",
              "      background-color: #E2EBFA;\n",
              "      box-shadow: 0px 1px 2px rgba(60, 64, 67, 0.3), 0px 1px 3px 1px rgba(60, 64, 67, 0.15);\n",
              "      fill: #174EA6;\n",
              "    }\n",
              "\n",
              "    [theme=dark] .colab-df-convert {\n",
              "      background-color: #3B4455;\n",
              "      fill: #D2E3FC;\n",
              "    }\n",
              "\n",
              "    [theme=dark] .colab-df-convert:hover {\n",
              "      background-color: #434B5C;\n",
              "      box-shadow: 0px 1px 3px 1px rgba(0, 0, 0, 0.15);\n",
              "      filter: drop-shadow(0px 1px 2px rgba(0, 0, 0, 0.3));\n",
              "      fill: #FFFFFF;\n",
              "    }\n",
              "  </style>\n",
              "\n",
              "      <script>\n",
              "        const buttonEl =\n",
              "          document.querySelector('#df-4ae4ecce-49ae-4dce-a827-5e2b3de0f0b9 button.colab-df-convert');\n",
              "        buttonEl.style.display =\n",
              "          google.colab.kernel.accessAllowed ? 'block' : 'none';\n",
              "\n",
              "        async function convertToInteractive(key) {\n",
              "          const element = document.querySelector('#df-4ae4ecce-49ae-4dce-a827-5e2b3de0f0b9');\n",
              "          const dataTable =\n",
              "            await google.colab.kernel.invokeFunction('convertToInteractive',\n",
              "                                                     [key], {});\n",
              "          if (!dataTable) return;\n",
              "\n",
              "          const docLinkHtml = 'Like what you see? Visit the ' +\n",
              "            '<a target=\"_blank\" href=https://colab.research.google.com/notebooks/data_table.ipynb>data table notebook</a>'\n",
              "            + ' to learn more about interactive tables.';\n",
              "          element.innerHTML = '';\n",
              "          dataTable['output_type'] = 'display_data';\n",
              "          await google.colab.output.renderOutput(dataTable, element);\n",
              "          const docLink = document.createElement('div');\n",
              "          docLink.innerHTML = docLinkHtml;\n",
              "          element.appendChild(docLink);\n",
              "        }\n",
              "      </script>\n",
              "    </div>\n",
              "  </div>\n",
              "  "
            ]
          },
          "metadata": {},
          "execution_count": 352
        }
      ]
    },
    {
      "cell_type": "code",
      "source": [
        "email_merged.drop(['EmailType','MailOpened','MailClicked','timestamp','DateOfemail'],axis=1)\n",
        "email_total_test = email_merged_test.groupby('CustomerID').sum().reset_index()\n",
        "email_total_test.head()"
      ],
      "metadata": {
        "colab": {
          "base_uri": "https://localhost:8080/",
          "height": 270
        },
        "id": "xwECAKvUH-RI",
        "outputId": "e2c50bb9-65d9-4daf-b567-7c72e9a274e8"
      },
      "execution_count": null,
      "outputs": [
        {
          "output_type": "execute_result",
          "data": {
            "text/plain": [
              "  CustomerID  Email_Type_CustomizedEmail  Email_Type_WelcomeEmail  \\\n",
              "0     C12121                        24.0                      1.0   \n",
              "1     C12132                         0.0                      1.0   \n",
              "2     C12134                         0.0                      1.0   \n",
              "3     C12135                        29.0                      1.0   \n",
              "4     C12136                        41.0                      1.0   \n",
              "\n",
              "   Mail_Clicked_NotApplicable  Mail_Clicked_no  Mail_Clicked_yes  \\\n",
              "0                         1.0             21.0               3.0   \n",
              "1                         1.0              0.0               0.0   \n",
              "2                         1.0              0.0               0.0   \n",
              "3                         1.0             24.0               5.0   \n",
              "4                         1.0             40.0               1.0   \n",
              "\n",
              "   Mail_Opened_no  Mail_Opened_yes  \n",
              "0            16.0              9.0  \n",
              "1             0.0              1.0  \n",
              "2             0.0              1.0  \n",
              "3            21.0              9.0  \n",
              "4            38.0              4.0  "
            ],
            "text/html": [
              "\n",
              "  <div id=\"df-530581b3-26df-4cd9-a8f8-49c4924070a8\">\n",
              "    <div class=\"colab-df-container\">\n",
              "      <div>\n",
              "<style scoped>\n",
              "    .dataframe tbody tr th:only-of-type {\n",
              "        vertical-align: middle;\n",
              "    }\n",
              "\n",
              "    .dataframe tbody tr th {\n",
              "        vertical-align: top;\n",
              "    }\n",
              "\n",
              "    .dataframe thead th {\n",
              "        text-align: right;\n",
              "    }\n",
              "</style>\n",
              "<table border=\"1\" class=\"dataframe\">\n",
              "  <thead>\n",
              "    <tr style=\"text-align: right;\">\n",
              "      <th></th>\n",
              "      <th>CustomerID</th>\n",
              "      <th>Email_Type_CustomizedEmail</th>\n",
              "      <th>Email_Type_WelcomeEmail</th>\n",
              "      <th>Mail_Clicked_NotApplicable</th>\n",
              "      <th>Mail_Clicked_no</th>\n",
              "      <th>Mail_Clicked_yes</th>\n",
              "      <th>Mail_Opened_no</th>\n",
              "      <th>Mail_Opened_yes</th>\n",
              "    </tr>\n",
              "  </thead>\n",
              "  <tbody>\n",
              "    <tr>\n",
              "      <th>0</th>\n",
              "      <td>C12121</td>\n",
              "      <td>24.0</td>\n",
              "      <td>1.0</td>\n",
              "      <td>1.0</td>\n",
              "      <td>21.0</td>\n",
              "      <td>3.0</td>\n",
              "      <td>16.0</td>\n",
              "      <td>9.0</td>\n",
              "    </tr>\n",
              "    <tr>\n",
              "      <th>1</th>\n",
              "      <td>C12132</td>\n",
              "      <td>0.0</td>\n",
              "      <td>1.0</td>\n",
              "      <td>1.0</td>\n",
              "      <td>0.0</td>\n",
              "      <td>0.0</td>\n",
              "      <td>0.0</td>\n",
              "      <td>1.0</td>\n",
              "    </tr>\n",
              "    <tr>\n",
              "      <th>2</th>\n",
              "      <td>C12134</td>\n",
              "      <td>0.0</td>\n",
              "      <td>1.0</td>\n",
              "      <td>1.0</td>\n",
              "      <td>0.0</td>\n",
              "      <td>0.0</td>\n",
              "      <td>0.0</td>\n",
              "      <td>1.0</td>\n",
              "    </tr>\n",
              "    <tr>\n",
              "      <th>3</th>\n",
              "      <td>C12135</td>\n",
              "      <td>29.0</td>\n",
              "      <td>1.0</td>\n",
              "      <td>1.0</td>\n",
              "      <td>24.0</td>\n",
              "      <td>5.0</td>\n",
              "      <td>21.0</td>\n",
              "      <td>9.0</td>\n",
              "    </tr>\n",
              "    <tr>\n",
              "      <th>4</th>\n",
              "      <td>C12136</td>\n",
              "      <td>41.0</td>\n",
              "      <td>1.0</td>\n",
              "      <td>1.0</td>\n",
              "      <td>40.0</td>\n",
              "      <td>1.0</td>\n",
              "      <td>38.0</td>\n",
              "      <td>4.0</td>\n",
              "    </tr>\n",
              "  </tbody>\n",
              "</table>\n",
              "</div>\n",
              "      <button class=\"colab-df-convert\" onclick=\"convertToInteractive('df-530581b3-26df-4cd9-a8f8-49c4924070a8')\"\n",
              "              title=\"Convert this dataframe to an interactive table.\"\n",
              "              style=\"display:none;\">\n",
              "        \n",
              "  <svg xmlns=\"http://www.w3.org/2000/svg\" height=\"24px\"viewBox=\"0 0 24 24\"\n",
              "       width=\"24px\">\n",
              "    <path d=\"M0 0h24v24H0V0z\" fill=\"none\"/>\n",
              "    <path d=\"M18.56 5.44l.94 2.06.94-2.06 2.06-.94-2.06-.94-.94-2.06-.94 2.06-2.06.94zm-11 1L8.5 8.5l.94-2.06 2.06-.94-2.06-.94L8.5 2.5l-.94 2.06-2.06.94zm10 10l.94 2.06.94-2.06 2.06-.94-2.06-.94-.94-2.06-.94 2.06-2.06.94z\"/><path d=\"M17.41 7.96l-1.37-1.37c-.4-.4-.92-.59-1.43-.59-.52 0-1.04.2-1.43.59L10.3 9.45l-7.72 7.72c-.78.78-.78 2.05 0 2.83L4 21.41c.39.39.9.59 1.41.59.51 0 1.02-.2 1.41-.59l7.78-7.78 2.81-2.81c.8-.78.8-2.07 0-2.86zM5.41 20L4 18.59l7.72-7.72 1.47 1.35L5.41 20z\"/>\n",
              "  </svg>\n",
              "      </button>\n",
              "      \n",
              "  <style>\n",
              "    .colab-df-container {\n",
              "      display:flex;\n",
              "      flex-wrap:wrap;\n",
              "      gap: 12px;\n",
              "    }\n",
              "\n",
              "    .colab-df-convert {\n",
              "      background-color: #E8F0FE;\n",
              "      border: none;\n",
              "      border-radius: 50%;\n",
              "      cursor: pointer;\n",
              "      display: none;\n",
              "      fill: #1967D2;\n",
              "      height: 32px;\n",
              "      padding: 0 0 0 0;\n",
              "      width: 32px;\n",
              "    }\n",
              "\n",
              "    .colab-df-convert:hover {\n",
              "      background-color: #E2EBFA;\n",
              "      box-shadow: 0px 1px 2px rgba(60, 64, 67, 0.3), 0px 1px 3px 1px rgba(60, 64, 67, 0.15);\n",
              "      fill: #174EA6;\n",
              "    }\n",
              "\n",
              "    [theme=dark] .colab-df-convert {\n",
              "      background-color: #3B4455;\n",
              "      fill: #D2E3FC;\n",
              "    }\n",
              "\n",
              "    [theme=dark] .colab-df-convert:hover {\n",
              "      background-color: #434B5C;\n",
              "      box-shadow: 0px 1px 3px 1px rgba(0, 0, 0, 0.15);\n",
              "      filter: drop-shadow(0px 1px 2px rgba(0, 0, 0, 0.3));\n",
              "      fill: #FFFFFF;\n",
              "    }\n",
              "  </style>\n",
              "\n",
              "      <script>\n",
              "        const buttonEl =\n",
              "          document.querySelector('#df-530581b3-26df-4cd9-a8f8-49c4924070a8 button.colab-df-convert');\n",
              "        buttonEl.style.display =\n",
              "          google.colab.kernel.accessAllowed ? 'block' : 'none';\n",
              "\n",
              "        async function convertToInteractive(key) {\n",
              "          const element = document.querySelector('#df-530581b3-26df-4cd9-a8f8-49c4924070a8');\n",
              "          const dataTable =\n",
              "            await google.colab.kernel.invokeFunction('convertToInteractive',\n",
              "                                                     [key], {});\n",
              "          if (!dataTable) return;\n",
              "\n",
              "          const docLinkHtml = 'Like what you see? Visit the ' +\n",
              "            '<a target=\"_blank\" href=https://colab.research.google.com/notebooks/data_table.ipynb>data table notebook</a>'\n",
              "            + ' to learn more about interactive tables.';\n",
              "          element.innerHTML = '';\n",
              "          dataTable['output_type'] = 'display_data';\n",
              "          await google.colab.output.renderOutput(dataTable, element);\n",
              "          const docLink = document.createElement('div');\n",
              "          docLink.innerHTML = docLinkHtml;\n",
              "          element.appendChild(docLink);\n",
              "        }\n",
              "      </script>\n",
              "    </div>\n",
              "  </div>\n",
              "  "
            ]
          },
          "metadata": {},
          "execution_count": 353
        }
      ]
    },
    {
      "cell_type": "code",
      "source": [
        "email_customer_test = pd.merge(email_total_test,Customerdata_Test,on=[\"CustomerID\"],how=\"inner\")\n",
        "email_customer_test.head()"
      ],
      "metadata": {
        "colab": {
          "base_uri": "https://localhost:8080/",
          "height": 270
        },
        "id": "YB80WQpqmJw5",
        "outputId": "ff4e363b-6e23-4c40-f580-847e38a654cc"
      },
      "execution_count": null,
      "outputs": [
        {
          "output_type": "execute_result",
          "data": {
            "text/plain": [
              "  CustomerID  Email_Type_CustomizedEmail  Email_Type_WelcomeEmail  \\\n",
              "0     C12121                        24.0                      1.0   \n",
              "1     C12132                         0.0                      1.0   \n",
              "2     C12134                         0.0                      1.0   \n",
              "3     C12135                        29.0                      1.0   \n",
              "4     C12136                        41.0                      1.0   \n",
              "\n",
              "   Mail_Clicked_NotApplicable  Mail_Clicked_no  Mail_Clicked_yes  \\\n",
              "0                         1.0             21.0               3.0   \n",
              "1                         1.0              0.0               0.0   \n",
              "2                         1.0              0.0               0.0   \n",
              "3                         1.0             24.0               5.0   \n",
              "4                         1.0             40.0               1.0   \n",
              "\n",
              "   Mail_Opened_no  Mail_Opened_yes   City DateOfRegistration  \\\n",
              "0            16.0              9.0  CITY1         2017-12-04   \n",
              "1             0.0              1.0  CITY3         2013-10-20   \n",
              "2             0.0              1.0  CITY3         2013-09-18   \n",
              "3            21.0              9.0  CITY3         2017-11-01   \n",
              "4            38.0              4.0  CITY2         2013-09-28   \n",
              "\n",
              "   OnlineCommunication  AutomaticRefill  DoorstepDelivery PreferredDeliveryDay  \n",
              "0                    1                0                 0               Friday  \n",
              "1                    1                0                 0              Tuesday  \n",
              "2                    1                0                 0               Monday  \n",
              "3                    1                0                 1            Wednesday  \n",
              "4                    1                0                 0             Thursday  "
            ],
            "text/html": [
              "\n",
              "  <div id=\"df-36b8955b-e0a4-480c-b433-9e7719fa6be7\">\n",
              "    <div class=\"colab-df-container\">\n",
              "      <div>\n",
              "<style scoped>\n",
              "    .dataframe tbody tr th:only-of-type {\n",
              "        vertical-align: middle;\n",
              "    }\n",
              "\n",
              "    .dataframe tbody tr th {\n",
              "        vertical-align: top;\n",
              "    }\n",
              "\n",
              "    .dataframe thead th {\n",
              "        text-align: right;\n",
              "    }\n",
              "</style>\n",
              "<table border=\"1\" class=\"dataframe\">\n",
              "  <thead>\n",
              "    <tr style=\"text-align: right;\">\n",
              "      <th></th>\n",
              "      <th>CustomerID</th>\n",
              "      <th>Email_Type_CustomizedEmail</th>\n",
              "      <th>Email_Type_WelcomeEmail</th>\n",
              "      <th>Mail_Clicked_NotApplicable</th>\n",
              "      <th>Mail_Clicked_no</th>\n",
              "      <th>Mail_Clicked_yes</th>\n",
              "      <th>Mail_Opened_no</th>\n",
              "      <th>Mail_Opened_yes</th>\n",
              "      <th>City</th>\n",
              "      <th>DateOfRegistration</th>\n",
              "      <th>OnlineCommunication</th>\n",
              "      <th>AutomaticRefill</th>\n",
              "      <th>DoorstepDelivery</th>\n",
              "      <th>PreferredDeliveryDay</th>\n",
              "    </tr>\n",
              "  </thead>\n",
              "  <tbody>\n",
              "    <tr>\n",
              "      <th>0</th>\n",
              "      <td>C12121</td>\n",
              "      <td>24.0</td>\n",
              "      <td>1.0</td>\n",
              "      <td>1.0</td>\n",
              "      <td>21.0</td>\n",
              "      <td>3.0</td>\n",
              "      <td>16.0</td>\n",
              "      <td>9.0</td>\n",
              "      <td>CITY1</td>\n",
              "      <td>2017-12-04</td>\n",
              "      <td>1</td>\n",
              "      <td>0</td>\n",
              "      <td>0</td>\n",
              "      <td>Friday</td>\n",
              "    </tr>\n",
              "    <tr>\n",
              "      <th>1</th>\n",
              "      <td>C12132</td>\n",
              "      <td>0.0</td>\n",
              "      <td>1.0</td>\n",
              "      <td>1.0</td>\n",
              "      <td>0.0</td>\n",
              "      <td>0.0</td>\n",
              "      <td>0.0</td>\n",
              "      <td>1.0</td>\n",
              "      <td>CITY3</td>\n",
              "      <td>2013-10-20</td>\n",
              "      <td>1</td>\n",
              "      <td>0</td>\n",
              "      <td>0</td>\n",
              "      <td>Tuesday</td>\n",
              "    </tr>\n",
              "    <tr>\n",
              "      <th>2</th>\n",
              "      <td>C12134</td>\n",
              "      <td>0.0</td>\n",
              "      <td>1.0</td>\n",
              "      <td>1.0</td>\n",
              "      <td>0.0</td>\n",
              "      <td>0.0</td>\n",
              "      <td>0.0</td>\n",
              "      <td>1.0</td>\n",
              "      <td>CITY3</td>\n",
              "      <td>2013-09-18</td>\n",
              "      <td>1</td>\n",
              "      <td>0</td>\n",
              "      <td>0</td>\n",
              "      <td>Monday</td>\n",
              "    </tr>\n",
              "    <tr>\n",
              "      <th>3</th>\n",
              "      <td>C12135</td>\n",
              "      <td>29.0</td>\n",
              "      <td>1.0</td>\n",
              "      <td>1.0</td>\n",
              "      <td>24.0</td>\n",
              "      <td>5.0</td>\n",
              "      <td>21.0</td>\n",
              "      <td>9.0</td>\n",
              "      <td>CITY3</td>\n",
              "      <td>2017-11-01</td>\n",
              "      <td>1</td>\n",
              "      <td>0</td>\n",
              "      <td>1</td>\n",
              "      <td>Wednesday</td>\n",
              "    </tr>\n",
              "    <tr>\n",
              "      <th>4</th>\n",
              "      <td>C12136</td>\n",
              "      <td>41.0</td>\n",
              "      <td>1.0</td>\n",
              "      <td>1.0</td>\n",
              "      <td>40.0</td>\n",
              "      <td>1.0</td>\n",
              "      <td>38.0</td>\n",
              "      <td>4.0</td>\n",
              "      <td>CITY2</td>\n",
              "      <td>2013-09-28</td>\n",
              "      <td>1</td>\n",
              "      <td>0</td>\n",
              "      <td>0</td>\n",
              "      <td>Thursday</td>\n",
              "    </tr>\n",
              "  </tbody>\n",
              "</table>\n",
              "</div>\n",
              "      <button class=\"colab-df-convert\" onclick=\"convertToInteractive('df-36b8955b-e0a4-480c-b433-9e7719fa6be7')\"\n",
              "              title=\"Convert this dataframe to an interactive table.\"\n",
              "              style=\"display:none;\">\n",
              "        \n",
              "  <svg xmlns=\"http://www.w3.org/2000/svg\" height=\"24px\"viewBox=\"0 0 24 24\"\n",
              "       width=\"24px\">\n",
              "    <path d=\"M0 0h24v24H0V0z\" fill=\"none\"/>\n",
              "    <path d=\"M18.56 5.44l.94 2.06.94-2.06 2.06-.94-2.06-.94-.94-2.06-.94 2.06-2.06.94zm-11 1L8.5 8.5l.94-2.06 2.06-.94-2.06-.94L8.5 2.5l-.94 2.06-2.06.94zm10 10l.94 2.06.94-2.06 2.06-.94-2.06-.94-.94-2.06-.94 2.06-2.06.94z\"/><path d=\"M17.41 7.96l-1.37-1.37c-.4-.4-.92-.59-1.43-.59-.52 0-1.04.2-1.43.59L10.3 9.45l-7.72 7.72c-.78.78-.78 2.05 0 2.83L4 21.41c.39.39.9.59 1.41.59.51 0 1.02-.2 1.41-.59l7.78-7.78 2.81-2.81c.8-.78.8-2.07 0-2.86zM5.41 20L4 18.59l7.72-7.72 1.47 1.35L5.41 20z\"/>\n",
              "  </svg>\n",
              "      </button>\n",
              "      \n",
              "  <style>\n",
              "    .colab-df-container {\n",
              "      display:flex;\n",
              "      flex-wrap:wrap;\n",
              "      gap: 12px;\n",
              "    }\n",
              "\n",
              "    .colab-df-convert {\n",
              "      background-color: #E8F0FE;\n",
              "      border: none;\n",
              "      border-radius: 50%;\n",
              "      cursor: pointer;\n",
              "      display: none;\n",
              "      fill: #1967D2;\n",
              "      height: 32px;\n",
              "      padding: 0 0 0 0;\n",
              "      width: 32px;\n",
              "    }\n",
              "\n",
              "    .colab-df-convert:hover {\n",
              "      background-color: #E2EBFA;\n",
              "      box-shadow: 0px 1px 2px rgba(60, 64, 67, 0.3), 0px 1px 3px 1px rgba(60, 64, 67, 0.15);\n",
              "      fill: #174EA6;\n",
              "    }\n",
              "\n",
              "    [theme=dark] .colab-df-convert {\n",
              "      background-color: #3B4455;\n",
              "      fill: #D2E3FC;\n",
              "    }\n",
              "\n",
              "    [theme=dark] .colab-df-convert:hover {\n",
              "      background-color: #434B5C;\n",
              "      box-shadow: 0px 1px 3px 1px rgba(0, 0, 0, 0.15);\n",
              "      filter: drop-shadow(0px 1px 2px rgba(0, 0, 0, 0.3));\n",
              "      fill: #FFFFFF;\n",
              "    }\n",
              "  </style>\n",
              "\n",
              "      <script>\n",
              "        const buttonEl =\n",
              "          document.querySelector('#df-36b8955b-e0a4-480c-b433-9e7719fa6be7 button.colab-df-convert');\n",
              "        buttonEl.style.display =\n",
              "          google.colab.kernel.accessAllowed ? 'block' : 'none';\n",
              "\n",
              "        async function convertToInteractive(key) {\n",
              "          const element = document.querySelector('#df-36b8955b-e0a4-480c-b433-9e7719fa6be7');\n",
              "          const dataTable =\n",
              "            await google.colab.kernel.invokeFunction('convertToInteractive',\n",
              "                                                     [key], {});\n",
              "          if (!dataTable) return;\n",
              "\n",
              "          const docLinkHtml = 'Like what you see? Visit the ' +\n",
              "            '<a target=\"_blank\" href=https://colab.research.google.com/notebooks/data_table.ipynb>data table notebook</a>'\n",
              "            + ' to learn more about interactive tables.';\n",
              "          element.innerHTML = '';\n",
              "          dataTable['output_type'] = 'display_data';\n",
              "          await google.colab.output.renderOutput(dataTable, element);\n",
              "          const docLink = document.createElement('div');\n",
              "          docLink.innerHTML = docLinkHtml;\n",
              "          element.appendChild(docLink);\n",
              "        }\n",
              "      </script>\n",
              "    </div>\n",
              "  </div>\n",
              "  "
            ]
          },
          "metadata": {},
          "execution_count": 354
        }
      ]
    },
    {
      "cell_type": "code",
      "source": [
        "test_df= pd.merge(email_customer_test,total_order_Test,on=[\"CustomerID\"],how=\"inner\")\n",
        "test_df.head()"
      ],
      "metadata": {
        "colab": {
          "base_uri": "https://localhost:8080/",
          "height": 270
        },
        "id": "lytR7XjhmYnu",
        "outputId": "69ab6de5-3659-4b60-8b27-0ffde7d9fe42"
      },
      "execution_count": null,
      "outputs": [
        {
          "output_type": "execute_result",
          "data": {
            "text/plain": [
              "  CustomerID  Email_Type_CustomizedEmail  Email_Type_WelcomeEmail  \\\n",
              "0     C12121                        24.0                      1.0   \n",
              "1     C12132                         0.0                      1.0   \n",
              "2     C12134                         0.0                      1.0   \n",
              "3     C12135                        29.0                      1.0   \n",
              "4     C12136                        41.0                      1.0   \n",
              "\n",
              "   Mail_Clicked_NotApplicable  Mail_Clicked_no  Mail_Clicked_yes  \\\n",
              "0                         1.0             21.0               3.0   \n",
              "1                         1.0              0.0               0.0   \n",
              "2                         1.0              0.0               0.0   \n",
              "3                         1.0             24.0               5.0   \n",
              "4                         1.0             40.0               1.0   \n",
              "\n",
              "   Mail_Opened_no  Mail_Opened_yes   City DateOfRegistration  \\\n",
              "0            16.0              9.0  CITY1         2017-12-04   \n",
              "1             0.0              1.0  CITY3         2013-10-20   \n",
              "2             0.0              1.0  CITY3         2013-09-18   \n",
              "3            21.0              9.0  CITY3         2017-11-01   \n",
              "4            38.0              4.0  CITY2         2013-09-28   \n",
              "\n",
              "   OnlineCommunication  AutomaticRefill  DoorstepDelivery  \\\n",
              "0                    1                0                 0   \n",
              "1                    1                0                 0   \n",
              "2                    1                0                 0   \n",
              "3                    1                0                 1   \n",
              "4                    1                0                 0   \n",
              "\n",
              "  PreferredDeliveryDay  OrderQuantity  \n",
              "0               Friday             52  \n",
              "1              Tuesday             40  \n",
              "2               Monday             40  \n",
              "3            Wednesday             41  \n",
              "4             Thursday             79  "
            ],
            "text/html": [
              "\n",
              "  <div id=\"df-4e55c79c-b118-4f6b-8653-cf885339201b\">\n",
              "    <div class=\"colab-df-container\">\n",
              "      <div>\n",
              "<style scoped>\n",
              "    .dataframe tbody tr th:only-of-type {\n",
              "        vertical-align: middle;\n",
              "    }\n",
              "\n",
              "    .dataframe tbody tr th {\n",
              "        vertical-align: top;\n",
              "    }\n",
              "\n",
              "    .dataframe thead th {\n",
              "        text-align: right;\n",
              "    }\n",
              "</style>\n",
              "<table border=\"1\" class=\"dataframe\">\n",
              "  <thead>\n",
              "    <tr style=\"text-align: right;\">\n",
              "      <th></th>\n",
              "      <th>CustomerID</th>\n",
              "      <th>Email_Type_CustomizedEmail</th>\n",
              "      <th>Email_Type_WelcomeEmail</th>\n",
              "      <th>Mail_Clicked_NotApplicable</th>\n",
              "      <th>Mail_Clicked_no</th>\n",
              "      <th>Mail_Clicked_yes</th>\n",
              "      <th>Mail_Opened_no</th>\n",
              "      <th>Mail_Opened_yes</th>\n",
              "      <th>City</th>\n",
              "      <th>DateOfRegistration</th>\n",
              "      <th>OnlineCommunication</th>\n",
              "      <th>AutomaticRefill</th>\n",
              "      <th>DoorstepDelivery</th>\n",
              "      <th>PreferredDeliveryDay</th>\n",
              "      <th>OrderQuantity</th>\n",
              "    </tr>\n",
              "  </thead>\n",
              "  <tbody>\n",
              "    <tr>\n",
              "      <th>0</th>\n",
              "      <td>C12121</td>\n",
              "      <td>24.0</td>\n",
              "      <td>1.0</td>\n",
              "      <td>1.0</td>\n",
              "      <td>21.0</td>\n",
              "      <td>3.0</td>\n",
              "      <td>16.0</td>\n",
              "      <td>9.0</td>\n",
              "      <td>CITY1</td>\n",
              "      <td>2017-12-04</td>\n",
              "      <td>1</td>\n",
              "      <td>0</td>\n",
              "      <td>0</td>\n",
              "      <td>Friday</td>\n",
              "      <td>52</td>\n",
              "    </tr>\n",
              "    <tr>\n",
              "      <th>1</th>\n",
              "      <td>C12132</td>\n",
              "      <td>0.0</td>\n",
              "      <td>1.0</td>\n",
              "      <td>1.0</td>\n",
              "      <td>0.0</td>\n",
              "      <td>0.0</td>\n",
              "      <td>0.0</td>\n",
              "      <td>1.0</td>\n",
              "      <td>CITY3</td>\n",
              "      <td>2013-10-20</td>\n",
              "      <td>1</td>\n",
              "      <td>0</td>\n",
              "      <td>0</td>\n",
              "      <td>Tuesday</td>\n",
              "      <td>40</td>\n",
              "    </tr>\n",
              "    <tr>\n",
              "      <th>2</th>\n",
              "      <td>C12134</td>\n",
              "      <td>0.0</td>\n",
              "      <td>1.0</td>\n",
              "      <td>1.0</td>\n",
              "      <td>0.0</td>\n",
              "      <td>0.0</td>\n",
              "      <td>0.0</td>\n",
              "      <td>1.0</td>\n",
              "      <td>CITY3</td>\n",
              "      <td>2013-09-18</td>\n",
              "      <td>1</td>\n",
              "      <td>0</td>\n",
              "      <td>0</td>\n",
              "      <td>Monday</td>\n",
              "      <td>40</td>\n",
              "    </tr>\n",
              "    <tr>\n",
              "      <th>3</th>\n",
              "      <td>C12135</td>\n",
              "      <td>29.0</td>\n",
              "      <td>1.0</td>\n",
              "      <td>1.0</td>\n",
              "      <td>24.0</td>\n",
              "      <td>5.0</td>\n",
              "      <td>21.0</td>\n",
              "      <td>9.0</td>\n",
              "      <td>CITY3</td>\n",
              "      <td>2017-11-01</td>\n",
              "      <td>1</td>\n",
              "      <td>0</td>\n",
              "      <td>1</td>\n",
              "      <td>Wednesday</td>\n",
              "      <td>41</td>\n",
              "    </tr>\n",
              "    <tr>\n",
              "      <th>4</th>\n",
              "      <td>C12136</td>\n",
              "      <td>41.0</td>\n",
              "      <td>1.0</td>\n",
              "      <td>1.0</td>\n",
              "      <td>40.0</td>\n",
              "      <td>1.0</td>\n",
              "      <td>38.0</td>\n",
              "      <td>4.0</td>\n",
              "      <td>CITY2</td>\n",
              "      <td>2013-09-28</td>\n",
              "      <td>1</td>\n",
              "      <td>0</td>\n",
              "      <td>0</td>\n",
              "      <td>Thursday</td>\n",
              "      <td>79</td>\n",
              "    </tr>\n",
              "  </tbody>\n",
              "</table>\n",
              "</div>\n",
              "      <button class=\"colab-df-convert\" onclick=\"convertToInteractive('df-4e55c79c-b118-4f6b-8653-cf885339201b')\"\n",
              "              title=\"Convert this dataframe to an interactive table.\"\n",
              "              style=\"display:none;\">\n",
              "        \n",
              "  <svg xmlns=\"http://www.w3.org/2000/svg\" height=\"24px\"viewBox=\"0 0 24 24\"\n",
              "       width=\"24px\">\n",
              "    <path d=\"M0 0h24v24H0V0z\" fill=\"none\"/>\n",
              "    <path d=\"M18.56 5.44l.94 2.06.94-2.06 2.06-.94-2.06-.94-.94-2.06-.94 2.06-2.06.94zm-11 1L8.5 8.5l.94-2.06 2.06-.94-2.06-.94L8.5 2.5l-.94 2.06-2.06.94zm10 10l.94 2.06.94-2.06 2.06-.94-2.06-.94-.94-2.06-.94 2.06-2.06.94z\"/><path d=\"M17.41 7.96l-1.37-1.37c-.4-.4-.92-.59-1.43-.59-.52 0-1.04.2-1.43.59L10.3 9.45l-7.72 7.72c-.78.78-.78 2.05 0 2.83L4 21.41c.39.39.9.59 1.41.59.51 0 1.02-.2 1.41-.59l7.78-7.78 2.81-2.81c.8-.78.8-2.07 0-2.86zM5.41 20L4 18.59l7.72-7.72 1.47 1.35L5.41 20z\"/>\n",
              "  </svg>\n",
              "      </button>\n",
              "      \n",
              "  <style>\n",
              "    .colab-df-container {\n",
              "      display:flex;\n",
              "      flex-wrap:wrap;\n",
              "      gap: 12px;\n",
              "    }\n",
              "\n",
              "    .colab-df-convert {\n",
              "      background-color: #E8F0FE;\n",
              "      border: none;\n",
              "      border-radius: 50%;\n",
              "      cursor: pointer;\n",
              "      display: none;\n",
              "      fill: #1967D2;\n",
              "      height: 32px;\n",
              "      padding: 0 0 0 0;\n",
              "      width: 32px;\n",
              "    }\n",
              "\n",
              "    .colab-df-convert:hover {\n",
              "      background-color: #E2EBFA;\n",
              "      box-shadow: 0px 1px 2px rgba(60, 64, 67, 0.3), 0px 1px 3px 1px rgba(60, 64, 67, 0.15);\n",
              "      fill: #174EA6;\n",
              "    }\n",
              "\n",
              "    [theme=dark] .colab-df-convert {\n",
              "      background-color: #3B4455;\n",
              "      fill: #D2E3FC;\n",
              "    }\n",
              "\n",
              "    [theme=dark] .colab-df-convert:hover {\n",
              "      background-color: #434B5C;\n",
              "      box-shadow: 0px 1px 3px 1px rgba(0, 0, 0, 0.15);\n",
              "      filter: drop-shadow(0px 1px 2px rgba(0, 0, 0, 0.3));\n",
              "      fill: #FFFFFF;\n",
              "    }\n",
              "  </style>\n",
              "\n",
              "      <script>\n",
              "        const buttonEl =\n",
              "          document.querySelector('#df-4e55c79c-b118-4f6b-8653-cf885339201b button.colab-df-convert');\n",
              "        buttonEl.style.display =\n",
              "          google.colab.kernel.accessAllowed ? 'block' : 'none';\n",
              "\n",
              "        async function convertToInteractive(key) {\n",
              "          const element = document.querySelector('#df-4e55c79c-b118-4f6b-8653-cf885339201b');\n",
              "          const dataTable =\n",
              "            await google.colab.kernel.invokeFunction('convertToInteractive',\n",
              "                                                     [key], {});\n",
              "          if (!dataTable) return;\n",
              "\n",
              "          const docLinkHtml = 'Like what you see? Visit the ' +\n",
              "            '<a target=\"_blank\" href=https://colab.research.google.com/notebooks/data_table.ipynb>data table notebook</a>'\n",
              "            + ' to learn more about interactive tables.';\n",
              "          element.innerHTML = '';\n",
              "          dataTable['output_type'] = 'display_data';\n",
              "          await google.colab.output.renderOutput(dataTable, element);\n",
              "          const docLink = document.createElement('div');\n",
              "          docLink.innerHTML = docLinkHtml;\n",
              "          element.appendChild(docLink);\n",
              "        }\n",
              "      </script>\n",
              "    </div>\n",
              "  </div>\n",
              "  "
            ]
          },
          "metadata": {},
          "execution_count": 355
        }
      ]
    },
    {
      "cell_type": "markdown",
      "source": [
        "## <font color = brown> Data Preprocessing </font>"
      ],
      "metadata": {
        "id": "jyylKZr3d7JJ"
      }
    },
    {
      "cell_type": "code",
      "source": [
        "# Check the data dimensions\n",
        "test_df.shape"
      ],
      "metadata": {
        "colab": {
          "base_uri": "https://localhost:8080/"
        },
        "id": "ojxIx7UedrfG",
        "outputId": "f3483443-be71-46d1-90b4-1aafea902090"
      },
      "execution_count": null,
      "outputs": [
        {
          "output_type": "execute_result",
          "data": {
            "text/plain": [
              "(5955, 15)"
            ]
          },
          "metadata": {},
          "execution_count": 356
        }
      ]
    },
    {
      "cell_type": "code",
      "source": [
        "# Sample Data Check\n",
        "test_df.head()"
      ],
      "metadata": {
        "colab": {
          "base_uri": "https://localhost:8080/",
          "height": 270
        },
        "id": "jXongdL7eZSS",
        "outputId": "765e131c-24b4-42e0-a7ff-c9cf6b839e89"
      },
      "execution_count": null,
      "outputs": [
        {
          "output_type": "execute_result",
          "data": {
            "text/plain": [
              "  CustomerID  Email_Type_CustomizedEmail  Email_Type_WelcomeEmail  \\\n",
              "0     C12121                        24.0                      1.0   \n",
              "1     C12132                         0.0                      1.0   \n",
              "2     C12134                         0.0                      1.0   \n",
              "3     C12135                        29.0                      1.0   \n",
              "4     C12136                        41.0                      1.0   \n",
              "\n",
              "   Mail_Clicked_NotApplicable  Mail_Clicked_no  Mail_Clicked_yes  \\\n",
              "0                         1.0             21.0               3.0   \n",
              "1                         1.0              0.0               0.0   \n",
              "2                         1.0              0.0               0.0   \n",
              "3                         1.0             24.0               5.0   \n",
              "4                         1.0             40.0               1.0   \n",
              "\n",
              "   Mail_Opened_no  Mail_Opened_yes   City DateOfRegistration  \\\n",
              "0            16.0              9.0  CITY1         2017-12-04   \n",
              "1             0.0              1.0  CITY3         2013-10-20   \n",
              "2             0.0              1.0  CITY3         2013-09-18   \n",
              "3            21.0              9.0  CITY3         2017-11-01   \n",
              "4            38.0              4.0  CITY2         2013-09-28   \n",
              "\n",
              "   OnlineCommunication  AutomaticRefill  DoorstepDelivery  \\\n",
              "0                    1                0                 0   \n",
              "1                    1                0                 0   \n",
              "2                    1                0                 0   \n",
              "3                    1                0                 1   \n",
              "4                    1                0                 0   \n",
              "\n",
              "  PreferredDeliveryDay  OrderQuantity  \n",
              "0               Friday             52  \n",
              "1              Tuesday             40  \n",
              "2               Monday             40  \n",
              "3            Wednesday             41  \n",
              "4             Thursday             79  "
            ],
            "text/html": [
              "\n",
              "  <div id=\"df-3b16bb1e-7574-406b-8706-7c17aec4dda4\">\n",
              "    <div class=\"colab-df-container\">\n",
              "      <div>\n",
              "<style scoped>\n",
              "    .dataframe tbody tr th:only-of-type {\n",
              "        vertical-align: middle;\n",
              "    }\n",
              "\n",
              "    .dataframe tbody tr th {\n",
              "        vertical-align: top;\n",
              "    }\n",
              "\n",
              "    .dataframe thead th {\n",
              "        text-align: right;\n",
              "    }\n",
              "</style>\n",
              "<table border=\"1\" class=\"dataframe\">\n",
              "  <thead>\n",
              "    <tr style=\"text-align: right;\">\n",
              "      <th></th>\n",
              "      <th>CustomerID</th>\n",
              "      <th>Email_Type_CustomizedEmail</th>\n",
              "      <th>Email_Type_WelcomeEmail</th>\n",
              "      <th>Mail_Clicked_NotApplicable</th>\n",
              "      <th>Mail_Clicked_no</th>\n",
              "      <th>Mail_Clicked_yes</th>\n",
              "      <th>Mail_Opened_no</th>\n",
              "      <th>Mail_Opened_yes</th>\n",
              "      <th>City</th>\n",
              "      <th>DateOfRegistration</th>\n",
              "      <th>OnlineCommunication</th>\n",
              "      <th>AutomaticRefill</th>\n",
              "      <th>DoorstepDelivery</th>\n",
              "      <th>PreferredDeliveryDay</th>\n",
              "      <th>OrderQuantity</th>\n",
              "    </tr>\n",
              "  </thead>\n",
              "  <tbody>\n",
              "    <tr>\n",
              "      <th>0</th>\n",
              "      <td>C12121</td>\n",
              "      <td>24.0</td>\n",
              "      <td>1.0</td>\n",
              "      <td>1.0</td>\n",
              "      <td>21.0</td>\n",
              "      <td>3.0</td>\n",
              "      <td>16.0</td>\n",
              "      <td>9.0</td>\n",
              "      <td>CITY1</td>\n",
              "      <td>2017-12-04</td>\n",
              "      <td>1</td>\n",
              "      <td>0</td>\n",
              "      <td>0</td>\n",
              "      <td>Friday</td>\n",
              "      <td>52</td>\n",
              "    </tr>\n",
              "    <tr>\n",
              "      <th>1</th>\n",
              "      <td>C12132</td>\n",
              "      <td>0.0</td>\n",
              "      <td>1.0</td>\n",
              "      <td>1.0</td>\n",
              "      <td>0.0</td>\n",
              "      <td>0.0</td>\n",
              "      <td>0.0</td>\n",
              "      <td>1.0</td>\n",
              "      <td>CITY3</td>\n",
              "      <td>2013-10-20</td>\n",
              "      <td>1</td>\n",
              "      <td>0</td>\n",
              "      <td>0</td>\n",
              "      <td>Tuesday</td>\n",
              "      <td>40</td>\n",
              "    </tr>\n",
              "    <tr>\n",
              "      <th>2</th>\n",
              "      <td>C12134</td>\n",
              "      <td>0.0</td>\n",
              "      <td>1.0</td>\n",
              "      <td>1.0</td>\n",
              "      <td>0.0</td>\n",
              "      <td>0.0</td>\n",
              "      <td>0.0</td>\n",
              "      <td>1.0</td>\n",
              "      <td>CITY3</td>\n",
              "      <td>2013-09-18</td>\n",
              "      <td>1</td>\n",
              "      <td>0</td>\n",
              "      <td>0</td>\n",
              "      <td>Monday</td>\n",
              "      <td>40</td>\n",
              "    </tr>\n",
              "    <tr>\n",
              "      <th>3</th>\n",
              "      <td>C12135</td>\n",
              "      <td>29.0</td>\n",
              "      <td>1.0</td>\n",
              "      <td>1.0</td>\n",
              "      <td>24.0</td>\n",
              "      <td>5.0</td>\n",
              "      <td>21.0</td>\n",
              "      <td>9.0</td>\n",
              "      <td>CITY3</td>\n",
              "      <td>2017-11-01</td>\n",
              "      <td>1</td>\n",
              "      <td>0</td>\n",
              "      <td>1</td>\n",
              "      <td>Wednesday</td>\n",
              "      <td>41</td>\n",
              "    </tr>\n",
              "    <tr>\n",
              "      <th>4</th>\n",
              "      <td>C12136</td>\n",
              "      <td>41.0</td>\n",
              "      <td>1.0</td>\n",
              "      <td>1.0</td>\n",
              "      <td>40.0</td>\n",
              "      <td>1.0</td>\n",
              "      <td>38.0</td>\n",
              "      <td>4.0</td>\n",
              "      <td>CITY2</td>\n",
              "      <td>2013-09-28</td>\n",
              "      <td>1</td>\n",
              "      <td>0</td>\n",
              "      <td>0</td>\n",
              "      <td>Thursday</td>\n",
              "      <td>79</td>\n",
              "    </tr>\n",
              "  </tbody>\n",
              "</table>\n",
              "</div>\n",
              "      <button class=\"colab-df-convert\" onclick=\"convertToInteractive('df-3b16bb1e-7574-406b-8706-7c17aec4dda4')\"\n",
              "              title=\"Convert this dataframe to an interactive table.\"\n",
              "              style=\"display:none;\">\n",
              "        \n",
              "  <svg xmlns=\"http://www.w3.org/2000/svg\" height=\"24px\"viewBox=\"0 0 24 24\"\n",
              "       width=\"24px\">\n",
              "    <path d=\"M0 0h24v24H0V0z\" fill=\"none\"/>\n",
              "    <path d=\"M18.56 5.44l.94 2.06.94-2.06 2.06-.94-2.06-.94-.94-2.06-.94 2.06-2.06.94zm-11 1L8.5 8.5l.94-2.06 2.06-.94-2.06-.94L8.5 2.5l-.94 2.06-2.06.94zm10 10l.94 2.06.94-2.06 2.06-.94-2.06-.94-.94-2.06-.94 2.06-2.06.94z\"/><path d=\"M17.41 7.96l-1.37-1.37c-.4-.4-.92-.59-1.43-.59-.52 0-1.04.2-1.43.59L10.3 9.45l-7.72 7.72c-.78.78-.78 2.05 0 2.83L4 21.41c.39.39.9.59 1.41.59.51 0 1.02-.2 1.41-.59l7.78-7.78 2.81-2.81c.8-.78.8-2.07 0-2.86zM5.41 20L4 18.59l7.72-7.72 1.47 1.35L5.41 20z\"/>\n",
              "  </svg>\n",
              "      </button>\n",
              "      \n",
              "  <style>\n",
              "    .colab-df-container {\n",
              "      display:flex;\n",
              "      flex-wrap:wrap;\n",
              "      gap: 12px;\n",
              "    }\n",
              "\n",
              "    .colab-df-convert {\n",
              "      background-color: #E8F0FE;\n",
              "      border: none;\n",
              "      border-radius: 50%;\n",
              "      cursor: pointer;\n",
              "      display: none;\n",
              "      fill: #1967D2;\n",
              "      height: 32px;\n",
              "      padding: 0 0 0 0;\n",
              "      width: 32px;\n",
              "    }\n",
              "\n",
              "    .colab-df-convert:hover {\n",
              "      background-color: #E2EBFA;\n",
              "      box-shadow: 0px 1px 2px rgba(60, 64, 67, 0.3), 0px 1px 3px 1px rgba(60, 64, 67, 0.15);\n",
              "      fill: #174EA6;\n",
              "    }\n",
              "\n",
              "    [theme=dark] .colab-df-convert {\n",
              "      background-color: #3B4455;\n",
              "      fill: #D2E3FC;\n",
              "    }\n",
              "\n",
              "    [theme=dark] .colab-df-convert:hover {\n",
              "      background-color: #434B5C;\n",
              "      box-shadow: 0px 1px 3px 1px rgba(0, 0, 0, 0.15);\n",
              "      filter: drop-shadow(0px 1px 2px rgba(0, 0, 0, 0.3));\n",
              "      fill: #FFFFFF;\n",
              "    }\n",
              "  </style>\n",
              "\n",
              "      <script>\n",
              "        const buttonEl =\n",
              "          document.querySelector('#df-3b16bb1e-7574-406b-8706-7c17aec4dda4 button.colab-df-convert');\n",
              "        buttonEl.style.display =\n",
              "          google.colab.kernel.accessAllowed ? 'block' : 'none';\n",
              "\n",
              "        async function convertToInteractive(key) {\n",
              "          const element = document.querySelector('#df-3b16bb1e-7574-406b-8706-7c17aec4dda4');\n",
              "          const dataTable =\n",
              "            await google.colab.kernel.invokeFunction('convertToInteractive',\n",
              "                                                     [key], {});\n",
              "          if (!dataTable) return;\n",
              "\n",
              "          const docLinkHtml = 'Like what you see? Visit the ' +\n",
              "            '<a target=\"_blank\" href=https://colab.research.google.com/notebooks/data_table.ipynb>data table notebook</a>'\n",
              "            + ' to learn more about interactive tables.';\n",
              "          element.innerHTML = '';\n",
              "          dataTable['output_type'] = 'display_data';\n",
              "          await google.colab.output.renderOutput(dataTable, element);\n",
              "          const docLink = document.createElement('div');\n",
              "          docLink.innerHTML = docLinkHtml;\n",
              "          element.appendChild(docLink);\n",
              "        }\n",
              "      </script>\n",
              "    </div>\n",
              "  </div>\n",
              "  "
            ]
          },
          "metadata": {},
          "execution_count": 357
        }
      ]
    },
    {
      "cell_type": "code",
      "source": [
        "# Checking the Data Types\n",
        "test_df.dtypes"
      ],
      "metadata": {
        "colab": {
          "base_uri": "https://localhost:8080/"
        },
        "id": "ns4tYdyYezXK",
        "outputId": "d4590c41-479e-4c29-80fc-409365aea059"
      },
      "execution_count": null,
      "outputs": [
        {
          "output_type": "execute_result",
          "data": {
            "text/plain": [
              "CustomerID                            object\n",
              "Email_Type_CustomizedEmail           float64\n",
              "Email_Type_WelcomeEmail              float64\n",
              "Mail_Clicked_NotApplicable           float64\n",
              "Mail_Clicked_no                      float64\n",
              "Mail_Clicked_yes                     float64\n",
              "Mail_Opened_no                       float64\n",
              "Mail_Opened_yes                      float64\n",
              "City                                  object\n",
              "DateOfRegistration            datetime64[ns]\n",
              "OnlineCommunication                    int64\n",
              "AutomaticRefill                        int64\n",
              "DoorstepDelivery                       int64\n",
              "PreferredDeliveryDay                  object\n",
              "OrderQuantity                          int64\n",
              "dtype: object"
            ]
          },
          "metadata": {},
          "execution_count": 358
        }
      ]
    },
    {
      "cell_type": "code",
      "source": [
        "# Missing Value Check\n",
        "test_df.isnull().sum() # No null values"
      ],
      "metadata": {
        "colab": {
          "base_uri": "https://localhost:8080/"
        },
        "id": "6hDbG-hHezTV",
        "outputId": "9b7dbd9c-088d-4fc9-844f-f4269996d447"
      },
      "execution_count": null,
      "outputs": [
        {
          "output_type": "execute_result",
          "data": {
            "text/plain": [
              "CustomerID                    0\n",
              "Email_Type_CustomizedEmail    0\n",
              "Email_Type_WelcomeEmail       0\n",
              "Mail_Clicked_NotApplicable    0\n",
              "Mail_Clicked_no               0\n",
              "Mail_Clicked_yes              0\n",
              "Mail_Opened_no                0\n",
              "Mail_Opened_yes               0\n",
              "City                          0\n",
              "DateOfRegistration            0\n",
              "OnlineCommunication           0\n",
              "AutomaticRefill               0\n",
              "DoorstepDelivery              0\n",
              "PreferredDeliveryDay          0\n",
              "OrderQuantity                 0\n",
              "dtype: int64"
            ]
          },
          "metadata": {},
          "execution_count": 359
        }
      ]
    },
    {
      "cell_type": "code",
      "source": [
        "# Data Summary Understanding before data type conversions\n",
        "test_df.describe(include = 'all')"
      ],
      "metadata": {
        "colab": {
          "base_uri": "https://localhost:8080/",
          "height": 521
        },
        "id": "NpkTBQP2ezQ3",
        "outputId": "2f274c5c-8131-4afc-df7e-df71247a96af"
      },
      "execution_count": null,
      "outputs": [
        {
          "output_type": "execute_result",
          "data": {
            "text/plain": [
              "       CustomerID  Email_Type_CustomizedEmail  Email_Type_WelcomeEmail  \\\n",
              "count        5955                 5955.000000                   5955.0   \n",
              "unique       5955                         NaN                      NaN   \n",
              "top        C12121                         NaN                      NaN   \n",
              "freq            1                         NaN                      NaN   \n",
              "first         NaN                         NaN                      NaN   \n",
              "last          NaN                         NaN                      NaN   \n",
              "mean          NaN                   20.674895                      1.0   \n",
              "std           NaN                   20.451572                      0.0   \n",
              "min           NaN                    0.000000                      1.0   \n",
              "25%           NaN                    0.000000                      1.0   \n",
              "50%           NaN                   19.000000                      1.0   \n",
              "75%           NaN                   41.000000                      1.0   \n",
              "max           NaN                  279.000000                      1.0   \n",
              "\n",
              "        Mail_Clicked_NotApplicable  Mail_Clicked_no  Mail_Clicked_yes  \\\n",
              "count                       5955.0      5955.000000       5955.000000   \n",
              "unique                         NaN              NaN               NaN   \n",
              "top                            NaN              NaN               NaN   \n",
              "freq                           NaN              NaN               NaN   \n",
              "first                          NaN              NaN               NaN   \n",
              "last                           NaN              NaN               NaN   \n",
              "mean                           1.0        19.513182          1.161713   \n",
              "std                            0.0        19.352049          2.795014   \n",
              "min                            1.0         0.000000          0.000000   \n",
              "25%                            1.0         0.000000          0.000000   \n",
              "50%                            1.0        17.000000          0.000000   \n",
              "75%                            1.0        38.000000          1.000000   \n",
              "max                            1.0       160.000000        119.000000   \n",
              "\n",
              "        Mail_Opened_no  Mail_Opened_yes   City   DateOfRegistration  \\\n",
              "count      5955.000000      5955.000000   5955                 5955   \n",
              "unique             NaN              NaN      4                 1631   \n",
              "top                NaN              NaN  CITY4  2012-08-28 00:00:00   \n",
              "freq               NaN              NaN   2278                   81   \n",
              "first              NaN              NaN    NaN  2008-07-17 00:00:00   \n",
              "last               NaN              NaN    NaN  2018-01-17 00:00:00   \n",
              "mean         15.498908         6.175987    NaN                  NaN   \n",
              "std          17.303495         9.315447    NaN                  NaN   \n",
              "min           0.000000         1.000000    NaN                  NaN   \n",
              "25%           0.000000         1.000000    NaN                  NaN   \n",
              "50%           6.000000         2.000000    NaN                  NaN   \n",
              "75%          32.000000         8.000000    NaN                  NaN   \n",
              "max          65.000000       272.000000    NaN                  NaN   \n",
              "\n",
              "        OnlineCommunication  AutomaticRefill  DoorstepDelivery  \\\n",
              "count           5955.000000      5955.000000       5955.000000   \n",
              "unique                  NaN              NaN               NaN   \n",
              "top                     NaN              NaN               NaN   \n",
              "freq                    NaN              NaN               NaN   \n",
              "first                   NaN              NaN               NaN   \n",
              "last                    NaN              NaN               NaN   \n",
              "mean               0.659278         0.095046          0.038959   \n",
              "std                0.473992         0.293303          0.193513   \n",
              "min                0.000000         0.000000          0.000000   \n",
              "25%                0.000000         0.000000          0.000000   \n",
              "50%                1.000000         0.000000          0.000000   \n",
              "75%                1.000000         0.000000          0.000000   \n",
              "max                1.000000         1.000000          1.000000   \n",
              "\n",
              "       PreferredDeliveryDay  OrderQuantity  \n",
              "count                  5955    5955.000000  \n",
              "unique                    7            NaN  \n",
              "top                  Monday            NaN  \n",
              "freq                   1350            NaN  \n",
              "first                   NaN            NaN  \n",
              "last                    NaN            NaN  \n",
              "mean                    NaN     379.416793  \n",
              "std                     NaN    1665.587177  \n",
              "min                     NaN       1.000000  \n",
              "25%                     NaN      41.000000  \n",
              "50%                     NaN      63.000000  \n",
              "75%                     NaN     162.000000  \n",
              "max                     NaN   57960.000000  "
            ],
            "text/html": [
              "\n",
              "  <div id=\"df-78138e28-4280-4128-af26-86079c148673\">\n",
              "    <div class=\"colab-df-container\">\n",
              "      <div>\n",
              "<style scoped>\n",
              "    .dataframe tbody tr th:only-of-type {\n",
              "        vertical-align: middle;\n",
              "    }\n",
              "\n",
              "    .dataframe tbody tr th {\n",
              "        vertical-align: top;\n",
              "    }\n",
              "\n",
              "    .dataframe thead th {\n",
              "        text-align: right;\n",
              "    }\n",
              "</style>\n",
              "<table border=\"1\" class=\"dataframe\">\n",
              "  <thead>\n",
              "    <tr style=\"text-align: right;\">\n",
              "      <th></th>\n",
              "      <th>CustomerID</th>\n",
              "      <th>Email_Type_CustomizedEmail</th>\n",
              "      <th>Email_Type_WelcomeEmail</th>\n",
              "      <th>Mail_Clicked_NotApplicable</th>\n",
              "      <th>Mail_Clicked_no</th>\n",
              "      <th>Mail_Clicked_yes</th>\n",
              "      <th>Mail_Opened_no</th>\n",
              "      <th>Mail_Opened_yes</th>\n",
              "      <th>City</th>\n",
              "      <th>DateOfRegistration</th>\n",
              "      <th>OnlineCommunication</th>\n",
              "      <th>AutomaticRefill</th>\n",
              "      <th>DoorstepDelivery</th>\n",
              "      <th>PreferredDeliveryDay</th>\n",
              "      <th>OrderQuantity</th>\n",
              "    </tr>\n",
              "  </thead>\n",
              "  <tbody>\n",
              "    <tr>\n",
              "      <th>count</th>\n",
              "      <td>5955</td>\n",
              "      <td>5955.000000</td>\n",
              "      <td>5955.0</td>\n",
              "      <td>5955.0</td>\n",
              "      <td>5955.000000</td>\n",
              "      <td>5955.000000</td>\n",
              "      <td>5955.000000</td>\n",
              "      <td>5955.000000</td>\n",
              "      <td>5955</td>\n",
              "      <td>5955</td>\n",
              "      <td>5955.000000</td>\n",
              "      <td>5955.000000</td>\n",
              "      <td>5955.000000</td>\n",
              "      <td>5955</td>\n",
              "      <td>5955.000000</td>\n",
              "    </tr>\n",
              "    <tr>\n",
              "      <th>unique</th>\n",
              "      <td>5955</td>\n",
              "      <td>NaN</td>\n",
              "      <td>NaN</td>\n",
              "      <td>NaN</td>\n",
              "      <td>NaN</td>\n",
              "      <td>NaN</td>\n",
              "      <td>NaN</td>\n",
              "      <td>NaN</td>\n",
              "      <td>4</td>\n",
              "      <td>1631</td>\n",
              "      <td>NaN</td>\n",
              "      <td>NaN</td>\n",
              "      <td>NaN</td>\n",
              "      <td>7</td>\n",
              "      <td>NaN</td>\n",
              "    </tr>\n",
              "    <tr>\n",
              "      <th>top</th>\n",
              "      <td>C12121</td>\n",
              "      <td>NaN</td>\n",
              "      <td>NaN</td>\n",
              "      <td>NaN</td>\n",
              "      <td>NaN</td>\n",
              "      <td>NaN</td>\n",
              "      <td>NaN</td>\n",
              "      <td>NaN</td>\n",
              "      <td>CITY4</td>\n",
              "      <td>2012-08-28 00:00:00</td>\n",
              "      <td>NaN</td>\n",
              "      <td>NaN</td>\n",
              "      <td>NaN</td>\n",
              "      <td>Monday</td>\n",
              "      <td>NaN</td>\n",
              "    </tr>\n",
              "    <tr>\n",
              "      <th>freq</th>\n",
              "      <td>1</td>\n",
              "      <td>NaN</td>\n",
              "      <td>NaN</td>\n",
              "      <td>NaN</td>\n",
              "      <td>NaN</td>\n",
              "      <td>NaN</td>\n",
              "      <td>NaN</td>\n",
              "      <td>NaN</td>\n",
              "      <td>2278</td>\n",
              "      <td>81</td>\n",
              "      <td>NaN</td>\n",
              "      <td>NaN</td>\n",
              "      <td>NaN</td>\n",
              "      <td>1350</td>\n",
              "      <td>NaN</td>\n",
              "    </tr>\n",
              "    <tr>\n",
              "      <th>first</th>\n",
              "      <td>NaN</td>\n",
              "      <td>NaN</td>\n",
              "      <td>NaN</td>\n",
              "      <td>NaN</td>\n",
              "      <td>NaN</td>\n",
              "      <td>NaN</td>\n",
              "      <td>NaN</td>\n",
              "      <td>NaN</td>\n",
              "      <td>NaN</td>\n",
              "      <td>2008-07-17 00:00:00</td>\n",
              "      <td>NaN</td>\n",
              "      <td>NaN</td>\n",
              "      <td>NaN</td>\n",
              "      <td>NaN</td>\n",
              "      <td>NaN</td>\n",
              "    </tr>\n",
              "    <tr>\n",
              "      <th>last</th>\n",
              "      <td>NaN</td>\n",
              "      <td>NaN</td>\n",
              "      <td>NaN</td>\n",
              "      <td>NaN</td>\n",
              "      <td>NaN</td>\n",
              "      <td>NaN</td>\n",
              "      <td>NaN</td>\n",
              "      <td>NaN</td>\n",
              "      <td>NaN</td>\n",
              "      <td>2018-01-17 00:00:00</td>\n",
              "      <td>NaN</td>\n",
              "      <td>NaN</td>\n",
              "      <td>NaN</td>\n",
              "      <td>NaN</td>\n",
              "      <td>NaN</td>\n",
              "    </tr>\n",
              "    <tr>\n",
              "      <th>mean</th>\n",
              "      <td>NaN</td>\n",
              "      <td>20.674895</td>\n",
              "      <td>1.0</td>\n",
              "      <td>1.0</td>\n",
              "      <td>19.513182</td>\n",
              "      <td>1.161713</td>\n",
              "      <td>15.498908</td>\n",
              "      <td>6.175987</td>\n",
              "      <td>NaN</td>\n",
              "      <td>NaN</td>\n",
              "      <td>0.659278</td>\n",
              "      <td>0.095046</td>\n",
              "      <td>0.038959</td>\n",
              "      <td>NaN</td>\n",
              "      <td>379.416793</td>\n",
              "    </tr>\n",
              "    <tr>\n",
              "      <th>std</th>\n",
              "      <td>NaN</td>\n",
              "      <td>20.451572</td>\n",
              "      <td>0.0</td>\n",
              "      <td>0.0</td>\n",
              "      <td>19.352049</td>\n",
              "      <td>2.795014</td>\n",
              "      <td>17.303495</td>\n",
              "      <td>9.315447</td>\n",
              "      <td>NaN</td>\n",
              "      <td>NaN</td>\n",
              "      <td>0.473992</td>\n",
              "      <td>0.293303</td>\n",
              "      <td>0.193513</td>\n",
              "      <td>NaN</td>\n",
              "      <td>1665.587177</td>\n",
              "    </tr>\n",
              "    <tr>\n",
              "      <th>min</th>\n",
              "      <td>NaN</td>\n",
              "      <td>0.000000</td>\n",
              "      <td>1.0</td>\n",
              "      <td>1.0</td>\n",
              "      <td>0.000000</td>\n",
              "      <td>0.000000</td>\n",
              "      <td>0.000000</td>\n",
              "      <td>1.000000</td>\n",
              "      <td>NaN</td>\n",
              "      <td>NaN</td>\n",
              "      <td>0.000000</td>\n",
              "      <td>0.000000</td>\n",
              "      <td>0.000000</td>\n",
              "      <td>NaN</td>\n",
              "      <td>1.000000</td>\n",
              "    </tr>\n",
              "    <tr>\n",
              "      <th>25%</th>\n",
              "      <td>NaN</td>\n",
              "      <td>0.000000</td>\n",
              "      <td>1.0</td>\n",
              "      <td>1.0</td>\n",
              "      <td>0.000000</td>\n",
              "      <td>0.000000</td>\n",
              "      <td>0.000000</td>\n",
              "      <td>1.000000</td>\n",
              "      <td>NaN</td>\n",
              "      <td>NaN</td>\n",
              "      <td>0.000000</td>\n",
              "      <td>0.000000</td>\n",
              "      <td>0.000000</td>\n",
              "      <td>NaN</td>\n",
              "      <td>41.000000</td>\n",
              "    </tr>\n",
              "    <tr>\n",
              "      <th>50%</th>\n",
              "      <td>NaN</td>\n",
              "      <td>19.000000</td>\n",
              "      <td>1.0</td>\n",
              "      <td>1.0</td>\n",
              "      <td>17.000000</td>\n",
              "      <td>0.000000</td>\n",
              "      <td>6.000000</td>\n",
              "      <td>2.000000</td>\n",
              "      <td>NaN</td>\n",
              "      <td>NaN</td>\n",
              "      <td>1.000000</td>\n",
              "      <td>0.000000</td>\n",
              "      <td>0.000000</td>\n",
              "      <td>NaN</td>\n",
              "      <td>63.000000</td>\n",
              "    </tr>\n",
              "    <tr>\n",
              "      <th>75%</th>\n",
              "      <td>NaN</td>\n",
              "      <td>41.000000</td>\n",
              "      <td>1.0</td>\n",
              "      <td>1.0</td>\n",
              "      <td>38.000000</td>\n",
              "      <td>1.000000</td>\n",
              "      <td>32.000000</td>\n",
              "      <td>8.000000</td>\n",
              "      <td>NaN</td>\n",
              "      <td>NaN</td>\n",
              "      <td>1.000000</td>\n",
              "      <td>0.000000</td>\n",
              "      <td>0.000000</td>\n",
              "      <td>NaN</td>\n",
              "      <td>162.000000</td>\n",
              "    </tr>\n",
              "    <tr>\n",
              "      <th>max</th>\n",
              "      <td>NaN</td>\n",
              "      <td>279.000000</td>\n",
              "      <td>1.0</td>\n",
              "      <td>1.0</td>\n",
              "      <td>160.000000</td>\n",
              "      <td>119.000000</td>\n",
              "      <td>65.000000</td>\n",
              "      <td>272.000000</td>\n",
              "      <td>NaN</td>\n",
              "      <td>NaN</td>\n",
              "      <td>1.000000</td>\n",
              "      <td>1.000000</td>\n",
              "      <td>1.000000</td>\n",
              "      <td>NaN</td>\n",
              "      <td>57960.000000</td>\n",
              "    </tr>\n",
              "  </tbody>\n",
              "</table>\n",
              "</div>\n",
              "      <button class=\"colab-df-convert\" onclick=\"convertToInteractive('df-78138e28-4280-4128-af26-86079c148673')\"\n",
              "              title=\"Convert this dataframe to an interactive table.\"\n",
              "              style=\"display:none;\">\n",
              "        \n",
              "  <svg xmlns=\"http://www.w3.org/2000/svg\" height=\"24px\"viewBox=\"0 0 24 24\"\n",
              "       width=\"24px\">\n",
              "    <path d=\"M0 0h24v24H0V0z\" fill=\"none\"/>\n",
              "    <path d=\"M18.56 5.44l.94 2.06.94-2.06 2.06-.94-2.06-.94-.94-2.06-.94 2.06-2.06.94zm-11 1L8.5 8.5l.94-2.06 2.06-.94-2.06-.94L8.5 2.5l-.94 2.06-2.06.94zm10 10l.94 2.06.94-2.06 2.06-.94-2.06-.94-.94-2.06-.94 2.06-2.06.94z\"/><path d=\"M17.41 7.96l-1.37-1.37c-.4-.4-.92-.59-1.43-.59-.52 0-1.04.2-1.43.59L10.3 9.45l-7.72 7.72c-.78.78-.78 2.05 0 2.83L4 21.41c.39.39.9.59 1.41.59.51 0 1.02-.2 1.41-.59l7.78-7.78 2.81-2.81c.8-.78.8-2.07 0-2.86zM5.41 20L4 18.59l7.72-7.72 1.47 1.35L5.41 20z\"/>\n",
              "  </svg>\n",
              "      </button>\n",
              "      \n",
              "  <style>\n",
              "    .colab-df-container {\n",
              "      display:flex;\n",
              "      flex-wrap:wrap;\n",
              "      gap: 12px;\n",
              "    }\n",
              "\n",
              "    .colab-df-convert {\n",
              "      background-color: #E8F0FE;\n",
              "      border: none;\n",
              "      border-radius: 50%;\n",
              "      cursor: pointer;\n",
              "      display: none;\n",
              "      fill: #1967D2;\n",
              "      height: 32px;\n",
              "      padding: 0 0 0 0;\n",
              "      width: 32px;\n",
              "    }\n",
              "\n",
              "    .colab-df-convert:hover {\n",
              "      background-color: #E2EBFA;\n",
              "      box-shadow: 0px 1px 2px rgba(60, 64, 67, 0.3), 0px 1px 3px 1px rgba(60, 64, 67, 0.15);\n",
              "      fill: #174EA6;\n",
              "    }\n",
              "\n",
              "    [theme=dark] .colab-df-convert {\n",
              "      background-color: #3B4455;\n",
              "      fill: #D2E3FC;\n",
              "    }\n",
              "\n",
              "    [theme=dark] .colab-df-convert:hover {\n",
              "      background-color: #434B5C;\n",
              "      box-shadow: 0px 1px 3px 1px rgba(0, 0, 0, 0.15);\n",
              "      filter: drop-shadow(0px 1px 2px rgba(0, 0, 0, 0.3));\n",
              "      fill: #FFFFFF;\n",
              "    }\n",
              "  </style>\n",
              "\n",
              "      <script>\n",
              "        const buttonEl =\n",
              "          document.querySelector('#df-78138e28-4280-4128-af26-86079c148673 button.colab-df-convert');\n",
              "        buttonEl.style.display =\n",
              "          google.colab.kernel.accessAllowed ? 'block' : 'none';\n",
              "\n",
              "        async function convertToInteractive(key) {\n",
              "          const element = document.querySelector('#df-78138e28-4280-4128-af26-86079c148673');\n",
              "          const dataTable =\n",
              "            await google.colab.kernel.invokeFunction('convertToInteractive',\n",
              "                                                     [key], {});\n",
              "          if (!dataTable) return;\n",
              "\n",
              "          const docLinkHtml = 'Like what you see? Visit the ' +\n",
              "            '<a target=\"_blank\" href=https://colab.research.google.com/notebooks/data_table.ipynb>data table notebook</a>'\n",
              "            + ' to learn more about interactive tables.';\n",
              "          element.innerHTML = '';\n",
              "          dataTable['output_type'] = 'display_data';\n",
              "          await google.colab.output.renderOutput(dataTable, element);\n",
              "          const docLink = document.createElement('div');\n",
              "          docLink.innerHTML = docLinkHtml;\n",
              "          element.appendChild(docLink);\n",
              "        }\n",
              "      </script>\n",
              "    </div>\n",
              "  </div>\n",
              "  "
            ]
          },
          "metadata": {},
          "execution_count": 360
        }
      ]
    },
    {
      "cell_type": "code",
      "source": [
        "test_df.dtypes"
      ],
      "metadata": {
        "colab": {
          "base_uri": "https://localhost:8080/"
        },
        "id": "FCP7yzaGezIx",
        "outputId": "151eea75-d029-44db-9e48-96f557a7b0d2"
      },
      "execution_count": null,
      "outputs": [
        {
          "output_type": "execute_result",
          "data": {
            "text/plain": [
              "CustomerID                            object\n",
              "Email_Type_CustomizedEmail           float64\n",
              "Email_Type_WelcomeEmail              float64\n",
              "Mail_Clicked_NotApplicable           float64\n",
              "Mail_Clicked_no                      float64\n",
              "Mail_Clicked_yes                     float64\n",
              "Mail_Opened_no                       float64\n",
              "Mail_Opened_yes                      float64\n",
              "City                                  object\n",
              "DateOfRegistration            datetime64[ns]\n",
              "OnlineCommunication                    int64\n",
              "AutomaticRefill                        int64\n",
              "DoorstepDelivery                       int64\n",
              "PreferredDeliveryDay                  object\n",
              "OrderQuantity                          int64\n",
              "dtype: object"
            ]
          },
          "metadata": {},
          "execution_count": 361
        }
      ]
    },
    {
      "cell_type": "code",
      "source": [
        "test_df.drop(['CustomerID','DateOfRegistration','Email_Type_WelcomeEmail','Mail_Clicked_NotApplicable'],axis=1,inplace=True)"
      ],
      "metadata": {
        "id": "uIHOkKcQk4zz"
      },
      "execution_count": null,
      "outputs": []
    },
    {
      "cell_type": "code",
      "source": [
        "test_df.head()"
      ],
      "metadata": {
        "colab": {
          "base_uri": "https://localhost:8080/",
          "height": 270
        },
        "id": "hfG4eIO2lONN",
        "outputId": "3b14213a-c4c1-454b-d304-fef09a5c1296"
      },
      "execution_count": null,
      "outputs": [
        {
          "output_type": "execute_result",
          "data": {
            "text/plain": [
              "   Email_Type_CustomizedEmail  Mail_Clicked_no  Mail_Clicked_yes  \\\n",
              "0                        24.0             21.0               3.0   \n",
              "1                         0.0              0.0               0.0   \n",
              "2                         0.0              0.0               0.0   \n",
              "3                        29.0             24.0               5.0   \n",
              "4                        41.0             40.0               1.0   \n",
              "\n",
              "   Mail_Opened_no  Mail_Opened_yes   City  OnlineCommunication  \\\n",
              "0            16.0              9.0  CITY1                    1   \n",
              "1             0.0              1.0  CITY3                    1   \n",
              "2             0.0              1.0  CITY3                    1   \n",
              "3            21.0              9.0  CITY3                    1   \n",
              "4            38.0              4.0  CITY2                    1   \n",
              "\n",
              "   AutomaticRefill  DoorstepDelivery PreferredDeliveryDay  OrderQuantity  \n",
              "0                0                 0               Friday             52  \n",
              "1                0                 0              Tuesday             40  \n",
              "2                0                 0               Monday             40  \n",
              "3                0                 1            Wednesday             41  \n",
              "4                0                 0             Thursday             79  "
            ],
            "text/html": [
              "\n",
              "  <div id=\"df-5916a614-42a6-441b-91f0-91c12ab28e71\">\n",
              "    <div class=\"colab-df-container\">\n",
              "      <div>\n",
              "<style scoped>\n",
              "    .dataframe tbody tr th:only-of-type {\n",
              "        vertical-align: middle;\n",
              "    }\n",
              "\n",
              "    .dataframe tbody tr th {\n",
              "        vertical-align: top;\n",
              "    }\n",
              "\n",
              "    .dataframe thead th {\n",
              "        text-align: right;\n",
              "    }\n",
              "</style>\n",
              "<table border=\"1\" class=\"dataframe\">\n",
              "  <thead>\n",
              "    <tr style=\"text-align: right;\">\n",
              "      <th></th>\n",
              "      <th>Email_Type_CustomizedEmail</th>\n",
              "      <th>Mail_Clicked_no</th>\n",
              "      <th>Mail_Clicked_yes</th>\n",
              "      <th>Mail_Opened_no</th>\n",
              "      <th>Mail_Opened_yes</th>\n",
              "      <th>City</th>\n",
              "      <th>OnlineCommunication</th>\n",
              "      <th>AutomaticRefill</th>\n",
              "      <th>DoorstepDelivery</th>\n",
              "      <th>PreferredDeliveryDay</th>\n",
              "      <th>OrderQuantity</th>\n",
              "    </tr>\n",
              "  </thead>\n",
              "  <tbody>\n",
              "    <tr>\n",
              "      <th>0</th>\n",
              "      <td>24.0</td>\n",
              "      <td>21.0</td>\n",
              "      <td>3.0</td>\n",
              "      <td>16.0</td>\n",
              "      <td>9.0</td>\n",
              "      <td>CITY1</td>\n",
              "      <td>1</td>\n",
              "      <td>0</td>\n",
              "      <td>0</td>\n",
              "      <td>Friday</td>\n",
              "      <td>52</td>\n",
              "    </tr>\n",
              "    <tr>\n",
              "      <th>1</th>\n",
              "      <td>0.0</td>\n",
              "      <td>0.0</td>\n",
              "      <td>0.0</td>\n",
              "      <td>0.0</td>\n",
              "      <td>1.0</td>\n",
              "      <td>CITY3</td>\n",
              "      <td>1</td>\n",
              "      <td>0</td>\n",
              "      <td>0</td>\n",
              "      <td>Tuesday</td>\n",
              "      <td>40</td>\n",
              "    </tr>\n",
              "    <tr>\n",
              "      <th>2</th>\n",
              "      <td>0.0</td>\n",
              "      <td>0.0</td>\n",
              "      <td>0.0</td>\n",
              "      <td>0.0</td>\n",
              "      <td>1.0</td>\n",
              "      <td>CITY3</td>\n",
              "      <td>1</td>\n",
              "      <td>0</td>\n",
              "      <td>0</td>\n",
              "      <td>Monday</td>\n",
              "      <td>40</td>\n",
              "    </tr>\n",
              "    <tr>\n",
              "      <th>3</th>\n",
              "      <td>29.0</td>\n",
              "      <td>24.0</td>\n",
              "      <td>5.0</td>\n",
              "      <td>21.0</td>\n",
              "      <td>9.0</td>\n",
              "      <td>CITY3</td>\n",
              "      <td>1</td>\n",
              "      <td>0</td>\n",
              "      <td>1</td>\n",
              "      <td>Wednesday</td>\n",
              "      <td>41</td>\n",
              "    </tr>\n",
              "    <tr>\n",
              "      <th>4</th>\n",
              "      <td>41.0</td>\n",
              "      <td>40.0</td>\n",
              "      <td>1.0</td>\n",
              "      <td>38.0</td>\n",
              "      <td>4.0</td>\n",
              "      <td>CITY2</td>\n",
              "      <td>1</td>\n",
              "      <td>0</td>\n",
              "      <td>0</td>\n",
              "      <td>Thursday</td>\n",
              "      <td>79</td>\n",
              "    </tr>\n",
              "  </tbody>\n",
              "</table>\n",
              "</div>\n",
              "      <button class=\"colab-df-convert\" onclick=\"convertToInteractive('df-5916a614-42a6-441b-91f0-91c12ab28e71')\"\n",
              "              title=\"Convert this dataframe to an interactive table.\"\n",
              "              style=\"display:none;\">\n",
              "        \n",
              "  <svg xmlns=\"http://www.w3.org/2000/svg\" height=\"24px\"viewBox=\"0 0 24 24\"\n",
              "       width=\"24px\">\n",
              "    <path d=\"M0 0h24v24H0V0z\" fill=\"none\"/>\n",
              "    <path d=\"M18.56 5.44l.94 2.06.94-2.06 2.06-.94-2.06-.94-.94-2.06-.94 2.06-2.06.94zm-11 1L8.5 8.5l.94-2.06 2.06-.94-2.06-.94L8.5 2.5l-.94 2.06-2.06.94zm10 10l.94 2.06.94-2.06 2.06-.94-2.06-.94-.94-2.06-.94 2.06-2.06.94z\"/><path d=\"M17.41 7.96l-1.37-1.37c-.4-.4-.92-.59-1.43-.59-.52 0-1.04.2-1.43.59L10.3 9.45l-7.72 7.72c-.78.78-.78 2.05 0 2.83L4 21.41c.39.39.9.59 1.41.59.51 0 1.02-.2 1.41-.59l7.78-7.78 2.81-2.81c.8-.78.8-2.07 0-2.86zM5.41 20L4 18.59l7.72-7.72 1.47 1.35L5.41 20z\"/>\n",
              "  </svg>\n",
              "      </button>\n",
              "      \n",
              "  <style>\n",
              "    .colab-df-container {\n",
              "      display:flex;\n",
              "      flex-wrap:wrap;\n",
              "      gap: 12px;\n",
              "    }\n",
              "\n",
              "    .colab-df-convert {\n",
              "      background-color: #E8F0FE;\n",
              "      border: none;\n",
              "      border-radius: 50%;\n",
              "      cursor: pointer;\n",
              "      display: none;\n",
              "      fill: #1967D2;\n",
              "      height: 32px;\n",
              "      padding: 0 0 0 0;\n",
              "      width: 32px;\n",
              "    }\n",
              "\n",
              "    .colab-df-convert:hover {\n",
              "      background-color: #E2EBFA;\n",
              "      box-shadow: 0px 1px 2px rgba(60, 64, 67, 0.3), 0px 1px 3px 1px rgba(60, 64, 67, 0.15);\n",
              "      fill: #174EA6;\n",
              "    }\n",
              "\n",
              "    [theme=dark] .colab-df-convert {\n",
              "      background-color: #3B4455;\n",
              "      fill: #D2E3FC;\n",
              "    }\n",
              "\n",
              "    [theme=dark] .colab-df-convert:hover {\n",
              "      background-color: #434B5C;\n",
              "      box-shadow: 0px 1px 3px 1px rgba(0, 0, 0, 0.15);\n",
              "      filter: drop-shadow(0px 1px 2px rgba(0, 0, 0, 0.3));\n",
              "      fill: #FFFFFF;\n",
              "    }\n",
              "  </style>\n",
              "\n",
              "      <script>\n",
              "        const buttonEl =\n",
              "          document.querySelector('#df-5916a614-42a6-441b-91f0-91c12ab28e71 button.colab-df-convert');\n",
              "        buttonEl.style.display =\n",
              "          google.colab.kernel.accessAllowed ? 'block' : 'none';\n",
              "\n",
              "        async function convertToInteractive(key) {\n",
              "          const element = document.querySelector('#df-5916a614-42a6-441b-91f0-91c12ab28e71');\n",
              "          const dataTable =\n",
              "            await google.colab.kernel.invokeFunction('convertToInteractive',\n",
              "                                                     [key], {});\n",
              "          if (!dataTable) return;\n",
              "\n",
              "          const docLinkHtml = 'Like what you see? Visit the ' +\n",
              "            '<a target=\"_blank\" href=https://colab.research.google.com/notebooks/data_table.ipynb>data table notebook</a>'\n",
              "            + ' to learn more about interactive tables.';\n",
              "          element.innerHTML = '';\n",
              "          dataTable['output_type'] = 'display_data';\n",
              "          await google.colab.output.renderOutput(dataTable, element);\n",
              "          const docLink = document.createElement('div');\n",
              "          docLink.innerHTML = docLinkHtml;\n",
              "          element.appendChild(docLink);\n",
              "        }\n",
              "      </script>\n",
              "    </div>\n",
              "  </div>\n",
              "  "
            ]
          },
          "metadata": {},
          "execution_count": 278
        }
      ]
    },
    {
      "cell_type": "code",
      "source": [
        "##Segregate numerical and categorical features\n",
        "num_features_test = [fea for fea in test_df.columns if test_df[fea].dtypes != \"O\"]##numerical features\n",
        "num_features_test"
      ],
      "metadata": {
        "colab": {
          "base_uri": "https://localhost:8080/"
        },
        "id": "_lAnucDKfrae",
        "outputId": "1c84620e-5a7c-410f-c165-4d09f4ad6fb0"
      },
      "execution_count": null,
      "outputs": [
        {
          "output_type": "execute_result",
          "data": {
            "text/plain": [
              "['Email_Type_CustomizedEmail',\n",
              " 'Mail_Clicked_no',\n",
              " 'Mail_Clicked_yes',\n",
              " 'Mail_Opened_no',\n",
              " 'Mail_Opened_yes',\n",
              " 'OnlineCommunication',\n",
              " 'AutomaticRefill',\n",
              " 'DoorstepDelivery',\n",
              " 'OrderQuantity']"
            ]
          },
          "metadata": {},
          "execution_count": 279
        }
      ]
    },
    {
      "cell_type": "code",
      "source": [
        "categorical_features_test = [fea for fea in test_df.columns if test_df[fea].dtypes == \"O\"]##categorical features\n",
        "categorical_features_test"
      ],
      "metadata": {
        "colab": {
          "base_uri": "https://localhost:8080/"
        },
        "id": "cmENux0mgOyK",
        "outputId": "e6e67cc1-c757-422f-ed9c-cb91ef492881"
      },
      "execution_count": null,
      "outputs": [
        {
          "output_type": "execute_result",
          "data": {
            "text/plain": [
              "['City', 'PreferredDeliveryDay']"
            ]
          },
          "metadata": {},
          "execution_count": 280
        }
      ]
    },
    {
      "cell_type": "code",
      "source": [
        "test_df[categorical_features_test] = test_df[categorical_features_test].astype('category')\n"
      ],
      "metadata": {
        "id": "YdLSddjp6-fC"
      },
      "execution_count": null,
      "outputs": []
    },
    {
      "cell_type": "code",
      "source": [
        "test_df.dtypes"
      ],
      "metadata": {
        "colab": {
          "base_uri": "https://localhost:8080/"
        },
        "id": "BzigLtf7IWJB",
        "outputId": "0abdfb46-df3b-436b-8117-b832caa4bcf7"
      },
      "execution_count": null,
      "outputs": [
        {
          "output_type": "execute_result",
          "data": {
            "text/plain": [
              "Email_Type_CustomizedEmail     float64\n",
              "Mail_Clicked_no                float64\n",
              "Mail_Clicked_yes               float64\n",
              "Mail_Opened_no                 float64\n",
              "Mail_Opened_yes                float64\n",
              "City                          category\n",
              "OnlineCommunication              int64\n",
              "AutomaticRefill                  int64\n",
              "DoorstepDelivery                 int64\n",
              "PreferredDeliveryDay          category\n",
              "OrderQuantity                    int64\n",
              "dtype: object"
            ]
          },
          "metadata": {},
          "execution_count": 282
        }
      ]
    },
    {
      "cell_type": "code",
      "source": [
        "cat_attr_test = test_df.select_dtypes(include=['category']).columns"
      ],
      "metadata": {
        "id": "LR2kZTgp7E4i"
      },
      "execution_count": null,
      "outputs": []
    },
    {
      "cell_type": "code",
      "source": [
        "cat_attr_test"
      ],
      "metadata": {
        "colab": {
          "base_uri": "https://localhost:8080/"
        },
        "id": "nfrpLPDT1TNF",
        "outputId": "cdc409b7-5ab3-4f0f-ca43-5dc3f38b2214"
      },
      "execution_count": null,
      "outputs": [
        {
          "output_type": "execute_result",
          "data": {
            "text/plain": [
              "Index(['City', 'PreferredDeliveryDay'], dtype='object')"
            ]
          },
          "metadata": {},
          "execution_count": 284
        }
      ]
    },
    {
      "cell_type": "code",
      "source": [
        "#Convert categorical to numerical\n",
        "ohe_test=enc.transform(test_df[cat_attr_test]).toarray()"
      ],
      "metadata": {
        "id": "l5CIulBxKxif"
      },
      "execution_count": null,
      "outputs": []
    },
    {
      "cell_type": "code",
      "source": [
        "##Standardize numerical variables\n",
        "num_attr_test = test_df.select_dtypes(include=['int64','float64']).columns"
      ],
      "metadata": {
        "id": "2aO47XYzK1UH"
      },
      "execution_count": null,
      "outputs": []
    },
    {
      "cell_type": "code",
      "source": [
        "test_std = scaler.transform(test_df[num_attr_test])"
      ],
      "metadata": {
        "id": "Zfa1Y96SLsje"
      },
      "execution_count": null,
      "outputs": []
    },
    {
      "cell_type": "code",
      "source": [
        "print(test_std.shape)\n"
      ],
      "metadata": {
        "colab": {
          "base_uri": "https://localhost:8080/"
        },
        "id": "VIKT4_4FMS8j",
        "outputId": "ce22d2a0-3f25-460b-f5b1-af1af93b58f7"
      },
      "execution_count": null,
      "outputs": [
        {
          "output_type": "stream",
          "name": "stdout",
          "text": [
            "(5955, 9)\n"
          ]
        }
      ]
    },
    {
      "cell_type": "code",
      "source": [
        "test_con = np.concatenate([test_std,ohe_test], axis=1)\n"
      ],
      "metadata": {
        "id": "NmEQ-qOrMxmJ"
      },
      "execution_count": null,
      "outputs": []
    },
    {
      "cell_type": "code",
      "source": [
        "print(test_con.shape)\n"
      ],
      "metadata": {
        "id": "ighFKxfRNHqs"
      },
      "execution_count": null,
      "outputs": []
    },
    {
      "cell_type": "code",
      "source": [
        "y_pred= clf_grid.predict(test_con)"
      ],
      "metadata": {
        "id": "ZSksRYFlwp5h"
      },
      "execution_count": null,
      "outputs": []
    },
    {
      "cell_type": "code",
      "source": [
        "## Creating Sample Submission file and Submit\n",
        "pred = pd.DataFrame(y_pred)\n",
        "\n",
        "sub_df = pd.read_csv(\"/content/submission.csv\")\n",
        "\n",
        "datasets = pd.concat([sub_df['CustomerID'],pred],axis=1)\n",
        "\n",
        "datasets.columns= ['CustomerID','RetentionPotential']\n",
        "\n",
        "datasets.to_csv('sample_submission.csv',index=False)"
      ],
      "metadata": {
        "id": "SzJ11-WHxbgf"
      },
      "execution_count": null,
      "outputs": []
    },
    {
      "cell_type": "markdown",
      "source": [
        "# <font color=orange>**Goal:02**\n",
        "\n",
        "*  **Customer segmentation involves dividing customers into groups or segments based on their characteristics and behavior. This can be done using a clustering algorithm, which can automatically group customers into segments based on their similarities and differences.**\n",
        "\n",
        "*   **Once the customer segments have been identified, it is possible to perform pattern extraction to uncover trends and patterns within the data. This can be done using a variety of techniques, such as association rule mining, which can identify relationships between different customer attributes and behaviors.**\n",
        "\n",
        "\n",
        "\n",
        "\n",
        "\n",
        "\n",
        "\n"
      ],
      "metadata": {
        "id": "DDCFw410-jn5"
      }
    },
    {
      "cell_type": "code",
      "source": [
        "total_df"
      ],
      "metadata": {
        "id": "2jZ-lMgH2w7Q",
        "colab": {
          "base_uri": "https://localhost:8080/",
          "height": 487
        },
        "outputId": "30116889-f42b-42e1-fec5-c2f2a60762a7"
      },
      "execution_count": 23,
      "outputs": [
        {
          "output_type": "execute_result",
          "data": {
            "text/plain": [
              "      CustomerID  Email_Type_CustomizedEmail  Email_Type_WelcomeEmail  \\\n",
              "0         C12116                        31.0                      1.0   \n",
              "1         C12117                         0.0                      1.0   \n",
              "2         C12118                         0.0                      1.0   \n",
              "3         C12119                        41.0                      1.0   \n",
              "4         C12120                         0.0                      1.0   \n",
              "...          ...                         ...                      ...   \n",
              "23815     C42185                        43.0                      1.0   \n",
              "23816     C42186                         0.0                      1.0   \n",
              "23817     C42187                         0.0                      1.0   \n",
              "23818     C42188                         0.0                      1.0   \n",
              "23819     C42189                        50.0                      1.0   \n",
              "\n",
              "       Mail_Clicked_NotApplicable  Mail_Clicked_no  Mail_Clicked_yes  \\\n",
              "0                             1.0             29.0               2.0   \n",
              "1                             1.0              0.0               0.0   \n",
              "2                             1.0              0.0               0.0   \n",
              "3                             1.0             37.0               4.0   \n",
              "4                             1.0              0.0               0.0   \n",
              "...                           ...              ...               ...   \n",
              "23815                         1.0             43.0               0.0   \n",
              "23816                         1.0              0.0               0.0   \n",
              "23817                         1.0              0.0               0.0   \n",
              "23818                         1.0              0.0               0.0   \n",
              "23819                         1.0             50.0               0.0   \n",
              "\n",
              "       Mail_Opened_no  Mail_Opened_yes   City DateOfRegistration  \\\n",
              "0                27.0              5.0  CITY3         2013-09-23   \n",
              "1                 0.0              1.0  CITY2         2013-12-05   \n",
              "2                 0.0              1.0  CITY4         2013-09-10   \n",
              "3                28.0             14.0  CITY2         2013-04-13   \n",
              "4                 0.0              1.0  CITY3         2014-01-10   \n",
              "...               ...              ...    ...                ...   \n",
              "23815            34.0             10.0  CITY2         2011-03-03   \n",
              "23816             0.0              1.0  CITY4         2013-11-23   \n",
              "23817             0.0              1.0  CITY2         2013-09-15   \n",
              "23818             0.0              1.0  CITY4         2011-10-04   \n",
              "23819            32.0             19.0  CITY3         2013-01-17   \n",
              "\n",
              "       OnlineCommunication  AutomaticRefill  DoorstepDelivery  \\\n",
              "0                        0                0                 0   \n",
              "1                        1                0                 0   \n",
              "2                        1                0                 0   \n",
              "3                        0                0                 0   \n",
              "4                        1                0                 0   \n",
              "...                    ...              ...               ...   \n",
              "23815                    0                0                 0   \n",
              "23816                    1                0                 0   \n",
              "23817                    1                0                 0   \n",
              "23818                    0                0                 0   \n",
              "23819                    1                0                 0   \n",
              "\n",
              "      PreferredDeliveryDay  OrderQuantity RetentionPotential  \n",
              "0                   Friday            115                Low  \n",
              "1                   Friday             41                Low  \n",
              "2                Wednesday             41               High  \n",
              "3                   Monday             52                Low  \n",
              "4                  Tuesday             31                Low  \n",
              "...                    ...            ...                ...  \n",
              "23815              Tuesday           1340                Low  \n",
              "23816               Friday             46               High  \n",
              "23817              Tuesday             41               High  \n",
              "23818               Friday             51                Low  \n",
              "23819            Wednesday            180                Low  \n",
              "\n",
              "[23820 rows x 16 columns]"
            ],
            "text/html": [
              "\n",
              "  <div id=\"df-076dc53b-52b3-456c-bba1-509d0a546795\">\n",
              "    <div class=\"colab-df-container\">\n",
              "      <div>\n",
              "<style scoped>\n",
              "    .dataframe tbody tr th:only-of-type {\n",
              "        vertical-align: middle;\n",
              "    }\n",
              "\n",
              "    .dataframe tbody tr th {\n",
              "        vertical-align: top;\n",
              "    }\n",
              "\n",
              "    .dataframe thead th {\n",
              "        text-align: right;\n",
              "    }\n",
              "</style>\n",
              "<table border=\"1\" class=\"dataframe\">\n",
              "  <thead>\n",
              "    <tr style=\"text-align: right;\">\n",
              "      <th></th>\n",
              "      <th>CustomerID</th>\n",
              "      <th>Email_Type_CustomizedEmail</th>\n",
              "      <th>Email_Type_WelcomeEmail</th>\n",
              "      <th>Mail_Clicked_NotApplicable</th>\n",
              "      <th>Mail_Clicked_no</th>\n",
              "      <th>Mail_Clicked_yes</th>\n",
              "      <th>Mail_Opened_no</th>\n",
              "      <th>Mail_Opened_yes</th>\n",
              "      <th>City</th>\n",
              "      <th>DateOfRegistration</th>\n",
              "      <th>OnlineCommunication</th>\n",
              "      <th>AutomaticRefill</th>\n",
              "      <th>DoorstepDelivery</th>\n",
              "      <th>PreferredDeliveryDay</th>\n",
              "      <th>OrderQuantity</th>\n",
              "      <th>RetentionPotential</th>\n",
              "    </tr>\n",
              "  </thead>\n",
              "  <tbody>\n",
              "    <tr>\n",
              "      <th>0</th>\n",
              "      <td>C12116</td>\n",
              "      <td>31.0</td>\n",
              "      <td>1.0</td>\n",
              "      <td>1.0</td>\n",
              "      <td>29.0</td>\n",
              "      <td>2.0</td>\n",
              "      <td>27.0</td>\n",
              "      <td>5.0</td>\n",
              "      <td>CITY3</td>\n",
              "      <td>2013-09-23</td>\n",
              "      <td>0</td>\n",
              "      <td>0</td>\n",
              "      <td>0</td>\n",
              "      <td>Friday</td>\n",
              "      <td>115</td>\n",
              "      <td>Low</td>\n",
              "    </tr>\n",
              "    <tr>\n",
              "      <th>1</th>\n",
              "      <td>C12117</td>\n",
              "      <td>0.0</td>\n",
              "      <td>1.0</td>\n",
              "      <td>1.0</td>\n",
              "      <td>0.0</td>\n",
              "      <td>0.0</td>\n",
              "      <td>0.0</td>\n",
              "      <td>1.0</td>\n",
              "      <td>CITY2</td>\n",
              "      <td>2013-12-05</td>\n",
              "      <td>1</td>\n",
              "      <td>0</td>\n",
              "      <td>0</td>\n",
              "      <td>Friday</td>\n",
              "      <td>41</td>\n",
              "      <td>Low</td>\n",
              "    </tr>\n",
              "    <tr>\n",
              "      <th>2</th>\n",
              "      <td>C12118</td>\n",
              "      <td>0.0</td>\n",
              "      <td>1.0</td>\n",
              "      <td>1.0</td>\n",
              "      <td>0.0</td>\n",
              "      <td>0.0</td>\n",
              "      <td>0.0</td>\n",
              "      <td>1.0</td>\n",
              "      <td>CITY4</td>\n",
              "      <td>2013-09-10</td>\n",
              "      <td>1</td>\n",
              "      <td>0</td>\n",
              "      <td>0</td>\n",
              "      <td>Wednesday</td>\n",
              "      <td>41</td>\n",
              "      <td>High</td>\n",
              "    </tr>\n",
              "    <tr>\n",
              "      <th>3</th>\n",
              "      <td>C12119</td>\n",
              "      <td>41.0</td>\n",
              "      <td>1.0</td>\n",
              "      <td>1.0</td>\n",
              "      <td>37.0</td>\n",
              "      <td>4.0</td>\n",
              "      <td>28.0</td>\n",
              "      <td>14.0</td>\n",
              "      <td>CITY2</td>\n",
              "      <td>2013-04-13</td>\n",
              "      <td>0</td>\n",
              "      <td>0</td>\n",
              "      <td>0</td>\n",
              "      <td>Monday</td>\n",
              "      <td>52</td>\n",
              "      <td>Low</td>\n",
              "    </tr>\n",
              "    <tr>\n",
              "      <th>4</th>\n",
              "      <td>C12120</td>\n",
              "      <td>0.0</td>\n",
              "      <td>1.0</td>\n",
              "      <td>1.0</td>\n",
              "      <td>0.0</td>\n",
              "      <td>0.0</td>\n",
              "      <td>0.0</td>\n",
              "      <td>1.0</td>\n",
              "      <td>CITY3</td>\n",
              "      <td>2014-01-10</td>\n",
              "      <td>1</td>\n",
              "      <td>0</td>\n",
              "      <td>0</td>\n",
              "      <td>Tuesday</td>\n",
              "      <td>31</td>\n",
              "      <td>Low</td>\n",
              "    </tr>\n",
              "    <tr>\n",
              "      <th>...</th>\n",
              "      <td>...</td>\n",
              "      <td>...</td>\n",
              "      <td>...</td>\n",
              "      <td>...</td>\n",
              "      <td>...</td>\n",
              "      <td>...</td>\n",
              "      <td>...</td>\n",
              "      <td>...</td>\n",
              "      <td>...</td>\n",
              "      <td>...</td>\n",
              "      <td>...</td>\n",
              "      <td>...</td>\n",
              "      <td>...</td>\n",
              "      <td>...</td>\n",
              "      <td>...</td>\n",
              "      <td>...</td>\n",
              "    </tr>\n",
              "    <tr>\n",
              "      <th>23815</th>\n",
              "      <td>C42185</td>\n",
              "      <td>43.0</td>\n",
              "      <td>1.0</td>\n",
              "      <td>1.0</td>\n",
              "      <td>43.0</td>\n",
              "      <td>0.0</td>\n",
              "      <td>34.0</td>\n",
              "      <td>10.0</td>\n",
              "      <td>CITY2</td>\n",
              "      <td>2011-03-03</td>\n",
              "      <td>0</td>\n",
              "      <td>0</td>\n",
              "      <td>0</td>\n",
              "      <td>Tuesday</td>\n",
              "      <td>1340</td>\n",
              "      <td>Low</td>\n",
              "    </tr>\n",
              "    <tr>\n",
              "      <th>23816</th>\n",
              "      <td>C42186</td>\n",
              "      <td>0.0</td>\n",
              "      <td>1.0</td>\n",
              "      <td>1.0</td>\n",
              "      <td>0.0</td>\n",
              "      <td>0.0</td>\n",
              "      <td>0.0</td>\n",
              "      <td>1.0</td>\n",
              "      <td>CITY4</td>\n",
              "      <td>2013-11-23</td>\n",
              "      <td>1</td>\n",
              "      <td>0</td>\n",
              "      <td>0</td>\n",
              "      <td>Friday</td>\n",
              "      <td>46</td>\n",
              "      <td>High</td>\n",
              "    </tr>\n",
              "    <tr>\n",
              "      <th>23817</th>\n",
              "      <td>C42187</td>\n",
              "      <td>0.0</td>\n",
              "      <td>1.0</td>\n",
              "      <td>1.0</td>\n",
              "      <td>0.0</td>\n",
              "      <td>0.0</td>\n",
              "      <td>0.0</td>\n",
              "      <td>1.0</td>\n",
              "      <td>CITY2</td>\n",
              "      <td>2013-09-15</td>\n",
              "      <td>1</td>\n",
              "      <td>0</td>\n",
              "      <td>0</td>\n",
              "      <td>Tuesday</td>\n",
              "      <td>41</td>\n",
              "      <td>High</td>\n",
              "    </tr>\n",
              "    <tr>\n",
              "      <th>23818</th>\n",
              "      <td>C42188</td>\n",
              "      <td>0.0</td>\n",
              "      <td>1.0</td>\n",
              "      <td>1.0</td>\n",
              "      <td>0.0</td>\n",
              "      <td>0.0</td>\n",
              "      <td>0.0</td>\n",
              "      <td>1.0</td>\n",
              "      <td>CITY4</td>\n",
              "      <td>2011-10-04</td>\n",
              "      <td>0</td>\n",
              "      <td>0</td>\n",
              "      <td>0</td>\n",
              "      <td>Friday</td>\n",
              "      <td>51</td>\n",
              "      <td>Low</td>\n",
              "    </tr>\n",
              "    <tr>\n",
              "      <th>23819</th>\n",
              "      <td>C42189</td>\n",
              "      <td>50.0</td>\n",
              "      <td>1.0</td>\n",
              "      <td>1.0</td>\n",
              "      <td>50.0</td>\n",
              "      <td>0.0</td>\n",
              "      <td>32.0</td>\n",
              "      <td>19.0</td>\n",
              "      <td>CITY3</td>\n",
              "      <td>2013-01-17</td>\n",
              "      <td>1</td>\n",
              "      <td>0</td>\n",
              "      <td>0</td>\n",
              "      <td>Wednesday</td>\n",
              "      <td>180</td>\n",
              "      <td>Low</td>\n",
              "    </tr>\n",
              "  </tbody>\n",
              "</table>\n",
              "<p>23820 rows × 16 columns</p>\n",
              "</div>\n",
              "      <button class=\"colab-df-convert\" onclick=\"convertToInteractive('df-076dc53b-52b3-456c-bba1-509d0a546795')\"\n",
              "              title=\"Convert this dataframe to an interactive table.\"\n",
              "              style=\"display:none;\">\n",
              "        \n",
              "  <svg xmlns=\"http://www.w3.org/2000/svg\" height=\"24px\"viewBox=\"0 0 24 24\"\n",
              "       width=\"24px\">\n",
              "    <path d=\"M0 0h24v24H0V0z\" fill=\"none\"/>\n",
              "    <path d=\"M18.56 5.44l.94 2.06.94-2.06 2.06-.94-2.06-.94-.94-2.06-.94 2.06-2.06.94zm-11 1L8.5 8.5l.94-2.06 2.06-.94-2.06-.94L8.5 2.5l-.94 2.06-2.06.94zm10 10l.94 2.06.94-2.06 2.06-.94-2.06-.94-.94-2.06-.94 2.06-2.06.94z\"/><path d=\"M17.41 7.96l-1.37-1.37c-.4-.4-.92-.59-1.43-.59-.52 0-1.04.2-1.43.59L10.3 9.45l-7.72 7.72c-.78.78-.78 2.05 0 2.83L4 21.41c.39.39.9.59 1.41.59.51 0 1.02-.2 1.41-.59l7.78-7.78 2.81-2.81c.8-.78.8-2.07 0-2.86zM5.41 20L4 18.59l7.72-7.72 1.47 1.35L5.41 20z\"/>\n",
              "  </svg>\n",
              "      </button>\n",
              "      \n",
              "  <style>\n",
              "    .colab-df-container {\n",
              "      display:flex;\n",
              "      flex-wrap:wrap;\n",
              "      gap: 12px;\n",
              "    }\n",
              "\n",
              "    .colab-df-convert {\n",
              "      background-color: #E8F0FE;\n",
              "      border: none;\n",
              "      border-radius: 50%;\n",
              "      cursor: pointer;\n",
              "      display: none;\n",
              "      fill: #1967D2;\n",
              "      height: 32px;\n",
              "      padding: 0 0 0 0;\n",
              "      width: 32px;\n",
              "    }\n",
              "\n",
              "    .colab-df-convert:hover {\n",
              "      background-color: #E2EBFA;\n",
              "      box-shadow: 0px 1px 2px rgba(60, 64, 67, 0.3), 0px 1px 3px 1px rgba(60, 64, 67, 0.15);\n",
              "      fill: #174EA6;\n",
              "    }\n",
              "\n",
              "    [theme=dark] .colab-df-convert {\n",
              "      background-color: #3B4455;\n",
              "      fill: #D2E3FC;\n",
              "    }\n",
              "\n",
              "    [theme=dark] .colab-df-convert:hover {\n",
              "      background-color: #434B5C;\n",
              "      box-shadow: 0px 1px 3px 1px rgba(0, 0, 0, 0.15);\n",
              "      filter: drop-shadow(0px 1px 2px rgba(0, 0, 0, 0.3));\n",
              "      fill: #FFFFFF;\n",
              "    }\n",
              "  </style>\n",
              "\n",
              "      <script>\n",
              "        const buttonEl =\n",
              "          document.querySelector('#df-076dc53b-52b3-456c-bba1-509d0a546795 button.colab-df-convert');\n",
              "        buttonEl.style.display =\n",
              "          google.colab.kernel.accessAllowed ? 'block' : 'none';\n",
              "\n",
              "        async function convertToInteractive(key) {\n",
              "          const element = document.querySelector('#df-076dc53b-52b3-456c-bba1-509d0a546795');\n",
              "          const dataTable =\n",
              "            await google.colab.kernel.invokeFunction('convertToInteractive',\n",
              "                                                     [key], {});\n",
              "          if (!dataTable) return;\n",
              "\n",
              "          const docLinkHtml = 'Like what you see? Visit the ' +\n",
              "            '<a target=\"_blank\" href=https://colab.research.google.com/notebooks/data_table.ipynb>data table notebook</a>'\n",
              "            + ' to learn more about interactive tables.';\n",
              "          element.innerHTML = '';\n",
              "          dataTable['output_type'] = 'display_data';\n",
              "          await google.colab.output.renderOutput(dataTable, element);\n",
              "          const docLink = document.createElement('div');\n",
              "          docLink.innerHTML = docLinkHtml;\n",
              "          element.appendChild(docLink);\n",
              "        }\n",
              "      </script>\n",
              "    </div>\n",
              "  </div>\n",
              "  "
            ]
          },
          "metadata": {},
          "execution_count": 23
        }
      ]
    },
    {
      "cell_type": "code",
      "source": [
        "total_label = total_df['RetentionPotential']"
      ],
      "metadata": {
        "id": "yFBF-quDMKzP"
      },
      "execution_count": 24,
      "outputs": []
    },
    {
      "cell_type": "code",
      "source": [
        "RetentionPotential_label = total_label\n"
      ],
      "metadata": {
        "id": "WTrXk-d_Nalw"
      },
      "execution_count": 25,
      "outputs": []
    },
    {
      "cell_type": "code",
      "source": [
        "##droping CustomerID,DateOfRegistration and RetentionPotential from train data\n",
        "total_df.drop(['CustomerID','DateOfRegistration','RetentionPotential'],axis=1,inplace=True)"
      ],
      "metadata": {
        "id": "kKCK7a797fz-"
      },
      "execution_count": 26,
      "outputs": []
    },
    {
      "cell_type": "code",
      "source": [
        "cat_attr = total_df.select_dtypes(include=['category']).columns"
      ],
      "metadata": {
        "id": "Ntx7I-DX5c_b"
      },
      "execution_count": 27,
      "outputs": []
    },
    {
      "cell_type": "code",
      "source": [
        "#Convert categorical to numerical\n",
        "from sklearn.preprocessing import OneHotEncoder\n",
        "enc = OneHotEncoder(drop = 'first')\n",
        "enc.fit(total_df[cat_attr])\n",
        "total_df_ohe=enc.transform(total_df[cat_attr]).toarray()"
      ],
      "metadata": {
        "id": "dEwXhGjg2wl2"
      },
      "execution_count": 28,
      "outputs": []
    },
    {
      "cell_type": "code",
      "source": [
        "print(total_df_ohe.shape)\n"
      ],
      "metadata": {
        "colab": {
          "base_uri": "https://localhost:8080/"
        },
        "id": "JJv8a5JB6rL6",
        "outputId": "8948c7db-8c68-4957-c9da-be2defc46789"
      },
      "execution_count": 29,
      "outputs": [
        {
          "output_type": "stream",
          "name": "stdout",
          "text": [
            "(23820, 9)\n"
          ]
        }
      ]
    },
    {
      "cell_type": "code",
      "source": [
        "num_attr = total_df.select_dtypes(include=['int64','float64']).columns"
      ],
      "metadata": {
        "id": "wqQbZAYX7JKC"
      },
      "execution_count": 30,
      "outputs": []
    },
    {
      "cell_type": "code",
      "source": [
        "##Standardize numerical variables\n",
        "from sklearn.preprocessing import StandardScaler\n",
        "scaler = StandardScaler()\n",
        "scaler.fit(total_df[num_attr])\n",
        "total_df_std = scaler.transform(total_df[num_attr])"
      ],
      "metadata": {
        "id": "VKMOMoEE8NI8"
      },
      "execution_count": 31,
      "outputs": []
    },
    {
      "cell_type": "code",
      "source": [
        "print(total_df_std.shape)\n"
      ],
      "metadata": {
        "colab": {
          "base_uri": "https://localhost:8080/"
        },
        "id": "bAR8Z_ln8N6W",
        "outputId": "ceb882f1-6202-45fc-a204-306704e2d3b9"
      },
      "execution_count": 32,
      "outputs": [
        {
          "output_type": "stream",
          "name": "stdout",
          "text": [
            "(23820, 11)\n"
          ]
        }
      ]
    },
    {
      "cell_type": "code",
      "source": [
        "##Concateing total_df_std and total_df_ohe\n",
        "train_df = np.concatenate([total_df_std, total_df_ohe], axis=1)\n",
        "print(train_df.shape)\n"
      ],
      "metadata": {
        "colab": {
          "base_uri": "https://localhost:8080/"
        },
        "id": "TBqvXznt8N23",
        "outputId": "90291acb-6caf-48ed-94a3-6ade74c72139"
      },
      "execution_count": 33,
      "outputs": [
        {
          "output_type": "stream",
          "name": "stdout",
          "text": [
            "(23820, 20)\n"
          ]
        }
      ]
    },
    {
      "cell_type": "code",
      "source": [
        "##Implimenting KMeans\n",
        "from sklearn.cluster import KMeans\n",
        "kmeans_object = KMeans(n_clusters=3, random_state=1240)\n",
        "kmeans_object.fit(train_df)\n"
      ],
      "metadata": {
        "colab": {
          "base_uri": "https://localhost:8080/"
        },
        "id": "0dA9Hlba-TLX",
        "outputId": "c18e744f-f00c-4ac9-ec39-43f68b966993"
      },
      "execution_count": 34,
      "outputs": [
        {
          "output_type": "execute_result",
          "data": {
            "text/plain": [
              "KMeans(n_clusters=3, random_state=1240)"
            ]
          },
          "metadata": {},
          "execution_count": 34
        }
      ]
    },
    {
      "cell_type": "code",
      "source": [
        "kmeans_clusters = kmeans_object.labels_"
      ],
      "metadata": {
        "id": "vxLwU9rT_5x9"
      },
      "execution_count": 35,
      "outputs": []
    },
    {
      "cell_type": "code",
      "source": [
        "kmeans_clusters"
      ],
      "metadata": {
        "colab": {
          "base_uri": "https://localhost:8080/"
        },
        "id": "oCp_b7YVAKVw",
        "outputId": "990d22b9-3734-4c97-a592-7fea7d4f45f7"
      },
      "execution_count": 36,
      "outputs": [
        {
          "output_type": "execute_result",
          "data": {
            "text/plain": [
              "array([2, 0, 0, ..., 0, 0, 2], dtype=int32)"
            ]
          },
          "metadata": {},
          "execution_count": 36
        }
      ]
    },
    {
      "cell_type": "code",
      "source": [
        "np.unique(kmeans_clusters, return_counts=True)"
      ],
      "metadata": {
        "colab": {
          "base_uri": "https://localhost:8080/"
        },
        "id": "40zp5HzkASbN",
        "outputId": "733542f7-d3fb-47db-8e73-469ca05da90f"
      },
      "execution_count": 37,
      "outputs": [
        {
          "output_type": "execute_result",
          "data": {
            "text/plain": [
              "(array([0, 1, 2], dtype=int32), array([11943,  3648,  8229]))"
            ]
          },
          "metadata": {},
          "execution_count": 37
        }
      ]
    },
    {
      "cell_type": "code",
      "source": [
        "kmeans_results = pd.DataFrame({\"RetentionPotential\":RetentionPotential_label,\"kmeans_cluster\":kmeans_clusters})\n",
        "kmeans_results.head()"
      ],
      "metadata": {
        "colab": {
          "base_uri": "https://localhost:8080/",
          "height": 206
        },
        "id": "BRj9mQYwAdvZ",
        "outputId": "711e01eb-c7e9-436b-a4bc-789e9116f809"
      },
      "execution_count": 38,
      "outputs": [
        {
          "output_type": "execute_result",
          "data": {
            "text/plain": [
              "  RetentionPotential  kmeans_cluster\n",
              "0                Low               2\n",
              "1                Low               0\n",
              "2               High               0\n",
              "3                Low               2\n",
              "4                Low               0"
            ],
            "text/html": [
              "\n",
              "  <div id=\"df-fac86034-4a41-42b9-9f3a-1ac34e71c5f4\">\n",
              "    <div class=\"colab-df-container\">\n",
              "      <div>\n",
              "<style scoped>\n",
              "    .dataframe tbody tr th:only-of-type {\n",
              "        vertical-align: middle;\n",
              "    }\n",
              "\n",
              "    .dataframe tbody tr th {\n",
              "        vertical-align: top;\n",
              "    }\n",
              "\n",
              "    .dataframe thead th {\n",
              "        text-align: right;\n",
              "    }\n",
              "</style>\n",
              "<table border=\"1\" class=\"dataframe\">\n",
              "  <thead>\n",
              "    <tr style=\"text-align: right;\">\n",
              "      <th></th>\n",
              "      <th>RetentionPotential</th>\n",
              "      <th>kmeans_cluster</th>\n",
              "    </tr>\n",
              "  </thead>\n",
              "  <tbody>\n",
              "    <tr>\n",
              "      <th>0</th>\n",
              "      <td>Low</td>\n",
              "      <td>2</td>\n",
              "    </tr>\n",
              "    <tr>\n",
              "      <th>1</th>\n",
              "      <td>Low</td>\n",
              "      <td>0</td>\n",
              "    </tr>\n",
              "    <tr>\n",
              "      <th>2</th>\n",
              "      <td>High</td>\n",
              "      <td>0</td>\n",
              "    </tr>\n",
              "    <tr>\n",
              "      <th>3</th>\n",
              "      <td>Low</td>\n",
              "      <td>2</td>\n",
              "    </tr>\n",
              "    <tr>\n",
              "      <th>4</th>\n",
              "      <td>Low</td>\n",
              "      <td>0</td>\n",
              "    </tr>\n",
              "  </tbody>\n",
              "</table>\n",
              "</div>\n",
              "      <button class=\"colab-df-convert\" onclick=\"convertToInteractive('df-fac86034-4a41-42b9-9f3a-1ac34e71c5f4')\"\n",
              "              title=\"Convert this dataframe to an interactive table.\"\n",
              "              style=\"display:none;\">\n",
              "        \n",
              "  <svg xmlns=\"http://www.w3.org/2000/svg\" height=\"24px\"viewBox=\"0 0 24 24\"\n",
              "       width=\"24px\">\n",
              "    <path d=\"M0 0h24v24H0V0z\" fill=\"none\"/>\n",
              "    <path d=\"M18.56 5.44l.94 2.06.94-2.06 2.06-.94-2.06-.94-.94-2.06-.94 2.06-2.06.94zm-11 1L8.5 8.5l.94-2.06 2.06-.94-2.06-.94L8.5 2.5l-.94 2.06-2.06.94zm10 10l.94 2.06.94-2.06 2.06-.94-2.06-.94-.94-2.06-.94 2.06-2.06.94z\"/><path d=\"M17.41 7.96l-1.37-1.37c-.4-.4-.92-.59-1.43-.59-.52 0-1.04.2-1.43.59L10.3 9.45l-7.72 7.72c-.78.78-.78 2.05 0 2.83L4 21.41c.39.39.9.59 1.41.59.51 0 1.02-.2 1.41-.59l7.78-7.78 2.81-2.81c.8-.78.8-2.07 0-2.86zM5.41 20L4 18.59l7.72-7.72 1.47 1.35L5.41 20z\"/>\n",
              "  </svg>\n",
              "      </button>\n",
              "      \n",
              "  <style>\n",
              "    .colab-df-container {\n",
              "      display:flex;\n",
              "      flex-wrap:wrap;\n",
              "      gap: 12px;\n",
              "    }\n",
              "\n",
              "    .colab-df-convert {\n",
              "      background-color: #E8F0FE;\n",
              "      border: none;\n",
              "      border-radius: 50%;\n",
              "      cursor: pointer;\n",
              "      display: none;\n",
              "      fill: #1967D2;\n",
              "      height: 32px;\n",
              "      padding: 0 0 0 0;\n",
              "      width: 32px;\n",
              "    }\n",
              "\n",
              "    .colab-df-convert:hover {\n",
              "      background-color: #E2EBFA;\n",
              "      box-shadow: 0px 1px 2px rgba(60, 64, 67, 0.3), 0px 1px 3px 1px rgba(60, 64, 67, 0.15);\n",
              "      fill: #174EA6;\n",
              "    }\n",
              "\n",
              "    [theme=dark] .colab-df-convert {\n",
              "      background-color: #3B4455;\n",
              "      fill: #D2E3FC;\n",
              "    }\n",
              "\n",
              "    [theme=dark] .colab-df-convert:hover {\n",
              "      background-color: #434B5C;\n",
              "      box-shadow: 0px 1px 3px 1px rgba(0, 0, 0, 0.15);\n",
              "      filter: drop-shadow(0px 1px 2px rgba(0, 0, 0, 0.3));\n",
              "      fill: #FFFFFF;\n",
              "    }\n",
              "  </style>\n",
              "\n",
              "      <script>\n",
              "        const buttonEl =\n",
              "          document.querySelector('#df-fac86034-4a41-42b9-9f3a-1ac34e71c5f4 button.colab-df-convert');\n",
              "        buttonEl.style.display =\n",
              "          google.colab.kernel.accessAllowed ? 'block' : 'none';\n",
              "\n",
              "        async function convertToInteractive(key) {\n",
              "          const element = document.querySelector('#df-fac86034-4a41-42b9-9f3a-1ac34e71c5f4');\n",
              "          const dataTable =\n",
              "            await google.colab.kernel.invokeFunction('convertToInteractive',\n",
              "                                                     [key], {});\n",
              "          if (!dataTable) return;\n",
              "\n",
              "          const docLinkHtml = 'Like what you see? Visit the ' +\n",
              "            '<a target=\"_blank\" href=https://colab.research.google.com/notebooks/data_table.ipynb>data table notebook</a>'\n",
              "            + ' to learn more about interactive tables.';\n",
              "          element.innerHTML = '';\n",
              "          dataTable['output_type'] = 'display_data';\n",
              "          await google.colab.output.renderOutput(dataTable, element);\n",
              "          const docLink = document.createElement('div');\n",
              "          docLink.innerHTML = docLinkHtml;\n",
              "          element.appendChild(docLink);\n",
              "        }\n",
              "      </script>\n",
              "    </div>\n",
              "  </div>\n",
              "  "
            ]
          },
          "metadata": {},
          "execution_count": 38
        }
      ]
    },
    {
      "cell_type": "code",
      "source": [
        "kmeans_results.kmeans_cluster.value_counts()"
      ],
      "metadata": {
        "colab": {
          "base_uri": "https://localhost:8080/"
        },
        "id": "-cEobSJaoa3V",
        "outputId": "e8d9d027-5593-4ff3-fa11-5440f91b95c3"
      },
      "execution_count": 39,
      "outputs": [
        {
          "output_type": "execute_result",
          "data": {
            "text/plain": [
              "0    11943\n",
              "2     8229\n",
              "1     3648\n",
              "Name: kmeans_cluster, dtype: int64"
            ]
          },
          "metadata": {},
          "execution_count": 39
        }
      ]
    },
    {
      "cell_type": "code",
      "source": [
        "clusters = kmeans_object.predict(train_df)"
      ],
      "metadata": {
        "id": "ohzapswLSoeP"
      },
      "execution_count": 40,
      "outputs": []
    },
    {
      "cell_type": "code",
      "source": [
        "from sklearn.metrics import silhouette_samples, silhouette_score"
      ],
      "metadata": {
        "id": "UfxxVjHzTOaA"
      },
      "execution_count": 41,
      "outputs": []
    },
    {
      "cell_type": "code",
      "source": [
        "##silhouette_score for train data\n",
        "silhouette_avg = silhouette_score( train_df, clusters)\n",
        "print('score de silhouette: {:<.3f}'.format(silhouette_avg))"
      ],
      "metadata": {
        "colab": {
          "base_uri": "https://localhost:8080/"
        },
        "id": "Q09YJR4XaM_6",
        "outputId": "f374865c-897d-4363-f24e-11da87076c90"
      },
      "execution_count": null,
      "outputs": [
        {
          "output_type": "stream",
          "name": "stdout",
          "text": [
            "score de silhouette: 0.321\n"
          ]
        }
      ]
    },
    {
      "cell_type": "markdown",
      "source": [
        "\n",
        "\n",
        "*  **The silhouette score is a measure of how similar an object is to its own cluster (cohesion) compared to other clusters (separation).**\n",
        "\n",
        "*   **It ranges from -1 to 1, where a high value indicates that the object is well-matched to its own cluster and poorly-matched to neighboring clusters.**\n",
        "\n",
        "*   **A score of 0 means that the object is on or very close to the decision boundary between two neighboring clusters.**\n",
        "\n",
        "\n"
      ],
      "metadata": {
        "id": "fkN-KHhRMA1P"
      }
    },
    {
      "cell_type": "code",
      "source": [
        "### Add Cluster Labels to Original Data\n",
        "total_df"
      ],
      "metadata": {
        "colab": {
          "base_uri": "https://localhost:8080/",
          "height": 487
        },
        "id": "bZXFbTxyrHnV",
        "outputId": "350fc937-d71c-4fab-b0a5-4f08737ea7e7"
      },
      "execution_count": 44,
      "outputs": [
        {
          "output_type": "execute_result",
          "data": {
            "text/plain": [
              "      CustomerID  Email_Type_CustomizedEmail  Email_Type_WelcomeEmail  \\\n",
              "0         C12116                        31.0                      1.0   \n",
              "1         C12117                         0.0                      1.0   \n",
              "2         C12118                         0.0                      1.0   \n",
              "3         C12119                        41.0                      1.0   \n",
              "4         C12120                         0.0                      1.0   \n",
              "...          ...                         ...                      ...   \n",
              "23815     C42185                        43.0                      1.0   \n",
              "23816     C42186                         0.0                      1.0   \n",
              "23817     C42187                         0.0                      1.0   \n",
              "23818     C42188                         0.0                      1.0   \n",
              "23819     C42189                        50.0                      1.0   \n",
              "\n",
              "       Mail_Clicked_NotApplicable  Mail_Clicked_no  Mail_Clicked_yes  \\\n",
              "0                             1.0             29.0               2.0   \n",
              "1                             1.0              0.0               0.0   \n",
              "2                             1.0              0.0               0.0   \n",
              "3                             1.0             37.0               4.0   \n",
              "4                             1.0              0.0               0.0   \n",
              "...                           ...              ...               ...   \n",
              "23815                         1.0             43.0               0.0   \n",
              "23816                         1.0              0.0               0.0   \n",
              "23817                         1.0              0.0               0.0   \n",
              "23818                         1.0              0.0               0.0   \n",
              "23819                         1.0             50.0               0.0   \n",
              "\n",
              "       Mail_Opened_no  Mail_Opened_yes   City DateOfRegistration  \\\n",
              "0                27.0              5.0  CITY3         2013-09-23   \n",
              "1                 0.0              1.0  CITY2         2013-12-05   \n",
              "2                 0.0              1.0  CITY4         2013-09-10   \n",
              "3                28.0             14.0  CITY2         2013-04-13   \n",
              "4                 0.0              1.0  CITY3         2014-01-10   \n",
              "...               ...              ...    ...                ...   \n",
              "23815            34.0             10.0  CITY2         2011-03-03   \n",
              "23816             0.0              1.0  CITY4         2013-11-23   \n",
              "23817             0.0              1.0  CITY2         2013-09-15   \n",
              "23818             0.0              1.0  CITY4         2011-10-04   \n",
              "23819            32.0             19.0  CITY3         2013-01-17   \n",
              "\n",
              "       OnlineCommunication  AutomaticRefill  DoorstepDelivery  \\\n",
              "0                        0                0                 0   \n",
              "1                        1                0                 0   \n",
              "2                        1                0                 0   \n",
              "3                        0                0                 0   \n",
              "4                        1                0                 0   \n",
              "...                    ...              ...               ...   \n",
              "23815                    0                0                 0   \n",
              "23816                    1                0                 0   \n",
              "23817                    1                0                 0   \n",
              "23818                    0                0                 0   \n",
              "23819                    1                0                 0   \n",
              "\n",
              "      PreferredDeliveryDay  OrderQuantity RetentionPotential  \n",
              "0                   Friday            115                Low  \n",
              "1                   Friday             41                Low  \n",
              "2                Wednesday             41               High  \n",
              "3                   Monday             52                Low  \n",
              "4                  Tuesday             31                Low  \n",
              "...                    ...            ...                ...  \n",
              "23815              Tuesday           1340                Low  \n",
              "23816               Friday             46               High  \n",
              "23817              Tuesday             41               High  \n",
              "23818               Friday             51                Low  \n",
              "23819            Wednesday            180                Low  \n",
              "\n",
              "[23820 rows x 16 columns]"
            ],
            "text/html": [
              "\n",
              "  <div id=\"df-9d3cdcc7-018e-448a-8d74-a3a4a35027fd\">\n",
              "    <div class=\"colab-df-container\">\n",
              "      <div>\n",
              "<style scoped>\n",
              "    .dataframe tbody tr th:only-of-type {\n",
              "        vertical-align: middle;\n",
              "    }\n",
              "\n",
              "    .dataframe tbody tr th {\n",
              "        vertical-align: top;\n",
              "    }\n",
              "\n",
              "    .dataframe thead th {\n",
              "        text-align: right;\n",
              "    }\n",
              "</style>\n",
              "<table border=\"1\" class=\"dataframe\">\n",
              "  <thead>\n",
              "    <tr style=\"text-align: right;\">\n",
              "      <th></th>\n",
              "      <th>CustomerID</th>\n",
              "      <th>Email_Type_CustomizedEmail</th>\n",
              "      <th>Email_Type_WelcomeEmail</th>\n",
              "      <th>Mail_Clicked_NotApplicable</th>\n",
              "      <th>Mail_Clicked_no</th>\n",
              "      <th>Mail_Clicked_yes</th>\n",
              "      <th>Mail_Opened_no</th>\n",
              "      <th>Mail_Opened_yes</th>\n",
              "      <th>City</th>\n",
              "      <th>DateOfRegistration</th>\n",
              "      <th>OnlineCommunication</th>\n",
              "      <th>AutomaticRefill</th>\n",
              "      <th>DoorstepDelivery</th>\n",
              "      <th>PreferredDeliveryDay</th>\n",
              "      <th>OrderQuantity</th>\n",
              "      <th>RetentionPotential</th>\n",
              "    </tr>\n",
              "  </thead>\n",
              "  <tbody>\n",
              "    <tr>\n",
              "      <th>0</th>\n",
              "      <td>C12116</td>\n",
              "      <td>31.0</td>\n",
              "      <td>1.0</td>\n",
              "      <td>1.0</td>\n",
              "      <td>29.0</td>\n",
              "      <td>2.0</td>\n",
              "      <td>27.0</td>\n",
              "      <td>5.0</td>\n",
              "      <td>CITY3</td>\n",
              "      <td>2013-09-23</td>\n",
              "      <td>0</td>\n",
              "      <td>0</td>\n",
              "      <td>0</td>\n",
              "      <td>Friday</td>\n",
              "      <td>115</td>\n",
              "      <td>Low</td>\n",
              "    </tr>\n",
              "    <tr>\n",
              "      <th>1</th>\n",
              "      <td>C12117</td>\n",
              "      <td>0.0</td>\n",
              "      <td>1.0</td>\n",
              "      <td>1.0</td>\n",
              "      <td>0.0</td>\n",
              "      <td>0.0</td>\n",
              "      <td>0.0</td>\n",
              "      <td>1.0</td>\n",
              "      <td>CITY2</td>\n",
              "      <td>2013-12-05</td>\n",
              "      <td>1</td>\n",
              "      <td>0</td>\n",
              "      <td>0</td>\n",
              "      <td>Friday</td>\n",
              "      <td>41</td>\n",
              "      <td>Low</td>\n",
              "    </tr>\n",
              "    <tr>\n",
              "      <th>2</th>\n",
              "      <td>C12118</td>\n",
              "      <td>0.0</td>\n",
              "      <td>1.0</td>\n",
              "      <td>1.0</td>\n",
              "      <td>0.0</td>\n",
              "      <td>0.0</td>\n",
              "      <td>0.0</td>\n",
              "      <td>1.0</td>\n",
              "      <td>CITY4</td>\n",
              "      <td>2013-09-10</td>\n",
              "      <td>1</td>\n",
              "      <td>0</td>\n",
              "      <td>0</td>\n",
              "      <td>Wednesday</td>\n",
              "      <td>41</td>\n",
              "      <td>High</td>\n",
              "    </tr>\n",
              "    <tr>\n",
              "      <th>3</th>\n",
              "      <td>C12119</td>\n",
              "      <td>41.0</td>\n",
              "      <td>1.0</td>\n",
              "      <td>1.0</td>\n",
              "      <td>37.0</td>\n",
              "      <td>4.0</td>\n",
              "      <td>28.0</td>\n",
              "      <td>14.0</td>\n",
              "      <td>CITY2</td>\n",
              "      <td>2013-04-13</td>\n",
              "      <td>0</td>\n",
              "      <td>0</td>\n",
              "      <td>0</td>\n",
              "      <td>Monday</td>\n",
              "      <td>52</td>\n",
              "      <td>Low</td>\n",
              "    </tr>\n",
              "    <tr>\n",
              "      <th>4</th>\n",
              "      <td>C12120</td>\n",
              "      <td>0.0</td>\n",
              "      <td>1.0</td>\n",
              "      <td>1.0</td>\n",
              "      <td>0.0</td>\n",
              "      <td>0.0</td>\n",
              "      <td>0.0</td>\n",
              "      <td>1.0</td>\n",
              "      <td>CITY3</td>\n",
              "      <td>2014-01-10</td>\n",
              "      <td>1</td>\n",
              "      <td>0</td>\n",
              "      <td>0</td>\n",
              "      <td>Tuesday</td>\n",
              "      <td>31</td>\n",
              "      <td>Low</td>\n",
              "    </tr>\n",
              "    <tr>\n",
              "      <th>...</th>\n",
              "      <td>...</td>\n",
              "      <td>...</td>\n",
              "      <td>...</td>\n",
              "      <td>...</td>\n",
              "      <td>...</td>\n",
              "      <td>...</td>\n",
              "      <td>...</td>\n",
              "      <td>...</td>\n",
              "      <td>...</td>\n",
              "      <td>...</td>\n",
              "      <td>...</td>\n",
              "      <td>...</td>\n",
              "      <td>...</td>\n",
              "      <td>...</td>\n",
              "      <td>...</td>\n",
              "      <td>...</td>\n",
              "    </tr>\n",
              "    <tr>\n",
              "      <th>23815</th>\n",
              "      <td>C42185</td>\n",
              "      <td>43.0</td>\n",
              "      <td>1.0</td>\n",
              "      <td>1.0</td>\n",
              "      <td>43.0</td>\n",
              "      <td>0.0</td>\n",
              "      <td>34.0</td>\n",
              "      <td>10.0</td>\n",
              "      <td>CITY2</td>\n",
              "      <td>2011-03-03</td>\n",
              "      <td>0</td>\n",
              "      <td>0</td>\n",
              "      <td>0</td>\n",
              "      <td>Tuesday</td>\n",
              "      <td>1340</td>\n",
              "      <td>Low</td>\n",
              "    </tr>\n",
              "    <tr>\n",
              "      <th>23816</th>\n",
              "      <td>C42186</td>\n",
              "      <td>0.0</td>\n",
              "      <td>1.0</td>\n",
              "      <td>1.0</td>\n",
              "      <td>0.0</td>\n",
              "      <td>0.0</td>\n",
              "      <td>0.0</td>\n",
              "      <td>1.0</td>\n",
              "      <td>CITY4</td>\n",
              "      <td>2013-11-23</td>\n",
              "      <td>1</td>\n",
              "      <td>0</td>\n",
              "      <td>0</td>\n",
              "      <td>Friday</td>\n",
              "      <td>46</td>\n",
              "      <td>High</td>\n",
              "    </tr>\n",
              "    <tr>\n",
              "      <th>23817</th>\n",
              "      <td>C42187</td>\n",
              "      <td>0.0</td>\n",
              "      <td>1.0</td>\n",
              "      <td>1.0</td>\n",
              "      <td>0.0</td>\n",
              "      <td>0.0</td>\n",
              "      <td>0.0</td>\n",
              "      <td>1.0</td>\n",
              "      <td>CITY2</td>\n",
              "      <td>2013-09-15</td>\n",
              "      <td>1</td>\n",
              "      <td>0</td>\n",
              "      <td>0</td>\n",
              "      <td>Tuesday</td>\n",
              "      <td>41</td>\n",
              "      <td>High</td>\n",
              "    </tr>\n",
              "    <tr>\n",
              "      <th>23818</th>\n",
              "      <td>C42188</td>\n",
              "      <td>0.0</td>\n",
              "      <td>1.0</td>\n",
              "      <td>1.0</td>\n",
              "      <td>0.0</td>\n",
              "      <td>0.0</td>\n",
              "      <td>0.0</td>\n",
              "      <td>1.0</td>\n",
              "      <td>CITY4</td>\n",
              "      <td>2011-10-04</td>\n",
              "      <td>0</td>\n",
              "      <td>0</td>\n",
              "      <td>0</td>\n",
              "      <td>Friday</td>\n",
              "      <td>51</td>\n",
              "      <td>Low</td>\n",
              "    </tr>\n",
              "    <tr>\n",
              "      <th>23819</th>\n",
              "      <td>C42189</td>\n",
              "      <td>50.0</td>\n",
              "      <td>1.0</td>\n",
              "      <td>1.0</td>\n",
              "      <td>50.0</td>\n",
              "      <td>0.0</td>\n",
              "      <td>32.0</td>\n",
              "      <td>19.0</td>\n",
              "      <td>CITY3</td>\n",
              "      <td>2013-01-17</td>\n",
              "      <td>1</td>\n",
              "      <td>0</td>\n",
              "      <td>0</td>\n",
              "      <td>Wednesday</td>\n",
              "      <td>180</td>\n",
              "      <td>Low</td>\n",
              "    </tr>\n",
              "  </tbody>\n",
              "</table>\n",
              "<p>23820 rows × 16 columns</p>\n",
              "</div>\n",
              "      <button class=\"colab-df-convert\" onclick=\"convertToInteractive('df-9d3cdcc7-018e-448a-8d74-a3a4a35027fd')\"\n",
              "              title=\"Convert this dataframe to an interactive table.\"\n",
              "              style=\"display:none;\">\n",
              "        \n",
              "  <svg xmlns=\"http://www.w3.org/2000/svg\" height=\"24px\"viewBox=\"0 0 24 24\"\n",
              "       width=\"24px\">\n",
              "    <path d=\"M0 0h24v24H0V0z\" fill=\"none\"/>\n",
              "    <path d=\"M18.56 5.44l.94 2.06.94-2.06 2.06-.94-2.06-.94-.94-2.06-.94 2.06-2.06.94zm-11 1L8.5 8.5l.94-2.06 2.06-.94-2.06-.94L8.5 2.5l-.94 2.06-2.06.94zm10 10l.94 2.06.94-2.06 2.06-.94-2.06-.94-.94-2.06-.94 2.06-2.06.94z\"/><path d=\"M17.41 7.96l-1.37-1.37c-.4-.4-.92-.59-1.43-.59-.52 0-1.04.2-1.43.59L10.3 9.45l-7.72 7.72c-.78.78-.78 2.05 0 2.83L4 21.41c.39.39.9.59 1.41.59.51 0 1.02-.2 1.41-.59l7.78-7.78 2.81-2.81c.8-.78.8-2.07 0-2.86zM5.41 20L4 18.59l7.72-7.72 1.47 1.35L5.41 20z\"/>\n",
              "  </svg>\n",
              "      </button>\n",
              "      \n",
              "  <style>\n",
              "    .colab-df-container {\n",
              "      display:flex;\n",
              "      flex-wrap:wrap;\n",
              "      gap: 12px;\n",
              "    }\n",
              "\n",
              "    .colab-df-convert {\n",
              "      background-color: #E8F0FE;\n",
              "      border: none;\n",
              "      border-radius: 50%;\n",
              "      cursor: pointer;\n",
              "      display: none;\n",
              "      fill: #1967D2;\n",
              "      height: 32px;\n",
              "      padding: 0 0 0 0;\n",
              "      width: 32px;\n",
              "    }\n",
              "\n",
              "    .colab-df-convert:hover {\n",
              "      background-color: #E2EBFA;\n",
              "      box-shadow: 0px 1px 2px rgba(60, 64, 67, 0.3), 0px 1px 3px 1px rgba(60, 64, 67, 0.15);\n",
              "      fill: #174EA6;\n",
              "    }\n",
              "\n",
              "    [theme=dark] .colab-df-convert {\n",
              "      background-color: #3B4455;\n",
              "      fill: #D2E3FC;\n",
              "    }\n",
              "\n",
              "    [theme=dark] .colab-df-convert:hover {\n",
              "      background-color: #434B5C;\n",
              "      box-shadow: 0px 1px 3px 1px rgba(0, 0, 0, 0.15);\n",
              "      filter: drop-shadow(0px 1px 2px rgba(0, 0, 0, 0.3));\n",
              "      fill: #FFFFFF;\n",
              "    }\n",
              "  </style>\n",
              "\n",
              "      <script>\n",
              "        const buttonEl =\n",
              "          document.querySelector('#df-9d3cdcc7-018e-448a-8d74-a3a4a35027fd button.colab-df-convert');\n",
              "        buttonEl.style.display =\n",
              "          google.colab.kernel.accessAllowed ? 'block' : 'none';\n",
              "\n",
              "        async function convertToInteractive(key) {\n",
              "          const element = document.querySelector('#df-9d3cdcc7-018e-448a-8d74-a3a4a35027fd');\n",
              "          const dataTable =\n",
              "            await google.colab.kernel.invokeFunction('convertToInteractive',\n",
              "                                                     [key], {});\n",
              "          if (!dataTable) return;\n",
              "\n",
              "          const docLinkHtml = 'Like what you see? Visit the ' +\n",
              "            '<a target=\"_blank\" href=https://colab.research.google.com/notebooks/data_table.ipynb>data table notebook</a>'\n",
              "            + ' to learn more about interactive tables.';\n",
              "          element.innerHTML = '';\n",
              "          dataTable['output_type'] = 'display_data';\n",
              "          await google.colab.output.renderOutput(dataTable, element);\n",
              "          const docLink = document.createElement('div');\n",
              "          docLink.innerHTML = docLinkHtml;\n",
              "          element.appendChild(docLink);\n",
              "        }\n",
              "      </script>\n",
              "    </div>\n",
              "  </div>\n",
              "  "
            ]
          },
          "metadata": {},
          "execution_count": 44
        }
      ]
    },
    {
      "cell_type": "code",
      "source": [
        "## Droping the unique ID's and Date of Registration\n",
        "total_df.drop(['CustomerID','DateOfRegistration'],axis=1,inplace=True)"
      ],
      "metadata": {
        "id": "BWwA8wWLrlfN"
      },
      "execution_count": 45,
      "outputs": []
    },
    {
      "cell_type": "code",
      "source": [
        "final_cluster_data = pd.concat([total_df,kmeans_results], axis=1)\n",
        "print(final_cluster_data.shape)\n",
        "final_cluster_data.head(20)"
      ],
      "metadata": {
        "colab": {
          "base_uri": "https://localhost:8080/",
          "height": 287
        },
        "id": "SGBqMnmaCRlL",
        "outputId": "fbf214d3-9512-4212-ad6a-c1a47b6fdddf"
      },
      "execution_count": 46,
      "outputs": [
        {
          "output_type": "stream",
          "name": "stdout",
          "text": [
            "(23820, 16)\n"
          ]
        },
        {
          "output_type": "execute_result",
          "data": {
            "text/plain": [
              "   Email_Type_CustomizedEmail  Email_Type_WelcomeEmail  \\\n",
              "0                        31.0                      1.0   \n",
              "1                         0.0                      1.0   \n",
              "2                         0.0                      1.0   \n",
              "3                        41.0                      1.0   \n",
              "4                         0.0                      1.0   \n",
              "\n",
              "   Mail_Clicked_NotApplicable  Mail_Clicked_no  Mail_Clicked_yes  \\\n",
              "0                         1.0             29.0               2.0   \n",
              "1                         1.0              0.0               0.0   \n",
              "2                         1.0              0.0               0.0   \n",
              "3                         1.0             37.0               4.0   \n",
              "4                         1.0              0.0               0.0   \n",
              "\n",
              "   Mail_Opened_no  Mail_Opened_yes   City  OnlineCommunication  \\\n",
              "0            27.0              5.0  CITY3                    0   \n",
              "1             0.0              1.0  CITY2                    1   \n",
              "2             0.0              1.0  CITY4                    1   \n",
              "3            28.0             14.0  CITY2                    0   \n",
              "4             0.0              1.0  CITY3                    1   \n",
              "\n",
              "   AutomaticRefill  DoorstepDelivery PreferredDeliveryDay  OrderQuantity  \\\n",
              "0                0                 0               Friday            115   \n",
              "1                0                 0               Friday             41   \n",
              "2                0                 0            Wednesday             41   \n",
              "3                0                 0               Monday             52   \n",
              "4                0                 0              Tuesday             31   \n",
              "\n",
              "  RetentionPotential RetentionPotential  kmeans_cluster  \n",
              "0                Low                Low               2  \n",
              "1                Low                Low               0  \n",
              "2               High               High               0  \n",
              "3                Low                Low               2  \n",
              "4                Low                Low               0  "
            ],
            "text/html": [
              "\n",
              "  <div id=\"df-e4d85262-ab21-4011-93d0-aca6260d673e\">\n",
              "    <div class=\"colab-df-container\">\n",
              "      <div>\n",
              "<style scoped>\n",
              "    .dataframe tbody tr th:only-of-type {\n",
              "        vertical-align: middle;\n",
              "    }\n",
              "\n",
              "    .dataframe tbody tr th {\n",
              "        vertical-align: top;\n",
              "    }\n",
              "\n",
              "    .dataframe thead th {\n",
              "        text-align: right;\n",
              "    }\n",
              "</style>\n",
              "<table border=\"1\" class=\"dataframe\">\n",
              "  <thead>\n",
              "    <tr style=\"text-align: right;\">\n",
              "      <th></th>\n",
              "      <th>Email_Type_CustomizedEmail</th>\n",
              "      <th>Email_Type_WelcomeEmail</th>\n",
              "      <th>Mail_Clicked_NotApplicable</th>\n",
              "      <th>Mail_Clicked_no</th>\n",
              "      <th>Mail_Clicked_yes</th>\n",
              "      <th>Mail_Opened_no</th>\n",
              "      <th>Mail_Opened_yes</th>\n",
              "      <th>City</th>\n",
              "      <th>OnlineCommunication</th>\n",
              "      <th>AutomaticRefill</th>\n",
              "      <th>DoorstepDelivery</th>\n",
              "      <th>PreferredDeliveryDay</th>\n",
              "      <th>OrderQuantity</th>\n",
              "      <th>RetentionPotential</th>\n",
              "      <th>RetentionPotential</th>\n",
              "      <th>kmeans_cluster</th>\n",
              "    </tr>\n",
              "  </thead>\n",
              "  <tbody>\n",
              "    <tr>\n",
              "      <th>0</th>\n",
              "      <td>31.0</td>\n",
              "      <td>1.0</td>\n",
              "      <td>1.0</td>\n",
              "      <td>29.0</td>\n",
              "      <td>2.0</td>\n",
              "      <td>27.0</td>\n",
              "      <td>5.0</td>\n",
              "      <td>CITY3</td>\n",
              "      <td>0</td>\n",
              "      <td>0</td>\n",
              "      <td>0</td>\n",
              "      <td>Friday</td>\n",
              "      <td>115</td>\n",
              "      <td>Low</td>\n",
              "      <td>Low</td>\n",
              "      <td>2</td>\n",
              "    </tr>\n",
              "    <tr>\n",
              "      <th>1</th>\n",
              "      <td>0.0</td>\n",
              "      <td>1.0</td>\n",
              "      <td>1.0</td>\n",
              "      <td>0.0</td>\n",
              "      <td>0.0</td>\n",
              "      <td>0.0</td>\n",
              "      <td>1.0</td>\n",
              "      <td>CITY2</td>\n",
              "      <td>1</td>\n",
              "      <td>0</td>\n",
              "      <td>0</td>\n",
              "      <td>Friday</td>\n",
              "      <td>41</td>\n",
              "      <td>Low</td>\n",
              "      <td>Low</td>\n",
              "      <td>0</td>\n",
              "    </tr>\n",
              "    <tr>\n",
              "      <th>2</th>\n",
              "      <td>0.0</td>\n",
              "      <td>1.0</td>\n",
              "      <td>1.0</td>\n",
              "      <td>0.0</td>\n",
              "      <td>0.0</td>\n",
              "      <td>0.0</td>\n",
              "      <td>1.0</td>\n",
              "      <td>CITY4</td>\n",
              "      <td>1</td>\n",
              "      <td>0</td>\n",
              "      <td>0</td>\n",
              "      <td>Wednesday</td>\n",
              "      <td>41</td>\n",
              "      <td>High</td>\n",
              "      <td>High</td>\n",
              "      <td>0</td>\n",
              "    </tr>\n",
              "    <tr>\n",
              "      <th>3</th>\n",
              "      <td>41.0</td>\n",
              "      <td>1.0</td>\n",
              "      <td>1.0</td>\n",
              "      <td>37.0</td>\n",
              "      <td>4.0</td>\n",
              "      <td>28.0</td>\n",
              "      <td>14.0</td>\n",
              "      <td>CITY2</td>\n",
              "      <td>0</td>\n",
              "      <td>0</td>\n",
              "      <td>0</td>\n",
              "      <td>Monday</td>\n",
              "      <td>52</td>\n",
              "      <td>Low</td>\n",
              "      <td>Low</td>\n",
              "      <td>2</td>\n",
              "    </tr>\n",
              "    <tr>\n",
              "      <th>4</th>\n",
              "      <td>0.0</td>\n",
              "      <td>1.0</td>\n",
              "      <td>1.0</td>\n",
              "      <td>0.0</td>\n",
              "      <td>0.0</td>\n",
              "      <td>0.0</td>\n",
              "      <td>1.0</td>\n",
              "      <td>CITY3</td>\n",
              "      <td>1</td>\n",
              "      <td>0</td>\n",
              "      <td>0</td>\n",
              "      <td>Tuesday</td>\n",
              "      <td>31</td>\n",
              "      <td>Low</td>\n",
              "      <td>Low</td>\n",
              "      <td>0</td>\n",
              "    </tr>\n",
              "  </tbody>\n",
              "</table>\n",
              "</div>\n",
              "      <button class=\"colab-df-convert\" onclick=\"convertToInteractive('df-e4d85262-ab21-4011-93d0-aca6260d673e')\"\n",
              "              title=\"Convert this dataframe to an interactive table.\"\n",
              "              style=\"display:none;\">\n",
              "        \n",
              "  <svg xmlns=\"http://www.w3.org/2000/svg\" height=\"24px\"viewBox=\"0 0 24 24\"\n",
              "       width=\"24px\">\n",
              "    <path d=\"M0 0h24v24H0V0z\" fill=\"none\"/>\n",
              "    <path d=\"M18.56 5.44l.94 2.06.94-2.06 2.06-.94-2.06-.94-.94-2.06-.94 2.06-2.06.94zm-11 1L8.5 8.5l.94-2.06 2.06-.94-2.06-.94L8.5 2.5l-.94 2.06-2.06.94zm10 10l.94 2.06.94-2.06 2.06-.94-2.06-.94-.94-2.06-.94 2.06-2.06.94z\"/><path d=\"M17.41 7.96l-1.37-1.37c-.4-.4-.92-.59-1.43-.59-.52 0-1.04.2-1.43.59L10.3 9.45l-7.72 7.72c-.78.78-.78 2.05 0 2.83L4 21.41c.39.39.9.59 1.41.59.51 0 1.02-.2 1.41-.59l7.78-7.78 2.81-2.81c.8-.78.8-2.07 0-2.86zM5.41 20L4 18.59l7.72-7.72 1.47 1.35L5.41 20z\"/>\n",
              "  </svg>\n",
              "      </button>\n",
              "      \n",
              "  <style>\n",
              "    .colab-df-container {\n",
              "      display:flex;\n",
              "      flex-wrap:wrap;\n",
              "      gap: 12px;\n",
              "    }\n",
              "\n",
              "    .colab-df-convert {\n",
              "      background-color: #E8F0FE;\n",
              "      border: none;\n",
              "      border-radius: 50%;\n",
              "      cursor: pointer;\n",
              "      display: none;\n",
              "      fill: #1967D2;\n",
              "      height: 32px;\n",
              "      padding: 0 0 0 0;\n",
              "      width: 32px;\n",
              "    }\n",
              "\n",
              "    .colab-df-convert:hover {\n",
              "      background-color: #E2EBFA;\n",
              "      box-shadow: 0px 1px 2px rgba(60, 64, 67, 0.3), 0px 1px 3px 1px rgba(60, 64, 67, 0.15);\n",
              "      fill: #174EA6;\n",
              "    }\n",
              "\n",
              "    [theme=dark] .colab-df-convert {\n",
              "      background-color: #3B4455;\n",
              "      fill: #D2E3FC;\n",
              "    }\n",
              "\n",
              "    [theme=dark] .colab-df-convert:hover {\n",
              "      background-color: #434B5C;\n",
              "      box-shadow: 0px 1px 3px 1px rgba(0, 0, 0, 0.15);\n",
              "      filter: drop-shadow(0px 1px 2px rgba(0, 0, 0, 0.3));\n",
              "      fill: #FFFFFF;\n",
              "    }\n",
              "  </style>\n",
              "\n",
              "      <script>\n",
              "        const buttonEl =\n",
              "          document.querySelector('#df-e4d85262-ab21-4011-93d0-aca6260d673e button.colab-df-convert');\n",
              "        buttonEl.style.display =\n",
              "          google.colab.kernel.accessAllowed ? 'block' : 'none';\n",
              "\n",
              "        async function convertToInteractive(key) {\n",
              "          const element = document.querySelector('#df-e4d85262-ab21-4011-93d0-aca6260d673e');\n",
              "          const dataTable =\n",
              "            await google.colab.kernel.invokeFunction('convertToInteractive',\n",
              "                                                     [key], {});\n",
              "          if (!dataTable) return;\n",
              "\n",
              "          const docLinkHtml = 'Like what you see? Visit the ' +\n",
              "            '<a target=\"_blank\" href=https://colab.research.google.com/notebooks/data_table.ipynb>data table notebook</a>'\n",
              "            + ' to learn more about interactive tables.';\n",
              "          element.innerHTML = '';\n",
              "          dataTable['output_type'] = 'display_data';\n",
              "          await google.colab.output.renderOutput(dataTable, element);\n",
              "          const docLink = document.createElement('div');\n",
              "          docLink.innerHTML = docLinkHtml;\n",
              "          element.appendChild(docLink);\n",
              "        }\n",
              "      </script>\n",
              "    </div>\n",
              "  </div>\n",
              "  "
            ]
          },
          "metadata": {},
          "execution_count": 46
        }
      ]
    },
    {
      "cell_type": "code",
      "source": [
        "final_cluster_data.shape"
      ],
      "metadata": {
        "colab": {
          "base_uri": "https://localhost:8080/"
        },
        "id": "pqR-63nZG85a",
        "outputId": "beb608af-4f5e-4434-9cec-590c6d2ecdd1"
      },
      "execution_count": 51,
      "outputs": [
        {
          "output_type": "execute_result",
          "data": {
            "text/plain": [
              "(23820, 16)"
            ]
          },
          "metadata": {},
          "execution_count": 51
        }
      ]
    },
    {
      "cell_type": "code",
      "source": [
        "final_cluster_data.kmeans_cluster.value_counts()"
      ],
      "metadata": {
        "colab": {
          "base_uri": "https://localhost:8080/"
        },
        "id": "3H22yoUMIDt5",
        "outputId": "44b1d9ca-c743-4718-8c15-3740f6189182"
      },
      "execution_count": 52,
      "outputs": [
        {
          "output_type": "execute_result",
          "data": {
            "text/plain": [
              "0    11943\n",
              "2     8229\n",
              "1     3648\n",
              "Name: kmeans_cluster, dtype: int64"
            ]
          },
          "metadata": {},
          "execution_count": 52
        }
      ]
    },
    {
      "cell_type": "code",
      "source": [
        "ClusterLevelMean = final_cluster_data.groupby(['kmeans_cluster']).mean().reset_index()\n",
        "ClusterLevelMean"
      ],
      "metadata": {
        "colab": {
          "base_uri": "https://localhost:8080/",
          "height": 207
        },
        "id": "SMvz1a4HJCrx",
        "outputId": "ce90cd3b-3df4-4062-cb00-6bd05efc37ea"
      },
      "execution_count": 53,
      "outputs": [
        {
          "output_type": "execute_result",
          "data": {
            "text/plain": [
              "   kmeans_cluster  Email_Type_CustomizedEmail  Email_Type_WelcomeEmail  \\\n",
              "0               0                    2.130788                      1.0   \n",
              "1               1                   35.722314                      1.0   \n",
              "2               2                   41.085065                      1.0   \n",
              "\n",
              "   Mail_Clicked_NotApplicable  Mail_Clicked_no  Mail_Clicked_yes  \\\n",
              "0                         1.0         2.012643          0.118145   \n",
              "1                         1.0        30.780702          4.941612   \n",
              "2                         1.0        40.063920          1.021145   \n",
              "\n",
              "   Mail_Opened_no  Mail_Opened_yes  OnlineCommunication  AutomaticRefill  \\\n",
              "0        1.575735         1.555053             0.689860         0.087499   \n",
              "1       15.125274        21.597039             0.770285         0.232730   \n",
              "2       35.947989         6.137076             0.568963         0.043991   \n",
              "\n",
              "   DoorstepDelivery  OrderQuantity  \n",
              "0          0.025622     133.759357  \n",
              "1          0.132127    1038.822368  \n",
              "2          0.013124     380.540284  "
            ],
            "text/html": [
              "\n",
              "  <div id=\"df-7d493c79-5b67-416b-a067-d1205792b404\">\n",
              "    <div class=\"colab-df-container\">\n",
              "      <div>\n",
              "<style scoped>\n",
              "    .dataframe tbody tr th:only-of-type {\n",
              "        vertical-align: middle;\n",
              "    }\n",
              "\n",
              "    .dataframe tbody tr th {\n",
              "        vertical-align: top;\n",
              "    }\n",
              "\n",
              "    .dataframe thead th {\n",
              "        text-align: right;\n",
              "    }\n",
              "</style>\n",
              "<table border=\"1\" class=\"dataframe\">\n",
              "  <thead>\n",
              "    <tr style=\"text-align: right;\">\n",
              "      <th></th>\n",
              "      <th>kmeans_cluster</th>\n",
              "      <th>Email_Type_CustomizedEmail</th>\n",
              "      <th>Email_Type_WelcomeEmail</th>\n",
              "      <th>Mail_Clicked_NotApplicable</th>\n",
              "      <th>Mail_Clicked_no</th>\n",
              "      <th>Mail_Clicked_yes</th>\n",
              "      <th>Mail_Opened_no</th>\n",
              "      <th>Mail_Opened_yes</th>\n",
              "      <th>OnlineCommunication</th>\n",
              "      <th>AutomaticRefill</th>\n",
              "      <th>DoorstepDelivery</th>\n",
              "      <th>OrderQuantity</th>\n",
              "    </tr>\n",
              "  </thead>\n",
              "  <tbody>\n",
              "    <tr>\n",
              "      <th>0</th>\n",
              "      <td>0</td>\n",
              "      <td>2.130788</td>\n",
              "      <td>1.0</td>\n",
              "      <td>1.0</td>\n",
              "      <td>2.012643</td>\n",
              "      <td>0.118145</td>\n",
              "      <td>1.575735</td>\n",
              "      <td>1.555053</td>\n",
              "      <td>0.689860</td>\n",
              "      <td>0.087499</td>\n",
              "      <td>0.025622</td>\n",
              "      <td>133.759357</td>\n",
              "    </tr>\n",
              "    <tr>\n",
              "      <th>1</th>\n",
              "      <td>1</td>\n",
              "      <td>35.722314</td>\n",
              "      <td>1.0</td>\n",
              "      <td>1.0</td>\n",
              "      <td>30.780702</td>\n",
              "      <td>4.941612</td>\n",
              "      <td>15.125274</td>\n",
              "      <td>21.597039</td>\n",
              "      <td>0.770285</td>\n",
              "      <td>0.232730</td>\n",
              "      <td>0.132127</td>\n",
              "      <td>1038.822368</td>\n",
              "    </tr>\n",
              "    <tr>\n",
              "      <th>2</th>\n",
              "      <td>2</td>\n",
              "      <td>41.085065</td>\n",
              "      <td>1.0</td>\n",
              "      <td>1.0</td>\n",
              "      <td>40.063920</td>\n",
              "      <td>1.021145</td>\n",
              "      <td>35.947989</td>\n",
              "      <td>6.137076</td>\n",
              "      <td>0.568963</td>\n",
              "      <td>0.043991</td>\n",
              "      <td>0.013124</td>\n",
              "      <td>380.540284</td>\n",
              "    </tr>\n",
              "  </tbody>\n",
              "</table>\n",
              "</div>\n",
              "      <button class=\"colab-df-convert\" onclick=\"convertToInteractive('df-7d493c79-5b67-416b-a067-d1205792b404')\"\n",
              "              title=\"Convert this dataframe to an interactive table.\"\n",
              "              style=\"display:none;\">\n",
              "        \n",
              "  <svg xmlns=\"http://www.w3.org/2000/svg\" height=\"24px\"viewBox=\"0 0 24 24\"\n",
              "       width=\"24px\">\n",
              "    <path d=\"M0 0h24v24H0V0z\" fill=\"none\"/>\n",
              "    <path d=\"M18.56 5.44l.94 2.06.94-2.06 2.06-.94-2.06-.94-.94-2.06-.94 2.06-2.06.94zm-11 1L8.5 8.5l.94-2.06 2.06-.94-2.06-.94L8.5 2.5l-.94 2.06-2.06.94zm10 10l.94 2.06.94-2.06 2.06-.94-2.06-.94-.94-2.06-.94 2.06-2.06.94z\"/><path d=\"M17.41 7.96l-1.37-1.37c-.4-.4-.92-.59-1.43-.59-.52 0-1.04.2-1.43.59L10.3 9.45l-7.72 7.72c-.78.78-.78 2.05 0 2.83L4 21.41c.39.39.9.59 1.41.59.51 0 1.02-.2 1.41-.59l7.78-7.78 2.81-2.81c.8-.78.8-2.07 0-2.86zM5.41 20L4 18.59l7.72-7.72 1.47 1.35L5.41 20z\"/>\n",
              "  </svg>\n",
              "      </button>\n",
              "      \n",
              "  <style>\n",
              "    .colab-df-container {\n",
              "      display:flex;\n",
              "      flex-wrap:wrap;\n",
              "      gap: 12px;\n",
              "    }\n",
              "\n",
              "    .colab-df-convert {\n",
              "      background-color: #E8F0FE;\n",
              "      border: none;\n",
              "      border-radius: 50%;\n",
              "      cursor: pointer;\n",
              "      display: none;\n",
              "      fill: #1967D2;\n",
              "      height: 32px;\n",
              "      padding: 0 0 0 0;\n",
              "      width: 32px;\n",
              "    }\n",
              "\n",
              "    .colab-df-convert:hover {\n",
              "      background-color: #E2EBFA;\n",
              "      box-shadow: 0px 1px 2px rgba(60, 64, 67, 0.3), 0px 1px 3px 1px rgba(60, 64, 67, 0.15);\n",
              "      fill: #174EA6;\n",
              "    }\n",
              "\n",
              "    [theme=dark] .colab-df-convert {\n",
              "      background-color: #3B4455;\n",
              "      fill: #D2E3FC;\n",
              "    }\n",
              "\n",
              "    [theme=dark] .colab-df-convert:hover {\n",
              "      background-color: #434B5C;\n",
              "      box-shadow: 0px 1px 3px 1px rgba(0, 0, 0, 0.15);\n",
              "      filter: drop-shadow(0px 1px 2px rgba(0, 0, 0, 0.3));\n",
              "      fill: #FFFFFF;\n",
              "    }\n",
              "  </style>\n",
              "\n",
              "      <script>\n",
              "        const buttonEl =\n",
              "          document.querySelector('#df-7d493c79-5b67-416b-a067-d1205792b404 button.colab-df-convert');\n",
              "        buttonEl.style.display =\n",
              "          google.colab.kernel.accessAllowed ? 'block' : 'none';\n",
              "\n",
              "        async function convertToInteractive(key) {\n",
              "          const element = document.querySelector('#df-7d493c79-5b67-416b-a067-d1205792b404');\n",
              "          const dataTable =\n",
              "            await google.colab.kernel.invokeFunction('convertToInteractive',\n",
              "                                                     [key], {});\n",
              "          if (!dataTable) return;\n",
              "\n",
              "          const docLinkHtml = 'Like what you see? Visit the ' +\n",
              "            '<a target=\"_blank\" href=https://colab.research.google.com/notebooks/data_table.ipynb>data table notebook</a>'\n",
              "            + ' to learn more about interactive tables.';\n",
              "          element.innerHTML = '';\n",
              "          dataTable['output_type'] = 'display_data';\n",
              "          await google.colab.output.renderOutput(dataTable, element);\n",
              "          const docLink = document.createElement('div');\n",
              "          docLink.innerHTML = docLinkHtml;\n",
              "          element.appendChild(docLink);\n",
              "        }\n",
              "      </script>\n",
              "    </div>\n",
              "  </div>\n",
              "  "
            ]
          },
          "metadata": {},
          "execution_count": 53
        }
      ]
    },
    {
      "cell_type": "code",
      "source": [
        "ClusterLevelsum = final_cluster_data.groupby(['kmeans_cluster']).sum().reset_index()\n",
        "ClusterLevelsum"
      ],
      "metadata": {
        "colab": {
          "base_uri": "https://localhost:8080/",
          "height": 207
        },
        "id": "WlNEE-DAc2qq",
        "outputId": "43275925-cbfb-42e1-9f8c-46879052730d"
      },
      "execution_count": 55,
      "outputs": [
        {
          "output_type": "execute_result",
          "data": {
            "text/plain": [
              "   kmeans_cluster  Email_Type_CustomizedEmail  Email_Type_WelcomeEmail  \\\n",
              "0               0                     25448.0                  11943.0   \n",
              "1               1                    130315.0                   3648.0   \n",
              "2               2                    338089.0                   8229.0   \n",
              "\n",
              "   Mail_Clicked_NotApplicable  Mail_Clicked_no  Mail_Clicked_yes  \\\n",
              "0                     11943.0          24037.0            1411.0   \n",
              "1                      3648.0         112288.0           18027.0   \n",
              "2                      8229.0         329686.0            8403.0   \n",
              "\n",
              "   Mail_Opened_no  Mail_Opened_yes  OnlineCommunication  AutomaticRefill  \\\n",
              "0         18819.0          18572.0                 8239             1045   \n",
              "1         55177.0          78786.0                 2810              849   \n",
              "2        295816.0          50502.0                 4682              362   \n",
              "\n",
              "   DoorstepDelivery  OrderQuantity  \n",
              "0               306        1597488  \n",
              "1               482        3789624  \n",
              "2               108        3131466  "
            ],
            "text/html": [
              "\n",
              "  <div id=\"df-6e7520f7-5dcd-4ce5-96d5-f38c246bb4eb\">\n",
              "    <div class=\"colab-df-container\">\n",
              "      <div>\n",
              "<style scoped>\n",
              "    .dataframe tbody tr th:only-of-type {\n",
              "        vertical-align: middle;\n",
              "    }\n",
              "\n",
              "    .dataframe tbody tr th {\n",
              "        vertical-align: top;\n",
              "    }\n",
              "\n",
              "    .dataframe thead th {\n",
              "        text-align: right;\n",
              "    }\n",
              "</style>\n",
              "<table border=\"1\" class=\"dataframe\">\n",
              "  <thead>\n",
              "    <tr style=\"text-align: right;\">\n",
              "      <th></th>\n",
              "      <th>kmeans_cluster</th>\n",
              "      <th>Email_Type_CustomizedEmail</th>\n",
              "      <th>Email_Type_WelcomeEmail</th>\n",
              "      <th>Mail_Clicked_NotApplicable</th>\n",
              "      <th>Mail_Clicked_no</th>\n",
              "      <th>Mail_Clicked_yes</th>\n",
              "      <th>Mail_Opened_no</th>\n",
              "      <th>Mail_Opened_yes</th>\n",
              "      <th>OnlineCommunication</th>\n",
              "      <th>AutomaticRefill</th>\n",
              "      <th>DoorstepDelivery</th>\n",
              "      <th>OrderQuantity</th>\n",
              "    </tr>\n",
              "  </thead>\n",
              "  <tbody>\n",
              "    <tr>\n",
              "      <th>0</th>\n",
              "      <td>0</td>\n",
              "      <td>25448.0</td>\n",
              "      <td>11943.0</td>\n",
              "      <td>11943.0</td>\n",
              "      <td>24037.0</td>\n",
              "      <td>1411.0</td>\n",
              "      <td>18819.0</td>\n",
              "      <td>18572.0</td>\n",
              "      <td>8239</td>\n",
              "      <td>1045</td>\n",
              "      <td>306</td>\n",
              "      <td>1597488</td>\n",
              "    </tr>\n",
              "    <tr>\n",
              "      <th>1</th>\n",
              "      <td>1</td>\n",
              "      <td>130315.0</td>\n",
              "      <td>3648.0</td>\n",
              "      <td>3648.0</td>\n",
              "      <td>112288.0</td>\n",
              "      <td>18027.0</td>\n",
              "      <td>55177.0</td>\n",
              "      <td>78786.0</td>\n",
              "      <td>2810</td>\n",
              "      <td>849</td>\n",
              "      <td>482</td>\n",
              "      <td>3789624</td>\n",
              "    </tr>\n",
              "    <tr>\n",
              "      <th>2</th>\n",
              "      <td>2</td>\n",
              "      <td>338089.0</td>\n",
              "      <td>8229.0</td>\n",
              "      <td>8229.0</td>\n",
              "      <td>329686.0</td>\n",
              "      <td>8403.0</td>\n",
              "      <td>295816.0</td>\n",
              "      <td>50502.0</td>\n",
              "      <td>4682</td>\n",
              "      <td>362</td>\n",
              "      <td>108</td>\n",
              "      <td>3131466</td>\n",
              "    </tr>\n",
              "  </tbody>\n",
              "</table>\n",
              "</div>\n",
              "      <button class=\"colab-df-convert\" onclick=\"convertToInteractive('df-6e7520f7-5dcd-4ce5-96d5-f38c246bb4eb')\"\n",
              "              title=\"Convert this dataframe to an interactive table.\"\n",
              "              style=\"display:none;\">\n",
              "        \n",
              "  <svg xmlns=\"http://www.w3.org/2000/svg\" height=\"24px\"viewBox=\"0 0 24 24\"\n",
              "       width=\"24px\">\n",
              "    <path d=\"M0 0h24v24H0V0z\" fill=\"none\"/>\n",
              "    <path d=\"M18.56 5.44l.94 2.06.94-2.06 2.06-.94-2.06-.94-.94-2.06-.94 2.06-2.06.94zm-11 1L8.5 8.5l.94-2.06 2.06-.94-2.06-.94L8.5 2.5l-.94 2.06-2.06.94zm10 10l.94 2.06.94-2.06 2.06-.94-2.06-.94-.94-2.06-.94 2.06-2.06.94z\"/><path d=\"M17.41 7.96l-1.37-1.37c-.4-.4-.92-.59-1.43-.59-.52 0-1.04.2-1.43.59L10.3 9.45l-7.72 7.72c-.78.78-.78 2.05 0 2.83L4 21.41c.39.39.9.59 1.41.59.51 0 1.02-.2 1.41-.59l7.78-7.78 2.81-2.81c.8-.78.8-2.07 0-2.86zM5.41 20L4 18.59l7.72-7.72 1.47 1.35L5.41 20z\"/>\n",
              "  </svg>\n",
              "      </button>\n",
              "      \n",
              "  <style>\n",
              "    .colab-df-container {\n",
              "      display:flex;\n",
              "      flex-wrap:wrap;\n",
              "      gap: 12px;\n",
              "    }\n",
              "\n",
              "    .colab-df-convert {\n",
              "      background-color: #E8F0FE;\n",
              "      border: none;\n",
              "      border-radius: 50%;\n",
              "      cursor: pointer;\n",
              "      display: none;\n",
              "      fill: #1967D2;\n",
              "      height: 32px;\n",
              "      padding: 0 0 0 0;\n",
              "      width: 32px;\n",
              "    }\n",
              "\n",
              "    .colab-df-convert:hover {\n",
              "      background-color: #E2EBFA;\n",
              "      box-shadow: 0px 1px 2px rgba(60, 64, 67, 0.3), 0px 1px 3px 1px rgba(60, 64, 67, 0.15);\n",
              "      fill: #174EA6;\n",
              "    }\n",
              "\n",
              "    [theme=dark] .colab-df-convert {\n",
              "      background-color: #3B4455;\n",
              "      fill: #D2E3FC;\n",
              "    }\n",
              "\n",
              "    [theme=dark] .colab-df-convert:hover {\n",
              "      background-color: #434B5C;\n",
              "      box-shadow: 0px 1px 3px 1px rgba(0, 0, 0, 0.15);\n",
              "      filter: drop-shadow(0px 1px 2px rgba(0, 0, 0, 0.3));\n",
              "      fill: #FFFFFF;\n",
              "    }\n",
              "  </style>\n",
              "\n",
              "      <script>\n",
              "        const buttonEl =\n",
              "          document.querySelector('#df-6e7520f7-5dcd-4ce5-96d5-f38c246bb4eb button.colab-df-convert');\n",
              "        buttonEl.style.display =\n",
              "          google.colab.kernel.accessAllowed ? 'block' : 'none';\n",
              "\n",
              "        async function convertToInteractive(key) {\n",
              "          const element = document.querySelector('#df-6e7520f7-5dcd-4ce5-96d5-f38c246bb4eb');\n",
              "          const dataTable =\n",
              "            await google.colab.kernel.invokeFunction('convertToInteractive',\n",
              "                                                     [key], {});\n",
              "          if (!dataTable) return;\n",
              "\n",
              "          const docLinkHtml = 'Like what you see? Visit the ' +\n",
              "            '<a target=\"_blank\" href=https://colab.research.google.com/notebooks/data_table.ipynb>data table notebook</a>'\n",
              "            + ' to learn more about interactive tables.';\n",
              "          element.innerHTML = '';\n",
              "          dataTable['output_type'] = 'display_data';\n",
              "          await google.colab.output.renderOutput(dataTable, element);\n",
              "          const docLink = document.createElement('div');\n",
              "          docLink.innerHTML = docLinkHtml;\n",
              "          element.appendChild(docLink);\n",
              "        }\n",
              "      </script>\n",
              "    </div>\n",
              "  </div>\n",
              "  "
            ]
          },
          "metadata": {},
          "execution_count": 55
        }
      ]
    },
    {
      "cell_type": "markdown",
      "source": [
        "# <font color=green>Conclusion:\n",
        "\n",
        "\n",
        "*   **From the sum of order quantity I conclude that from kmeans_cluster\tfor highCustomers is \"1\",Low is \"0\" and Medium is \"2\".**\n",
        "*   **From my observations there is not much difference in Order Quantity w.r.t Transactions made by customers.**\n",
        "\n",
        "*   **To convert medium customers to high we need to provide excellent customer service that can help to improve the customer experience and increase customer loyalty**\n",
        "*  **Consider offering incentives or rewards to medium customers to encourage them to make more purchases.**\n",
        "\n",
        "\n",
        "\n"
      ],
      "metadata": {
        "id": "snRJ5fSrWzsP"
      }
    }
  ],
  "metadata": {
    "colab": {
      "provenance": [],
      "collapsed_sections": [
        "_IveWwVSpI9O"
      ]
    },
    "gpuClass": "standard",
    "kernelspec": {
      "display_name": "Python 3",
      "name": "python3"
    },
    "language_info": {
      "name": "python"
    },
    "accelerator": "TPU"
  },
  "nbformat": 4,
  "nbformat_minor": 0
}